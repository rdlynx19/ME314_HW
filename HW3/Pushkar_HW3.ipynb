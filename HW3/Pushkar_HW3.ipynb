{
  "nbformat": 4,
  "nbformat_minor": 0,
  "metadata": {
    "kernelspec": {
      "display_name": "Python 3",
      "language": "python",
      "name": "python3"
    },
    "language_info": {
      "codemirror_mode": {
        "name": "ipython",
        "version": 3
      },
      "file_extension": ".py",
      "mimetype": "text/x-python",
      "name": "python",
      "nbconvert_exporter": "python",
      "pygments_lexer": "ipython3",
      "version": "3.8.2"
    },
    "colab": {
      "provenance": []
    }
  },
  "cells": [
    {
      "cell_type": "markdown",
      "metadata": {
        "id": "trgiPrPsJfDy"
      },
      "source": [
        "# ME314 Homework 3\n",
        "\n",
        "###Submission instructions\n",
        "\n",
        "Deliverables that should be included with your submission are shown in **bold** at the end of each problem statement and the corresponding supplemental material. **Your homework will be graded IFF you submit a single PDF, .mp4 videos of animations when requested and a link to a Google colab file that meet all the requirements outlined below.**\n",
        "\n",
        "- List the names of students you've collaborated with on this homework assignment.\n",
        "- Include all of your code (and handwritten solutions when applicable) used to complete the problems.\n",
        "- Highlight your answers (i.e. **bold** and outline the answers) for handwritten or markdown questions and include simplified code outputs (e.g. .simplify()) for python questions.\n",
        "- Enable Google Colab permission for viewing\n",
        " * Click Share in the upper right corner\n",
        " * Under \"Get Link\" click \"Share with...\" or \"Change\"\n",
        " * Then make sure it says \"Anyone with Link\" and \"Editor\" under the dropdown menu\n",
        "- Make sure all cells are run before submitting (i.e. check the permission by running your code in a private mode)\n",
        " * Please don't make changes to your file after submitting, so we can grade it!\n",
        "- Submit a link to your Google Colab file that has been run (before the submission deadline) and don't edit it afterwards!\n",
        "\n",
        "**NOTE:** This Juputer Notebook file serves as a template for you to start homework. Make sure you first copy this template to your own Google driver (click \"File\" -> \"Save a copy in Drive\"), and then start to edit it."
      ]
    },
    {
      "cell_type": "markdown",
      "source": [
        "https://www.khoury.northeastern.edu/home/lieber/courses/algorithms/cs4800/f10/lectures/11.4.Maximizing.pdf\n",
        "Cite this"
      ],
      "metadata": {
        "id": "M1PV8BacRpAq"
      }
    },
    {
      "cell_type": "code",
      "metadata": {
        "id": "ZhKOVhNwgfbw"
      },
      "source": [
        "#IMPORT CELL\n",
        "import sympy as sym\n",
        "import numpy as np\n",
        "import matplotlib.pyplot as plt\n"
      ],
      "execution_count": 37,
      "outputs": []
    },
    {
      "cell_type": "code",
      "metadata": {
        "id": "EKCpAo0OJfDz"
      },
      "source": [
        "##############################################################################################\n",
        "# If you're using Google Colab, uncomment this section by selecting the whole section and press\n",
        "# ctrl+'/' on your and keyboard. Run it before you start programming, this will enable the nice\n",
        "# LaTeX \"display()\" function for you. If you're using the local Jupyter environment, leave it alone\n",
        "##############################################################################################\n",
        "\n",
        "def custom_latex_printer(exp,**options):\n",
        "    from google.colab.output._publish import javascript\n",
        "    url = \"https://cdnjs.cloudflare.com/ajax/libs/mathjax/3.1.1/latest.js?config=TeX-AMS_HTML\"\n",
        "    javascript(url=url)\n",
        "    return sym.printing.latex(exp,**options)\n",
        "sym.init_printing(use_latex=\"mathjax\",latex_printer=custom_latex_printer)"
      ],
      "execution_count": 38,
      "outputs": []
    },
    {
      "cell_type": "markdown",
      "metadata": {
        "id": "z4wkvcQjJfD1"
      },
      "source": [
        "Below are the help functions in previous homeworks, which you may need for this homework."
      ]
    },
    {
      "cell_type": "code",
      "metadata": {
        "id": "fZKf7W4VJfD2"
      },
      "source": [
        "\n",
        "def integrate(f, xt, dt):\n",
        "    \"\"\"\n",
        "    This function takes in an initial condition x(t) and a timestep dt,\n",
        "    as well as a dynamical system f(x) that outputs a vector of the\n",
        "    same dimension as x(t). It outputs a vector x(t+dt) at the future\n",
        "    time step.\n",
        "\n",
        "    Parameters\n",
        "    ============\n",
        "    dyn: Python function\n",
        "        derivate of the system at a given step x(t),\n",
        "        it can considered as \\dot{x}(t) = func(x(t))\n",
        "    xt: NumPy array\n",
        "        current step x(t)\n",
        "    dt:\n",
        "        step size for integration\n",
        "\n",
        "    Return\n",
        "    ============\n",
        "    new_xt:\n",
        "        value of x(t+dt) integrated from x(t)\n",
        "    \"\"\"\n",
        "    k1 = dt * f(xt)\n",
        "    k2 = dt * f(xt+k1/2.)\n",
        "    k3 = dt * f(xt+k2/2.)\n",
        "    k4 = dt * f(xt+k3)\n",
        "    new_xt = xt + (1/6.) * (k1+2.0*k2+2.0*k3+k4)\n",
        "    return new_xt\n",
        "\n",
        "def simulate(f, x0, tspan, dt, integrate):\n",
        "    \"\"\"\n",
        "    This function takes in an initial condition x0, a timestep dt,\n",
        "    a time span tspan consisting of a list [min_time, max_time],\n",
        "    as well as a dynamical system f(x) that outputs a vector of the\n",
        "    same dimension as x0. It outputs a full trajectory simulated\n",
        "    over the time span of dimensions (xvec_size, time_vec_size).\n",
        "\n",
        "    Parameters\n",
        "    ============\n",
        "    f: Python function\n",
        "        derivate of the system at a given step x(t),\n",
        "        it can considered as \\dot{x}(t) = func(x(t))\n",
        "    x0: NumPy array\n",
        "        initial conditions\n",
        "    tspan: Python list\n",
        "        tspan = [min_time, max_time], it defines the start and end\n",
        "        time of simulation\n",
        "    dt:\n",
        "        time step for numerical integration\n",
        "    integrate: Python function\n",
        "        numerical integration method used in this simulation\n",
        "\n",
        "    Return\n",
        "    ============\n",
        "    x_traj:\n",
        "        simulated trajectory of x(t) from t=0 to tf\n",
        "    \"\"\"\n",
        "    N = int((max(tspan)-min(tspan))/dt)\n",
        "    x = np.copy(x0)\n",
        "    tvec = np.linspace(min(tspan),max(tspan),N)\n",
        "    xtraj = np.zeros((len(x0),N))\n",
        "    for i in range(N):\n",
        "        xtraj[:,i]=integrate(f,x,dt)\n",
        "        x = np.copy(xtraj[:,i])\n",
        "    return xtraj\n",
        "\n",
        "def animate_double_pend(theta_array,L1=1,L2=1,T=10):\n",
        "    \"\"\"\n",
        "    Function to generate web-based animation of double-pendulum system\n",
        "\n",
        "    Parameters:\n",
        "    ================================================\n",
        "    theta_array:\n",
        "        trajectory of theta1 and theta2, should be a NumPy array with\n",
        "        shape of (2,N)\n",
        "    L1:\n",
        "        length of the first pendulum\n",
        "    L2:\n",
        "        length of the second pendulum\n",
        "    T:\n",
        "        length/seconds of animation duration\n",
        "\n",
        "    Returns: None\n",
        "    \"\"\"\n",
        "\n",
        "    ################################\n",
        "    # Imports required for animation.\n",
        "    from plotly.offline import init_notebook_mode, iplot\n",
        "    from IPython.display import display, HTML\n",
        "    import plotly.graph_objects as go\n",
        "\n",
        "    #######################\n",
        "    # Browser configuration.\n",
        "    def configure_plotly_browser_state():\n",
        "        import IPython\n",
        "        display(IPython.core.display.HTML('''\n",
        "            <script src=\"/static/components/requirejs/require.js\"></script>\n",
        "            <script>\n",
        "              requirejs.config({\n",
        "                paths: {\n",
        "                  base: '/static/base',\n",
        "                  plotly: 'https://cdn.plot.ly/plotly-1.5.1.min.js?noext',\n",
        "                },\n",
        "              });\n",
        "            </script>\n",
        "            '''))\n",
        "    configure_plotly_browser_state()\n",
        "    init_notebook_mode(connected=False)\n",
        "\n",
        "    ###############################################\n",
        "    # Getting data from pendulum angle trajectories.\n",
        "    xx1=L1*np.sin(theta_array[0])\n",
        "    yy1=-L1*np.cos(theta_array[0])\n",
        "    xx2=xx1+L2*np.sin(theta_array[0]+theta_array[1])\n",
        "    yy2=yy1-L2*np.cos(theta_array[0]+theta_array[1])\n",
        "    N = len(theta_array[0]) # Need this for specifying length of simulation\n",
        "\n",
        "    ####################################\n",
        "    # Using these to specify axis limits.\n",
        "    xm=np.min(xx1)-0.5\n",
        "    xM=np.max(xx1)+0.5\n",
        "    ym=np.min(yy1)-2.5\n",
        "    yM=np.max(yy1)+1.5\n",
        "\n",
        "    ###########################\n",
        "    # Defining data dictionary.\n",
        "    # Trajectories are here.\n",
        "    data=[dict(x=xx1, y=yy1,\n",
        "               mode='lines', name='Arm',\n",
        "               line=dict(width=2, color='blue')\n",
        "              ),\n",
        "          dict(x=xx1, y=yy1,\n",
        "               mode='lines', name='Mass 1',\n",
        "               line=dict(width=2, color='purple')\n",
        "              ),\n",
        "          dict(x=xx2, y=yy2,\n",
        "               mode='lines', name='Mass 2',\n",
        "               line=dict(width=2, color='green')\n",
        "              ),\n",
        "          dict(x=xx1, y=yy1,\n",
        "               mode='markers', name='Pendulum 1 Traj',\n",
        "               marker=dict(color=\"purple\", size=2)\n",
        "              ),\n",
        "          dict(x=xx2, y=yy2,\n",
        "               mode='markers', name='Pendulum 2 Traj',\n",
        "               marker=dict(color=\"green\", size=2)\n",
        "              ),\n",
        "        ]\n",
        "\n",
        "    ################################\n",
        "    # Preparing simulation layout.\n",
        "    # Title and axis ranges are here.\n",
        "    layout=dict(xaxis=dict(range=[xm, xM], autorange=False, zeroline=False,dtick=1),\n",
        "                yaxis=dict(range=[ym, yM], autorange=False, zeroline=False,scaleanchor = \"x\",dtick=1),\n",
        "                title='Double Pendulum Simulation',\n",
        "                hovermode='closest',\n",
        "                updatemenus= [{'type': 'buttons',\n",
        "                               'buttons': [{'label': 'Play','method': 'animate',\n",
        "                                            'args': [None, {'frame': {'duration': T, 'redraw': False}}]},\n",
        "                                           {'args': [[None], {'frame': {'duration': T, 'redraw': False}, 'mode': 'immediate',\n",
        "                                            'transition': {'duration': 0}}],'label': 'Pause','method': 'animate'}\n",
        "                                          ]\n",
        "                              }]\n",
        "               )\n",
        "\n",
        "    ########################################\n",
        "    # Defining the frames of the simulation.\n",
        "    # This is what draws the lines from\n",
        "    # joint to joint of the pendulum.\n",
        "    frames=[dict(data=[dict(x=[0,xx1[k],xx2[k]],\n",
        "                            y=[0,yy1[k],yy2[k]],\n",
        "                            mode='lines',\n",
        "                            line=dict(color='red', width=3)\n",
        "                            ),\n",
        "                       go.Scatter(\n",
        "                            x=[xx1[k]],\n",
        "                            y=[yy1[k]],\n",
        "                            mode=\"markers\",\n",
        "                            marker=dict(color=\"blue\", size=12)),\n",
        "                       go.Scatter(\n",
        "                            x=[xx2[k]],\n",
        "                            y=[yy2[k]],\n",
        "                            mode=\"markers\",\n",
        "                            marker=dict(color=\"blue\", size=12)),\n",
        "                      ]) for k in range(N)]\n",
        "\n",
        "    #######################################\n",
        "    # Putting it all together and plotting.\n",
        "    figure1=dict(data=data, layout=layout, frames=frames)\n",
        "    iplot(figure1)"
      ],
      "execution_count": 39,
      "outputs": []
    },
    {
      "cell_type": "markdown",
      "metadata": {
        "id": "-SUDkJtyJfD3"
      },
      "source": [
        "## Problem 1 (10pts)\n",
        "\n",
        "Let $f:\\mathbb{R}^2\\to\\mathbb{R}$ with $f(x,y)=\\sin(x+y)\\sin(x-y)$.  Show that $(x,y)=(0,\\pi/2)$ satisfies both the necessary and sufficient conditions to be a local minimizer of $f$.\n",
        "\n",
        "> *Hint 1: You will need to take the first and second order derivative of $f$ with respect to $[x,y]$.*\n",
        "\n",
        "---\n",
        "**Turn in: A scanned (or photograph from your phone or webcam) copy of your hand written solution. You can also use $\\LaTeX$. If you use SymPy, include a copy of your code and all the outputs. Regardless of the format you choose, explain why your result satisfies the necessary and sufficient conditions.**"
      ]
    },
    {
      "cell_type": "code",
      "metadata": {
        "id": "fojgpjP9JfD4",
        "colab": {
          "base_uri": "https://localhost:8080/",
          "height": 207
        },
        "outputId": "bbac3759-4aaf-4c5f-aa1b-a75e83a6be56"
      },
      "source": [
        "# setting up useful symbols\n",
        "x, y = sym.symbols('x, y')\n",
        "q = sym.Matrix([x, y])\n",
        "\n",
        "# defining f(x,y)\n",
        "Fxy = sym.Matrix([sym.sin(x + y)*sym.sin(x - y)])\n",
        "\n",
        "# taking first derivative\n",
        "Fxydot = Fxy.jacobian(q)\n",
        "\n",
        "# taking second derivative\n",
        "Fxyddot = Fxydot.jacobian(q)\n",
        "\n",
        "# substituting the values of x,y\n",
        "dot_val = Fxydot.subs({x: 0, y:np.pi/2})\n",
        "print(\"\\n\\033[1mFirst derivative value at (0,pi/2): \")\n",
        "display(dot_val)\n",
        "\n",
        "ddot_val = Fxyddot.subs({x: 0, y:np.pi/2})\n",
        "print(\"\\n\\033[1mSecond derivative value at (0,pi/2): \")\n",
        "display(ddot_val)\n",
        "\n",
        "# df/dx is zero and df/dy is a very small value, which can be assumed as zero\n",
        "\n",
        "# Calculate determinant of second derivative matrix\n",
        "print(\"\\n\\033[1mDeterminant of second derivative matrix: \")\n",
        "display(ddot_val.det())\n",
        "\n",
        "# This proves (x,y) = (0,pi/2) is a local minimizer of f"
      ],
      "execution_count": 40,
      "outputs": [
        {
          "output_type": "stream",
          "name": "stdout",
          "text": [
            "\n",
            "\u001b[1mFirst derivative value at (0,pi/2): \n"
          ]
        },
        {
          "output_type": "display_data",
          "data": {
            "text/plain": [
              "<IPython.core.display.HTML object>"
            ],
            "text/html": [
              "<script src='https://cdnjs.cloudflare.com/ajax/libs/mathjax/3.1.1/latest.js?config=TeX-AMS_HTML'></script>"
            ]
          },
          "metadata": {}
        },
        {
          "output_type": "display_data",
          "data": {
            "text/plain": [
              "[0  -1.22464679914735e-16]"
            ],
            "text/latex": "$\\displaystyle \\left[\\begin{matrix}0 & -1.22464679914735 \\cdot 10^{-16}\\end{matrix}\\right]$"
          },
          "metadata": {}
        },
        {
          "output_type": "stream",
          "name": "stdout",
          "text": [
            "\n",
            "\u001b[1mSecond derivative value at (0,pi/2): \n"
          ]
        },
        {
          "output_type": "display_data",
          "data": {
            "text/plain": [
              "<IPython.core.display.HTML object>"
            ],
            "text/html": [
              "<script src='https://cdnjs.cloudflare.com/ajax/libs/mathjax/3.1.1/latest.js?config=TeX-AMS_HTML'></script>"
            ]
          },
          "metadata": {}
        },
        {
          "output_type": "display_data",
          "data": {
            "text/plain": [
              "⎡2.0   0 ⎤\n",
              "⎢        ⎥\n",
              "⎣ 0   2.0⎦"
            ],
            "text/latex": "$\\displaystyle \\left[\\begin{matrix}2.0 & 0\\\\0 & 2.0\\end{matrix}\\right]$"
          },
          "metadata": {}
        },
        {
          "output_type": "stream",
          "name": "stdout",
          "text": [
            "\n",
            "\u001b[1mDeterminant of second derivative matrix: \n"
          ]
        },
        {
          "output_type": "display_data",
          "data": {
            "text/plain": [
              "<IPython.core.display.HTML object>"
            ],
            "text/html": [
              "<script src='https://cdnjs.cloudflare.com/ajax/libs/mathjax/3.1.1/latest.js?config=TeX-AMS_HTML'></script>"
            ]
          },
          "metadata": {}
        },
        {
          "output_type": "display_data",
          "data": {
            "text/plain": [
              "4.00000000000000"
            ],
            "text/latex": "$\\displaystyle 4.0$"
          },
          "metadata": {}
        }
      ]
    },
    {
      "cell_type": "markdown",
      "source": [
        "**Explanation**: If first_derivative of f(x,y) is zero, that means given (x,y) is a critical point. If determinant of matrix of the second derivative is positive, that means the given point is a minimizer of the function! Both these conditions are satisfied for our case, which means $(x,y) = (0, \\pi/2)$ is a local minimizer of $f(x,y)$"
      ],
      "metadata": {
        "id": "sX0Wgch_SZ82"
      }
    },
    {
      "cell_type": "markdown",
      "source": [
        "## Problem 2 (20pts)"
      ],
      "metadata": {
        "id": "YK1UkYW_hiMb"
      }
    },
    {
      "cell_type": "code",
      "metadata": {
        "id": "B-DiCe_mJfD6",
        "colab": {
          "base_uri": "https://localhost:8080/",
          "height": 377
        },
        "outputId": "35457570-8cba-465c-ef15-5d95efe4543c"
      },
      "source": [
        "#@title\n",
        "from IPython.core.display import HTML\n",
        "display(HTML(\"<table><tr><td><img src='https://github.com/MuchenSun/ME314pngs/raw/master/twolinearmasses.png' width=500' height='350'></table>\"))"
      ],
      "execution_count": 41,
      "outputs": [
        {
          "output_type": "display_data",
          "data": {
            "text/plain": [
              "<IPython.core.display.HTML object>"
            ],
            "text/html": [
              "<table><tr><td><img src='https://github.com/MuchenSun/ME314pngs/raw/master/twolinearmasses.png' width=500' height='350'></table>"
            ]
          },
          "metadata": {}
        }
      ]
    },
    {
      "cell_type": "markdown",
      "metadata": {
        "id": "lT8T6Q6pJfD8"
      },
      "source": [
        "Compute the equations of motion for the two-mass-spring system (shown above) in $\\theta=(\\theta_1,\\theta_2)$ coordinates. The first sphere with mass $m_1$ is the one close to the wall, and the second sphere has mass $m_2$. Assume that there is a spring of spring constant $k_1$ between the first mass and the wall and a spring of spring constant $k_2$ between the first mass and the second mass. The natural length of each spring is zero.\n",
        "\n",
        "---\n",
        "**Turn in: Include the code used to symbolically solve for the equations of motion and the code output, which should be the equations of motion. Make sure you are using *SimPy*'s `.simplify()` functionality when printing your output.**"
      ]
    },
    {
      "cell_type": "code",
      "metadata": {
        "id": "FxvYr5lLJfD8",
        "colab": {
          "base_uri": "https://localhost:8080/",
          "height": 1000
        },
        "outputId": "9532b9a1-5d5e-410f-dfe4-b5240b2c9cf7"
      },
      "source": [
        "# Defining useful symbols\n",
        "m1,m2,L,t = sym.symbols('m_1, m_2, L, t')\n",
        "th1 = sym.Function(r'\\theta_1')(t)\n",
        "th2 = sym.Function(r'\\theta_2')(t)\n",
        "k1, k2 = sym.symbols(r'k_1, k_2')\n",
        "\n",
        "q = sym.Matrix([th1, th2])\n",
        "qdot = q.diff(t)\n",
        "qddot = qdot.diff(t)\n",
        "\n",
        "# Representing the positions and velocities of the masses in angular coordinates\n",
        "mass_coordinates = sym.Matrix([L * sym.tan(th1), (L*sym.tan(th1 + th2)) - (L*sym.tan(th1))])\n",
        "mass_velocities = mass_coordinates.diff(t)\n",
        "\n",
        "# Kinetic energy of the system\n",
        "KE = (0.5 * m1 * mass_velocities[0]**2) + (0.5 * m2 * (mass_velocities[0] + mass_velocities[1])**2)\n",
        "\n",
        "# Potential energy of the system\n",
        "PE = (0.5 * k1 * mass_coordinates[0]**2) + (0.5 * k2 * mass_coordinates[1]**2)\n",
        "\n",
        "# Lagrangian of the system\n",
        "L = sym.Matrix([KE - PE])\n",
        "\n",
        "# First term of Euler Lagrange expression\n",
        "dLdq = L.jacobian(q)\n",
        "\n",
        "# Second term of Euler Lagrange expression\n",
        "dLdqdot = L.jacobian(qdot)\n",
        "dLdqdot_dot = dLdqdot.diff(t)\n",
        "\n",
        "# Euler Lagrange expression\n",
        "EL = dLdq - dLdqdot_dot\n",
        "\n",
        "# Converting EL expression to equation form\n",
        "rhs = sym.Matrix([0, 0])\n",
        "EL_eqn = sym.Eq(EL.T, rhs)\n",
        "\n",
        "\n",
        "soln = sym.solve(EL_eqn, qddot, dict= True)\n",
        "# printing the expressions for accelerations\n",
        "for sol in soln:\n",
        "  print(\"\\n\\033[1mAccelerations: \")\n",
        "  for v in qddot:\n",
        "    display(sym.Eq(v, sol[v]))\n",
        "\n",
        "\n",
        "# # Lambdifying the expressions\n",
        "# th1_val = sym.lambdify([m1, m2,  th1, th2, k1, k2, qdot[0], qdot[1]], sol[qddot[0]])\n",
        "# th2_val = sym.lambdify([m1, m2, th1, th2, k1, k2, qdot[0], qdot[1]], sol[qddot[1]])\n"
      ],
      "execution_count": 42,
      "outputs": [
        {
          "output_type": "stream",
          "name": "stdout",
          "text": [
            "\n",
            "\u001b[1mAccelerations: \n"
          ]
        },
        {
          "output_type": "display_data",
          "data": {
            "text/plain": [
              "<IPython.core.display.HTML object>"
            ],
            "text/html": [
              "<script src='https://cdnjs.cloudflare.com/ajax/libs/mathjax/3.1.1/latest.js?config=TeX-AMS_HTML'></script>"
            ]
          },
          "metadata": {}
        },
        {
          "output_type": "display_data",
          "data": {
            "text/plain": [
              "                                                                                                   ↪\n",
              "                                                                                                   ↪\n",
              " 2                                                                                                 ↪\n",
              "d                      k₁⋅tan(\\theta₁(t))      k₂⋅tan(\\theta₁(t) + \\theta₂(t))      k₂⋅tan(\\theta₁ ↪\n",
              "───(\\theta₁(t)) = - ──────────────────────── + ─────────────────────────────── - ───────────────── ↪\n",
              "  2                       2                             2                              2           ↪\n",
              "dt                  m₁⋅tan (\\theta₁(t)) + m₁      m₁⋅tan (\\theta₁(t)) + m₁       m₁⋅tan (\\theta₁(t ↪\n",
              "\n",
              "↪                                                   2                                          2\n",
              "↪                     3             ⎛d             ⎞                           ⎛d             ⎞ \n",
              "↪           2.0⋅m₁⋅tan (\\theta₁(t))⋅⎜──(\\theta₁(t))⎟    2.0⋅m₁⋅tan(\\theta₁(t))⋅⎜──(\\theta₁(t))⎟ \n",
              "↪ (t))                              ⎝dt            ⎠                           ⎝dt            ⎠ \n",
              "↪ ─────── - ───────────────────────────────────────── - ────────────────────────────────────────\n",
              "↪                         2                                           2                         \n",
              "↪ )) + m₁           m₁⋅tan (\\theta₁(t)) + m₁                    m₁⋅tan (\\theta₁(t)) + m₁        "
            ],
            "text/latex": "$\\displaystyle \\frac{d^{2}}{d t^{2}} \\theta_{1}{\\left(t \\right)} = - \\frac{k_{1} \\tan{\\left(\\theta_{1}{\\left(t \\right)} \\right)}}{m_{1} \\tan^{2}{\\left(\\theta_{1}{\\left(t \\right)} \\right)} + m_{1}} + \\frac{k_{2} \\tan{\\left(\\theta_{1}{\\left(t \\right)} + \\theta_{2}{\\left(t \\right)} \\right)}}{m_{1} \\tan^{2}{\\left(\\theta_{1}{\\left(t \\right)} \\right)} + m_{1}} - \\frac{k_{2} \\tan{\\left(\\theta_{1}{\\left(t \\right)} \\right)}}{m_{1} \\tan^{2}{\\left(\\theta_{1}{\\left(t \\right)} \\right)} + m_{1}} - \\frac{2.0 m_{1} \\tan^{3}{\\left(\\theta_{1}{\\left(t \\right)} \\right)} \\left(\\frac{d}{d t} \\theta_{1}{\\left(t \\right)}\\right)^{2}}{m_{1} \\tan^{2}{\\left(\\theta_{1}{\\left(t \\right)} \\right)} + m_{1}} - \\frac{2.0 m_{1} \\tan{\\left(\\theta_{1}{\\left(t \\right)} \\right)} \\left(\\frac{d}{d t} \\theta_{1}{\\left(t \\right)}\\right)^{2}}{m_{1} \\tan^{2}{\\left(\\theta_{1}{\\left(t \\right)} \\right)} + m_{1}}$"
          },
          "metadata": {}
        },
        {
          "output_type": "display_data",
          "data": {
            "text/plain": [
              "<IPython.core.display.HTML object>"
            ],
            "text/html": [
              "<script src='https://cdnjs.cloudflare.com/ajax/libs/mathjax/3.1.1/latest.js?config=TeX-AMS_HTML'></script>"
            ]
          },
          "metadata": {}
        },
        {
          "output_type": "display_data",
          "data": {
            "text/plain": [
              "                                                                                                   ↪\n",
              "                                                                                                   ↪\n",
              " 2                                                             2                                   ↪\n",
              "d                                                     k₁⋅m₂⋅tan (\\theta₁(t) + \\theta₂(t))⋅tan(\\the ↪\n",
              "───(\\theta₂(t)) = ──────────────────────────────────────────────────────────────────────────────── ↪\n",
              "  2                        2                             2                        2                ↪\n",
              "dt                m₁⋅m₂⋅tan (\\theta₁(t) + \\theta₂(t))⋅tan (\\theta₁(t)) + m₁⋅m₂⋅tan (\\theta₁(t) + \\ ↪\n",
              "\n",
              "↪                                                                                                  ↪\n",
              "↪                                                                                                  ↪\n",
              "↪                                                                                                  ↪\n",
              "↪ ta₁(t))                                                                                          ↪\n",
              "↪ ─────────────────────────────────────────── + ────────────────────────────────────────────────── ↪\n",
              "↪                       2                                2                             2           ↪\n",
              "↪ theta₂(t)) + m₁⋅m₂⋅tan (\\theta₁(t)) + m₁⋅m₂   m₁⋅m₂⋅tan (\\theta₁(t) + \\theta₂(t))⋅tan (\\theta₁(t ↪\n",
              "\n",
              "↪                                                                                                  ↪\n",
              "↪                                                                                                  ↪\n",
              "↪                                                                                                  ↪\n",
              "↪  k₁⋅m₂⋅tan(\\theta₁(t))                                                                           ↪\n",
              "↪ ───────────────────────────────────────────────────────────────────────── - ──────────────────── ↪\n",
              "↪               2                                     2                                2           ↪\n",
              "↪ )) + m₁⋅m₂⋅tan (\\theta₁(t) + \\theta₂(t)) + m₁⋅m₂⋅tan (\\theta₁(t)) + m₁⋅m₂   m₁⋅m₂⋅tan (\\theta₁(t ↪\n",
              "\n",
              "↪                                                                                                  ↪\n",
              "↪                                                                                                  ↪\n",
              "↪                                                       2                                          ↪\n",
              "↪                 k₂⋅m₁⋅tan(\\theta₁(t) + \\theta₂(t))⋅tan (\\theta₁(t))                              ↪\n",
              "↪ ──────────────────────────────────────────────────────────────────────────────────────────────── ↪\n",
              "↪                    2                        2                                     2              ↪\n",
              "↪ ) + \\theta₂(t))⋅tan (\\theta₁(t)) + m₁⋅m₂⋅tan (\\theta₁(t) + \\theta₂(t)) + m₁⋅m₂⋅tan (\\theta₁(t))  ↪\n",
              "\n",
              "↪                                                                                                  ↪\n",
              "↪                                                                                                  ↪\n",
              "↪                                                                                                  ↪\n",
              "↪                                                       k₂⋅m₁⋅tan(\\theta₁(t) + \\theta₂(t))         ↪\n",
              "↪ ─────── - ────────────────────────────────────────────────────────────────────────────────────── ↪\n",
              "↪                    2                             2                        2                      ↪\n",
              "↪ + m₁⋅m₂   m₁⋅m₂⋅tan (\\theta₁(t) + \\theta₂(t))⋅tan (\\theta₁(t)) + m₁⋅m₂⋅tan (\\theta₁(t) + \\theta₂ ↪\n",
              "\n",
              "↪                                                                                                  ↪\n",
              "↪                                                                                                  ↪\n",
              "↪                                                                                                  ↪\n",
              "↪                                                                                           k₂⋅m₁⋅ ↪\n",
              "↪ ───────────────────────────────────── + ──────────────────────────────────────────────────────── ↪\n",
              "↪                 2                                2                             2                 ↪\n",
              "↪ (t)) + m₁⋅m₂⋅tan (\\theta₁(t)) + m₁⋅m₂   m₁⋅m₂⋅tan (\\theta₁(t) + \\theta₂(t))⋅tan (\\theta₁(t)) + m ↪\n",
              "\n",
              "↪                                                                                                  ↪\n",
              "↪                                                                                                  ↪\n",
              "↪    3                                                                                             ↪\n",
              "↪ tan (\\theta₁(t))                                                                                 ↪\n",
              "↪ ─────────────────────────────────────────────────────────────────── + ────────────────────────── ↪\n",
              "↪         2                                     2                                2                 ↪\n",
              "↪ ₁⋅m₂⋅tan (\\theta₁(t) + \\theta₂(t)) + m₁⋅m₂⋅tan (\\theta₁(t)) + m₁⋅m₂   m₁⋅m₂⋅tan (\\theta₁(t) + \\t ↪\n",
              "\n",
              "↪                                                                                                  ↪\n",
              "↪                                                                                                  ↪\n",
              "↪                                                                                                  ↪\n",
              "↪                          k₂⋅m₁⋅tan(\\theta₁(t))                                                   ↪\n",
              "↪ ──────────────────────────────────────────────────────────────────────────────────────────────── ↪\n",
              "↪              2                        2                                     2                    ↪\n",
              "↪ heta₂(t))⋅tan (\\theta₁(t)) + m₁⋅m₂⋅tan (\\theta₁(t) + \\theta₂(t)) + m₁⋅m₂⋅tan (\\theta₁(t)) + m₁⋅m ↪\n",
              "\n",
              "↪                                                                                                  ↪\n",
              "↪                                                                                                  ↪\n",
              "↪                                                          3                                       ↪\n",
              "↪                                                 k₂⋅m₂⋅tan (\\theta₁(t) + \\theta₂(t))              ↪\n",
              "↪ ─ - ──────────────────────────────────────────────────────────────────────────────────────────── ↪\n",
              "↪              2                             2                        2                            ↪\n",
              "↪ ₂   m₁⋅m₂⋅tan (\\theta₁(t) + \\theta₂(t))⋅tan (\\theta₁(t)) + m₁⋅m₂⋅tan (\\theta₁(t) + \\theta₂(t)) + ↪\n",
              "\n",
              "↪                                                                                                  ↪\n",
              "↪                                                                                                  ↪\n",
              "↪                                                                                2                 ↪\n",
              "↪                                                                       k₂⋅m₂⋅tan (\\theta₁(t) + \\t ↪\n",
              "↪ ─────────────────────────────── + ────────────────────────────────────────────────────────────── ↪\n",
              "↪           2                                2                             2                       ↪\n",
              "↪  m₁⋅m₂⋅tan (\\theta₁(t)) + m₁⋅m₂   m₁⋅m₂⋅tan (\\theta₁(t) + \\theta₂(t))⋅tan (\\theta₁(t)) + m₁⋅m₂⋅t ↪\n",
              "\n",
              "↪                                                                                                  ↪\n",
              "↪                                                                                                  ↪\n",
              "↪                                                                                                  ↪\n",
              "↪ heta₂(t))⋅tan(\\theta₁(t))                                                                        ↪\n",
              "↪ ───────────────────────────────────────────────────────────── - ──────────────────────────────── ↪\n",
              "↪   2                                     2                                2                       ↪\n",
              "↪ an (\\theta₁(t) + \\theta₂(t)) + m₁⋅m₂⋅tan (\\theta₁(t)) + m₁⋅m₂   m₁⋅m₂⋅tan (\\theta₁(t) + \\theta₂( ↪\n",
              "\n",
              "↪                                                                                                  ↪\n",
              "↪                                                                                                  ↪\n",
              "↪                                                                                                  ↪\n",
              "↪             k₂⋅m₂⋅tan(\\theta₁(t) + \\theta₂(t))                                                   ↪\n",
              "↪ ─────────────────────────────────────────────────────────────────────────────────────────── + ── ↪\n",
              "↪        2                        2                                     2                          ↪\n",
              "↪ t))⋅tan (\\theta₁(t)) + m₁⋅m₂⋅tan (\\theta₁(t) + \\theta₂(t)) + m₁⋅m₂⋅tan (\\theta₁(t)) + m₁⋅m₂   m₁ ↪\n",
              "\n",
              "↪                                                                                                  ↪\n",
              "↪                                                                                                  ↪\n",
              "↪                                                                                                  ↪\n",
              "↪                                                  k₂⋅m₂⋅tan(\\theta₁(t))                           ↪\n",
              "↪ ──────────────────────────────────────────────────────────────────────────────────────────────── ↪\n",
              "↪        2                             2                        2                                  ↪\n",
              "↪ ⋅m₂⋅tan (\\theta₁(t) + \\theta₂(t))⋅tan (\\theta₁(t)) + m₁⋅m₂⋅tan (\\theta₁(t) + \\theta₂(t)) + m₁⋅m₂ ↪\n",
              "\n",
              "↪                                                                                                  ↪\n",
              "↪                                                                  3                             2 ↪\n",
              "↪                                                     2.0⋅m₁⋅m₂⋅tan (\\theta₁(t) + \\theta₂(t))⋅tan  ↪\n",
              "↪                                                                                                  ↪\n",
              "↪ ───────────────────────── - ──────────────────────────────────────────────────────────────────── ↪\n",
              "↪     2                                2                             2                        2    ↪\n",
              "↪ ⋅tan (\\theta₁(t)) + m₁⋅m₂   m₁⋅m₂⋅tan (\\theta₁(t) + \\theta₂(t))⋅tan (\\theta₁(t)) + m₁⋅m₂⋅tan (\\t ↪\n",
              "\n",
              "↪                              2                                                                   ↪\n",
              "↪              ⎛d             ⎞                                                            3       ↪\n",
              "↪ (\\theta₁(t))⋅⎜──(\\theta₁(t))⎟                                               4.0⋅m₁⋅m₂⋅tan (\\thet ↪\n",
              "↪              ⎝dt            ⎠                                                                    ↪\n",
              "↪ ─────────────────────────────────────────────────────── - ────────────────────────────────────── ↪\n",
              "↪                                   2                                2                             ↪\n",
              "↪ heta₁(t) + \\theta₂(t)) + m₁⋅m₂⋅tan (\\theta₁(t)) + m₁⋅m₂   m₁⋅m₂⋅tan (\\theta₁(t) + \\theta₂(t))⋅ta ↪\n",
              "\n",
              "↪                                                                                                  ↪\n",
              "↪                        2             d              d                                            ↪\n",
              "↪ a₁(t) + \\theta₂(t))⋅tan (\\theta₁(t))⋅──(\\theta₁(t))⋅──(\\theta₂(t))                               ↪\n",
              "↪                                      dt             dt                                           ↪\n",
              "↪ ───────────────────────────────────────────────────────────────────────────────────── - ──────── ↪\n",
              "↪  2                        2                                     2                                ↪\n",
              "↪ n (\\theta₁(t)) + m₁⋅m₂⋅tan (\\theta₁(t) + \\theta₂(t)) + m₁⋅m₂⋅tan (\\theta₁(t)) + m₁⋅m₂   m₁⋅m₂⋅ta ↪\n",
              "\n",
              "↪                                                                                          2       ↪\n",
              "↪                              3                             2             ⎛d             ⎞        ↪\n",
              "↪                 2.0⋅m₁⋅m₂⋅tan (\\theta₁(t) + \\theta₂(t))⋅tan (\\theta₁(t))⋅⎜──(\\theta₂(t))⎟        ↪\n",
              "↪                                                                          ⎝dt            ⎠        ↪\n",
              "↪ ──────────────────────────────────────────────────────────────────────────────────────────────── ↪\n",
              "↪  2                             2                        2                                     2  ↪\n",
              "↪ n (\\theta₁(t) + \\theta₂(t))⋅tan (\\theta₁(t)) + m₁⋅m₂⋅tan (\\theta₁(t) + \\theta₂(t)) + m₁⋅m₂⋅tan ( ↪\n",
              "\n",
              "↪                                                                                                  ↪\n",
              "↪                                                                     3                          ⎛ ↪\n",
              "↪                                                        2.0⋅m₁⋅m₂⋅tan (\\theta₁(t) + \\theta₂(t))⋅⎜ ↪\n",
              "↪                                                                                                ⎝ ↪\n",
              "↪ ─────────────────── - ────────────────────────────────────────────────────────────────────────── ↪\n",
              "↪                                2                             2                        2          ↪\n",
              "↪ \\theta₁(t)) + m₁⋅m₂   m₁⋅m₂⋅tan (\\theta₁(t) + \\theta₂(t))⋅tan (\\theta₁(t)) + m₁⋅m₂⋅tan (\\theta₁( ↪\n",
              "\n",
              "↪                2                                                                                 ↪\n",
              "↪ d             ⎞                                                                             3    ↪\n",
              "↪ ──(\\theta₁(t))⎟                                                                4.0⋅m₁⋅m₂⋅tan (\\t ↪\n",
              "↪ dt            ⎠                                                                                  ↪\n",
              "↪ ───────────────────────────────────────────────── - ──────────────────────────────────────────── ↪\n",
              "↪                             2                                2                             2     ↪\n",
              "↪ t) + \\theta₂(t)) + m₁⋅m₂⋅tan (\\theta₁(t)) + m₁⋅m₂   m₁⋅m₂⋅tan (\\theta₁(t) + \\theta₂(t))⋅tan (\\th ↪\n",
              "\n",
              "↪                                                                                                  ↪\n",
              "↪                        d              d                                                          ↪\n",
              "↪ heta₁(t) + \\theta₂(t))⋅──(\\theta₁(t))⋅──(\\theta₂(t))                                             ↪\n",
              "↪                        dt             dt                                                         ↪\n",
              "↪ ─────────────────────────────────────────────────────────────────────────────── - ────────────── ↪\n",
              "↪                     2                                     2                                2     ↪\n",
              "↪ eta₁(t)) + m₁⋅m₂⋅tan (\\theta₁(t) + \\theta₂(t)) + m₁⋅m₂⋅tan (\\theta₁(t)) + m₁⋅m₂   m₁⋅m₂⋅tan (\\th ↪\n",
              "\n",
              "↪                                                                            2                     ↪\n",
              "↪                                 3                          ⎛d             ⎞                      ↪\n",
              "↪                    2.0⋅m₁⋅m₂⋅tan (\\theta₁(t) + \\theta₂(t))⋅⎜──(\\theta₂(t))⎟                      ↪\n",
              "↪                                                            ⎝dt            ⎠                      ↪\n",
              "↪ ──────────────────────────────────────────────────────────────────────────────────────────────── ↪\n",
              "↪                          2                        2                                     2        ↪\n",
              "↪ eta₁(t) + \\theta₂(t))⋅tan (\\theta₁(t)) + m₁⋅m₂⋅tan (\\theta₁(t) + \\theta₂(t)) + m₁⋅m₂⋅tan (\\theta ↪\n",
              "\n",
              "↪                                                                                                  ↪\n",
              "↪                                                      2                             3             ↪\n",
              "↪                                         2.0⋅m₁⋅m₂⋅tan (\\theta₁(t) + \\theta₂(t))⋅tan (\\theta₁(t)) ↪\n",
              "↪                                                                                                  ↪\n",
              "↪ ───────────── + ──────────────────────────────────────────────────────────────────────────────── ↪\n",
              "↪                          2                             2                        2                ↪\n",
              "↪ ₁(t)) + m₁⋅m₂   m₁⋅m₂⋅tan (\\theta₁(t) + \\theta₂(t))⋅tan (\\theta₁(t)) + m₁⋅m₂⋅tan (\\theta₁(t) + \\ ↪\n",
              "\n",
              "↪                  2                                                                               ↪\n",
              "↪  ⎛d             ⎞                                                                   2            ↪\n",
              "↪ ⋅⎜──(\\theta₁(t))⎟                                                      2.0⋅m₁⋅m₂⋅tan (\\theta₁(t) ↪\n",
              "↪  ⎝dt            ⎠                                                                                ↪\n",
              "↪ ─────────────────────────────────────────── + ────────────────────────────────────────────────── ↪\n",
              "↪                       2                                2                             2           ↪\n",
              "↪ theta₂(t)) + m₁⋅m₂⋅tan (\\theta₁(t)) + m₁⋅m₂   m₁⋅m₂⋅tan (\\theta₁(t) + \\theta₂(t))⋅tan (\\theta₁(t ↪\n",
              "\n",
              "↪                                                2                                                 ↪\n",
              "↪                                ⎛d             ⎞                                                  ↪\n",
              "↪  + \\theta₂(t))⋅tan(\\theta₁(t))⋅⎜──(\\theta₁(t))⎟                                                  ↪\n",
              "↪                                ⎝dt            ⎠                                                  ↪\n",
              "↪ ───────────────────────────────────────────────────────────────────────── - ──────────────────── ↪\n",
              "↪               2                                     2                                2           ↪\n",
              "↪ )) + m₁⋅m₂⋅tan (\\theta₁(t) + \\theta₂(t)) + m₁⋅m₂⋅tan (\\theta₁(t)) + m₁⋅m₂   m₁⋅m₂⋅tan (\\theta₁(t ↪\n",
              "\n",
              "↪                                                                              2                   ↪\n",
              "↪                                                2             ⎛d             ⎞                    ↪\n",
              "↪      2.0⋅m₁⋅m₂⋅tan(\\theta₁(t) + \\theta₂(t))⋅tan (\\theta₁(t))⋅⎜──(\\theta₁(t))⎟                    ↪\n",
              "↪                                                              ⎝dt            ⎠                    ↪\n",
              "↪ ──────────────────────────────────────────────────────────────────────────────────────────────── ↪\n",
              "↪                    2                        2                                     2              ↪\n",
              "↪ ) + \\theta₂(t))⋅tan (\\theta₁(t)) + m₁⋅m₂⋅tan (\\theta₁(t) + \\theta₂(t)) + m₁⋅m₂⋅tan (\\theta₁(t))  ↪\n",
              "\n",
              "↪                                                                                                  ↪\n",
              "↪                                                                        2             d           ↪\n",
              "↪                              4.0⋅m₁⋅m₂⋅tan(\\theta₁(t) + \\theta₂(t))⋅tan (\\theta₁(t))⋅──(\\theta₁( ↪\n",
              "↪                                                                                      dt          ↪\n",
              "↪ ─────── - ────────────────────────────────────────────────────────────────────────────────────── ↪\n",
              "↪                    2                             2                        2                      ↪\n",
              "↪ + m₁⋅m₂   m₁⋅m₂⋅tan (\\theta₁(t) + \\theta₂(t))⋅tan (\\theta₁(t)) + m₁⋅m₂⋅tan (\\theta₁(t) + \\theta₂ ↪\n",
              "\n",
              "↪                                                                                                  ↪\n",
              "↪     d                                                                                            ↪\n",
              "↪ t))⋅──(\\theta₂(t))                                               2.0⋅m₁⋅m₂⋅tan(\\theta₁(t) + \\the ↪\n",
              "↪     dt                                                                                           ↪\n",
              "↪ ───────────────────────────────────── - ──────────────────────────────────────────────────────── ↪\n",
              "↪                 2                                2                             2                 ↪\n",
              "↪ (t)) + m₁⋅m₂⋅tan (\\theta₁(t)) + m₁⋅m₂   m₁⋅m₂⋅tan (\\theta₁(t) + \\theta₂(t))⋅tan (\\theta₁(t)) + m ↪\n",
              "\n",
              "↪                                          2                                                       ↪\n",
              "↪            2             ⎛d             ⎞                                                        ↪\n",
              "↪ ta₂(t))⋅tan (\\theta₁(t))⋅⎜──(\\theta₂(t))⎟                                                        ↪\n",
              "↪                          ⎝dt            ⎠                                                        ↪\n",
              "↪ ─────────────────────────────────────────────────────────────────── - ────────────────────────── ↪\n",
              "↪         2                                     2                                2                 ↪\n",
              "↪ ₁⋅m₂⋅tan (\\theta₁(t) + \\theta₂(t)) + m₁⋅m₂⋅tan (\\theta₁(t)) + m₁⋅m₂   m₁⋅m₂⋅tan (\\theta₁(t) + \\t ↪\n",
              "\n",
              "↪                                                               2                                  ↪\n",
              "↪                                               ⎛d             ⎞                                   ↪\n",
              "↪        2.0⋅m₁⋅m₂⋅tan(\\theta₁(t) + \\theta₂(t))⋅⎜──(\\theta₁(t))⎟                                   ↪\n",
              "↪                                               ⎝dt            ⎠                                   ↪\n",
              "↪ ──────────────────────────────────────────────────────────────────────────────────────────────── ↪\n",
              "↪              2                        2                                     2                    ↪\n",
              "↪ heta₂(t))⋅tan (\\theta₁(t)) + m₁⋅m₂⋅tan (\\theta₁(t) + \\theta₂(t)) + m₁⋅m₂⋅tan (\\theta₁(t)) + m₁⋅m ↪\n",
              "\n",
              "↪                                                                                                  ↪\n",
              "↪                                                                       d              d           ↪\n",
              "↪                                4.0⋅m₁⋅m₂⋅tan(\\theta₁(t) + \\theta₂(t))⋅──(\\theta₁(t))⋅──(\\theta₂( ↪\n",
              "↪                                                                       dt             dt          ↪\n",
              "↪ ─ - ──────────────────────────────────────────────────────────────────────────────────────────── ↪\n",
              "↪              2                             2                        2                            ↪\n",
              "↪ ₂   m₁⋅m₂⋅tan (\\theta₁(t) + \\theta₂(t))⋅tan (\\theta₁(t)) + m₁⋅m₂⋅tan (\\theta₁(t) + \\theta₂(t)) + ↪\n",
              "\n",
              "↪                                                                                                  ↪\n",
              "↪                                                                                                  ↪\n",
              "↪ t))                                                                2.0⋅m₁⋅m₂⋅tan(\\theta₁(t) + \\t ↪\n",
              "↪                                                                                                  ↪\n",
              "↪ ─────────────────────────────── - ────────────────────────────────────────────────────────────── ↪\n",
              "↪           2                                2                             2                       ↪\n",
              "↪  m₁⋅m₂⋅tan (\\theta₁(t)) + m₁⋅m₂   m₁⋅m₂⋅tan (\\theta₁(t) + \\theta₂(t))⋅tan (\\theta₁(t)) + m₁⋅m₂⋅t ↪\n",
              "\n",
              "↪                           2                                                                      ↪\n",
              "↪           ⎛d             ⎞                                                                       ↪\n",
              "↪ heta₂(t))⋅⎜──(\\theta₂(t))⎟                                                                       ↪\n",
              "↪           ⎝dt            ⎠                                                                       ↪\n",
              "↪ ───────────────────────────────────────────────────────────── + ──────────────────────────────── ↪\n",
              "↪   2                                     2                                2                       ↪\n",
              "↪ an (\\theta₁(t) + \\theta₂(t)) + m₁⋅m₂⋅tan (\\theta₁(t)) + m₁⋅m₂   m₁⋅m₂⋅tan (\\theta₁(t) + \\theta₂( ↪\n",
              "\n",
              "↪                                                   2                                              ↪\n",
              "↪                     3             ⎛d             ⎞                                               ↪\n",
              "↪        2.0⋅m₁⋅m₂⋅tan (\\theta₁(t))⋅⎜──(\\theta₁(t))⎟                                               ↪\n",
              "↪                                   ⎝dt            ⎠                                               ↪\n",
              "↪ ─────────────────────────────────────────────────────────────────────────────────────────── + ── ↪\n",
              "↪        2                        2                                     2                          ↪\n",
              "↪ t))⋅tan (\\theta₁(t)) + m₁⋅m₂⋅tan (\\theta₁(t) + \\theta₂(t)) + m₁⋅m₂⋅tan (\\theta₁(t)) + m₁⋅m₂   m₁ ↪\n",
              "\n",
              "↪                                                                                 2                ↪\n",
              "↪                                                                 ⎛d             ⎞                 ↪\n",
              "↪                                       2.0⋅m₁⋅m₂⋅tan(\\theta₁(t))⋅⎜──(\\theta₁(t))⎟                 ↪\n",
              "↪                                                                 ⎝dt            ⎠                 ↪\n",
              "↪ ──────────────────────────────────────────────────────────────────────────────────────────────── ↪\n",
              "↪        2                             2                        2                                  ↪\n",
              "↪ ⋅m₂⋅tan (\\theta₁(t) + \\theta₂(t))⋅tan (\\theta₁(t)) + m₁⋅m₂⋅tan (\\theta₁(t) + \\theta₂(t)) + m₁⋅m₂ ↪\n",
              "\n",
              "↪                          \n",
              "↪                          \n",
              "↪                          \n",
              "↪                          \n",
              "↪ ─────────────────────────\n",
              "↪     2                    \n",
              "↪ ⋅tan (\\theta₁(t)) + m₁⋅m₂"
            ],
            "text/latex": "$\\displaystyle \\frac{d^{2}}{d t^{2}} \\theta_{2}{\\left(t \\right)} = \\frac{k_{1} m_{2} \\tan^{2}{\\left(\\theta_{1}{\\left(t \\right)} + \\theta_{2}{\\left(t \\right)} \\right)} \\tan{\\left(\\theta_{1}{\\left(t \\right)} \\right)}}{m_{1} m_{2} \\tan^{2}{\\left(\\theta_{1}{\\left(t \\right)} + \\theta_{2}{\\left(t \\right)} \\right)} \\tan^{2}{\\left(\\theta_{1}{\\left(t \\right)} \\right)} + m_{1} m_{2} \\tan^{2}{\\left(\\theta_{1}{\\left(t \\right)} + \\theta_{2}{\\left(t \\right)} \\right)} + m_{1} m_{2} \\tan^{2}{\\left(\\theta_{1}{\\left(t \\right)} \\right)} + m_{1} m_{2}} + \\frac{k_{1} m_{2} \\tan{\\left(\\theta_{1}{\\left(t \\right)} \\right)}}{m_{1} m_{2} \\tan^{2}{\\left(\\theta_{1}{\\left(t \\right)} + \\theta_{2}{\\left(t \\right)} \\right)} \\tan^{2}{\\left(\\theta_{1}{\\left(t \\right)} \\right)} + m_{1} m_{2} \\tan^{2}{\\left(\\theta_{1}{\\left(t \\right)} + \\theta_{2}{\\left(t \\right)} \\right)} + m_{1} m_{2} \\tan^{2}{\\left(\\theta_{1}{\\left(t \\right)} \\right)} + m_{1} m_{2}} - \\frac{k_{2} m_{1} \\tan{\\left(\\theta_{1}{\\left(t \\right)} + \\theta_{2}{\\left(t \\right)} \\right)} \\tan^{2}{\\left(\\theta_{1}{\\left(t \\right)} \\right)}}{m_{1} m_{2} \\tan^{2}{\\left(\\theta_{1}{\\left(t \\right)} + \\theta_{2}{\\left(t \\right)} \\right)} \\tan^{2}{\\left(\\theta_{1}{\\left(t \\right)} \\right)} + m_{1} m_{2} \\tan^{2}{\\left(\\theta_{1}{\\left(t \\right)} + \\theta_{2}{\\left(t \\right)} \\right)} + m_{1} m_{2} \\tan^{2}{\\left(\\theta_{1}{\\left(t \\right)} \\right)} + m_{1} m_{2}} - \\frac{k_{2} m_{1} \\tan{\\left(\\theta_{1}{\\left(t \\right)} + \\theta_{2}{\\left(t \\right)} \\right)}}{m_{1} m_{2} \\tan^{2}{\\left(\\theta_{1}{\\left(t \\right)} + \\theta_{2}{\\left(t \\right)} \\right)} \\tan^{2}{\\left(\\theta_{1}{\\left(t \\right)} \\right)} + m_{1} m_{2} \\tan^{2}{\\left(\\theta_{1}{\\left(t \\right)} + \\theta_{2}{\\left(t \\right)} \\right)} + m_{1} m_{2} \\tan^{2}{\\left(\\theta_{1}{\\left(t \\right)} \\right)} + m_{1} m_{2}} + \\frac{k_{2} m_{1} \\tan^{3}{\\left(\\theta_{1}{\\left(t \\right)} \\right)}}{m_{1} m_{2} \\tan^{2}{\\left(\\theta_{1}{\\left(t \\right)} + \\theta_{2}{\\left(t \\right)} \\right)} \\tan^{2}{\\left(\\theta_{1}{\\left(t \\right)} \\right)} + m_{1} m_{2} \\tan^{2}{\\left(\\theta_{1}{\\left(t \\right)} + \\theta_{2}{\\left(t \\right)} \\right)} + m_{1} m_{2} \\tan^{2}{\\left(\\theta_{1}{\\left(t \\right)} \\right)} + m_{1} m_{2}} + \\frac{k_{2} m_{1} \\tan{\\left(\\theta_{1}{\\left(t \\right)} \\right)}}{m_{1} m_{2} \\tan^{2}{\\left(\\theta_{1}{\\left(t \\right)} + \\theta_{2}{\\left(t \\right)} \\right)} \\tan^{2}{\\left(\\theta_{1}{\\left(t \\right)} \\right)} + m_{1} m_{2} \\tan^{2}{\\left(\\theta_{1}{\\left(t \\right)} + \\theta_{2}{\\left(t \\right)} \\right)} + m_{1} m_{2} \\tan^{2}{\\left(\\theta_{1}{\\left(t \\right)} \\right)} + m_{1} m_{2}} - \\frac{k_{2} m_{2} \\tan^{3}{\\left(\\theta_{1}{\\left(t \\right)} + \\theta_{2}{\\left(t \\right)} \\right)}}{m_{1} m_{2} \\tan^{2}{\\left(\\theta_{1}{\\left(t \\right)} + \\theta_{2}{\\left(t \\right)} \\right)} \\tan^{2}{\\left(\\theta_{1}{\\left(t \\right)} \\right)} + m_{1} m_{2} \\tan^{2}{\\left(\\theta_{1}{\\left(t \\right)} + \\theta_{2}{\\left(t \\right)} \\right)} + m_{1} m_{2} \\tan^{2}{\\left(\\theta_{1}{\\left(t \\right)} \\right)} + m_{1} m_{2}} + \\frac{k_{2} m_{2} \\tan^{2}{\\left(\\theta_{1}{\\left(t \\right)} + \\theta_{2}{\\left(t \\right)} \\right)} \\tan{\\left(\\theta_{1}{\\left(t \\right)} \\right)}}{m_{1} m_{2} \\tan^{2}{\\left(\\theta_{1}{\\left(t \\right)} + \\theta_{2}{\\left(t \\right)} \\right)} \\tan^{2}{\\left(\\theta_{1}{\\left(t \\right)} \\right)} + m_{1} m_{2} \\tan^{2}{\\left(\\theta_{1}{\\left(t \\right)} + \\theta_{2}{\\left(t \\right)} \\right)} + m_{1} m_{2} \\tan^{2}{\\left(\\theta_{1}{\\left(t \\right)} \\right)} + m_{1} m_{2}} - \\frac{k_{2} m_{2} \\tan{\\left(\\theta_{1}{\\left(t \\right)} + \\theta_{2}{\\left(t \\right)} \\right)}}{m_{1} m_{2} \\tan^{2}{\\left(\\theta_{1}{\\left(t \\right)} + \\theta_{2}{\\left(t \\right)} \\right)} \\tan^{2}{\\left(\\theta_{1}{\\left(t \\right)} \\right)} + m_{1} m_{2} \\tan^{2}{\\left(\\theta_{1}{\\left(t \\right)} + \\theta_{2}{\\left(t \\right)} \\right)} + m_{1} m_{2} \\tan^{2}{\\left(\\theta_{1}{\\left(t \\right)} \\right)} + m_{1} m_{2}} + \\frac{k_{2} m_{2} \\tan{\\left(\\theta_{1}{\\left(t \\right)} \\right)}}{m_{1} m_{2} \\tan^{2}{\\left(\\theta_{1}{\\left(t \\right)} + \\theta_{2}{\\left(t \\right)} \\right)} \\tan^{2}{\\left(\\theta_{1}{\\left(t \\right)} \\right)} + m_{1} m_{2} \\tan^{2}{\\left(\\theta_{1}{\\left(t \\right)} + \\theta_{2}{\\left(t \\right)} \\right)} + m_{1} m_{2} \\tan^{2}{\\left(\\theta_{1}{\\left(t \\right)} \\right)} + m_{1} m_{2}} - \\frac{2.0 m_{1} m_{2} \\tan^{3}{\\left(\\theta_{1}{\\left(t \\right)} + \\theta_{2}{\\left(t \\right)} \\right)} \\tan^{2}{\\left(\\theta_{1}{\\left(t \\right)} \\right)} \\left(\\frac{d}{d t} \\theta_{1}{\\left(t \\right)}\\right)^{2}}{m_{1} m_{2} \\tan^{2}{\\left(\\theta_{1}{\\left(t \\right)} + \\theta_{2}{\\left(t \\right)} \\right)} \\tan^{2}{\\left(\\theta_{1}{\\left(t \\right)} \\right)} + m_{1} m_{2} \\tan^{2}{\\left(\\theta_{1}{\\left(t \\right)} + \\theta_{2}{\\left(t \\right)} \\right)} + m_{1} m_{2} \\tan^{2}{\\left(\\theta_{1}{\\left(t \\right)} \\right)} + m_{1} m_{2}} - \\frac{4.0 m_{1} m_{2} \\tan^{3}{\\left(\\theta_{1}{\\left(t \\right)} + \\theta_{2}{\\left(t \\right)} \\right)} \\tan^{2}{\\left(\\theta_{1}{\\left(t \\right)} \\right)} \\frac{d}{d t} \\theta_{1}{\\left(t \\right)} \\frac{d}{d t} \\theta_{2}{\\left(t \\right)}}{m_{1} m_{2} \\tan^{2}{\\left(\\theta_{1}{\\left(t \\right)} + \\theta_{2}{\\left(t \\right)} \\right)} \\tan^{2}{\\left(\\theta_{1}{\\left(t \\right)} \\right)} + m_{1} m_{2} \\tan^{2}{\\left(\\theta_{1}{\\left(t \\right)} + \\theta_{2}{\\left(t \\right)} \\right)} + m_{1} m_{2} \\tan^{2}{\\left(\\theta_{1}{\\left(t \\right)} \\right)} + m_{1} m_{2}} - \\frac{2.0 m_{1} m_{2} \\tan^{3}{\\left(\\theta_{1}{\\left(t \\right)} + \\theta_{2}{\\left(t \\right)} \\right)} \\tan^{2}{\\left(\\theta_{1}{\\left(t \\right)} \\right)} \\left(\\frac{d}{d t} \\theta_{2}{\\left(t \\right)}\\right)^{2}}{m_{1} m_{2} \\tan^{2}{\\left(\\theta_{1}{\\left(t \\right)} + \\theta_{2}{\\left(t \\right)} \\right)} \\tan^{2}{\\left(\\theta_{1}{\\left(t \\right)} \\right)} + m_{1} m_{2} \\tan^{2}{\\left(\\theta_{1}{\\left(t \\right)} + \\theta_{2}{\\left(t \\right)} \\right)} + m_{1} m_{2} \\tan^{2}{\\left(\\theta_{1}{\\left(t \\right)} \\right)} + m_{1} m_{2}} - \\frac{2.0 m_{1} m_{2} \\tan^{3}{\\left(\\theta_{1}{\\left(t \\right)} + \\theta_{2}{\\left(t \\right)} \\right)} \\left(\\frac{d}{d t} \\theta_{1}{\\left(t \\right)}\\right)^{2}}{m_{1} m_{2} \\tan^{2}{\\left(\\theta_{1}{\\left(t \\right)} + \\theta_{2}{\\left(t \\right)} \\right)} \\tan^{2}{\\left(\\theta_{1}{\\left(t \\right)} \\right)} + m_{1} m_{2} \\tan^{2}{\\left(\\theta_{1}{\\left(t \\right)} + \\theta_{2}{\\left(t \\right)} \\right)} + m_{1} m_{2} \\tan^{2}{\\left(\\theta_{1}{\\left(t \\right)} \\right)} + m_{1} m_{2}} - \\frac{4.0 m_{1} m_{2} \\tan^{3}{\\left(\\theta_{1}{\\left(t \\right)} + \\theta_{2}{\\left(t \\right)} \\right)} \\frac{d}{d t} \\theta_{1}{\\left(t \\right)} \\frac{d}{d t} \\theta_{2}{\\left(t \\right)}}{m_{1} m_{2} \\tan^{2}{\\left(\\theta_{1}{\\left(t \\right)} + \\theta_{2}{\\left(t \\right)} \\right)} \\tan^{2}{\\left(\\theta_{1}{\\left(t \\right)} \\right)} + m_{1} m_{2} \\tan^{2}{\\left(\\theta_{1}{\\left(t \\right)} + \\theta_{2}{\\left(t \\right)} \\right)} + m_{1} m_{2} \\tan^{2}{\\left(\\theta_{1}{\\left(t \\right)} \\right)} + m_{1} m_{2}} - \\frac{2.0 m_{1} m_{2} \\tan^{3}{\\left(\\theta_{1}{\\left(t \\right)} + \\theta_{2}{\\left(t \\right)} \\right)} \\left(\\frac{d}{d t} \\theta_{2}{\\left(t \\right)}\\right)^{2}}{m_{1} m_{2} \\tan^{2}{\\left(\\theta_{1}{\\left(t \\right)} + \\theta_{2}{\\left(t \\right)} \\right)} \\tan^{2}{\\left(\\theta_{1}{\\left(t \\right)} \\right)} + m_{1} m_{2} \\tan^{2}{\\left(\\theta_{1}{\\left(t \\right)} + \\theta_{2}{\\left(t \\right)} \\right)} + m_{1} m_{2} \\tan^{2}{\\left(\\theta_{1}{\\left(t \\right)} \\right)} + m_{1} m_{2}} + \\frac{2.0 m_{1} m_{2} \\tan^{2}{\\left(\\theta_{1}{\\left(t \\right)} + \\theta_{2}{\\left(t \\right)} \\right)} \\tan^{3}{\\left(\\theta_{1}{\\left(t \\right)} \\right)} \\left(\\frac{d}{d t} \\theta_{1}{\\left(t \\right)}\\right)^{2}}{m_{1} m_{2} \\tan^{2}{\\left(\\theta_{1}{\\left(t \\right)} + \\theta_{2}{\\left(t \\right)} \\right)} \\tan^{2}{\\left(\\theta_{1}{\\left(t \\right)} \\right)} + m_{1} m_{2} \\tan^{2}{\\left(\\theta_{1}{\\left(t \\right)} + \\theta_{2}{\\left(t \\right)} \\right)} + m_{1} m_{2} \\tan^{2}{\\left(\\theta_{1}{\\left(t \\right)} \\right)} + m_{1} m_{2}} + \\frac{2.0 m_{1} m_{2} \\tan^{2}{\\left(\\theta_{1}{\\left(t \\right)} + \\theta_{2}{\\left(t \\right)} \\right)} \\tan{\\left(\\theta_{1}{\\left(t \\right)} \\right)} \\left(\\frac{d}{d t} \\theta_{1}{\\left(t \\right)}\\right)^{2}}{m_{1} m_{2} \\tan^{2}{\\left(\\theta_{1}{\\left(t \\right)} + \\theta_{2}{\\left(t \\right)} \\right)} \\tan^{2}{\\left(\\theta_{1}{\\left(t \\right)} \\right)} + m_{1} m_{2} \\tan^{2}{\\left(\\theta_{1}{\\left(t \\right)} + \\theta_{2}{\\left(t \\right)} \\right)} + m_{1} m_{2} \\tan^{2}{\\left(\\theta_{1}{\\left(t \\right)} \\right)} + m_{1} m_{2}} - \\frac{2.0 m_{1} m_{2} \\tan{\\left(\\theta_{1}{\\left(t \\right)} + \\theta_{2}{\\left(t \\right)} \\right)} \\tan^{2}{\\left(\\theta_{1}{\\left(t \\right)} \\right)} \\left(\\frac{d}{d t} \\theta_{1}{\\left(t \\right)}\\right)^{2}}{m_{1} m_{2} \\tan^{2}{\\left(\\theta_{1}{\\left(t \\right)} + \\theta_{2}{\\left(t \\right)} \\right)} \\tan^{2}{\\left(\\theta_{1}{\\left(t \\right)} \\right)} + m_{1} m_{2} \\tan^{2}{\\left(\\theta_{1}{\\left(t \\right)} + \\theta_{2}{\\left(t \\right)} \\right)} + m_{1} m_{2} \\tan^{2}{\\left(\\theta_{1}{\\left(t \\right)} \\right)} + m_{1} m_{2}} - \\frac{4.0 m_{1} m_{2} \\tan{\\left(\\theta_{1}{\\left(t \\right)} + \\theta_{2}{\\left(t \\right)} \\right)} \\tan^{2}{\\left(\\theta_{1}{\\left(t \\right)} \\right)} \\frac{d}{d t} \\theta_{1}{\\left(t \\right)} \\frac{d}{d t} \\theta_{2}{\\left(t \\right)}}{m_{1} m_{2} \\tan^{2}{\\left(\\theta_{1}{\\left(t \\right)} + \\theta_{2}{\\left(t \\right)} \\right)} \\tan^{2}{\\left(\\theta_{1}{\\left(t \\right)} \\right)} + m_{1} m_{2} \\tan^{2}{\\left(\\theta_{1}{\\left(t \\right)} + \\theta_{2}{\\left(t \\right)} \\right)} + m_{1} m_{2} \\tan^{2}{\\left(\\theta_{1}{\\left(t \\right)} \\right)} + m_{1} m_{2}} - \\frac{2.0 m_{1} m_{2} \\tan{\\left(\\theta_{1}{\\left(t \\right)} + \\theta_{2}{\\left(t \\right)} \\right)} \\tan^{2}{\\left(\\theta_{1}{\\left(t \\right)} \\right)} \\left(\\frac{d}{d t} \\theta_{2}{\\left(t \\right)}\\right)^{2}}{m_{1} m_{2} \\tan^{2}{\\left(\\theta_{1}{\\left(t \\right)} + \\theta_{2}{\\left(t \\right)} \\right)} \\tan^{2}{\\left(\\theta_{1}{\\left(t \\right)} \\right)} + m_{1} m_{2} \\tan^{2}{\\left(\\theta_{1}{\\left(t \\right)} + \\theta_{2}{\\left(t \\right)} \\right)} + m_{1} m_{2} \\tan^{2}{\\left(\\theta_{1}{\\left(t \\right)} \\right)} + m_{1} m_{2}} - \\frac{2.0 m_{1} m_{2} \\tan{\\left(\\theta_{1}{\\left(t \\right)} + \\theta_{2}{\\left(t \\right)} \\right)} \\left(\\frac{d}{d t} \\theta_{1}{\\left(t \\right)}\\right)^{2}}{m_{1} m_{2} \\tan^{2}{\\left(\\theta_{1}{\\left(t \\right)} + \\theta_{2}{\\left(t \\right)} \\right)} \\tan^{2}{\\left(\\theta_{1}{\\left(t \\right)} \\right)} + m_{1} m_{2} \\tan^{2}{\\left(\\theta_{1}{\\left(t \\right)} + \\theta_{2}{\\left(t \\right)} \\right)} + m_{1} m_{2} \\tan^{2}{\\left(\\theta_{1}{\\left(t \\right)} \\right)} + m_{1} m_{2}} - \\frac{4.0 m_{1} m_{2} \\tan{\\left(\\theta_{1}{\\left(t \\right)} + \\theta_{2}{\\left(t \\right)} \\right)} \\frac{d}{d t} \\theta_{1}{\\left(t \\right)} \\frac{d}{d t} \\theta_{2}{\\left(t \\right)}}{m_{1} m_{2} \\tan^{2}{\\left(\\theta_{1}{\\left(t \\right)} + \\theta_{2}{\\left(t \\right)} \\right)} \\tan^{2}{\\left(\\theta_{1}{\\left(t \\right)} \\right)} + m_{1} m_{2} \\tan^{2}{\\left(\\theta_{1}{\\left(t \\right)} + \\theta_{2}{\\left(t \\right)} \\right)} + m_{1} m_{2} \\tan^{2}{\\left(\\theta_{1}{\\left(t \\right)} \\right)} + m_{1} m_{2}} - \\frac{2.0 m_{1} m_{2} \\tan{\\left(\\theta_{1}{\\left(t \\right)} + \\theta_{2}{\\left(t \\right)} \\right)} \\left(\\frac{d}{d t} \\theta_{2}{\\left(t \\right)}\\right)^{2}}{m_{1} m_{2} \\tan^{2}{\\left(\\theta_{1}{\\left(t \\right)} + \\theta_{2}{\\left(t \\right)} \\right)} \\tan^{2}{\\left(\\theta_{1}{\\left(t \\right)} \\right)} + m_{1} m_{2} \\tan^{2}{\\left(\\theta_{1}{\\left(t \\right)} + \\theta_{2}{\\left(t \\right)} \\right)} + m_{1} m_{2} \\tan^{2}{\\left(\\theta_{1}{\\left(t \\right)} \\right)} + m_{1} m_{2}} + \\frac{2.0 m_{1} m_{2} \\tan^{3}{\\left(\\theta_{1}{\\left(t \\right)} \\right)} \\left(\\frac{d}{d t} \\theta_{1}{\\left(t \\right)}\\right)^{2}}{m_{1} m_{2} \\tan^{2}{\\left(\\theta_{1}{\\left(t \\right)} + \\theta_{2}{\\left(t \\right)} \\right)} \\tan^{2}{\\left(\\theta_{1}{\\left(t \\right)} \\right)} + m_{1} m_{2} \\tan^{2}{\\left(\\theta_{1}{\\left(t \\right)} + \\theta_{2}{\\left(t \\right)} \\right)} + m_{1} m_{2} \\tan^{2}{\\left(\\theta_{1}{\\left(t \\right)} \\right)} + m_{1} m_{2}} + \\frac{2.0 m_{1} m_{2} \\tan{\\left(\\theta_{1}{\\left(t \\right)} \\right)} \\left(\\frac{d}{d t} \\theta_{1}{\\left(t \\right)}\\right)^{2}}{m_{1} m_{2} \\tan^{2}{\\left(\\theta_{1}{\\left(t \\right)} + \\theta_{2}{\\left(t \\right)} \\right)} \\tan^{2}{\\left(\\theta_{1}{\\left(t \\right)} \\right)} + m_{1} m_{2} \\tan^{2}{\\left(\\theta_{1}{\\left(t \\right)} + \\theta_{2}{\\left(t \\right)} \\right)} + m_{1} m_{2} \\tan^{2}{\\left(\\theta_{1}{\\left(t \\right)} \\right)} + m_{1} m_{2}}$"
          },
          "metadata": {}
        }
      ]
    },
    {
      "cell_type": "markdown",
      "metadata": {
        "id": "Z-7OD_CSJfD-"
      },
      "source": [
        "## Problem 3 (10pts)\n",
        "\n",
        "For the same two-spring-mass system in Problem 2, show by example that Newton's equations do not hold in an arbitrary choice of coordinates (but they do, of course, hold in Cartesian coordinates). Your example should be implemented using Python's SymPy package.\n",
        "\n",
        "> *Hint 1: In other words, you need to find a set of coordinates $q=[q_1,q_2]$, and compute the equations of motion ($F=ma=m\\ddot{q}$), showing that these equations of motion do not make the same prediction as Newton's laws in the Cartesian inertially fixed frame (where they are correct).*\n",
        ">\n",
        "> *Hint 2: Newton's equations don't hold in non-inertia coordinates. For the $x_1,x_2$ and $y_1,y_2$ coordinates shown in the image, one of them is non-inertia coordinate.*\n",
        "\n",
        "---\n",
        "**Turn in: Include the code you used to symbolically compute the equations of motion to show that Newton's equations don't hold. Also, include the output of the code, which should be the equations of motion under the chosen set of coordinates. Make sure toindicate what coordinate you choose in the comments.**"
      ]
    },
    {
      "cell_type": "code",
      "metadata": {
        "id": "3RNr1YhuJfD-",
        "colab": {
          "base_uri": "https://localhost:8080/",
          "height": 422
        },
        "outputId": "0897eb55-f005-4509-ffd9-00c7d30981cd"
      },
      "source": [
        "# Defining useful symbols\n",
        "m1,m2,L,t = sym.symbols('m_1, m_2, L, t')\n",
        "x1 = sym.Function('x_1')(t)\n",
        "x2 = sym.Function('x_2')(t)\n",
        "y1 = sym.Function('y_1')(t)\n",
        "y2 = sym.Function('y_2')(t)\n",
        "k1, k2 = sym.symbols(r'k_1, k_2')\n",
        "\n",
        "q = sym.Matrix([x1, x2])\n",
        "qdot = q.diff(t)\n",
        "qddot = qdot.diff(t)\n",
        "\n",
        "w = sym.Matrix([y1, y2])\n",
        "wdot = w.diff(t)\n",
        "wddot = wdot.diff(t)\n",
        "\n",
        "# Kinetic energy of the system\n",
        "KE = (0.5 * m1 * qdot[0]**2) + (0.5 * m2 * (qdot[0] + qdot[1])**2)\n",
        "\n",
        "# Potential energy of the system\n",
        "PE = (0.5 * k1 * q[0]**2) + (0.5 * k2 * q[1]**2)\n",
        "\n",
        "# Lagrangian of the system\n",
        "L = sym.Matrix([KE - PE])\n",
        "\n",
        "# First term of Euler Lagrange expression\n",
        "dLdq = L.jacobian(q)\n",
        "\n",
        "# Second term of Euler Lagrange expression\n",
        "dLdqdot = L.jacobian(qdot)\n",
        "dLdqdot_dot = dLdqdot.diff(t)\n",
        "\n",
        "# Euler Lagrange expression\n",
        "EL = dLdq - dLdqdot_dot\n",
        "\n",
        "# Converting EL expression to equation form\n",
        "rhs = sym.Matrix([0, 0])\n",
        "EL_eqn = sym.Eq(EL.T, rhs)\n",
        "display(EL_eqn)\n",
        "\n",
        "soln = sym.solve(EL_eqn, qddot, dict= True)\n",
        "# printing the expressions for accelerations\n",
        "for sol in soln:\n",
        "  print(\"\\n\\033[1mAccelerations: \")\n",
        "  for v in qddot:\n",
        "    display(sym.Eq(v, sol[v]))\n",
        "\n",
        "# Newton's Laws in x1,x2 coordinates\n",
        "print(\"\\n\\033[1mEquations from Newton's Laws in x1, x2 coordinates: \")\n",
        "display(sym.Eq(qddot[0], k2*x2/m1 - k1*x1/m1))\n",
        "display(sym.Eq(qddot[1], k2*x2/m2 - k2*x2/m1 + k1*x1/m1))\n",
        "\n",
        "# Newton's Laws in y1, y2 coordinates\n",
        "print(\"\\n\\033[1mEquations from Newton's Laws in y1, y2 coordinates: \")\n",
        "display(sym.Eq(wddot[0], k2*y2/m1- k2*y1/m1 - k1*y1/m1))\n",
        "display(sym.Eq(wddot[1], k2*y2/m2 - k2*y1/m2))\n",
        "\n",
        "# On comparison, we find that Newton's equations in x1, x2 coordinates, are not the same as that calculated by the Euler Lagrange equations\n",
        "# But the Newton's equations in y1, y2 coordinates can be modified and shown to be equivalent to the calculated Euler Lagrange equations\n"
      ],
      "execution_count": 43,
      "outputs": [
        {
          "output_type": "display_data",
          "data": {
            "text/plain": [
              "<IPython.core.display.HTML object>"
            ],
            "text/html": [
              "<script src='https://cdnjs.cloudflare.com/ajax/libs/mathjax/3.1.1/latest.js?config=TeX-AMS_HTML'></script>"
            ]
          },
          "metadata": {}
        },
        {
          "output_type": "display_data",
          "data": {
            "text/plain": [
              "⎡                        2                  ⎛   2              2        ⎞⎤      \n",
              "⎢                       d                   ⎜  d              d         ⎟⎥      \n",
              "⎢-1.0⋅k₁⋅x₁(t) - 1.0⋅m₁⋅───(x₁(t)) - 0.5⋅m₂⋅⎜2⋅───(x₁(t)) + 2⋅───(x₂(t))⎟⎥      \n",
              "⎢                         2                 ⎜    2              2       ⎟⎥      \n",
              "⎢                       dt                  ⎝  dt             dt        ⎠⎥   ⎡0⎤\n",
              "⎢                                                                        ⎥ = ⎢ ⎥\n",
              "⎢                                 ⎛   2              2        ⎞          ⎥   ⎣0⎦\n",
              "⎢                                 ⎜  d              d         ⎟          ⎥      \n",
              "⎢          -1.0⋅k₂⋅x₂(t) - 0.5⋅m₂⋅⎜2⋅───(x₁(t)) + 2⋅───(x₂(t))⎟          ⎥      \n",
              "⎢                                 ⎜    2              2       ⎟          ⎥      \n",
              "⎣                                 ⎝  dt             dt        ⎠          ⎦      "
            ],
            "text/latex": "$\\displaystyle \\left[\\begin{matrix}- 1.0 k_{1} x_{1}{\\left(t \\right)} - 1.0 m_{1} \\frac{d^{2}}{d t^{2}} x_{1}{\\left(t \\right)} - 0.5 m_{2} \\left(2 \\frac{d^{2}}{d t^{2}} x_{1}{\\left(t \\right)} + 2 \\frac{d^{2}}{d t^{2}} x_{2}{\\left(t \\right)}\\right)\\\\- 1.0 k_{2} x_{2}{\\left(t \\right)} - 0.5 m_{2} \\left(2 \\frac{d^{2}}{d t^{2}} x_{1}{\\left(t \\right)} + 2 \\frac{d^{2}}{d t^{2}} x_{2}{\\left(t \\right)}\\right)\\end{matrix}\\right] = \\left[\\begin{matrix}0\\\\0\\end{matrix}\\right]$"
          },
          "metadata": {}
        },
        {
          "output_type": "stream",
          "name": "stdout",
          "text": [
            "\n",
            "\u001b[1mAccelerations: \n"
          ]
        },
        {
          "output_type": "display_data",
          "data": {
            "text/plain": [
              "<IPython.core.display.HTML object>"
            ],
            "text/html": [
              "<script src='https://cdnjs.cloudflare.com/ajax/libs/mathjax/3.1.1/latest.js?config=TeX-AMS_HTML'></script>"
            ]
          },
          "metadata": {}
        },
        {
          "output_type": "display_data",
          "data": {
            "text/plain": [
              " 2                                \n",
              "d              k₁⋅x₁(t)   k₂⋅x₂(t)\n",
              "───(x₁(t)) = - ──────── + ────────\n",
              "  2               m₁         m₁   \n",
              "dt                                "
            ],
            "text/latex": "$\\displaystyle \\frac{d^{2}}{d t^{2}} x_{1}{\\left(t \\right)} = - \\frac{k_{1} x_{1}{\\left(t \\right)}}{m_{1}} + \\frac{k_{2} x_{2}{\\left(t \\right)}}{m_{1}}$"
          },
          "metadata": {}
        },
        {
          "output_type": "display_data",
          "data": {
            "text/plain": [
              "<IPython.core.display.HTML object>"
            ],
            "text/html": [
              "<script src='https://cdnjs.cloudflare.com/ajax/libs/mathjax/3.1.1/latest.js?config=TeX-AMS_HTML'></script>"
            ]
          },
          "metadata": {}
        },
        {
          "output_type": "display_data",
          "data": {
            "text/plain": [
              " 2                                         \n",
              "d            k₁⋅x₁(t)   k₂⋅x₂(t)   k₂⋅x₂(t)\n",
              "───(x₂(t)) = ──────── - ──────── - ────────\n",
              "  2             m₁         m₂         m₁   \n",
              "dt                                         "
            ],
            "text/latex": "$\\displaystyle \\frac{d^{2}}{d t^{2}} x_{2}{\\left(t \\right)} = \\frac{k_{1} x_{1}{\\left(t \\right)}}{m_{1}} - \\frac{k_{2} x_{2}{\\left(t \\right)}}{m_{2}} - \\frac{k_{2} x_{2}{\\left(t \\right)}}{m_{1}}$"
          },
          "metadata": {}
        },
        {
          "output_type": "stream",
          "name": "stdout",
          "text": [
            "\n",
            "\u001b[1mEquations from Newton's Laws in x1, x2 coordinates: \n"
          ]
        },
        {
          "output_type": "display_data",
          "data": {
            "text/plain": [
              "<IPython.core.display.HTML object>"
            ],
            "text/html": [
              "<script src='https://cdnjs.cloudflare.com/ajax/libs/mathjax/3.1.1/latest.js?config=TeX-AMS_HTML'></script>"
            ]
          },
          "metadata": {}
        },
        {
          "output_type": "display_data",
          "data": {
            "text/plain": [
              " 2                                \n",
              "d              k₁⋅x₁(t)   k₂⋅x₂(t)\n",
              "───(x₁(t)) = - ──────── + ────────\n",
              "  2               m₁         m₁   \n",
              "dt                                "
            ],
            "text/latex": "$\\displaystyle \\frac{d^{2}}{d t^{2}} x_{1}{\\left(t \\right)} = - \\frac{k_{1} x_{1}{\\left(t \\right)}}{m_{1}} + \\frac{k_{2} x_{2}{\\left(t \\right)}}{m_{1}}$"
          },
          "metadata": {}
        },
        {
          "output_type": "display_data",
          "data": {
            "text/plain": [
              "<IPython.core.display.HTML object>"
            ],
            "text/html": [
              "<script src='https://cdnjs.cloudflare.com/ajax/libs/mathjax/3.1.1/latest.js?config=TeX-AMS_HTML'></script>"
            ]
          },
          "metadata": {}
        },
        {
          "output_type": "display_data",
          "data": {
            "text/plain": [
              " 2                                         \n",
              "d            k₁⋅x₁(t)   k₂⋅x₂(t)   k₂⋅x₂(t)\n",
              "───(x₂(t)) = ──────── + ──────── - ────────\n",
              "  2             m₁         m₂         m₁   \n",
              "dt                                         "
            ],
            "text/latex": "$\\displaystyle \\frac{d^{2}}{d t^{2}} x_{2}{\\left(t \\right)} = \\frac{k_{1} x_{1}{\\left(t \\right)}}{m_{1}} + \\frac{k_{2} x_{2}{\\left(t \\right)}}{m_{2}} - \\frac{k_{2} x_{2}{\\left(t \\right)}}{m_{1}}$"
          },
          "metadata": {}
        },
        {
          "output_type": "stream",
          "name": "stdout",
          "text": [
            "\n",
            "\u001b[1mEquations from Newton's Laws in y1, y2 coordinates: \n"
          ]
        },
        {
          "output_type": "display_data",
          "data": {
            "text/plain": [
              "<IPython.core.display.HTML object>"
            ],
            "text/html": [
              "<script src='https://cdnjs.cloudflare.com/ajax/libs/mathjax/3.1.1/latest.js?config=TeX-AMS_HTML'></script>"
            ]
          },
          "metadata": {}
        },
        {
          "output_type": "display_data",
          "data": {
            "text/plain": [
              " 2                                           \n",
              "d              k₁⋅y₁(t)   k₂⋅y₁(t)   k₂⋅y₂(t)\n",
              "───(y₁(t)) = - ──────── - ──────── + ────────\n",
              "  2               m₁         m₁         m₁   \n",
              "dt                                           "
            ],
            "text/latex": "$\\displaystyle \\frac{d^{2}}{d t^{2}} y_{1}{\\left(t \\right)} = - \\frac{k_{1} y_{1}{\\left(t \\right)}}{m_{1}} - \\frac{k_{2} y_{1}{\\left(t \\right)}}{m_{1}} + \\frac{k_{2} y_{2}{\\left(t \\right)}}{m_{1}}$"
          },
          "metadata": {}
        },
        {
          "output_type": "display_data",
          "data": {
            "text/plain": [
              "<IPython.core.display.HTML object>"
            ],
            "text/html": [
              "<script src='https://cdnjs.cloudflare.com/ajax/libs/mathjax/3.1.1/latest.js?config=TeX-AMS_HTML'></script>"
            ]
          },
          "metadata": {}
        },
        {
          "output_type": "display_data",
          "data": {
            "text/plain": [
              " 2                                \n",
              "d              k₂⋅y₁(t)   k₂⋅y₂(t)\n",
              "───(y₂(t)) = - ──────── + ────────\n",
              "  2               m₂         m₂   \n",
              "dt                                "
            ],
            "text/latex": "$\\displaystyle \\frac{d^{2}}{d t^{2}} y_{2}{\\left(t \\right)} = - \\frac{k_{2} y_{1}{\\left(t \\right)}}{m_{2}} + \\frac{k_{2} y_{2}{\\left(t \\right)}}{m_{2}}$"
          },
          "metadata": {}
        }
      ]
    },
    {
      "cell_type": "markdown",
      "source": [
        "\n",
        "## Problem 4 (10pts)"
      ],
      "metadata": {
        "id": "yaPawRzig-0o"
      }
    },
    {
      "cell_type": "code",
      "metadata": {
        "id": "oZjf1UFIJfEA",
        "colab": {
          "base_uri": "https://localhost:8080/",
          "height": 377
        },
        "outputId": "eec779de-ead2-4958-edeb-2f89e074f3af",
        "cellView": "form"
      },
      "source": [
        "#@title\n",
        "from IPython.core.display import HTML\n",
        "display(HTML(\"<table><tr><td><img src='https://github.com/MuchenSun/ME314pngs/raw/master/dyndoublepend.png' width=500' height='350'></table>\"))"
      ],
      "execution_count": 44,
      "outputs": [
        {
          "output_type": "display_data",
          "data": {
            "text/plain": [
              "<IPython.core.display.HTML object>"
            ],
            "text/html": [
              "<table><tr><td><img src='https://github.com/MuchenSun/ME314pngs/raw/master/dyndoublepend.png' width=500' height='350'></table>"
            ]
          },
          "metadata": {}
        }
      ]
    },
    {
      "cell_type": "markdown",
      "metadata": {
        "id": "cIf0pSCiJfEC"
      },
      "source": [
        "\n",
        "\n",
        "For the same double-pendulum system hanging in gravity in Homework 2 (shown above), take $q=[\\theta_1, \\theta_2]$ as the system configuration variables, with $R_1=R_2=1, m_1=m_2=1$. Symbolically compute the Hamiltonian of this system using Python's *SymPy* package.\n",
        "\n",
        "---\n",
        "**Turn in: Include the code used to symbolically compute the Hamiltonian of the system and the code output, which should the Hamiltonian of the system. Make sure you are using *SimPy*'s `.simplify()` functionality when printing your output.**"
      ]
    },
    {
      "cell_type": "code",
      "metadata": {
        "id": "JoXuspHUJfED",
        "colab": {
          "base_uri": "https://localhost:8080/",
          "height": 342
        },
        "outputId": "20a048f0-af15-4b0f-a7cc-8b36a04e1313"
      },
      "source": [
        "t, g, m1, m2, R1, R2 = sym.symbols(r't, g, m_1, m_2, R_1, R_2')\n",
        "th1 = sym.Function(r'\\theta_1')(t)\n",
        "th2 = sym.Function(r'\\theta_2')(t)\n",
        "q = sym.Matrix([th1, th2])\n",
        "qdot = q.diff(t)\n",
        "qddot = qdot.diff(t)\n",
        "# display(qddot)\n",
        "# Kinetic energy of mass m1\n",
        "KE_m1 = 0.5*m1*R1**2*qdot[0]**2\n",
        "# display(KE_m1)\n",
        "# Potential energy of mass m1\n",
        "PE_m1 = -1 * m1*g*R1*sym.cos(q[0])\n",
        "# display(PE_m1)\n",
        "# Kinetic energy of mass m2\n",
        "KE_m2 = 0.5*m2*((R1*qdot[0])**2 + (R2*(qdot[0] + qdot[1]))**2 + (2*R1*R2*qdot[0]*(qdot[0]+qdot[1])*sym.cos(q[1])))\n",
        "# display(KE_m2)\n",
        "# Potential energy of mass m2\n",
        "PE_m2 = -1 * m2*g*((R1*sym.cos(q[0])) + (R2*sym.cos(q[0]+q[1])))\n",
        "# display(PE_m2)\n",
        "# Expression for Lagrangian of the system\n",
        "print(\"\\033[1mLagrangian of the system is given by: \")\n",
        "L_expr = KE_m1 + KE_m2 - (PE_m1 + PE_m2)\n",
        "display(L_expr)\n",
        "# For Hamiltonian, we need momentum p which is given by\n",
        "L_mat = sym.Matrix([L_expr])\n",
        "p = L_mat.jacobian(qdot)\n",
        "\n",
        "# Writing expression for Hamiltonian\n",
        "H = p @ qdot - L_mat\n",
        "print(\"\\n\\033[1mHamiltonian of the system is: \")\n",
        "display(H[0])\n"
      ],
      "execution_count": 45,
      "outputs": [
        {
          "output_type": "stream",
          "name": "stdout",
          "text": [
            "\u001b[1mLagrangian of the system is given by: \n"
          ]
        },
        {
          "output_type": "display_data",
          "data": {
            "text/plain": [
              "<IPython.core.display.HTML object>"
            ],
            "text/html": [
              "<script src='https://cdnjs.cloudflare.com/ajax/libs/mathjax/3.1.1/latest.js?config=TeX-AMS_HTML'></script>"
            ]
          },
          "metadata": {}
        },
        {
          "output_type": "display_data",
          "data": {
            "text/plain": [
              "                           2                                                                       ↪\n",
              "      2    ⎛d             ⎞                                                                        ↪\n",
              "0.5⋅R₁ ⋅m₁⋅⎜──(\\theta₁(t))⎟  + R₁⋅g⋅m₁⋅cos(\\theta₁(t)) + g⋅m₂⋅(R₁⋅cos(\\theta₁(t)) + R₂⋅cos(\\theta₁ ↪\n",
              "           ⎝dt            ⎠                                                                        ↪\n",
              "\n",
              "↪                             ⎛                    2                                               ↪\n",
              "↪                             ⎜  2 ⎛d             ⎞            ⎛d                d             ⎞   ↪\n",
              "↪ (t) + \\theta₂(t))) + 0.5⋅m₂⋅⎜R₁ ⋅⎜──(\\theta₁(t))⎟  + 2⋅R₁⋅R₂⋅⎜──(\\theta₁(t)) + ──(\\theta₂(t))⎟⋅c ↪\n",
              "↪                             ⎝    ⎝dt            ⎠            ⎝dt               dt            ⎠   ↪\n",
              "\n",
              "↪                                                                      2⎞\n",
              "↪                d                  2 ⎛d                d             ⎞ ⎟\n",
              "↪ os(\\theta₂(t))⋅──(\\theta₁(t)) + R₂ ⋅⎜──(\\theta₁(t)) + ──(\\theta₂(t))⎟ ⎟\n",
              "↪                dt                   ⎝dt               dt            ⎠ ⎠"
            ],
            "text/latex": "$\\displaystyle 0.5 R_{1}^{2} m_{1} \\left(\\frac{d}{d t} \\theta_{1}{\\left(t \\right)}\\right)^{2} + R_{1} g m_{1} \\cos{\\left(\\theta_{1}{\\left(t \\right)} \\right)} + g m_{2} \\left(R_{1} \\cos{\\left(\\theta_{1}{\\left(t \\right)} \\right)} + R_{2} \\cos{\\left(\\theta_{1}{\\left(t \\right)} + \\theta_{2}{\\left(t \\right)} \\right)}\\right) + 0.5 m_{2} \\left(R_{1}^{2} \\left(\\frac{d}{d t} \\theta_{1}{\\left(t \\right)}\\right)^{2} + 2 R_{1} R_{2} \\left(\\frac{d}{d t} \\theta_{1}{\\left(t \\right)} + \\frac{d}{d t} \\theta_{2}{\\left(t \\right)}\\right) \\cos{\\left(\\theta_{2}{\\left(t \\right)} \\right)} \\frac{d}{d t} \\theta_{1}{\\left(t \\right)} + R_{2}^{2} \\left(\\frac{d}{d t} \\theta_{1}{\\left(t \\right)} + \\frac{d}{d t} \\theta_{2}{\\left(t \\right)}\\right)^{2}\\right)$"
          },
          "metadata": {}
        },
        {
          "output_type": "stream",
          "name": "stdout",
          "text": [
            "\n",
            "\u001b[1mHamiltonian of the system is: \n"
          ]
        },
        {
          "output_type": "display_data",
          "data": {
            "text/plain": [
              "<IPython.core.display.HTML object>"
            ],
            "text/html": [
              "<script src='https://cdnjs.cloudflare.com/ajax/libs/mathjax/3.1.1/latest.js?config=TeX-AMS_HTML'></script>"
            ]
          },
          "metadata": {}
        },
        {
          "output_type": "display_data",
          "data": {
            "text/plain": [
              "                             2                                                                     ↪\n",
              "        2    ⎛d             ⎞                                                                      ↪\n",
              "- 0.5⋅R₁ ⋅m₁⋅⎜──(\\theta₁(t))⎟  - R₁⋅g⋅m₁⋅cos(\\theta₁(t)) - g⋅m₂⋅(R₁⋅cos(\\theta₁(t)) + R₂⋅cos(\\thet ↪\n",
              "             ⎝dt            ⎠                                                                      ↪\n",
              "\n",
              "↪                                                                                                  ↪\n",
              "↪                               ⎛                        d                  2 ⎛  d                 ↪\n",
              "↪ a₁(t) + \\theta₂(t))) + 0.5⋅m₂⋅⎜2⋅R₁⋅R₂⋅cos(\\theta₂(t))⋅──(\\theta₁(t)) + R₂ ⋅⎜2⋅──(\\theta₁(t)) +  ↪\n",
              "↪                               ⎝                        dt                   ⎝  dt                ↪\n",
              "\n",
              "↪                                            ⎛                    2                                ↪\n",
              "↪   d             ⎞⎞ d                       ⎜  2 ⎛d             ⎞            ⎛d                d  ↪\n",
              "↪ 2⋅──(\\theta₂(t))⎟⎟⋅──(\\theta₂(t)) - 0.5⋅m₂⋅⎜R₁ ⋅⎜──(\\theta₁(t))⎟  + 2⋅R₁⋅R₂⋅⎜──(\\theta₁(t)) + ── ↪\n",
              "↪   dt            ⎠⎠ dt                      ⎝    ⎝dt            ⎠            ⎝dt               dt ↪\n",
              "\n",
              "↪                                                                                     2⎞           ↪\n",
              "↪             ⎞                 d                  2 ⎛d                d             ⎞ ⎟   ⎛       ↪\n",
              "↪ (\\theta₂(t))⎟⋅cos(\\theta₂(t))⋅──(\\theta₁(t)) + R₂ ⋅⎜──(\\theta₁(t)) + ──(\\theta₂(t))⎟ ⎟ + ⎜1.0⋅R₁ ↪\n",
              "↪             ⎠                 dt                   ⎝dt               dt            ⎠ ⎠   ⎝       ↪\n",
              "\n",
              "↪                                                                                                  ↪\n",
              "↪ 2    d                       ⎛    2 d                        ⎛d                d             ⎞   ↪\n",
              "↪  ⋅m₁⋅──(\\theta₁(t)) + 0.5⋅m₂⋅⎜2⋅R₁ ⋅──(\\theta₁(t)) + 2⋅R₁⋅R₂⋅⎜──(\\theta₁(t)) + ──(\\theta₂(t))⎟⋅c ↪\n",
              "↪      dt                      ⎝      dt                       ⎝dt               dt            ⎠   ↪\n",
              "\n",
              "↪                                                                                                  ↪\n",
              "↪                                          d                  2 ⎛  d                  d            ↪\n",
              "↪ os(\\theta₂(t)) + 2⋅R₁⋅R₂⋅cos(\\theta₂(t))⋅──(\\theta₁(t)) + R₂ ⋅⎜2⋅──(\\theta₁(t)) + 2⋅──(\\theta₂(t ↪\n",
              "↪                                          dt                   ⎝  dt                 dt           ↪\n",
              "\n",
              "↪                     \n",
              "↪   ⎞⎞⎞ d             \n",
              "↪ ))⎟⎟⎟⋅──(\\theta₁(t))\n",
              "↪   ⎠⎠⎠ dt            "
            ],
            "text/latex": "$\\displaystyle - 0.5 R_{1}^{2} m_{1} \\left(\\frac{d}{d t} \\theta_{1}{\\left(t \\right)}\\right)^{2} - R_{1} g m_{1} \\cos{\\left(\\theta_{1}{\\left(t \\right)} \\right)} - g m_{2} \\left(R_{1} \\cos{\\left(\\theta_{1}{\\left(t \\right)} \\right)} + R_{2} \\cos{\\left(\\theta_{1}{\\left(t \\right)} + \\theta_{2}{\\left(t \\right)} \\right)}\\right) + 0.5 m_{2} \\left(2 R_{1} R_{2} \\cos{\\left(\\theta_{2}{\\left(t \\right)} \\right)} \\frac{d}{d t} \\theta_{1}{\\left(t \\right)} + R_{2}^{2} \\left(2 \\frac{d}{d t} \\theta_{1}{\\left(t \\right)} + 2 \\frac{d}{d t} \\theta_{2}{\\left(t \\right)}\\right)\\right) \\frac{d}{d t} \\theta_{2}{\\left(t \\right)} - 0.5 m_{2} \\left(R_{1}^{2} \\left(\\frac{d}{d t} \\theta_{1}{\\left(t \\right)}\\right)^{2} + 2 R_{1} R_{2} \\left(\\frac{d}{d t} \\theta_{1}{\\left(t \\right)} + \\frac{d}{d t} \\theta_{2}{\\left(t \\right)}\\right) \\cos{\\left(\\theta_{2}{\\left(t \\right)} \\right)} \\frac{d}{d t} \\theta_{1}{\\left(t \\right)} + R_{2}^{2} \\left(\\frac{d}{d t} \\theta_{1}{\\left(t \\right)} + \\frac{d}{d t} \\theta_{2}{\\left(t \\right)}\\right)^{2}\\right) + \\left(1.0 R_{1}^{2} m_{1} \\frac{d}{d t} \\theta_{1}{\\left(t \\right)} + 0.5 m_{2} \\left(2 R_{1}^{2} \\frac{d}{d t} \\theta_{1}{\\left(t \\right)} + 2 R_{1} R_{2} \\left(\\frac{d}{d t} \\theta_{1}{\\left(t \\right)} + \\frac{d}{d t} \\theta_{2}{\\left(t \\right)}\\right) \\cos{\\left(\\theta_{2}{\\left(t \\right)} \\right)} + 2 R_{1} R_{2} \\cos{\\left(\\theta_{2}{\\left(t \\right)} \\right)} \\frac{d}{d t} \\theta_{1}{\\left(t \\right)} + R_{2}^{2} \\left(2 \\frac{d}{d t} \\theta_{1}{\\left(t \\right)} + 2 \\frac{d}{d t} \\theta_{2}{\\left(t \\right)}\\right)\\right)\\right) \\frac{d}{d t} \\theta_{1}{\\left(t \\right)}$"
          },
          "metadata": {}
        }
      ]
    },
    {
      "cell_type": "markdown",
      "metadata": {
        "id": "QE4_6zCVJfEE"
      },
      "source": [
        "## Problem 5 (10pts)\n",
        "\n",
        "Simulate the double-pendulum system in Problem 4 with initial condition $\\theta_1=\\theta_2=-\\frac{\\pi}{2}, \\dot{\\theta}_1=\\dot{\\theta}_2=0$ for $t\\in[0,10]$ and $dt=0.01$. Numerically evaluate the Hamiltonian of this system from the simulated trajectory, and plot it.\n",
        "\n",
        "> *Hint 1: The Hamiltonian can be numerically evaluated as a function of $\\theta_1, \\theta_2, \\dot{\\theta}_1, \\dot{\\theta}_2$, which means for each time step in the simulated trajectory, you can compute the Hamiltonian for this time step, and store it in a list or array for plotting later. This doesn't need to be done during the numerical simulation, after you have the simulated the trajectory you can access each time step within another loop.*\n",
        "\n",
        "---\n",
        "**Turn in: Include the code used to numerically evaluate and plot the Hamiltonian, as well as the code output, which should be the plot of Hamiltonian. Make sure you label the plot with axis labels, legend and a title.**"
      ]
    },
    {
      "cell_type": "code",
      "metadata": {
        "id": "hs_I0_pbJfEF",
        "colab": {
          "base_uri": "https://localhost:8080/",
          "height": 594
        },
        "outputId": "666e8e9c-7b4c-4b71-e3c7-c679674d3890"
      },
      "source": [
        "# storing the Lagrangian in a matrix\n",
        "J_mat = sym.Matrix([L_expr])\n",
        "\n",
        "# computing the derivative wrt q\n",
        "J_mat_q = J_mat.jacobian(q)\n",
        "\n",
        "# computing the derivative wrt qdot\n",
        "J_mat_qdot = J_mat.jacobian(qdot)\n",
        "\n",
        "# differentiating J_mat_qdot wrt t\n",
        "J_mat_qdot_t = J_mat_qdot.diff(t)\n",
        "\n",
        "# combining the terms of E-L equation\n",
        "print(\"\\n\\033[1mEuler Lagrange equation for the system\")\n",
        "EL_expr = J_mat_q - J_mat_qdot_t\n",
        "display(EL_expr.T)\n",
        "\n",
        "rhs = sym.Matrix([0, 0])\n",
        "# defining the equation\n",
        "EL_eqn = sym.Eq(EL_expr.T, rhs)\n",
        "soln = sym.solve(EL_eqn, qddot, dict= True)\n",
        "# printing the expressions for accelerations\n",
        "for sol in soln:\n",
        "  pass\n",
        "  # print(\"\\n\\033[1mAccelerations: \")\n",
        "  for v in qddot:\n",
        "    pass\n",
        "#     # display(sym.Eq(v, sol[v]))\n",
        "\n",
        "# lambdifying and finding the expressions\n",
        "theta1_val = sym.lambdify([m1, m2, R1, R2, g, th1, th2, qdot[0], qdot[1]], sol[qddot[0]])\n",
        "theta2_val = sym.lambdify([m1, m2, R1, R2, g, th1, th2, qdot[0], qdot[1]], sol[qddot[1]])\n",
        "\n",
        "def ddot(q):\n",
        "  \"\"\"\n",
        "  Returns the ddot value of the system variables at given dot values\n",
        "  \"\"\"\n",
        "  th1_ddot = theta1_val(1,1,1,1,9.8,q[0],q[1],q[2],q[3])\n",
        "  th2_ddot = theta2_val(1,1,1,1,9.8,q[0],q[1],q[2],q[3])\n",
        "  return th1_ddot, th2_ddot\n",
        "def dyn(q):\n",
        "  \"\"\"\n",
        "  Return the derivative of the system state vector\n",
        "  Parameter:\n",
        "  f = [th1, th2, th1dot, th2dot]\n",
        "  Returns:\n",
        "  fdot = [th1dot, th2dot, th1ddot, th2ddot]\n",
        "  \"\"\"\n",
        "  return np.array([q[2],q[3], ddot(q)[0],ddot(q)[1]])\n",
        "\n",
        "\n",
        "# Extending the state vector of the system\n",
        "f = np.array([q[0],q[1],qdot[0],qdot[1]])\n",
        "# Defining initial state of the system\n",
        "s0 = np.array([-np.pi/2, -np.pi/2, 0, 0])\n",
        "traj = simulate(dyn, s0, [0,10], 0.01, integrate)\n",
        "# print(\"\\033[1mShape of trajectory: \\033[0m\", traj.shape)\n",
        "\n",
        "H_values = []\n",
        "\n",
        "def calculate_H(i):\n",
        "  H_expr = H[0]\n",
        "  current_H = H_expr.subs({m1:1, m2:1, R1:1, R2:1, g:9.8, f[0]:traj[0,i], f[1]:traj[1,i], f[2]:traj[2,i], f[3]:traj[3,i]})\n",
        "  H_values.append(current_H)\n",
        "\n",
        "for i in range(1000):\n",
        "  calculate_H(i)\n",
        "\n",
        "\n",
        "timespan = np.linspace(0,10,1000)\n",
        "fig,ax1 = plt.subplots(1,1)\n",
        "fig.suptitle(\"Plot of H v/s t\")\n",
        "ax1.plot(timespan, H_values, 'blue', label=\"Hamiltonian\")\n",
        "ax1.set_ylabel('H(q,qdot)')\n",
        "ax1.set_xlabel('time(s)')\n",
        "plt.legend()\n",
        "plt.show()"
      ],
      "execution_count": 46,
      "outputs": [
        {
          "output_type": "stream",
          "name": "stdout",
          "text": [
            "\n",
            "\u001b[1mEuler Lagrange equation for the system\n"
          ]
        },
        {
          "output_type": "display_data",
          "data": {
            "text/plain": [
              "<IPython.core.display.HTML object>"
            ],
            "text/html": [
              "<script src='https://cdnjs.cloudflare.com/ajax/libs/mathjax/3.1.1/latest.js?config=TeX-AMS_HTML'></script>"
            ]
          },
          "metadata": {}
        },
        {
          "output_type": "display_data",
          "data": {
            "text/plain": [
              "⎡              2                                                                                   ↪\n",
              "⎢        2    d                                                                                    ↪\n",
              "⎢- 1.0⋅R₁ ⋅m₁⋅───(\\theta₁(t)) - R₁⋅g⋅m₁⋅sin(\\theta₁(t)) + g⋅m₂⋅(-R₁⋅sin(\\theta₁(t)) - R₂⋅sin(\\thet ↪\n",
              "⎢               2                                                                                  ↪\n",
              "⎢             dt                                                                                   ↪\n",
              "⎢                                                                                                  ↪\n",
              "⎢                                                                                                  ↪\n",
              "⎢                                                                                              ⎛d  ↪\n",
              "⎢                                                                               - 1.0⋅R₁⋅R₂⋅m₂⋅⎜── ↪\n",
              "⎢                                                                                              ⎝dt ↪\n",
              "⎣                                                                                                  ↪\n",
              "\n",
              "↪                               ⎛       2                                                          ↪\n",
              "↪                               ⎜    2 d                         ⎛d                d             ⎞ ↪\n",
              "↪ a₁(t) + \\theta₂(t))) - 0.5⋅m₂⋅⎜2⋅R₁ ⋅───(\\theta₁(t)) - 2⋅R₁⋅R₂⋅⎜──(\\theta₁(t)) + ──(\\theta₂(t))⎟ ↪\n",
              "↪                               ⎜        2                       ⎝dt               dt            ⎠ ↪\n",
              "↪                               ⎝      dt                                                          ↪\n",
              "↪                                                                                                  ↪\n",
              "↪                                                                                                  ↪\n",
              "↪                d             ⎞                 d                                                 ↪\n",
              "↪ (\\theta₁(t)) + ──(\\theta₂(t))⎟⋅sin(\\theta₂(t))⋅──(\\theta₁(t)) - R₂⋅g⋅m₂⋅sin(\\theta₁(t) + \\theta₂ ↪\n",
              "↪                dt            ⎠                 dt                                                ↪\n",
              "↪                                                                                                  ↪\n",
              "\n",
              "↪                                           ⎛ 2                 2             ⎞                    ↪\n",
              "↪                  d                        ⎜d                 d              ⎟                    ↪\n",
              "↪ ⋅sin(\\theta₂(t))⋅──(\\theta₂(t)) + 2⋅R₁⋅R₂⋅⎜───(\\theta₁(t)) + ───(\\theta₂(t))⎟⋅cos(\\theta₂(t)) -  ↪\n",
              "↪                  dt                       ⎜  2                 2            ⎟                    ↪\n",
              "↪                                           ⎝dt                dt             ⎠                    ↪\n",
              "↪                                                                                                  ↪\n",
              "↪               ⎛                                                                                  ↪\n",
              "↪               ⎜                          d              d                                        ↪\n",
              "↪ (t)) - 0.5⋅m₂⋅⎜- 2⋅R₁⋅R₂⋅sin(\\theta₂(t))⋅──(\\theta₁(t))⋅──(\\theta₂(t)) + 2⋅R₁⋅R₂⋅cos(\\theta₂(t)) ↪\n",
              "↪               ⎜                          dt             dt                                       ↪\n",
              "↪               ⎝                                                                                  ↪\n",
              "\n",
              "↪                                                                                  2               ↪\n",
              "↪                         d              d                                        d                ↪\n",
              "↪ 2⋅R₁⋅R₂⋅sin(\\theta₂(t))⋅──(\\theta₁(t))⋅──(\\theta₂(t)) + 2⋅R₁⋅R₂⋅cos(\\theta₂(t))⋅───(\\theta₁(t))  ↪\n",
              "↪                         dt             dt                                         2              ↪\n",
              "↪                                                                                 dt               ↪\n",
              "↪                                                                                                  ↪\n",
              "↪   2                    ⎛   2                   2             ⎞⎞                                  ↪\n",
              "↪  d                   2 ⎜  d                   d              ⎟⎟                                  ↪\n",
              "↪ ⋅───(\\theta₁(t)) + R₂ ⋅⎜2⋅───(\\theta₁(t)) + 2⋅───(\\theta₂(t))⎟⎟                                  ↪\n",
              "↪    2                   ⎜    2                   2            ⎟⎟                                  ↪\n",
              "↪  dt                    ⎝  dt                  dt             ⎠⎠                                  ↪\n",
              "\n",
              "↪       ⎛   2                   2             ⎞⎞⎤\n",
              "↪     2 ⎜  d                   d              ⎟⎟⎥\n",
              "↪ + R₂ ⋅⎜2⋅───(\\theta₁(t)) + 2⋅───(\\theta₂(t))⎟⎟⎥\n",
              "↪       ⎜    2                   2            ⎟⎟⎥\n",
              "↪       ⎝  dt                  dt             ⎠⎠⎥\n",
              "↪                                               ⎥\n",
              "↪                                               ⎥\n",
              "↪                                               ⎥\n",
              "↪                                               ⎥\n",
              "↪                                               ⎥\n",
              "↪                                               ⎦"
            ],
            "text/latex": "$\\displaystyle \\left[\\begin{matrix}- 1.0 R_{1}^{2} m_{1} \\frac{d^{2}}{d t^{2}} \\theta_{1}{\\left(t \\right)} - R_{1} g m_{1} \\sin{\\left(\\theta_{1}{\\left(t \\right)} \\right)} + g m_{2} \\left(- R_{1} \\sin{\\left(\\theta_{1}{\\left(t \\right)} \\right)} - R_{2} \\sin{\\left(\\theta_{1}{\\left(t \\right)} + \\theta_{2}{\\left(t \\right)} \\right)}\\right) - 0.5 m_{2} \\left(2 R_{1}^{2} \\frac{d^{2}}{d t^{2}} \\theta_{1}{\\left(t \\right)} - 2 R_{1} R_{2} \\left(\\frac{d}{d t} \\theta_{1}{\\left(t \\right)} + \\frac{d}{d t} \\theta_{2}{\\left(t \\right)}\\right) \\sin{\\left(\\theta_{2}{\\left(t \\right)} \\right)} \\frac{d}{d t} \\theta_{2}{\\left(t \\right)} + 2 R_{1} R_{2} \\left(\\frac{d^{2}}{d t^{2}} \\theta_{1}{\\left(t \\right)} + \\frac{d^{2}}{d t^{2}} \\theta_{2}{\\left(t \\right)}\\right) \\cos{\\left(\\theta_{2}{\\left(t \\right)} \\right)} - 2 R_{1} R_{2} \\sin{\\left(\\theta_{2}{\\left(t \\right)} \\right)} \\frac{d}{d t} \\theta_{1}{\\left(t \\right)} \\frac{d}{d t} \\theta_{2}{\\left(t \\right)} + 2 R_{1} R_{2} \\cos{\\left(\\theta_{2}{\\left(t \\right)} \\right)} \\frac{d^{2}}{d t^{2}} \\theta_{1}{\\left(t \\right)} + R_{2}^{2} \\left(2 \\frac{d^{2}}{d t^{2}} \\theta_{1}{\\left(t \\right)} + 2 \\frac{d^{2}}{d t^{2}} \\theta_{2}{\\left(t \\right)}\\right)\\right)\\\\- 1.0 R_{1} R_{2} m_{2} \\left(\\frac{d}{d t} \\theta_{1}{\\left(t \\right)} + \\frac{d}{d t} \\theta_{2}{\\left(t \\right)}\\right) \\sin{\\left(\\theta_{2}{\\left(t \\right)} \\right)} \\frac{d}{d t} \\theta_{1}{\\left(t \\right)} - R_{2} g m_{2} \\sin{\\left(\\theta_{1}{\\left(t \\right)} + \\theta_{2}{\\left(t \\right)} \\right)} - 0.5 m_{2} \\left(- 2 R_{1} R_{2} \\sin{\\left(\\theta_{2}{\\left(t \\right)} \\right)} \\frac{d}{d t} \\theta_{1}{\\left(t \\right)} \\frac{d}{d t} \\theta_{2}{\\left(t \\right)} + 2 R_{1} R_{2} \\cos{\\left(\\theta_{2}{\\left(t \\right)} \\right)} \\frac{d^{2}}{d t^{2}} \\theta_{1}{\\left(t \\right)} + R_{2}^{2} \\left(2 \\frac{d^{2}}{d t^{2}} \\theta_{1}{\\left(t \\right)} + 2 \\frac{d^{2}}{d t^{2}} \\theta_{2}{\\left(t \\right)}\\right)\\right)\\end{matrix}\\right]$"
          },
          "metadata": {}
        },
        {
          "output_type": "display_data",
          "data": {
            "text/plain": [
              "<Figure size 640x480 with 1 Axes>"
            ],
            "image/png": "[encoded data removed]"
          },
          "metadata": {}
        }
      ]
    },
    {
      "cell_type": "markdown",
      "metadata": {
        "id": "RTgDT02eJfEG"
      },
      "source": [
        "## Problem 6 (15pts)\n",
        "\n",
        "In the previously provided code for simulation, the numerical integration is a forth-order Runge–Kutta integration. Now, write down your own numerical integration function using Euler's method, and use your numerical integration function to simulate the same double-pendulum system with same parameters and initial condition in Problem 4. Compute and plot the Hamiltonian from the simulated trajectory, what's the difference between two plots?\n",
        "\n",
        "> *Hint 1: You will need to implement a new ${\\tt integrate()}$ function. This function takes in three inputs: a function $f(x)$ representing the dynamics of the system state $x$ (you can consider it as $\\dot{x}=f(x)$), current state $x$ (for example $x(t)$ if $t$ is the current time step), and integration step length $dt$. This function should output $x(t+dt)$, for which the analytical solution is $x(t+dt) = x(t) + \\int_t^{t+dt} f(x(\\tau)) d\\tau$. Thus, you need to think about how to numerically evaluate this integration using Euler's method.*\n",
        ">\n",
        "> *Hint 2: The implemented function should have the same input-output structure as the previous one.*\n",
        ">\n",
        "> *Hint 3: After you implement the new integration function, you can use the same helper function ${\\tt simulate()}$ for simulation. You just need to input replace the integration function name as the new one (for example, your new function can be named as ${\\tt euler\\_integrate()}$). Please carefully read the comments in the ${\\tt simulate()}$ function. Below is the template/example of how to implement the new integration function and use it for simulation.*\n",
        "\n",
        "---\n",
        "**Turn in: Include you numerical integration function (you only need to include the code for your new integration function), and the resulting plot of Hamiltonian. Make sure you label the plot appropriately with axis labels, legend and a title.**"
      ]
    },
    {
      "cell_type": "code",
      "metadata": {
        "id": "HCu1wbaOJfEH"
      },
      "source": [
        "##########################################################################\n",
        "# Below is an example of how to implement a new integration\n",
        "# function and use it for simulation\n",
        "\n",
        "##########################################################################\n",
        "# This is the same \"simulate()\" function we provided\n",
        "# in previous homework.\n",
        "def simulate(f, x0, tspan, dt, integrate):\n",
        "    \"\"\"\n",
        "    This function takes in an initial condition x0, a timestep dt,\n",
        "    a time span tspan consisting of a list [min_time, max_time],\n",
        "    as well as a dynamical system f(x) that outputs a vector of the\n",
        "    same dimension as x0. It outputs a full trajectory simulated\n",
        "    over the time span of dimensions (xvec_size, time_vec_size).\n",
        "\n",
        "    Parameters\n",
        "    ============\n",
        "    f: Python function\n",
        "        derivate of the system at a given step x(t),\n",
        "        it can considered as \\dot{x}(t) = func(x(t))\n",
        "    x0: NumPy array\n",
        "        initial conditions\n",
        "    tspan: Python list\n",
        "        tspan = [min_time, max_time], it defines the start and end\n",
        "        time of simulation\n",
        "    dt:\n",
        "        time step for numerical integration\n",
        "    integrate: Python function\n",
        "        numerical integration method used in this simulation\n",
        "\n",
        "    Return\n",
        "    ============\n",
        "    x_traj:\n",
        "        simulated trajectory of x(t) from t=0 to tf\n",
        "    \"\"\"\n",
        "    N = int((max(tspan)-min(tspan))/dt)\n",
        "    x = np.copy(x0)\n",
        "    tvec = np.linspace(min(tspan),max(tspan),N)\n",
        "    xtraj = np.zeros((len(x0),N))\n",
        "    for i in range(N):\n",
        "        xtraj[:,i]=integrate(f,x,dt)\n",
        "        x = np.copy(xtraj[:,i])\n",
        "    return xtraj\n",
        "\n",
        "##########################################################################\n",
        "# This is the same \"integrate()\" function we provided in previous homework.\n",
        "def integrate(f, xt, dt):\n",
        "    \"\"\"\n",
        "    This function takes in an initial condition x(t) and a timestep dt,\n",
        "    as well as a dynamical system f(x) that outputs a vector of the\n",
        "    same dimension as x(t). It outputs a vector x(t+dt) at the future\n",
        "    time step.\n",
        "\n",
        "    Parameters\n",
        "    ============\n",
        "    dyn: Python function\n",
        "        derivate of the system at a given step x(t),\n",
        "        it can considered as \\dot{x}(t) = func(x(t))\n",
        "    xt: NumPy array\n",
        "        current step x(t)\n",
        "    dt:\n",
        "        step size for integration\n",
        "\n",
        "    Return\n",
        "    ============\n",
        "    new_xt:\n",
        "        value of x(t+dt) integrated from x(t)\n",
        "    \"\"\"\n",
        "    k1 = dt * f(xt)\n",
        "    k2 = dt * f(xt+k1/2.)\n",
        "    k3 = dt * f(xt+k2/2.)\n",
        "    k4 = dt * f(xt+k3)\n",
        "    new_xt = xt + (1/6.) * (k1+2.0*k2+2.0*k3+k4)\n",
        "    return new_xt\n",
        "\n",
        "##########################################################################\n",
        "# This is where you implement your new integration function for this\n",
        "# problem. Please make sure the new integration function has the same\n",
        "# input-output structure as the old one.\n",
        "def new_integrate(f, xt, dt):\n",
        "    \"\"\"\n",
        "    This function takes in an initial condition x(t) and a timestep dt,\n",
        "    as well as a dynamical system f(x) that outputs a vector of the\n",
        "    same dimension as x(t). It outputs a vector x(t+dt) at the future\n",
        "    time step.\n",
        "\n",
        "    Parameters\n",
        "    ============\n",
        "    dyn: Python function\n",
        "        derivate of the system at a given step x(t),\n",
        "        it can considered as \\dot{x}(t) = func(x(t))\n",
        "    xt: NumPy array\n",
        "        current step x(t)\n",
        "    dt:\n",
        "        step size for integration\n",
        "\n",
        "    Return\n",
        "    ============\n",
        "    new_xt:\n",
        "        value of x(t+dt) integrated from x(t)\n",
        "    \"\"\"\n",
        "    # you can start your implementation here\n",
        "    new_xt = xt + dt * f(xt)\n",
        "    return new_xt\n",
        "\n",
        "##########################################################################\n",
        "# In this example, we're going to simulate a particle falling in gravity,\n",
        "# and assume that we already have the equations of motion (which you have\n",
        "# to use Euler-Lagrange equations to solve for in the homework, but you\n",
        "# should have that in last homework)\n",
        "import numpy as np\n",
        "\n",
        "def xddot(x, xdot):\n",
        "    return -9.8\n",
        "\n",
        "def dyn(s):\n",
        "    return np.array([s[1], xddot(s[0], s[1])])\n",
        "\n",
        "# define initial condition\n",
        "s0 = np.array([10, 0])\n",
        "\n",
        "##########################################################################\n",
        "# We first use the old integration function to simulate the system, please\n",
        "# carefully read the comments inside the \"simulate()\" function\n",
        "traj1 = simulate(f=dyn, x0=s0, tspan=[0,10], dt=0.01, integrate=integrate)\n",
        "# note that, here I pass the function arguments explicitly using the so-called\n",
        "# *keyword arguments*. It's not necessary, as long as the order of the arguments\n",
        "# are correct, you don't have to explicitly write down the keyword names. When\n",
        "# calling the function explicitly through keyword arguments, we have \"integrate=integrate\",\n",
        "# the first \"integrate\" indicates the argument name (you can see it in function definition),\n",
        "# and the second \"integrate\" is the name of the provided integration function.\n",
        "# You can also call the function as: \"traj = simulate(dyn, s0, [0,10], 0.01, integrate)\",\n",
        "# where \"integrate\" indicates the provided integration function name.\n",
        "\n",
        "##########################################################################\n",
        "# Based on the code above, once you finished your own integration function,\n",
        "# which is named here as \"new_integrate\" (but you really can name it\n",
        "# as anything you like), you can simulate the trajectory as:\n",
        "traj2 = simulate(f=dyn, x0=s0, tspan=[0,10], dt=0.01, integrate=new_integrate)\n",
        "\n",
        "# figure, (axi, axm) = plt.subplots(2,1)\n",
        "# time = np.linspace(0,10,1000)\n",
        "# axi.plot(time, traj1[0,:])\n",
        "# axm.plot(time, traj2[0,:])\n",
        "# plt.show()\n",
        "\n",
        "# if you run this code now, of course if will not succeed, since you haven't implemented\n",
        "# \"new_integrate\" yet."
      ],
      "execution_count": 11,
      "outputs": []
    },
    {
      "cell_type": "code",
      "metadata": {
        "id": "Ui-Q2VJnJfEJ",
        "colab": {
          "base_uri": "https://localhost:8080/",
          "height": 515
        },
        "outputId": "120895a5-7477-4ed7-a484-d90cff333340"
      },
      "source": [
        "def ddot(q):\n",
        "  \"\"\"\n",
        "  Returns the ddot value of the system variables at given dot values\n",
        "  \"\"\"\n",
        "  th1_ddot = theta1_val(1,1,1,1,9.8,q[0],q[1],q[2],q[3])\n",
        "  th2_ddot = theta2_val(1,1,1,1,9.8,q[0],q[1],q[2],q[3])\n",
        "  return th1_ddot, th2_ddot\n",
        "def dyn(q):\n",
        "  \"\"\"\n",
        "  Return the derivative of the system state vector\n",
        "  Parameter:\n",
        "  f = [th1, th2, th1dot, th2dot]\n",
        "  Returns:\n",
        "  fdot = [th1dot, th2dot, th1ddot, th2ddot]\n",
        "  \"\"\"\n",
        "  return np.array([q[2],q[3], ddot(q)[0],ddot(q)[1]])\n",
        "\n",
        "\n",
        "# Extending the state vector of the system\n",
        "f = np.array([q[0],q[1],qdot[0],qdot[1]])\n",
        "# Defining initial state of the system\n",
        "s0 = np.array([-np.pi/2, -np.pi/2, 0, 0])\n",
        "traj = simulate(dyn, s0, [0,10], 0.01, new_integrate)\n",
        "print(\"\\033[1mShape of trajectory: \\033[0m\", traj.shape)\n",
        "\n",
        "H_values = []\n",
        "\n",
        "def calculate_H(i):\n",
        "  H_expr = H[0]\n",
        "  current_H = H_expr.subs({m1:1, m2:1, R1:1, R2:1, g:9.8, q[0]:traj[0,i], q[1]:traj[1,i], qdot[0]:traj[2,i], qdot[1]:traj[3,i]})\n",
        "  H_values.append(current_H)\n",
        "\n",
        "for i in range(1000):\n",
        "  calculate_H(i)\n",
        "\n",
        "\n",
        "timespan = np.linspace(0,10,1000)\n",
        "fig,ax1 = plt.subplots(1,1)\n",
        "fig.suptitle(\"Plot of H v/s t\")\n",
        "ax1.plot(timespan, H_values, 'blue', label=\"Hamiltonian\")\n",
        "ax1.set_ylabel('H(q,qdot)')\n",
        "ax1.set_xlabel('time(s)')\n",
        "plt.legend()\n",
        "plt.show()\n",
        "\n",
        "\n"
      ],
      "execution_count": 49,
      "outputs": [
        {
          "output_type": "stream",
          "name": "stdout",
          "text": [
            "\u001b[1mShape of trajectory: \u001b[0m (4, 1000)\n"
          ]
        },
        {
          "output_type": "display_data",
          "data": {
            "text/plain": [
              "<Figure size 640x480 with 1 Axes>"
            ],
            "image/png": "[encoded data removed]"
          },
          "metadata": {}
        }
      ]
    },
    {
      "cell_type": "markdown",
      "metadata": {
        "id": "nmDyQNQKJfEL"
      },
      "source": [
        "## Problem 7 (20pts)\n",
        "\n",
        "For the same double-pendulum you simulated in Problem 4 with same parameters and initial condition, now add a constraint to the system such that the distance between the second pendulum and the origin is fixed at $\\sqrt{2}$. Simulate the system with same parameters and initial condition, and animate the system with the same animate function provided in Homework 2.\n",
        "\n",
        "> *Hint 1: What do you think the equations of motion should look like? Think about how the system will behave after adding the constraint. With no double, you can solve this problem using $\\phi$ and all the following results for constrained Euler-Lagrange equations, however, if you really understand this constrained system, things might be much easier, and you can actually treat it as an unconstrained system.*\n",
        "\n",
        "---\n",
        "**Turn in: Include the code used to numerically evaluate, simulate and animate the system. Also, upload the video of animation separately through Canvas in \".mp4\" format. You can use screen capture or record the screen directly with your phone.**"
      ]
    },
    {
      "cell_type": "markdown",
      "source": [
        "Explanation:\n",
        "Since the distance has to be fixed at $\\sqrt{2}$ from the origin, this means that the system must either remain fully extended or both the masses should be orthogonal at the initial condition. This leads us to the assumption that the value of $\\theta_2$ should remain constant for the system, meaning the velocity and acceleration of $\\theta_2$ should remain zero. With this idea, we model the system as an unconstrained system."
      ],
      "metadata": {
        "id": "RXx7d69t1YeF"
      }
    },
    {
      "cell_type": "code",
      "metadata": {
        "id": "r9bFKXjQJfEL",
        "colab": {
          "base_uri": "https://localhost:8080/",
          "height": 290
        },
        "outputId": "91e51bb6-2367-4b8f-ffb7-caa33bb5d3aa"
      },
      "source": [
        "t, g, m1, m2, R1, R2 = sym.symbols(r't, g, m_1, m_2, R_1, R_2')\n",
        "th1 = sym.Function(r'\\theta_1')(t)\n",
        "th2 = sym.Function(r'\\theta_2')(t)\n",
        "q = sym.Matrix([th1, th2])\n",
        "qdot = q.diff(t)\n",
        "qddot = qdot.diff(t)\n",
        "\n",
        "# Kinetic energy of mass m1\n",
        "KE_m1 = 0.5*m1*R1**2*qdot[0]**2\n",
        "\n",
        "# Potential energy of mass m1\n",
        "PE_m1 = -1 * m1*g*R1*sym.cos(q[0])\n",
        "\n",
        "# Kinetic energy of mass m2\n",
        "KE_m2 = 0.5*4*m2*((R1+R2)*qdot[0])**2\n",
        "\n",
        "# Potential energy of mass m2\n",
        "PE_m2 = -1 * m2*g*((R1+R2)*sym.cos(q[0]))\n",
        "\n",
        "# Expression for Lagrangian of the system\n",
        "print(\"\\033[1mLagrangian of the system is given by: \")\n",
        "L_expr = KE_m1 + KE_m2 - (PE_m1 + PE_m2)\n",
        "display(L_expr)\n",
        "\n",
        "# storing the Lagrangian in a matrix\n",
        "J_mat = sym.Matrix([L_expr])\n",
        "\n",
        "# computing the derivative wrt q\n",
        "J_mat_q = J_mat.jacobian(q)\n",
        "\n",
        "# computing the derivative wrt qdot\n",
        "J_mat_qdot = J_mat.jacobian(qdot)\n",
        "\n",
        "# differentiating J_mat_qdot wrt t\n",
        "J_mat_qdot_t = J_mat_qdot.diff(t)\n",
        "\n",
        "# combining the terms of E-L equation\n",
        "print(\"\\n\\033[1mEuler Lagrange equation for the system\")\n",
        "EL_expr = J_mat_q - J_mat_qdot_t\n",
        "display(EL_expr.T)\n",
        "EL_expr[1] = qddot[1]\n",
        "\n",
        "# defining the rhs of the equation\n",
        "rhs = sym.Matrix([0, 0])\n",
        "# defining the equation\n",
        "EL_eqn = sym.Eq(EL_expr.T, rhs)\n",
        "soln = sym.solve(EL_eqn, qddot, dict= True)\n",
        "\n",
        "# printing the expressions for accelerations\n",
        "for sol in soln:\n",
        "  print(\"\\n\\033[1mAcceleration: \")\n",
        "  for v in qddot:\n",
        "    display(sym.Eq(v, sol[v]))\n",
        "\n",
        "# lambdifying and finding the expression\n",
        "theta1_val = sym.lambdify([m1, m2, R1, R2, g, th1, qdot[0]], sol[qddot[0]])\n",
        "\n",
        "def ddot(q):\n",
        "  \"\"\"\n",
        "  Returns the ddot value of the system variables at given dot values\n",
        "  \"\"\"\n",
        "  th1_ddot = theta1_val(1,1,1,1,9.8,q[0],q[1])\n",
        "  th2_ddot = 0.0\n",
        "  return th1_ddot, th2_ddot\n",
        "def dyn(q):\n",
        "  \"\"\"\n",
        "  Return the derivative of the system state vector\n",
        "  Parameter:\n",
        "  f = [th1,th2, th1dot, th2dot]\n",
        "  Returns:\n",
        "  fdot = [th1dot, th2dot, th1ddot, th2ddot]\n",
        "  \"\"\"\n",
        "  return np.array([q[2], q[3], ddot(q)[0],ddot(q)[1]])\n",
        "\n",
        "\n",
        "# Extending the state vector of the system\n",
        "f = np.array([q[0],q[1],qdot[0],qdot[1]])\n",
        "# Defining initial state of the system\n",
        "s0 = np.array([-np.pi/2, -np.pi/2, 0, 0])\n",
        "traj = simulate(dyn, s0, [0,10], 0.01, integrate)\n",
        "print(\"\\033[1mShape of trajectory: \\033[0m\", traj.shape)\n",
        "# timespan = np.linspace(0,10,1000)\n",
        "# fig,ax1 = plt.subplots(1,1)\n",
        "# fig.suptitle(\"Trajectory of th1\")\n",
        "# ax1.plot(timespan, traj[0,:], 'blue')\n",
        "# ax1.set_ylabel('th1(t)')\n",
        "# ax1.set_xlabel('time(s)')\n",
        "# plt.show()\n",
        "\n",
        "sim_traj = np.array([traj[0,:], traj[1,:]])\n",
        "# animate_double_pend(sim_traj,L1 = 1,L2 = 1,T = 5)"
      ],
      "execution_count": 53,
      "outputs": [
        {
          "output_type": "stream",
          "name": "stdout",
          "text": [
            "\u001b[1mLagrangian of the system is given by: \n"
          ]
        },
        {
          "output_type": "display_data",
          "data": {
            "text/plain": [
              "<IPython.core.display.HTML object>"
            ],
            "text/html": [
              "<script src='https://cdnjs.cloudflare.com/ajax/libs/mathjax/3.1.1/latest.js?config=TeX-AMS_HTML'></script>"
            ]
          },
          "metadata": {}
        },
        {
          "output_type": "display_data",
          "data": {
            "text/plain": [
              "                           2                                                                       ↪\n",
              "      2    ⎛d             ⎞                                                                        ↪\n",
              "0.5⋅R₁ ⋅m₁⋅⎜──(\\theta₁(t))⎟  + R₁⋅g⋅m₁⋅cos(\\theta₁(t)) + g⋅m₂⋅(R₁ + R₂)⋅cos(\\theta₁(t)) + 2.0⋅m₂⋅( ↪\n",
              "           ⎝dt            ⎠                                                                        ↪\n",
              "\n",
              "↪                           2\n",
              "↪         2 ⎛d             ⎞ \n",
              "↪ R₁ + R₂) ⋅⎜──(\\theta₁(t))⎟ \n",
              "↪           ⎝dt            ⎠ "
            ],
            "text/latex": "$\\displaystyle 0.5 R_{1}^{2} m_{1} \\left(\\frac{d}{d t} \\theta_{1}{\\left(t \\right)}\\right)^{2} + R_{1} g m_{1} \\cos{\\left(\\theta_{1}{\\left(t \\right)} \\right)} + g m_{2} \\left(R_{1} + R_{2}\\right) \\cos{\\left(\\theta_{1}{\\left(t \\right)} \\right)} + 2.0 m_{2} \\left(R_{1} + R_{2}\\right)^{2} \\left(\\frac{d}{d t} \\theta_{1}{\\left(t \\right)}\\right)^{2}$"
          },
          "metadata": {}
        },
        {
          "output_type": "stream",
          "name": "stdout",
          "text": [
            "\n",
            "\u001b[1mEuler Lagrange equation for the system\n"
          ]
        },
        {
          "output_type": "display_data",
          "data": {
            "text/plain": [
              "<IPython.core.display.HTML object>"
            ],
            "text/html": [
              "<script src='https://cdnjs.cloudflare.com/ajax/libs/mathjax/3.1.1/latest.js?config=TeX-AMS_HTML'></script>"
            ]
          },
          "metadata": {}
        },
        {
          "output_type": "display_data",
          "data": {
            "text/plain": [
              "⎡              2                                                                                   ↪\n",
              "⎢        2    d                                                                                    ↪\n",
              "⎢- 1.0⋅R₁ ⋅m₁⋅───(\\theta₁(t)) - R₁⋅g⋅m₁⋅sin(\\theta₁(t)) - g⋅m₂⋅(R₁ + R₂)⋅sin(\\theta₁(t)) - 4.0⋅m₂⋅ ↪\n",
              "⎢               2                                                                                  ↪\n",
              "⎢             dt                                                                                   ↪\n",
              "⎢                                                                                                  ↪\n",
              "⎣                                                             0                                    ↪\n",
              "\n",
              "↪             2             ⎤\n",
              "↪          2 d              ⎥\n",
              "↪ (R₁ + R₂) ⋅───(\\theta₁(t))⎥\n",
              "↪              2            ⎥\n",
              "↪            dt             ⎥\n",
              "↪                           ⎥\n",
              "↪                           ⎦"
            ],
            "text/latex": "$\\displaystyle \\left[\\begin{matrix}- 1.0 R_{1}^{2} m_{1} \\frac{d^{2}}{d t^{2}} \\theta_{1}{\\left(t \\right)} - R_{1} g m_{1} \\sin{\\left(\\theta_{1}{\\left(t \\right)} \\right)} - g m_{2} \\left(R_{1} + R_{2}\\right) \\sin{\\left(\\theta_{1}{\\left(t \\right)} \\right)} - 4.0 m_{2} \\left(R_{1} + R_{2}\\right)^{2} \\frac{d^{2}}{d t^{2}} \\theta_{1}{\\left(t \\right)}\\\\0\\end{matrix}\\right]$"
          },
          "metadata": {}
        },
        {
          "output_type": "stream",
          "name": "stdout",
          "text": [
            "\n",
            "\u001b[1mAcceleration: \n"
          ]
        },
        {
          "output_type": "display_data",
          "data": {
            "text/plain": [
              "<IPython.core.display.HTML object>"
            ],
            "text/html": [
              "<script src='https://cdnjs.cloudflare.com/ajax/libs/mathjax/3.1.1/latest.js?config=TeX-AMS_HTML'></script>"
            ]
          },
          "metadata": {}
        },
        {
          "output_type": "display_data",
          "data": {
            "text/plain": [
              " 2                                                                                            \n",
              "d                 -R₁⋅g⋅m₁⋅sin(\\theta₁(t)) - R₁⋅g⋅m₂⋅sin(\\theta₁(t)) - R₂⋅g⋅m₂⋅sin(\\theta₁(t))\n",
              "───(\\theta₁(t)) = ────────────────────────────────────────────────────────────────────────────\n",
              "  2                               2            2                           2                  \n",
              "dt                              R₁ ⋅m₁ + 4.0⋅R₁ ⋅m₂ + 8.0⋅R₁⋅R₂⋅m₂ + 4.0⋅R₂ ⋅m₂               "
            ],
            "text/latex": "$\\displaystyle \\frac{d^{2}}{d t^{2}} \\theta_{1}{\\left(t \\right)} = \\frac{- R_{1} g m_{1} \\sin{\\left(\\theta_{1}{\\left(t \\right)} \\right)} - R_{1} g m_{2} \\sin{\\left(\\theta_{1}{\\left(t \\right)} \\right)} - R_{2} g m_{2} \\sin{\\left(\\theta_{1}{\\left(t \\right)} \\right)}}{R_{1}^{2} m_{1} + 4.0 R_{1}^{2} m_{2} + 8.0 R_{1} R_{2} m_{2} + 4.0 R_{2}^{2} m_{2}}$"
          },
          "metadata": {}
        },
        {
          "output_type": "display_data",
          "data": {
            "text/plain": [
              "<IPython.core.display.HTML object>"
            ],
            "text/html": [
              "<script src='https://cdnjs.cloudflare.com/ajax/libs/mathjax/3.1.1/latest.js?config=TeX-AMS_HTML'></script>"
            ]
          },
          "metadata": {}
        },
        {
          "output_type": "display_data",
          "data": {
            "text/plain": [
              " 2                   \n",
              "d                    \n",
              "───(\\theta₂(t)) = 0.0\n",
              "  2                  \n",
              "dt                   "
            ],
            "text/latex": "$\\displaystyle \\frac{d^{2}}{d t^{2}} \\theta_{2}{\\left(t \\right)} = 0.0$"
          },
          "metadata": {}
        },
        {
          "output_type": "stream",
          "name": "stdout",
          "text": [
            "\u001b[1mShape of trajectory: \u001b[0m (4, 1000)\n"
          ]
        }
      ]
    },
    {
      "cell_type": "markdown",
      "metadata": {
        "id": "Jvm71AhKJfEP"
      },
      "source": [
        "## Problem 8 (5pts)\n",
        "\n",
        "For the same system with same constraint in Problem 6, simulate the system with initial condition $\\theta_1=\\theta_2=-\\frac{\\pi}{4}$, which actually violates the constraint! Simulate the system and see what happen, what do you think is the actual influence after adding this constraint?\n",
        "\n",
        "---\n",
        "**Turn in: Your thoughts about the actual effect of the constraint in this system. Note that you don't need to include any code for this problem.**"
      ]
    },
    {
      "cell_type": "markdown",
      "source": [
        "Explanation: The actual influence of this constraint is restricting any change in the value, meaning the value of $\\theta_2$ is a constant. This means that the derivative of $\\theta_2$ is zero. So, there is no deviation from the initial condition, for the second pendulum. In Problem 7, it remains at $-\\pi/2$ relative to pendulum 1 and in Problem 8, it remains at $-\\pi/4$ relative to pendulum 2 during the entire simulation."
      ],
      "metadata": {
        "id": "kB9wEzhsg740"
      }
    },
    {
      "cell_type": "code",
      "metadata": {
        "id": "OHz3npTUJfEP",
        "colab": {
          "base_uri": "https://localhost:8080/"
        },
        "outputId": "e5626ba6-eb26-4b94-d0d1-61000c9e347e"
      },
      "source": [
        "# Extending the state vector of the system\n",
        "f = np.array([q[0],q[1],qdot[0],qdot[1]])\n",
        "# Defining initial state of the system\n",
        "s0 = np.array([-np.pi/4, -np.pi/4, 0, 0])\n",
        "traj = simulate(dyn, s0, [0,10], 0.01, integrate)\n",
        "print(\"\\033[1mShape of trajectory: \\033[0m\", traj.shape)\n",
        "\n",
        "sim_traj = np.array([traj[0,:], traj[1,:]])\n",
        "# animate_double_pend(sim_traj,L1 = 1,L2 = 1,T = 5)"
      ],
      "execution_count": 54,
      "outputs": [
        {
          "output_type": "stream",
          "name": "stdout",
          "text": [
            "\u001b[1mShape of trajectory: \u001b[0m (4, 1000)\n"
          ]
        }
      ]
    },
    {
      "cell_type": "code",
      "source": [],
      "metadata": {
        "id": "jyhwsANQiUwR"
      },
      "execution_count": null,
      "outputs": []
    }
  ]
}