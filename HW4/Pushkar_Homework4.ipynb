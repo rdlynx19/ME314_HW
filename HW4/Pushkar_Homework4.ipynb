{
  "nbformat": 4,
  "nbformat_minor": 0,
  "metadata": {
    "kernelspec": {
      "display_name": "Python 3",
      "language": "python",
      "name": "python3"
    },
    "language_info": {
      "codemirror_mode": {
        "name": "ipython",
        "version": 3
      },
      "file_extension": ".py",
      "mimetype": "text/x-python",
      "name": "python",
      "nbconvert_exporter": "python",
      "pygments_lexer": "ipython3",
      "version": "3.8.5"
    },
    "colab": {
      "provenance": []
    }
  },
  "cells": [
    {
      "cell_type": "markdown",
      "metadata": {
        "id": "ZbNFBIg4X-5L"
      },
      "source": [
        "# ME314 Homework 4\n",
        "\n",
        "###Submission instructions\n",
        "\n",
        "Deliverables that should be included with your submission are shown in **bold** at the end of each problem statement and the corresponding supplemental material. **Your homework will be graded IFF you submit a single PDF, .mp4 videos of animations when requested and a link to a Google colab file that meet all the requirements outlined below.**\n",
        "\n",
        "- List the names of students you've collaborated with on this homework assignment.\n",
        "- Include all of your code (and handwritten solutions when applicable) used to complete the problems.\n",
        "- Highlight your answers (i.e. **bold** and outline the answers) for handwritten or markdown questions and include simplified code outputs (e.g. .simplify()) for python questions.\n",
        "\n",
        "- Enable Google Colab permission for viewing\n",
        " * Click Share in the upper right corner\n",
        " * Under \"Get Link\" click \"Share with...\" or \"Change\"\n",
        " * Then make sure it says \"Anyone with Link\" and \"Editor\" under the dropdown menu\n",
        "- Make sure all cells are run before submitting (i.e. check the permission by running your code in a private mode)\n",
        " * Please don't make changes to your file after submitting, so we can grade it!\n",
        "- Submit a link to your Google Colab file that has been run (before the submission deadline) and don't edit it afterwards!\n",
        "\n",
        "**NOTE:** This Juputer Notebook file serves as a template for you to start homework. Make sure you first copy this template to your own Google driver (click \"File\" -> \"Save a copy in Drive\"), and then start to edit it."
      ]
    },
    {
      "cell_type": "markdown",
      "source": [
        "Collaborators: Ben Benyamin, Grayson Snyder, Joe Blom, Aditya Nair, Sharwin Patil"
      ],
      "metadata": {
        "id": "928qZYOI8H5L"
      }
    },
    {
      "cell_type": "code",
      "metadata": {
        "id": "02LAJm4yX-5M"
      },
      "source": [
        "##############################################################################################\n",
        "# If you're using Google Colab, uncomment this section by selecting the whole section and press\n",
        "# ctrl+'/' on your and keyboard. Run it before you start programming, this will enable the nice\n",
        "# LaTeX \"display()\" function for you. If you're using the local Jupyter environment, leave it alone\n",
        "##############################################################################################\n",
        "import sympy as sym\n",
        "import numpy as np\n",
        "import matplotlib.pyplot as plt\n",
        "\n",
        "def custom_latex_printer(exp,**options):\n",
        "    from google.colab.output._publish import javascript\n",
        "    url = \"https://cdnjs.cloudflare.com/ajax/libs/mathjax/3.1.1/latest.js?config=TeX-AMS_HTML\"\n",
        "    javascript(url=url)\n",
        "    return sym.printing.latex(exp,**options)\n",
        "sym.init_printing(use_latex=\"mathjax\",latex_printer=custom_latex_printer)"
      ],
      "execution_count": 57,
      "outputs": []
    },
    {
      "cell_type": "code",
      "metadata": {
        "id": "U801_ey8X-5Q",
        "colab": {
          "base_uri": "https://localhost:8080/",
          "height": 527
        },
        "outputId": "a2bc7a8e-2be0-4bb5-9261-fbc248a73969"
      },
      "source": [
        "from IPython.core.display import HTML\n",
        "display(HTML(\"<table><tr><td><img src='https://github.com/MuchenSun/ME314pngs/raw/master/dynhoop2.png' width=528.4' height='500'></table>\"))"
      ],
      "execution_count": 58,
      "outputs": [
        {
          "output_type": "display_data",
          "data": {
            "text/plain": [
              "<IPython.core.display.HTML object>"
            ],
            "text/html": [
              "<table><tr><td><img src='https://github.com/MuchenSun/ME314pngs/raw/master/dynhoop2.png' width=528.4' height='500'></table>"
            ]
          },
          "metadata": {}
        }
      ]
    },
    {
      "cell_type": "markdown",
      "metadata": {
        "id": "9HdgLGSjX-5T"
      },
      "source": [
        "## Problem 1 (20pts)\n",
        "\n",
        "Take the bead on a hoop example shown in the image above, model it using a torque input $\\tau$ (about the vertical $z$ axis) instead of a velocity input $\\omega$. You will need to add a configuration variable $\\psi$ that is the rotation about the $z$ axis, so that the system configuration vector is $q=[\\theta,\\psi]$. Use Python's SymPy package to compute the equations of motion for this system in terms of $\\theta, \\psi$.\n",
        "\n",
        "*Hint 1: Note that this should be a Lagrangian system with an external force.*\n",
        "\n",
        "**Turn in: A copy of code used to symbolically solve for the equations of motion, also include the code outputs, which should be the equations of motion.**"
      ]
    },
    {
      "cell_type": "code",
      "metadata": {
        "id": "pTFU_ptqX-5T",
        "colab": {
          "base_uri": "https://localhost:8080/",
          "height": 185
        },
        "outputId": "6d73f11a-4df0-41bd-8750-1c454ebbc2d7"
      },
      "source": [
        "# Declaring useful symbols\n",
        "t, R, m, g, phi, tau = sym.symbols(r't, R, m, g, \\phi, \\tau')\n",
        "th = sym.Function(r'\\theta')(t)\n",
        "psi = sym.Function(r'\\psi')(t)\n",
        "q = sym.Matrix([th, psi])\n",
        "qdot = q.diff(t)\n",
        "qddot = qdot.diff(t)\n",
        "\n",
        "# Velocities of the bead\n",
        "v1 = R*qdot[0]\n",
        "v2 = R*sym.sin(q[0])*qdot[1]\n",
        "\n",
        "# Kinetic energy of the bead\n",
        "KE = 0.5*m*v1**2 + 0.5*m*v2**2\n",
        "\n",
        "# Potential energy of the bead\n",
        "PE = m*g*R*(1 - sym.cos(q[0]))\n",
        "\n",
        "# Lagrangian of the system\n",
        "L = KE - PE\n",
        "display(L)\n",
        "\n",
        "L_mat = sym.Matrix([L])\n",
        "# first term of EL equation\n",
        "dLdq = L_mat.jacobian(q)\n",
        "# second term of EL equation\n",
        "dLdqdot = L_mat.jacobian(qdot)\n",
        "dLdqdotdot = dLdqdot.diff(t)\n",
        "\n",
        "# E-L expression for the system\n",
        "E_L = dLdq - dLdqdotdot\n",
        "\n",
        "# modelling the external force in terms of tau\n",
        "F_ext = sym.Matrix([0,tau])\n",
        "\n",
        "# lambdifying the EL eqn\n",
        "EL_eqn = sym.Eq(E_L.T, F_ext)\n",
        "\n",
        "soln = sym.solve(EL_eqn, qddot, dict= True)\n",
        "# printing the expressions for accelerations\n",
        "for sol in soln:\n",
        "  print(\"\\n\\033[1mAccelerations: \")\n",
        "  for v in qddot:\n",
        "    display(sym.Eq(v, sol[v]))\n"
      ],
      "execution_count": 59,
      "outputs": [
        {
          "output_type": "display_data",
          "data": {
            "text/plain": [
              "<IPython.core.display.HTML object>"
            ],
            "text/html": [
              "<script src='https://cdnjs.cloudflare.com/ajax/libs/mathjax/3.1.1/latest.js?config=TeX-AMS_HTML'></script>"
            ]
          },
          "metadata": {}
        },
        {
          "output_type": "display_data",
          "data": {
            "text/plain": [
              "                                      2                           2                             \n",
              "     2      2            ⎛d          ⎞         2   ⎛d            ⎞                              \n",
              "0.5⋅R ⋅m⋅sin (\\theta(t))⋅⎜──(\\psi(t))⎟  + 0.5⋅R ⋅m⋅⎜──(\\theta(t))⎟  - R⋅g⋅m⋅(1 - cos(\\theta(t)))\n",
              "                         ⎝dt         ⎠             ⎝dt           ⎠                              "
            ],
            "text/latex": "$\\displaystyle 0.5 R^{2} m \\sin^{2}{\\left(\\theta{\\left(t \\right)} \\right)} \\left(\\frac{d}{d t} \\psi{\\left(t \\right)}\\right)^{2} + 0.5 R^{2} m \\left(\\frac{d}{d t} \\theta{\\left(t \\right)}\\right)^{2} - R g m \\left(1 - \\cos{\\left(\\theta{\\left(t \\right)} \\right)}\\right)$"
          },
          "metadata": {}
        },
        {
          "output_type": "stream",
          "name": "stdout",
          "text": [
            "\n",
            "\u001b[1mAccelerations: \n"
          ]
        },
        {
          "output_type": "display_data",
          "data": {
            "text/plain": [
              "<IPython.core.display.HTML object>"
            ],
            "text/html": [
              "<script src='https://cdnjs.cloudflare.com/ajax/libs/mathjax/3.1.1/latest.js?config=TeX-AMS_HTML'></script>"
            ]
          },
          "metadata": {}
        },
        {
          "output_type": "display_data",
          "data": {
            "text/plain": [
              " 2                                                          2                   \n",
              "d                                              ⎛d          ⎞    g⋅sin(\\theta(t))\n",
              "───(\\theta(t)) = sin(\\theta(t))⋅cos(\\theta(t))⋅⎜──(\\psi(t))⎟  - ────────────────\n",
              "  2                                            ⎝dt         ⎠           R        \n",
              "dt                                                                              "
            ],
            "text/latex": "$\\displaystyle \\frac{d^{2}}{d t^{2}} \\theta{\\left(t \\right)} = \\sin{\\left(\\theta{\\left(t \\right)} \\right)} \\cos{\\left(\\theta{\\left(t \\right)} \\right)} \\left(\\frac{d}{d t} \\psi{\\left(t \\right)}\\right)^{2} - \\frac{g \\sin{\\left(\\theta{\\left(t \\right)} \\right)}}{R}$"
          },
          "metadata": {}
        },
        {
          "output_type": "display_data",
          "data": {
            "text/plain": [
              "<IPython.core.display.HTML object>"
            ],
            "text/html": [
              "<script src='https://cdnjs.cloudflare.com/ajax/libs/mathjax/3.1.1/latest.js?config=TeX-AMS_HTML'></script>"
            ]
          },
          "metadata": {}
        },
        {
          "output_type": "display_data",
          "data": {
            "text/plain": [
              "                                    d           d                                   \n",
              " 2               2.0⋅cos(\\theta(t))⋅──(\\psi(t))⋅──(\\theta(t))                       \n",
              "d                                   dt          dt                      \\tau        \n",
              "───(\\psi(t)) = - ──────────────────────────────────────────── - ────────────────────\n",
              "  2                             sin(\\theta(t))                   2      2           \n",
              "dt                                                              R ⋅m⋅sin (\\theta(t))"
            ],
            "text/latex": "$\\displaystyle \\frac{d^{2}}{d t^{2}} \\psi{\\left(t \\right)} = - \\frac{2.0 \\cos{\\left(\\theta{\\left(t \\right)} \\right)} \\frac{d}{d t} \\psi{\\left(t \\right)} \\frac{d}{d t} \\theta{\\left(t \\right)}}{\\sin{\\left(\\theta{\\left(t \\right)} \\right)}} - \\frac{\\tau}{R^{2} m \\sin^{2}{\\left(\\theta{\\left(t \\right)} \\right)}}$"
          },
          "metadata": {}
        }
      ]
    },
    {
      "cell_type": "markdown",
      "metadata": {
        "id": "NNhwnlfrX-5V"
      },
      "source": [
        "## Problem 2 (30pts)\n",
        "\n",
        "Consider a point mass in 3D space under the forces of gravity and a radial spring from the origin. The system's Lagrangian is:\n",
        "$$\n",
        "L=\\frac{1}{2} m (\\dot{x}^2+\\dot{y}^2+\\dot{z}^2)- \\frac{1}{2} k (x^2+y^2+z^2)-mgz\n",
        "$$\n",
        "Consider the following rotation matrices, defining rotations about the $z$, $y$, and $x$ axes respectively:\n",
        "$$\n",
        "R_\\theta =\\begin{bmatrix}\\cos \\theta & -\\sin \\theta & 0 \\\\ \\sin \\theta &\n",
        "    \\cos \\theta& 0 \\\\ 0 & 0 & 1\\end{bmatrix},\n",
        "    \\ \\\n",
        "R_\\psi = \\begin{bmatrix}\\cos \\psi & 0 & \\sin \\psi \\\\ 0 & 1 & 0 \\\\\n",
        "    -\\sin \\psi & 0 & \\cos \\psi \\end{bmatrix}, \\ \\\n",
        "R_\\phi = \\begin{bmatrix} 1 & 0 & 0 \\\\ 0 & \\cos \\phi & -\\sin \\phi \\\\\n",
        "    0 & \\sin \\phi & \\cos \\phi \\end{bmatrix}\n",
        "$$\n",
        "\n",
        "and answer the following three questions:\n",
        "\n",
        "1. Which, if any, of the transformations $q_{\\theta}=R_{\\theta}q$, $q_{\\psi}=R_{\\psi}q$, or $q_{\\phi}=R_{\\phi}q$ keeps the Lagrangian fixed (invariant)? Is this invariance global or local?\n",
        "\n",
        "2. Use small angle approximations to linearize your transformation(s) from the first question. The resulting new transformation(s) should have the form $q_{\\epsilon}=q+\\epsilon G(q)$. Compute the difference in the Lagrangian $L(q_\\epsilon, \\dot{q}_\\epsilon) - L(q,\\dot{q})$ through this/these transformation(s).\n",
        "\n",
        "3. Apply Noether's theorem to determine a conserved quantity. What does this quantity represent physically?  Is there any rationale behind its conservation?\n",
        "\n",
        "You can solve this problem by hand or use Python's SymPy to do the symbolic computation for you.\n",
        "\n",
        "*Hint 1: For question (1), try to imagine how this system looks. Even though the $x$, $y$, and $z$ axes seem to have the same influence on the system, rotation around some axes will influence the Lagrangian more than others will.*\n",
        "\n",
        "*Hint 2: Global invariance here means for any magnitude of rotation the Lagrangian will remain fixed.*\n",
        "\n",
        "**Turn in: A scanned (or photograph from your phone or webcam) copy of your hand written solution. You can also use $\\LaTeX$. If you use SymPy, then you just need to include a copy of code and the code outputs, with notes that explain why the code outputs can answer the questions.**"
      ]
    },
    {
      "cell_type": "code",
      "source": [
        "# Declaring useful symbols\n",
        "t, m, k, g = sym.symbols('t, m, k, g')\n",
        "th, psi, phi = sym.symbols(r'\\theta, \\psi, \\phi')\n",
        "x = sym.Function('x')(t)\n",
        "y = sym.Function('y')(t)\n",
        "z = sym.Function('z')(t)\n",
        "q = sym.Matrix([x, y, z])\n",
        "qdot = q.diff(t)\n",
        "\n",
        "R_theta = sym.Matrix([[sym.cos(th), -sym.sin(th), 0],[sym.sin(th), sym.cos(th), 0],[0, 0, 1]])\n",
        "R_psi = sym.Matrix([[sym.cos(psi), 0, sym.sin(psi)],[0, 1, 0],[-sym.sin(psi),0, sym.cos(psi)]])\n",
        "R_phi = sym.Matrix([[1, 0, 0],[0, sym.cos(phi), -sym.sin(phi)],[0, sym.sin(phi), sym.cos(phi)]])\n",
        "\n",
        "# Defining new q after multiplying by the rotation matrices\n",
        "qth = R_theta * q\n",
        "qthdot = qth.diff(t)\n",
        "qpsi = R_psi * q\n",
        "qpsidot = qpsi.diff(t)\n",
        "qphi = R_phi * q\n",
        "qphidot = qphi.diff(t)\n",
        "# display(qth, qpsi, qphi)\n",
        "\n",
        "# Defining the Lagrangian of the system in terms of q\n",
        "L = 0.5*m*(qdot[0]**2 + qdot[1]**2 + qdot[2]**2) - 0.5*k*(q[0]**2 + q[1]**2 + q[2]**2) - m*g*q[2]\n",
        "# Defining the Lagrangian of the system in terms of qth\n",
        "L_th = sym.trigsimp(0.5*m*(qthdot[0]**2 + qthdot[1]**2 + qthdot[2]**2) - 0.5*k*(qth[0]**2 + qth[1]**2 + qth[2]**2) - m*g*qth[2])\n",
        "print(\"\\033[1mL in terms of qtheta: \")\n",
        "display(L_th)\n",
        "\n",
        "# Defining the Lagrangian of the system in terms of qpsi\n",
        "L_psi = sym.trigsimp(0.5*m*(qpsidot[0]**2 + qpsidot[1]**2 + qpsidot[2]**2) - 0.5*k*(qpsi[0]**2 + qpsi[1]**2 + qpsi[2]**2) - m*g*qpsi[2])\n",
        "print(\"\\033[1mL in terms of qpsi: \")\n",
        "display(L_psi)\n",
        "\n",
        "# Defining the Lagrangian of the system in terms of qphi\n",
        "L_phi = sym.trigsimp(0.5*m*(qphidot[0]**2 + qphidot[1]**2 + qphidot[2]**2) - 0.5*k*(qphi[0]**2 + qphi[1]**2 + qphi[2]**2) - m*g*qphi[2])\n",
        "print(\"\\033[1mL in terms of qphi: \")\n",
        "display(L_phi)\n"
      ],
      "metadata": {
        "colab": {
          "base_uri": "https://localhost:8080/",
          "height": 223
        },
        "id": "O37tjf-S8Nti",
        "outputId": "1e92f301-4d62-4203-9961-8aac2ff238a2"
      },
      "execution_count": 60,
      "outputs": [
        {
          "output_type": "stream",
          "name": "stdout",
          "text": [
            "\u001b[1mL in terms of qtheta: \n"
          ]
        },
        {
          "output_type": "display_data",
          "data": {
            "text/plain": [
              "<IPython.core.display.HTML object>"
            ],
            "text/html": [
              "<script src='https://cdnjs.cloudflare.com/ajax/libs/mathjax/3.1.1/latest.js?config=TeX-AMS_HTML'></script>"
            ]
          },
          "metadata": {}
        },
        {
          "output_type": "display_data",
          "data": {
            "text/plain": [
              "                                                  ⎛          2             2             2⎞\n",
              "                  ⎛ 2       2       2   ⎞         ⎜⎛d       ⎞    ⎛d       ⎞    ⎛d       ⎞ ⎟\n",
              "-g⋅m⋅z(t) - 0.5⋅k⋅⎝x (t) + y (t) + z (t)⎠ + 0.5⋅m⋅⎜⎜──(x(t))⎟  + ⎜──(y(t))⎟  + ⎜──(z(t))⎟ ⎟\n",
              "                                                  ⎝⎝dt      ⎠    ⎝dt      ⎠    ⎝dt      ⎠ ⎠"
            ],
            "text/latex": "$\\displaystyle - g m z{\\left(t \\right)} - 0.5 k \\left(x^{2}{\\left(t \\right)} + y^{2}{\\left(t \\right)} + z^{2}{\\left(t \\right)}\\right) + 0.5 m \\left(\\left(\\frac{d}{d t} x{\\left(t \\right)}\\right)^{2} + \\left(\\frac{d}{d t} y{\\left(t \\right)}\\right)^{2} + \\left(\\frac{d}{d t} z{\\left(t \\right)}\\right)^{2}\\right)$"
          },
          "metadata": {}
        },
        {
          "output_type": "stream",
          "name": "stdout",
          "text": [
            "\u001b[1mL in terms of qpsi: \n"
          ]
        },
        {
          "output_type": "display_data",
          "data": {
            "text/plain": [
              "<IPython.core.display.HTML object>"
            ],
            "text/html": [
              "<script src='https://cdnjs.cloudflare.com/ajax/libs/mathjax/3.1.1/latest.js?config=TeX-AMS_HTML'></script>"
            ]
          },
          "metadata": {}
        },
        {
          "output_type": "display_data",
          "data": {
            "text/plain": [
              "                                                                                ⎛          2       ↪\n",
              "                                                ⎛ 2       2       2   ⎞         ⎜⎛d       ⎞    ⎛d  ↪\n",
              "-g⋅m⋅(-x(t)⋅sin(\\psi) + z(t)⋅cos(\\psi)) - 0.5⋅k⋅⎝x (t) + y (t) + z (t)⎠ + 0.5⋅m⋅⎜⎜──(x(t))⎟  + ⎜── ↪\n",
              "                                                                                ⎝⎝dt      ⎠    ⎝dt ↪\n",
              "\n",
              "↪        2             2⎞\n",
              "↪       ⎞    ⎛d       ⎞ ⎟\n",
              "↪ (y(t))⎟  + ⎜──(z(t))⎟ ⎟\n",
              "↪       ⎠    ⎝dt      ⎠ ⎠"
            ],
            "text/latex": "$\\displaystyle - g m \\left(- x{\\left(t \\right)} \\sin{\\left(\\psi \\right)} + z{\\left(t \\right)} \\cos{\\left(\\psi \\right)}\\right) - 0.5 k \\left(x^{2}{\\left(t \\right)} + y^{2}{\\left(t \\right)} + z^{2}{\\left(t \\right)}\\right) + 0.5 m \\left(\\left(\\frac{d}{d t} x{\\left(t \\right)}\\right)^{2} + \\left(\\frac{d}{d t} y{\\left(t \\right)}\\right)^{2} + \\left(\\frac{d}{d t} z{\\left(t \\right)}\\right)^{2}\\right)$"
          },
          "metadata": {}
        },
        {
          "output_type": "stream",
          "name": "stdout",
          "text": [
            "\u001b[1mL in terms of qphi: \n"
          ]
        },
        {
          "output_type": "display_data",
          "data": {
            "text/plain": [
              "<IPython.core.display.HTML object>"
            ],
            "text/html": [
              "<script src='https://cdnjs.cloudflare.com/ajax/libs/mathjax/3.1.1/latest.js?config=TeX-AMS_HTML'></script>"
            ]
          },
          "metadata": {}
        },
        {
          "output_type": "display_data",
          "data": {
            "text/plain": [
              "                                                                               ⎛          2        ↪\n",
              "                                               ⎛ 2       2       2   ⎞         ⎜⎛d       ⎞    ⎛d   ↪\n",
              "-g⋅m⋅(y(t)⋅sin(\\phi) + z(t)⋅cos(\\phi)) - 0.5⋅k⋅⎝x (t) + y (t) + z (t)⎠ + 0.5⋅m⋅⎜⎜──(x(t))⎟  + ⎜──( ↪\n",
              "                                                                               ⎝⎝dt      ⎠    ⎝dt  ↪\n",
              "\n",
              "↪       2             2⎞\n",
              "↪      ⎞    ⎛d       ⎞ ⎟\n",
              "↪ y(t))⎟  + ⎜──(z(t))⎟ ⎟\n",
              "↪      ⎠    ⎝dt      ⎠ ⎠"
            ],
            "text/latex": "$\\displaystyle - g m \\left(y{\\left(t \\right)} \\sin{\\left(\\phi \\right)} + z{\\left(t \\right)} \\cos{\\left(\\phi \\right)}\\right) - 0.5 k \\left(x^{2}{\\left(t \\right)} + y^{2}{\\left(t \\right)} + z^{2}{\\left(t \\right)}\\right) + 0.5 m \\left(\\left(\\frac{d}{d t} x{\\left(t \\right)}\\right)^{2} + \\left(\\frac{d}{d t} y{\\left(t \\right)}\\right)^{2} + \\left(\\frac{d}{d t} z{\\left(t \\right)}\\right)^{2}\\right)$"
          },
          "metadata": {}
        }
      ]
    },
    {
      "cell_type": "markdown",
      "source": [
        "The transformation around the $z$ axis ($q_\\theta$ = $q$ *$R_\\theta$) keeps the Lagrangian invariant. This invariance seems to be global since it is independent of $\\theta$, and so even a large change in theta will not alter the Lagrangian."
      ],
      "metadata": {
        "id": "5sux3S7_Slt-"
      }
    },
    {
      "cell_type": "code",
      "source": [
        "def L_var(q):\n",
        "  qdot = q.diff(t)\n",
        "\n",
        "  # return (0.5*m*(qdot[0]**2 + qdot[1]**2 + qdot[2]**2) - 0.5*k*(q[0]**2 + q[1]**2 + q[2]**2) - m*g*q[2])\n",
        "  return 0.5*m*(qdot[0]**2 + qdot[1]**2 + qdot[2]**2) -0.5*k*(q[0]**2 + q[1]**2 +q[2]**2) -m*g*q[2]\n",
        "\n",
        "qtheps = q + th*(sym.Matrix([-y , x, 0]))\n",
        "qpsieps = q + psi*(sym.Matrix([z, 0, -x]))\n",
        "qphieps = q + phi*(sym.Matrix([0, -z, y]))\n",
        "\n",
        "# display(qtheps, qpsieps, qphieps)\n",
        "\n",
        "# Defining the Lagrangian in terms of qth\n",
        "L_th_eps = L_var(qtheps)\n",
        "# display(L_th_eps)\n",
        "# Defining the Lagrangian in terms of qpsi\n",
        "L_psi_eps = L_var(qpsieps)\n",
        "# display(L_psi)\n",
        "# Defining the Lagrangian in terms of qphi\n",
        "L_phi_eps = L_var(qphieps)\n",
        "# display(L_phi)\n",
        "\n",
        "# Calculating the difference between the Lagrangians\n",
        "change_th = L_th_eps - L\n",
        "print(\"\\033[1mChange in Lagrangian in terms of theta: \")\n",
        "display(sym.simplify(change_th))\n",
        "change_psi = L_psi_eps - L\n",
        "print(\"\\033[1mChange in Lagrangian in terms of psi: \")\n",
        "display(sym.simplify(change_psi))\n",
        "change_phi = L_phi_eps - L\n",
        "print(\"\\033[1mChange in Lagrangian in terms of phi: \")\n",
        "display(sym.simplify(change_phi))\n",
        "\n"
      ],
      "metadata": {
        "colab": {
          "base_uri": "https://localhost:8080/",
          "height": 223
        },
        "id": "ER_H8MTATNHY",
        "outputId": "19c3c2de-31cd-4fe1-c5a8-68a27c54349d"
      },
      "execution_count": 61,
      "outputs": [
        {
          "output_type": "stream",
          "name": "stdout",
          "text": [
            "\u001b[1mChange in Lagrangian in terms of theta: \n"
          ]
        },
        {
          "output_type": "display_data",
          "data": {
            "text/plain": [
              "<IPython.core.display.HTML object>"
            ],
            "text/html": [
              "<script src='https://cdnjs.cloudflare.com/ajax/libs/mathjax/3.1.1/latest.js?config=TeX-AMS_HTML'></script>"
            ]
          },
          "metadata": {}
        },
        {
          "output_type": "display_data",
          "data": {
            "text/plain": [
              "            ⎛                                  2               2⎞\n",
              "          2 ⎜     2         2        ⎛d       ⎞      ⎛d       ⎞ ⎟\n",
              "0.5⋅\\theta ⋅⎜- k⋅x (t) - k⋅y (t) + m⋅⎜──(x(t))⎟  + m⋅⎜──(y(t))⎟ ⎟\n",
              "            ⎝                        ⎝dt      ⎠      ⎝dt      ⎠ ⎠"
            ],
            "text/latex": "$\\displaystyle 0.5 \\theta^{2} \\left(- k x^{2}{\\left(t \\right)} - k y^{2}{\\left(t \\right)} + m \\left(\\frac{d}{d t} x{\\left(t \\right)}\\right)^{2} + m \\left(\\frac{d}{d t} y{\\left(t \\right)}\\right)^{2}\\right)$"
          },
          "metadata": {}
        },
        {
          "output_type": "stream",
          "name": "stdout",
          "text": [
            "\u001b[1mChange in Lagrangian in terms of psi: \n"
          ]
        },
        {
          "output_type": "display_data",
          "data": {
            "text/plain": [
              "<IPython.core.display.HTML object>"
            ],
            "text/html": [
              "<script src='https://cdnjs.cloudflare.com/ajax/libs/mathjax/3.1.1/latest.js?config=TeX-AMS_HTML'></script>"
            ]
          },
          "metadata": {}
        },
        {
          "output_type": "display_data",
          "data": {
            "text/plain": [
              "     ⎛                                                             2                        2      ↪\n",
              "     ⎜              2                  2                 ⎛d       ⎞               ⎛d       ⎞       ↪\n",
              "\\psi⋅⎜- 0.5⋅\\psi⋅k⋅x (t) - 0.5⋅\\psi⋅k⋅z (t) + 0.5⋅\\psi⋅m⋅⎜──(x(t))⎟  + 0.5⋅\\psi⋅m⋅⎜──(z(t))⎟  + 1. ↪\n",
              "     ⎝                                                   ⎝dt      ⎠               ⎝dt      ⎠       ↪\n",
              "\n",
              "↪           ⎞\n",
              "↪           ⎟\n",
              "↪ 0⋅g⋅m⋅x(t)⎟\n",
              "↪           ⎠"
            ],
            "text/latex": "$\\displaystyle \\psi \\left(- 0.5 \\psi k x^{2}{\\left(t \\right)} - 0.5 \\psi k z^{2}{\\left(t \\right)} + 0.5 \\psi m \\left(\\frac{d}{d t} x{\\left(t \\right)}\\right)^{2} + 0.5 \\psi m \\left(\\frac{d}{d t} z{\\left(t \\right)}\\right)^{2} + 1.0 g m x{\\left(t \\right)}\\right)$"
          },
          "metadata": {}
        },
        {
          "output_type": "stream",
          "name": "stdout",
          "text": [
            "\u001b[1mChange in Lagrangian in terms of phi: \n"
          ]
        },
        {
          "output_type": "display_data",
          "data": {
            "text/plain": [
              "<IPython.core.display.HTML object>"
            ],
            "text/html": [
              "<script src='https://cdnjs.cloudflare.com/ajax/libs/mathjax/3.1.1/latest.js?config=TeX-AMS_HTML'></script>"
            ]
          },
          "metadata": {}
        },
        {
          "output_type": "display_data",
          "data": {
            "text/plain": [
              "     ⎛                                                             2                        2      ↪\n",
              "     ⎜              2                  2                 ⎛d       ⎞               ⎛d       ⎞       ↪\n",
              "\\phi⋅⎜- 0.5⋅\\phi⋅k⋅y (t) - 0.5⋅\\phi⋅k⋅z (t) + 0.5⋅\\phi⋅m⋅⎜──(y(t))⎟  + 0.5⋅\\phi⋅m⋅⎜──(z(t))⎟  - 1. ↪\n",
              "     ⎝                                                   ⎝dt      ⎠               ⎝dt      ⎠       ↪\n",
              "\n",
              "↪           ⎞\n",
              "↪           ⎟\n",
              "↪ 0⋅g⋅m⋅y(t)⎟\n",
              "↪           ⎠"
            ],
            "text/latex": "$\\displaystyle \\phi \\left(- 0.5 \\phi k y^{2}{\\left(t \\right)} - 0.5 \\phi k z^{2}{\\left(t \\right)} + 0.5 \\phi m \\left(\\frac{d}{d t} y{\\left(t \\right)}\\right)^{2} + 0.5 \\phi m \\left(\\frac{d}{d t} z{\\left(t \\right)}\\right)^{2} - 1.0 g m y{\\left(t \\right)}\\right)$"
          },
          "metadata": {}
        }
      ]
    },
    {
      "cell_type": "code",
      "source": [
        "# From Noether's theorem, p = dL/dqdot*G(q)\n",
        "# Gq for the first transformation\n",
        "Gq = sym.Matrix([-y, x, 0])\n",
        "\n",
        "q = sym.Matrix([x, y, z])\n",
        "qdot = q.diff(t)\n",
        "\n",
        "# Defining the Lagrangian expression\n",
        "L = sym.Matrix([0.5*m*(qdot[0]**2 + qdot[1]**2 + qdot[2]**2) - 0.5*k*(q[0]**2 + q[1]**2 + q[2]**2) - m*g*q[2]])\n",
        "# Calculating dL/dq\n",
        "dLdqdot = L.jacobian(qdot)\n",
        "\n",
        "\n",
        "# Acc to Noether's theorem, the conserved quantity p is given by\n",
        "p = dLdqdot*Gq\n",
        "display(p)\n"
      ],
      "metadata": {
        "colab": {
          "base_uri": "https://localhost:8080/",
          "height": 39
        },
        "id": "4qn8hJ16Y4IR",
        "outputId": "4930b381-b960-4eca-bf99-088ccaf2003c"
      },
      "execution_count": 62,
      "outputs": [
        {
          "output_type": "display_data",
          "data": {
            "text/plain": [
              "<IPython.core.display.HTML object>"
            ],
            "text/html": [
              "<script src='https://cdnjs.cloudflare.com/ajax/libs/mathjax/3.1.1/latest.js?config=TeX-AMS_HTML'></script>"
            ]
          },
          "metadata": {}
        },
        {
          "output_type": "display_data",
          "data": {
            "text/plain": [
              "⎡           d                     d       ⎤\n",
              "⎢1.0⋅m⋅x(t)⋅──(y(t)) - 1.0⋅m⋅y(t)⋅──(x(t))⎥\n",
              "⎣           dt                    dt      ⎦"
            ],
            "text/latex": "$\\displaystyle \\left[\\begin{matrix}1.0 m x{\\left(t \\right)} \\frac{d}{d t} y{\\left(t \\right)} - 1.0 m y{\\left(t \\right)} \\frac{d}{d t} x{\\left(t \\right)}\\end{matrix}\\right]$"
          },
          "metadata": {}
        }
      ]
    },
    {
      "cell_type": "markdown",
      "source": [
        "The conserved quantity in this case is angular momentum. The first transformation is rotation about the z-axis, and as depicted by the results above, the Lagrangian remains unchanged. So the angular momentum in the x and y directions is conserved (as shown by the expression for the conserved quantity p)."
      ],
      "metadata": {
        "id": "mCQ8FjoAVTHp"
      }
    },
    {
      "cell_type": "code",
      "metadata": {
        "id": "Zx7Wpj9zX-5V",
        "colab": {
          "base_uri": "https://localhost:8080/",
          "height": 377
        },
        "outputId": "4f3096eb-f7b9-4f7d-9c6d-2fd66923e546"
      },
      "source": [
        "from IPython.core.display import HTML\n",
        "display(HTML(\"<table><tr><td><img src='https://github.com/atulletaylor/ME314Figures/raw/main/hw4problem3.png' width='600' height='350'></td></tr></table>\"))"
      ],
      "execution_count": 63,
      "outputs": [
        {
          "output_type": "display_data",
          "data": {
            "text/plain": [
              "<IPython.core.display.HTML object>"
            ],
            "text/html": [
              "<table><tr><td><img src='https://github.com/atulletaylor/ME314Figures/raw/main/hw4problem3.png' width='600' height='350'></td></tr></table>"
            ]
          },
          "metadata": {}
        }
      ]
    },
    {
      "cell_type": "markdown",
      "metadata": {
        "id": "GR2Vzm0pge8Z"
      },
      "source": [
        "## Problem 3 (20pts)\n",
        "\n",
        "For the inverted cart-pendulum system in Homework 1 (feel free to make use of the provided solutions), compute the conserved momentum using N&ouml;ther's theorem.  Plot the momentum for the same simulation parameters and initial conditions.  Taking into account the conserved quantities, what is the minimal number of *states* in the cart/pendulum system that can vary?  (Hint: In some coordinate systems it may *look* like all the states are varying, but if you choose your coordinates cleverly fewer states will vary.)\n",
        "\n",
        "**Turn in: A copy of code used to calculate the conserved quantity and your answer to the question. You don't need to turn in equations of motion, but you need to include the plot of the conserved quantity evaluated along the system trajectory.**"
      ]
    },
    {
      "cell_type": "code",
      "source": [
        "# define constants (as symbols)\n",
        "t, m, M, R, g = sym.symbols(r't, m, M, R, g')\n",
        "# define states and time derivatives\n",
        "x = sym.Function(r'x')(t)\n",
        "th = sym.Function(r'\\theta')(t)\n",
        "q = sym.Matrix([x, th])\n",
        "xdot = x.diff(t)\n",
        "thdot= th.diff(t)\n",
        "qdot = q.diff(t)\n",
        "xddot = xdot.diff(t)\n",
        "thddot = thdot.diff(t)\n",
        "qddot = qdot.diff(t)\n",
        "# compute pendulum's velocity in x and y direction\n",
        "# this is under the \"world frame\", from where we measure\n",
        "# the position of the cart as x(t)\n",
        "pen_xdot = xdot + R*thdot*sym.cos(th)\n",
        "pen_ydot = R*thdot*sym.sin(th)\n",
        "# compute Lagrangian\n",
        "ke = 0.5*M*xdot**2 + 0.5*m*(pen_xdot**2 + pen_ydot**2)\n",
        "pe = m*g*R*sym.cos(th)\n",
        "L = ke - pe\n",
        "print('Lagrangian: ')\n",
        "display(sym.simplify(L))\n",
        "\n",
        "\n",
        "# For the given system, G(q) is given by [1, 0]\n",
        "Gq = sym.Matrix([1, 0])\n",
        "# By Noether's theorem, p = dL/dqdot*Gq\n",
        "L_mat = sym.Matrix([L])\n",
        "dLdqdot = L_mat.jacobian(qdot)\n",
        "p = dLdqdot*Gq\n",
        "print(\"\\033[1mConserved quantity p: \")\n",
        "display(p)\n",
        "\n",
        "\n",
        "# storing the Lagrangian expression in a matrix for further computations\n",
        "\n",
        "J_mat = sym.Matrix([L])\n",
        "\n",
        "# calculating first term of E-L equation\n",
        "\n",
        "dJdq = J_mat.jacobian(q)\n",
        "\n",
        "# computing derivative for intermediate second term\n",
        "dJdq_dot = J_mat.jacobian(qdot)\n",
        "\n",
        "# differentiating dJdq_dot wrt t\n",
        "\n",
        "dJdq_dot_dot = dJdq_dot.diff(t)\n",
        "\n",
        "# Writing the expression for Euler-Lagrange equations\n",
        "print(\"\\n\\033[1mExpression for Euler-Lagrange equation: \")\n",
        "EL_expr = dJdq - dJdq_dot_dot\n",
        "display(EL_expr.T)\n",
        "\n",
        "# defining the rhs of the equation\n",
        "rhs = sym.Matrix([0, 0])\n",
        "# defining the equations\n",
        "EL_eqn = sym.Eq(EL_expr.T, rhs)\n",
        "\n",
        "soln = sym.solve(EL_eqn, qddot, dict=True)\n",
        "# printing the accelerations\n",
        "# for sol in soln:\n",
        "#   print('\\n\\033[1mAccelerations: ')\n",
        "#   for v in qddot:\n",
        "#     display(sym.simplify(sym.Eq(v, sol[v])))\n",
        "# lambdifying the expressions wrt the given variables\n",
        "x_val = sym.lambdify([x, M, m, th, thdot, R, g], soln[0][xddot])\n",
        "theta_val = sym.lambdify([M, m, th, thdot, R, g], soln[0][thddot])"
      ],
      "metadata": {
        "colab": {
          "base_uri": "https://localhost:8080/",
          "height": 242
        },
        "id": "K0MSd_kGj7tg",
        "outputId": "e3a59a19-6a34-4539-9f2b-1df5bf1d338f"
      },
      "execution_count": 64,
      "outputs": [
        {
          "output_type": "stream",
          "name": "stdout",
          "text": [
            "Lagrangian: \n"
          ]
        },
        {
          "output_type": "display_data",
          "data": {
            "text/plain": [
              "<IPython.core.display.HTML object>"
            ],
            "text/html": [
              "<script src='https://cdnjs.cloudflare.com/ajax/libs/mathjax/3.1.1/latest.js?config=TeX-AMS_HTML'></script>"
            ]
          },
          "metadata": {}
        },
        {
          "output_type": "display_data",
          "data": {
            "text/plain": [
              "                2                                ⎛                  2                              ↪\n",
              "      ⎛d       ⎞                                 ⎜ 2 ⎛d            ⎞                       d       ↪\n",
              "0.5⋅M⋅⎜──(x(t))⎟  - R⋅g⋅m⋅cos(\\theta(t)) + 0.5⋅m⋅⎜R ⋅⎜──(\\theta(t))⎟  + 2⋅R⋅cos(\\theta(t))⋅──(\\the ↪\n",
              "      ⎝dt      ⎠                                 ⎝   ⎝dt           ⎠                       dt      ↪\n",
              "\n",
              "↪                             2⎞\n",
              "↪        d          ⎛d       ⎞ ⎟\n",
              "↪ ta(t))⋅──(x(t)) + ⎜──(x(t))⎟ ⎟\n",
              "↪        dt         ⎝dt      ⎠ ⎠"
            ],
            "text/latex": "$\\displaystyle 0.5 M \\left(\\frac{d}{d t} x{\\left(t \\right)}\\right)^{2} - R g m \\cos{\\left(\\theta{\\left(t \\right)} \\right)} + 0.5 m \\left(R^{2} \\left(\\frac{d}{d t} \\theta{\\left(t \\right)}\\right)^{2} + 2 R \\cos{\\left(\\theta{\\left(t \\right)} \\right)} \\frac{d}{d t} \\theta{\\left(t \\right)} \\frac{d}{d t} x{\\left(t \\right)} + \\left(\\frac{d}{d t} x{\\left(t \\right)}\\right)^{2}\\right)$"
          },
          "metadata": {}
        },
        {
          "output_type": "stream",
          "name": "stdout",
          "text": [
            "\u001b[1mConserved quantity p: \n"
          ]
        },
        {
          "output_type": "display_data",
          "data": {
            "text/plain": [
              "<IPython.core.display.HTML object>"
            ],
            "text/html": [
              "<script src='https://cdnjs.cloudflare.com/ajax/libs/mathjax/3.1.1/latest.js?config=TeX-AMS_HTML'></script>"
            ]
          },
          "metadata": {}
        },
        {
          "output_type": "display_data",
          "data": {
            "text/plain": [
              "⎡      d                ⎛                   d                 d       ⎞⎤\n",
              "⎢1.0⋅M⋅──(x(t)) + 0.5⋅m⋅⎜2⋅R⋅cos(\\theta(t))⋅──(\\theta(t)) + 2⋅──(x(t))⎟⎥\n",
              "⎣      dt               ⎝                   dt                dt      ⎠⎦"
            ],
            "text/latex": "$\\displaystyle \\left[\\begin{matrix}1.0 M \\frac{d}{d t} x{\\left(t \\right)} + 0.5 m \\left(2 R \\cos{\\left(\\theta{\\left(t \\right)} \\right)} \\frac{d}{d t} \\theta{\\left(t \\right)} + 2 \\frac{d}{d t} x{\\left(t \\right)}\\right)\\end{matrix}\\right]$"
          },
          "metadata": {}
        },
        {
          "output_type": "stream",
          "name": "stdout",
          "text": [
            "\n",
            "\u001b[1mExpression for Euler-Lagrange equation: \n"
          ]
        },
        {
          "output_type": "display_data",
          "data": {
            "text/plain": [
              "<IPython.core.display.HTML object>"
            ],
            "text/html": [
              "<script src='https://cdnjs.cloudflare.com/ajax/libs/mathjax/3.1.1/latest.js?config=TeX-AMS_HTML'></script>"
            ]
          },
          "metadata": {}
        },
        {
          "output_type": "display_data",
          "data": {
            "text/plain": [
              "⎡                                                                                                  ↪\n",
              "⎢                                                                                                  ↪\n",
              "⎢                                                                                                  ↪\n",
              "⎢                                                                                                  ↪\n",
              "⎢                                                                                                  ↪\n",
              "⎢                                                                                                  ↪\n",
              "⎢                             ⎛                                                  2                 ↪\n",
              "⎢                             ⎜   2                               ⎛d            ⎞        ⎛         ↪\n",
              "⎢R⋅g⋅m⋅sin(\\theta(t)) + 0.5⋅m⋅⎜2⋅R ⋅sin(\\theta(t))⋅cos(\\theta(t))⋅⎜──(\\theta(t))⎟  - 2⋅R⋅⎜R⋅cos(\\t ↪\n",
              "⎢                             ⎝                                   ⎝dt           ⎠        ⎝         ↪\n",
              "⎣                                                                                                  ↪\n",
              "\n",
              "↪                                                                              2                ⎛  ↪\n",
              "↪                                                                             d                 ⎜  ↪\n",
              "↪                                                                     - 1.0⋅M⋅───(x(t)) - 0.5⋅m⋅⎜- ↪\n",
              "↪                                                                               2               ⎜  ↪\n",
              "↪                                                                             dt                ⎝  ↪\n",
              "↪                                                                                                  ↪\n",
              "↪                                                                ⎞         ⎛                       ↪\n",
              "↪          d               d       ⎞                d            ⎟         ⎜   2    2            d ↪\n",
              "↪ heta(t))⋅──(\\theta(t)) + ──(x(t))⎟⋅sin(\\theta(t))⋅──(\\theta(t))⎟ - 0.5⋅m⋅⎜2⋅R ⋅sin (\\theta(t))⋅─ ↪\n",
              "↪          dt              dt      ⎠                dt           ⎠         ⎜                       ↪\n",
              "↪                                                                          ⎝                     d ↪\n",
              "\n",
              "↪                                    2                       2                  2       ⎞          ↪\n",
              "↪                     ⎛d            ⎞                       d                  d        ⎟          ↪\n",
              "↪  2⋅R⋅sin(\\theta(t))⋅⎜──(\\theta(t))⎟  + 2⋅R⋅cos(\\theta(t))⋅───(\\theta(t)) + 2⋅───(x(t))⎟          ↪\n",
              "↪                     ⎝dt           ⎠                         2                  2      ⎟          ↪\n",
              "↪                                                           dt                 dt       ⎠          ↪\n",
              "↪                                                                                                  ↪\n",
              "↪ 2                                                                 2                              ↪\n",
              "↪                    2                               ⎛d            ⎞        ⎛                 d    ↪\n",
              "↪ ──(\\theta(t)) + 4⋅R ⋅sin(\\theta(t))⋅cos(\\theta(t))⋅⎜──(\\theta(t))⎟  - 2⋅R⋅⎜R⋅cos(\\theta(t))⋅──(\\ ↪\n",
              "↪  2                                                 ⎝dt           ⎠        ⎝                 dt   ↪\n",
              "↪ t                                                                                                ↪\n",
              "\n",
              "↪                                                                                                  ↪\n",
              "↪                                                                                                  ↪\n",
              "↪                                                                                                  ↪\n",
              "↪                                                                                                  ↪\n",
              "↪                                                                                                  ↪\n",
              "↪                                                                                                  ↪\n",
              "↪                                                          ⎛                                  2    ↪\n",
              "↪             d       ⎞                d                   ⎜                   ⎛d            ⎞     ↪\n",
              "↪ theta(t)) + ──(x(t))⎟⋅sin(\\theta(t))⋅──(\\theta(t)) + 2⋅R⋅⎜- R⋅sin(\\theta(t))⋅⎜──(\\theta(t))⎟  +  ↪\n",
              "↪             dt      ⎠                dt                  ⎜                   ⎝dt           ⎠     ↪\n",
              "↪                                                          ⎝                                       ↪\n",
              "\n",
              "↪                                                             ⎤\n",
              "↪                                                             ⎥\n",
              "↪                                                             ⎥\n",
              "↪                                                             ⎥\n",
              "↪                                                             ⎥\n",
              "↪                                                             ⎥\n",
              "↪                   2                2       ⎞               ⎞⎥\n",
              "↪                  d                d        ⎟               ⎟⎥\n",
              "↪ R⋅cos(\\theta(t))⋅───(\\theta(t)) + ───(x(t))⎟⋅cos(\\theta(t))⎟⎥\n",
              "↪                    2                2      ⎟               ⎟⎥\n",
              "↪                  dt               dt       ⎠               ⎠⎦"
            ],
            "text/latex": "$\\displaystyle \\left[\\begin{matrix}- 1.0 M \\frac{d^{2}}{d t^{2}} x{\\left(t \\right)} - 0.5 m \\left(- 2 R \\sin{\\left(\\theta{\\left(t \\right)} \\right)} \\left(\\frac{d}{d t} \\theta{\\left(t \\right)}\\right)^{2} + 2 R \\cos{\\left(\\theta{\\left(t \\right)} \\right)} \\frac{d^{2}}{d t^{2}} \\theta{\\left(t \\right)} + 2 \\frac{d^{2}}{d t^{2}} x{\\left(t \\right)}\\right)\\\\R g m \\sin{\\left(\\theta{\\left(t \\right)} \\right)} + 0.5 m \\left(2 R^{2} \\sin{\\left(\\theta{\\left(t \\right)} \\right)} \\cos{\\left(\\theta{\\left(t \\right)} \\right)} \\left(\\frac{d}{d t} \\theta{\\left(t \\right)}\\right)^{2} - 2 R \\left(R \\cos{\\left(\\theta{\\left(t \\right)} \\right)} \\frac{d}{d t} \\theta{\\left(t \\right)} + \\frac{d}{d t} x{\\left(t \\right)}\\right) \\sin{\\left(\\theta{\\left(t \\right)} \\right)} \\frac{d}{d t} \\theta{\\left(t \\right)}\\right) - 0.5 m \\left(2 R^{2} \\sin^{2}{\\left(\\theta{\\left(t \\right)} \\right)} \\frac{d^{2}}{d t^{2}} \\theta{\\left(t \\right)} + 4 R^{2} \\sin{\\left(\\theta{\\left(t \\right)} \\right)} \\cos{\\left(\\theta{\\left(t \\right)} \\right)} \\left(\\frac{d}{d t} \\theta{\\left(t \\right)}\\right)^{2} - 2 R \\left(R \\cos{\\left(\\theta{\\left(t \\right)} \\right)} \\frac{d}{d t} \\theta{\\left(t \\right)} + \\frac{d}{d t} x{\\left(t \\right)}\\right) \\sin{\\left(\\theta{\\left(t \\right)} \\right)} \\frac{d}{d t} \\theta{\\left(t \\right)} + 2 R \\left(- R \\sin{\\left(\\theta{\\left(t \\right)} \\right)} \\left(\\frac{d}{d t} \\theta{\\left(t \\right)}\\right)^{2} + R \\cos{\\left(\\theta{\\left(t \\right)} \\right)} \\frac{d^{2}}{d t^{2}} \\theta{\\left(t \\right)} + \\frac{d^{2}}{d t^{2}} x{\\left(t \\right)}\\right) \\cos{\\left(\\theta{\\left(t \\right)} \\right)}\\right)\\end{matrix}\\right]$"
          },
          "metadata": {}
        }
      ]
    },
    {
      "cell_type": "code",
      "source": [
        "def integrate(f, xt, dt):\n",
        "  \"\"\"\n",
        "  This function takes in an initial condition x(t) and a timestep dt,\n",
        "  as well as a dynamical system f(x) that outputs a vector of the\n",
        "  same dimension as x(t). It outputs a vector x(t+dt) at the future\n",
        "  time step.\n",
        "  Parameters\n",
        "  ============\n",
        "  dyn: Python function\n",
        "  derivate of the system at a given step x(t),\n",
        "  it can considered as \\dot{x}(t) = func(x(t))\n",
        "  xt: NumPy array\n",
        "  current step x(t)\n",
        "  dt:\n",
        "  step size for integration\n",
        "  Return\n",
        "  ============\n",
        "  new_xt:\n",
        "  value of x(t+dt) integrated from x(t)\n",
        "  \"\"\"\n",
        "  k1 = dt * f(xt)\n",
        "  k2 = dt * f(xt+k1/2.)\n",
        "  k3 = dt * f(xt+k2/2.)\n",
        "  k4 = dt * f(xt+k3)\n",
        "  new_xt = xt + (1/6.) * (k1+2.0*k2+2.0*k3+k4)\n",
        "  return new_xt\n",
        "def simulate(f, x0, tspan, dt, integrate):\n",
        "  \"\"\"\n",
        "  This function takes in an initial condition x0, a timestep dt,\n",
        "  a time span tspan consisting of a list [min_time, max_time],\n",
        "  as well as a dynamical system f(x) that outputs a vector of the\n",
        "  same dimension as x0. It outputs a full trajectory simulated\n",
        "  over the time span of dimensions (xvec_size, time_vec_size).\n",
        "  Parameters\n",
        "  ============\n",
        "  f: Python function\n",
        "  derivate of the system at a given step x(t),\n",
        "  it can considered as \\dot{x}(t) = func(x(t))\n",
        "  x0: NumPy array\n",
        "  initial conditions\n",
        "  tspan: Python list\n",
        "  tspan = [min_time, max_time], it defines the start and end\n",
        "  time of simulation\n",
        "  dt:\n",
        "  time step for numerical integration\n",
        "  integrate: Python function\n",
        "  numerical integration method used in this simulation\n",
        "  Return\n",
        "  ============\n",
        "  x_traj:\n",
        "  simulated trajectory of x(t) from t=0 to tf\n",
        "  \"\"\"\n",
        "  N = int((max(tspan)-min(tspan))/dt)\n",
        "  x = np.copy(x0)\n",
        "  tvec = np.linspace(min(tspan),max(tspan),N)\n",
        "  xtraj = np.zeros((len(x0),N))\n",
        "  for i in range(N):\n",
        "    xtraj[:,i]=integrate(f,x,dt)\n",
        "    x = np.copy(xtraj[:,i])\n",
        "  return xtraj\n",
        "\n",
        "# defining a function to get values of xddot and thetaddot\n",
        "def ddot(q):\n",
        "  xddot_val = x_val(q[0], 2, 1, q[1], q[3], 1, 9.8)\n",
        "  thetaddot_val = theta_val(2, 1, q[1], q[3], 1, 9.8)\n",
        "  return xddot_val, thetaddot_val\n",
        "# function to calculate the derivative of the system state vector\n",
        "def dyn(q):\n",
        "  \"\"\"\n",
        "  System dynamics function (extended)\n",
        "  Parameters\n",
        "  ============\n",
        "  s: NumPy array\n",
        "  s = [x, theta, xdot, thetadot] is the extended system\n",
        "  state vector, includng the position and\n",
        "  the velocity of the particle\n",
        "  Return\n",
        "  ============\n",
        "  sdot: NumPy array\n",
        "  time derivative of input state vector,\n",
        "  sdot = [xdot, thetadot, xddot, thetaddot]\n",
        "  \"\"\"\n",
        "  return np.array([q[2], q[3], ddot(q)[0], ddot(q)[1]])\n",
        "\n",
        "\n",
        "# time derivative of input state vector\n",
        "f = np.array([xdot, thdot, x_val, theta_val])\n",
        "# initial conditions of the system\n",
        "s0 = np.array([0, 0.1, 0, 0])\n",
        "# calling the simulate function to calculate the trajectory\n",
        "traj = simulate(dyn, s0, [0,10], 0.1, integrate)\n",
        "print('\\033[1mShape of traj: \\033[0m', traj.shape)\n",
        "\n",
        "p_val = []\n",
        "def compute_p(i):\n",
        "  p_val.append(p[0].subs({th: traj[1, i], xdot: traj[2,i], thdot: traj[3, i], R: 1, m: 1, M: 2}))\n",
        "\n",
        "for i in range(0,100):\n",
        "  compute_p(i)\n",
        "\n",
        "\n",
        "timespan = np.linspace(0,10,100)\n",
        "# plotting the trajectory of p\n",
        "fig, ax1 = plt.subplots(1, 1)\n",
        "fig.suptitle('p v/s time')\n",
        "ax1.plot(timespan, p_val, 'blue', label= 'p')\n",
        "ax1.set_ylabel('p')\n",
        "ax1.set_xlabel('t')\n",
        "plt.legend()\n",
        "plt.show()"
      ],
      "metadata": {
        "colab": {
          "base_uri": "https://localhost:8080/",
          "height": 515
        },
        "id": "ZRaeLy79h_Ks",
        "outputId": "472b0636-0362-4440-b9ec-4516673b97e5"
      },
      "execution_count": 65,
      "outputs": [
        {
          "output_type": "stream",
          "name": "stdout",
          "text": [
            "\u001b[1mShape of traj: \u001b[0m (4, 100)\n"
          ]
        },
        {
          "output_type": "display_data",
          "data": {
            "text/plain": [
              "<Figure size 640x480 with 1 Axes>"
            ],
            "image/png": "[encoded data removed]"
          },
          "metadata": {}
        }
      ]
    },
    {
      "cell_type": "markdown",
      "source": [
        "The minimum number of states in the system that can vary is 1 since the conserved quantity depends on $\\theta$ but is independent of $x$"
      ],
      "metadata": {
        "id": "l-Z1_3ohhnCV"
      }
    },
    {
      "cell_type": "code",
      "metadata": {
        "id": "FRfXoQldX-5X",
        "colab": {
          "base_uri": "https://localhost:8080/",
          "height": 377
        },
        "outputId": "c5172449-2b9d-432f-c0be-cea7bf5c75be"
      },
      "source": [
        "from IPython.core.display import HTML\n",
        "display(HTML(\"<table><tr><td><img src='https://github.com/atulletaylor/ME314Figures/raw/main/hw4p4.png' width='600' height='350'></td></tr></table>\"))"
      ],
      "execution_count": 66,
      "outputs": [
        {
          "output_type": "display_data",
          "data": {
            "text/plain": [
              "<IPython.core.display.HTML object>"
            ],
            "text/html": [
              "<table><tr><td><img src='https://github.com/atulletaylor/ME314Figures/raw/main/hw4p4.png' width='600' height='350'></td></tr></table>"
            ]
          },
          "metadata": {}
        }
      ]
    },
    {
      "cell_type": "markdown",
      "metadata": {
        "id": "ndrt1xQzX-5Z"
      },
      "source": [
        "## Problem 4 (30 pts)\n",
        "Using the same inverted cart pendulum system, add a constraint such that the pendulum follows the path of a parabola with a vertex of $(1,0)$.\n",
        "\n",
        "Then, simulate the system using $x$ and $\\theta$ as the configuration variables for $t\\in[0,15]$ with $dt=0.01$. The constants are $M=2, m=1, R=1, g=9.8$. Use the initial conditions $x=0, \\theta=0, \\dot{x}=0, \\dot{\\theta}=0.01$ for your simulation.\n",
        "\n",
        "You should use the Runge–Kutta integration function provided in previous homework for simulation. Plot the simulated trajectory for $x, \\theta$ versus time. We have a provided an animation function for testing.\n",
        "\n",
        "*Hint 1: You will need the time derivatives of $\\phi$ to solve the system of equations.*\n",
        "\n",
        "*Hint 2: Make sure to be solving for $\\lambda$ at the same time as your equations of motion.*\n",
        "\n",
        "*Hint 3: Note that if you make your initial condition velocities faster or dt lower resolution, you may not be able to simulate the system because this is challenging constraint.*\n",
        "\n",
        "**Turn in: A copy of code used to simulate the system, you don't need to turn in equations of motion, but you need to include the plot of the simulated trajectories.**"
      ]
    },
    {
      "cell_type": "code",
      "source": [
        "# define constants (as symbols)\n",
        "t, m, M, R, g, lamb = sym.symbols(r't, m, M, R, g, \\lambda')\n",
        "# define states and time derivatives\n",
        "x = sym.Function(r'x')(t)\n",
        "th = sym.Function(r'\\theta')(t)\n",
        "q = sym.Matrix([x, th])\n",
        "xdot = x.diff(t)\n",
        "thdot= th.diff(t)\n",
        "qdot = q.diff(t)\n",
        "xddot = xdot.diff(t)\n",
        "thddot = thdot.diff(t)\n",
        "qddot = qdot.diff(t)\n",
        "# compute pendulum's velocity in x and y direction\n",
        "# this is under the \"world frame\", from where we measure\n",
        "# the position of the cart as x(t)\n",
        "pen_xdot = xdot + R*thdot*sym.cos(th)\n",
        "pen_ydot = R*thdot*sym.sin(th)\n",
        "# compute Lagrangian\n",
        "ke = 0.5*M*xdot**2 + 0.5*m*(pen_xdot**2 + pen_ydot**2)\n",
        "pe = m*g*R*sym.cos(th)\n",
        "L = ke - pe\n",
        "print('\\033[1mLagrangian: ')\n",
        "display(sym.simplify(L))\n",
        "\n",
        "# Now defining the constraint for the system\n",
        "phi = sym.Matrix([sym.sin(th)**2 - R*sym.sin(th) - x])\n",
        "dphidq = phi.jacobian(q)\n",
        "\n",
        "# Solving the Euler Lagrange equations\n",
        "# storing the Lagrangian expression in a matrix for further computations\n",
        "J_mat = sym.Matrix([L])\n",
        "# calculating first term of E-L equation\n",
        "dJdq = J_mat.jacobian(q)\n",
        "# computing derivative for intermediate second term\n",
        "dJdq_dot = J_mat.jacobian(qdot)\n",
        "# differentiating dJdq_dot wrt t\n",
        "dJdq_dot_dot = dJdq_dot.diff(t)\n",
        "\n",
        "# Writing the expression for Euler-Lagrange equations\n",
        "\n",
        "EL_expr = dJdq - dJdq_dot_dot\n",
        "\n",
        "# Defining rhs for the EL equation\n",
        "rhs = sym.Matrix([lamb*dphidq.T])\n",
        "print(\"\\n\\033[1mExpression for Euler-Lagrange equation: \")\n",
        "EL_eqn = sym.Eq(EL_expr.T, rhs)\n",
        "display(EL_eqn)\n",
        "# Writing the phiddot as equation\n",
        "phidot = phi.diff(t)\n",
        "phiddot = phidot.diff(t)\n",
        "phiddot_eq = sym.Eq(sym.Matrix([phiddot]), sym.Matrix([0]))\n",
        "display(phiddot_eq)\n",
        "\n",
        "# Solving the equations for xddot, thddot and lambda\n",
        "vars = sym.Matrix([xddot,thddot, lamb])\n",
        "solution = sym.solve([EL_eqn,phiddot_eq], xddot,thddot,lamb)\n",
        "print(\"\\n\\033[1mSolutions: \")\n",
        "for v in vars:\n",
        "  display(sym.simplify(sym.Eq(v, solution[v])))\n",
        "\n",
        "# Lambdifying the expressions for ease of calculation\n",
        "x_val = sym.lambdify([m, M, R, g, x, th, xdot, thdot], solution[xddot])\n",
        "th_val = sym.lambdify([m, M, R, g, x, th, xdot, thdot], solution[thddot])\n"
      ],
      "metadata": {
        "colab": {
          "base_uri": "https://localhost:8080/",
          "height": 561
        },
        "id": "kMWjtnd-qqQM",
        "outputId": "8db1f36c-f1ae-4eb1-b1a6-ff65c1f6253d"
      },
      "execution_count": 67,
      "outputs": [
        {
          "output_type": "stream",
          "name": "stdout",
          "text": [
            "\u001b[1mLagrangian: \n"
          ]
        },
        {
          "output_type": "display_data",
          "data": {
            "text/plain": [
              "<IPython.core.display.HTML object>"
            ],
            "text/html": [
              "<script src='https://cdnjs.cloudflare.com/ajax/libs/mathjax/3.1.1/latest.js?config=TeX-AMS_HTML'></script>"
            ]
          },
          "metadata": {}
        },
        {
          "output_type": "display_data",
          "data": {
            "text/plain": [
              "                2                                ⎛                  2                              ↪\n",
              "      ⎛d       ⎞                                 ⎜ 2 ⎛d            ⎞                       d       ↪\n",
              "0.5⋅M⋅⎜──(x(t))⎟  - R⋅g⋅m⋅cos(\\theta(t)) + 0.5⋅m⋅⎜R ⋅⎜──(\\theta(t))⎟  + 2⋅R⋅cos(\\theta(t))⋅──(\\the ↪\n",
              "      ⎝dt      ⎠                                 ⎝   ⎝dt           ⎠                       dt      ↪\n",
              "\n",
              "↪                             2⎞\n",
              "↪        d          ⎛d       ⎞ ⎟\n",
              "↪ ta(t))⋅──(x(t)) + ⎜──(x(t))⎟ ⎟\n",
              "↪        dt         ⎝dt      ⎠ ⎠"
            ],
            "text/latex": "$\\displaystyle 0.5 M \\left(\\frac{d}{d t} x{\\left(t \\right)}\\right)^{2} - R g m \\cos{\\left(\\theta{\\left(t \\right)} \\right)} + 0.5 m \\left(R^{2} \\left(\\frac{d}{d t} \\theta{\\left(t \\right)}\\right)^{2} + 2 R \\cos{\\left(\\theta{\\left(t \\right)} \\right)} \\frac{d}{d t} \\theta{\\left(t \\right)} \\frac{d}{d t} x{\\left(t \\right)} + \\left(\\frac{d}{d t} x{\\left(t \\right)}\\right)^{2}\\right)$"
          },
          "metadata": {}
        },
        {
          "output_type": "stream",
          "name": "stdout",
          "text": [
            "\n",
            "\u001b[1mExpression for Euler-Lagrange equation: \n"
          ]
        },
        {
          "output_type": "display_data",
          "data": {
            "text/plain": [
              "<IPython.core.display.HTML object>"
            ],
            "text/html": [
              "<script src='https://cdnjs.cloudflare.com/ajax/libs/mathjax/3.1.1/latest.js?config=TeX-AMS_HTML'></script>"
            ]
          },
          "metadata": {}
        },
        {
          "output_type": "display_data",
          "data": {
            "text/plain": [
              "⎡                                                                                                  ↪\n",
              "⎢                                                                                                  ↪\n",
              "⎢                                                                                                  ↪\n",
              "⎢                                                                                                  ↪\n",
              "⎢                                                                                                  ↪\n",
              "⎢                                                                                                  ↪\n",
              "⎢                             ⎛                                                  2                 ↪\n",
              "⎢                             ⎜   2                               ⎛d            ⎞        ⎛         ↪\n",
              "⎢R⋅g⋅m⋅sin(\\theta(t)) + 0.5⋅m⋅⎜2⋅R ⋅sin(\\theta(t))⋅cos(\\theta(t))⋅⎜──(\\theta(t))⎟  - 2⋅R⋅⎜R⋅cos(\\t ↪\n",
              "⎢                             ⎝                                   ⎝dt           ⎠        ⎝         ↪\n",
              "⎣                                                                                                  ↪\n",
              "\n",
              "↪                                                                              2                ⎛  ↪\n",
              "↪                                                                             d                 ⎜  ↪\n",
              "↪                                                                     - 1.0⋅M⋅───(x(t)) - 0.5⋅m⋅⎜- ↪\n",
              "↪                                                                               2               ⎜  ↪\n",
              "↪                                                                             dt                ⎝  ↪\n",
              "↪                                                                                                  ↪\n",
              "↪                                                                ⎞         ⎛                       ↪\n",
              "↪          d               d       ⎞                d            ⎟         ⎜   2    2            d ↪\n",
              "↪ heta(t))⋅──(\\theta(t)) + ──(x(t))⎟⋅sin(\\theta(t))⋅──(\\theta(t))⎟ - 0.5⋅m⋅⎜2⋅R ⋅sin (\\theta(t))⋅─ ↪\n",
              "↪          dt              dt      ⎠                dt           ⎠         ⎜                       ↪\n",
              "↪                                                                          ⎝                     d ↪\n",
              "\n",
              "↪                                    2                       2                  2       ⎞          ↪\n",
              "↪                     ⎛d            ⎞                       d                  d        ⎟          ↪\n",
              "↪  2⋅R⋅sin(\\theta(t))⋅⎜──(\\theta(t))⎟  + 2⋅R⋅cos(\\theta(t))⋅───(\\theta(t)) + 2⋅───(x(t))⎟          ↪\n",
              "↪                     ⎝dt           ⎠                         2                  2      ⎟          ↪\n",
              "↪                                                           dt                 dt       ⎠          ↪\n",
              "↪                                                                                                  ↪\n",
              "↪ 2                                                                 2                              ↪\n",
              "↪                    2                               ⎛d            ⎞        ⎛                 d    ↪\n",
              "↪ ──(\\theta(t)) + 4⋅R ⋅sin(\\theta(t))⋅cos(\\theta(t))⋅⎜──(\\theta(t))⎟  - 2⋅R⋅⎜R⋅cos(\\theta(t))⋅──(\\ ↪\n",
              "↪  2                                                 ⎝dt           ⎠        ⎝                 dt   ↪\n",
              "↪ t                                                                                                ↪\n",
              "\n",
              "↪                                                                                                  ↪\n",
              "↪                                                                                                  ↪\n",
              "↪                                                                                                  ↪\n",
              "↪                                                                                                  ↪\n",
              "↪                                                                                                  ↪\n",
              "↪                                                                                                  ↪\n",
              "↪                                                          ⎛                                  2    ↪\n",
              "↪             d       ⎞                d                   ⎜                   ⎛d            ⎞     ↪\n",
              "↪ theta(t)) + ──(x(t))⎟⋅sin(\\theta(t))⋅──(\\theta(t)) + 2⋅R⋅⎜- R⋅sin(\\theta(t))⋅⎜──(\\theta(t))⎟  +  ↪\n",
              "↪             dt      ⎠                dt                  ⎜                   ⎝dt           ⎠     ↪\n",
              "↪                                                          ⎝                                       ↪\n",
              "\n",
              "↪                                                             ⎤                                    ↪\n",
              "↪                                                             ⎥                                    ↪\n",
              "↪                                                             ⎥                                    ↪\n",
              "↪                                                             ⎥                                    ↪\n",
              "↪                                                             ⎥   ⎡                          -\\lam ↪\n",
              "↪                                                             ⎥ = ⎢                                ↪\n",
              "↪                   2                2       ⎞               ⎞⎥   ⎣\\lambda⋅(-R⋅cos(\\theta(t)) + 2⋅ ↪\n",
              "↪                  d                d        ⎟               ⎟⎥                                    ↪\n",
              "↪ R⋅cos(\\theta(t))⋅───(\\theta(t)) + ───(x(t))⎟⋅cos(\\theta(t))⎟⎥                                    ↪\n",
              "↪                    2                2      ⎟               ⎟⎥                                    ↪\n",
              "↪                  dt               dt       ⎠               ⎠⎦                                    ↪\n",
              "\n",
              "↪                                \n",
              "↪                                \n",
              "↪                                \n",
              "↪                                \n",
              "↪ bda                           ⎤\n",
              "↪                               ⎥\n",
              "↪ sin(\\theta(t))⋅cos(\\theta(t)))⎦\n",
              "↪                                \n",
              "↪                                \n",
              "↪                                \n",
              "↪                                "
            ],
            "text/latex": "$\\displaystyle \\left[\\begin{matrix}- 1.0 M \\frac{d^{2}}{d t^{2}} x{\\left(t \\right)} - 0.5 m \\left(- 2 R \\sin{\\left(\\theta{\\left(t \\right)} \\right)} \\left(\\frac{d}{d t} \\theta{\\left(t \\right)}\\right)^{2} + 2 R \\cos{\\left(\\theta{\\left(t \\right)} \\right)} \\frac{d^{2}}{d t^{2}} \\theta{\\left(t \\right)} + 2 \\frac{d^{2}}{d t^{2}} x{\\left(t \\right)}\\right)\\\\R g m \\sin{\\left(\\theta{\\left(t \\right)} \\right)} + 0.5 m \\left(2 R^{2} \\sin{\\left(\\theta{\\left(t \\right)} \\right)} \\cos{\\left(\\theta{\\left(t \\right)} \\right)} \\left(\\frac{d}{d t} \\theta{\\left(t \\right)}\\right)^{2} - 2 R \\left(R \\cos{\\left(\\theta{\\left(t \\right)} \\right)} \\frac{d}{d t} \\theta{\\left(t \\right)} + \\frac{d}{d t} x{\\left(t \\right)}\\right) \\sin{\\left(\\theta{\\left(t \\right)} \\right)} \\frac{d}{d t} \\theta{\\left(t \\right)}\\right) - 0.5 m \\left(2 R^{2} \\sin^{2}{\\left(\\theta{\\left(t \\right)} \\right)} \\frac{d^{2}}{d t^{2}} \\theta{\\left(t \\right)} + 4 R^{2} \\sin{\\left(\\theta{\\left(t \\right)} \\right)} \\cos{\\left(\\theta{\\left(t \\right)} \\right)} \\left(\\frac{d}{d t} \\theta{\\left(t \\right)}\\right)^{2} - 2 R \\left(R \\cos{\\left(\\theta{\\left(t \\right)} \\right)} \\frac{d}{d t} \\theta{\\left(t \\right)} + \\frac{d}{d t} x{\\left(t \\right)}\\right) \\sin{\\left(\\theta{\\left(t \\right)} \\right)} \\frac{d}{d t} \\theta{\\left(t \\right)} + 2 R \\left(- R \\sin{\\left(\\theta{\\left(t \\right)} \\right)} \\left(\\frac{d}{d t} \\theta{\\left(t \\right)}\\right)^{2} + R \\cos{\\left(\\theta{\\left(t \\right)} \\right)} \\frac{d^{2}}{d t^{2}} \\theta{\\left(t \\right)} + \\frac{d^{2}}{d t^{2}} x{\\left(t \\right)}\\right) \\cos{\\left(\\theta{\\left(t \\right)} \\right)}\\right)\\end{matrix}\\right] = \\left[\\begin{matrix}- \\lambda\\\\\\lambda \\left(- R \\cos{\\left(\\theta{\\left(t \\right)} \\right)} + 2 \\sin{\\left(\\theta{\\left(t \\right)} \\right)} \\cos{\\left(\\theta{\\left(t \\right)} \\right)}\\right)\\end{matrix}\\right]$"
          },
          "metadata": {}
        },
        {
          "output_type": "display_data",
          "data": {
            "text/plain": [
              "<IPython.core.display.HTML object>"
            ],
            "text/html": [
              "<script src='https://cdnjs.cloudflare.com/ajax/libs/mathjax/3.1.1/latest.js?config=TeX-AMS_HTML'></script>"
            ]
          },
          "metadata": {}
        },
        {
          "output_type": "display_data",
          "data": {
            "text/plain": [
              "⎡                                2                     2                                           ↪\n",
              "⎢                 ⎛d            ⎞                     d                     2            ⎛d        ↪\n",
              "⎢R⋅sin(\\theta(t))⋅⎜──(\\theta(t))⎟  - R⋅cos(\\theta(t))⋅───(\\theta(t)) - 2⋅sin (\\theta(t))⋅⎜──(\\thet ↪\n",
              "⎢                 ⎝dt           ⎠                       2                                ⎝dt       ↪\n",
              "⎣                                                     dt                                           ↪\n",
              "\n",
              "↪       2                                    2                                                2    ↪\n",
              "↪      ⎞                                    d                     2            ⎛d            ⎞     ↪\n",
              "↪ a(t))⎟  + 2⋅sin(\\theta(t))⋅cos(\\theta(t))⋅───(\\theta(t)) + 2⋅cos (\\theta(t))⋅⎜──(\\theta(t))⎟  -  ↪\n",
              "↪      ⎠                                      2                                ⎝dt           ⎠     ↪\n",
              "↪                                           dt                                                     ↪\n",
              "\n",
              "↪  2       ⎤      \n",
              "↪ d        ⎥      \n",
              "↪ ───(x(t))⎥ = [0]\n",
              "↪   2      ⎥      \n",
              "↪ dt       ⎦      "
            ],
            "text/latex": "$\\displaystyle \\left[\\begin{matrix}R \\sin{\\left(\\theta{\\left(t \\right)} \\right)} \\left(\\frac{d}{d t} \\theta{\\left(t \\right)}\\right)^{2} - R \\cos{\\left(\\theta{\\left(t \\right)} \\right)} \\frac{d^{2}}{d t^{2}} \\theta{\\left(t \\right)} - 2 \\sin^{2}{\\left(\\theta{\\left(t \\right)} \\right)} \\left(\\frac{d}{d t} \\theta{\\left(t \\right)}\\right)^{2} + 2 \\sin{\\left(\\theta{\\left(t \\right)} \\right)} \\cos{\\left(\\theta{\\left(t \\right)} \\right)} \\frac{d^{2}}{d t^{2}} \\theta{\\left(t \\right)} + 2 \\cos^{2}{\\left(\\theta{\\left(t \\right)} \\right)} \\left(\\frac{d}{d t} \\theta{\\left(t \\right)}\\right)^{2} - \\frac{d^{2}}{d t^{2}} x{\\left(t \\right)}\\end{matrix}\\right] = \\left[\\begin{matrix}0\\end{matrix}\\right]$"
          },
          "metadata": {}
        },
        {
          "output_type": "stream",
          "name": "stdout",
          "text": [
            "\n",
            "\u001b[1mSolutions: \n"
          ]
        },
        {
          "output_type": "display_data",
          "data": {
            "text/plain": [
              "<IPython.core.display.HTML object>"
            ],
            "text/html": [
              "<script src='https://cdnjs.cloudflare.com/ajax/libs/mathjax/3.1.1/latest.js?config=TeX-AMS_HTML'></script>"
            ]
          },
          "metadata": {}
        },
        {
          "output_type": "display_data",
          "data": {
            "text/plain": [
              "                ⎛                                  2                                     2         ↪\n",
              "                ⎜ 2    2            ⎛d            ⎞     2    2            ⎛d            ⎞          ↪\n",
              " 2          R⋅m⋅⎜R ⋅sin (\\theta(t))⋅⎜──(\\theta(t))⎟  + R ⋅cos (\\theta(t))⋅⎜──(\\theta(t))⎟  - R⋅g⋅c ↪\n",
              "d               ⎝                   ⎝dt           ⎠                       ⎝dt           ⎠          ↪\n",
              "───(x(t)) = ────────────────────────────────────────────────────────────────────────────────────── ↪\n",
              "  2                                                 2    2                                         ↪\n",
              "dt                                               M⋅R ⋅cos (\\theta(t)) - 4.0⋅M⋅R⋅sin(\\theta(t))⋅cos ↪\n",
              "\n",
              "↪                                                      2                                           ↪\n",
              "↪                          3            ⎛d            ⎞                                    4       ↪\n",
              "↪ os(\\theta(t)) - 2.0⋅R⋅sin (\\theta(t))⋅⎜──(\\theta(t))⎟  + 1.0⋅g⋅sin(2⋅\\theta(t)) + 4.0⋅cos (\\thet ↪\n",
              "↪                                       ⎝dt           ⎠                                            ↪\n",
              "↪ ──────────────────────────────────────────────────────────────────────────────────────────────── ↪\n",
              "↪ 2                                              2      2                                          ↪\n",
              "↪  (\\theta(t)) + 0.5⋅M⋅(1 - cos(4⋅\\theta(t))) + R ⋅m⋅sin (\\theta(t)) + 0.5⋅m⋅(1 - cos(4⋅\\theta(t)) ↪\n",
              "\n",
              "↪                      2⎞               \n",
              "↪       ⎛d            ⎞ ⎟               \n",
              "↪ a(t))⋅⎜──(\\theta(t))⎟ ⎟⋅sin(\\theta(t))\n",
              "↪       ⎝dt           ⎠ ⎠               \n",
              "↪ ──────────────────────────────────────\n",
              "↪                                       \n",
              "↪ )                                     "
            ],
            "text/latex": "$\\displaystyle \\frac{d^{2}}{d t^{2}} x{\\left(t \\right)} = \\frac{R m \\left(R^{2} \\sin^{2}{\\left(\\theta{\\left(t \\right)} \\right)} \\left(\\frac{d}{d t} \\theta{\\left(t \\right)}\\right)^{2} + R^{2} \\cos^{2}{\\left(\\theta{\\left(t \\right)} \\right)} \\left(\\frac{d}{d t} \\theta{\\left(t \\right)}\\right)^{2} - R g \\cos{\\left(\\theta{\\left(t \\right)} \\right)} - 2.0 R \\sin^{3}{\\left(\\theta{\\left(t \\right)} \\right)} \\left(\\frac{d}{d t} \\theta{\\left(t \\right)}\\right)^{2} + 1.0 g \\sin{\\left(2 \\theta{\\left(t \\right)} \\right)} + 4.0 \\cos^{4}{\\left(\\theta{\\left(t \\right)} \\right)} \\left(\\frac{d}{d t} \\theta{\\left(t \\right)}\\right)^{2}\\right) \\sin{\\left(\\theta{\\left(t \\right)} \\right)}}{M R^{2} \\cos^{2}{\\left(\\theta{\\left(t \\right)} \\right)} - 4.0 M R \\sin{\\left(\\theta{\\left(t \\right)} \\right)} \\cos^{2}{\\left(\\theta{\\left(t \\right)} \\right)} + 0.5 M \\left(1 - \\cos{\\left(4 \\theta{\\left(t \\right)} \\right)}\\right) + R^{2} m \\sin^{2}{\\left(\\theta{\\left(t \\right)} \\right)} + 0.5 m \\left(1 - \\cos{\\left(4 \\theta{\\left(t \\right)} \\right)}\\right)}$"
          },
          "metadata": {}
        },
        {
          "output_type": "display_data",
          "data": {
            "text/plain": [
              "<IPython.core.display.HTML object>"
            ],
            "text/html": [
              "<script src='https://cdnjs.cloudflare.com/ajax/libs/mathjax/3.1.1/latest.js?config=TeX-AMS_HTML'></script>"
            ]
          },
          "metadata": {}
        },
        {
          "output_type": "display_data",
          "data": {
            "text/plain": [
              "                                                          2                                        ↪\n",
              "                        2                  ⎛d            ⎞                           ⎛d            ↪\n",
              " 2               0.5⋅M⋅R ⋅sin(2⋅\\theta(t))⋅⎜──(\\theta(t))⎟  + 0.5⋅M⋅R⋅cos(\\theta(t))⋅⎜──(\\theta(t) ↪\n",
              "d                                          ⎝dt           ⎠                           ⎝dt           ↪\n",
              "───(\\theta(t)) = ───────────────────────────────────────────────────────────────────────────────── ↪\n",
              "  2                                                                                      2    2    ↪\n",
              "dt                                                                                    M⋅R ⋅cos (\\t ↪\n",
              "\n",
              "↪   2                                           2                                         2        ↪\n",
              "↪  ⎞                             ⎛d            ⎞                           ⎛d            ⎞         ↪\n",
              "↪ )⎟  + 1.5⋅M⋅R⋅cos(3⋅\\theta(t))⋅⎜──(\\theta(t))⎟  - 1.0⋅M⋅sin(4⋅\\theta(t))⋅⎜──(\\theta(t))⎟  - 0.5⋅ ↪\n",
              "↪  ⎠                             ⎝dt           ⎠                           ⎝dt           ⎠         ↪\n",
              "↪ ──────────────────────────────────────────────────────────────────────────────────────────────── ↪\n",
              "↪                                      2                                              2      2     ↪\n",
              "↪ heta(t)) - 4.0⋅M⋅R⋅sin(\\theta(t))⋅cos (\\theta(t)) + 0.5⋅M⋅(1 - cos(4⋅\\theta(t))) + R ⋅m⋅sin (\\th ↪\n",
              "\n",
              "↪                                      2                                                           ↪\n",
              "↪  2                    ⎛d            ⎞                                                      ⎛d    ↪\n",
              "↪ R ⋅m⋅sin(2⋅\\theta(t))⋅⎜──(\\theta(t))⎟  + 1.0⋅R⋅g⋅m⋅sin(\\theta(t)) - 1.0⋅m⋅sin(4⋅\\theta(t))⋅⎜──(\\ ↪\n",
              "↪                       ⎝dt           ⎠                                                      ⎝dt   ↪\n",
              "↪ ──────────────────────────────────────────────────────────────────────────────────────────────── ↪\n",
              "↪                                                                                                  ↪\n",
              "↪ eta(t)) + 0.5⋅m⋅(1 - cos(4⋅\\theta(t)))                                                           ↪\n",
              "\n",
              "↪           2\n",
              "↪          ⎞ \n",
              "↪ theta(t))⎟ \n",
              "↪          ⎠ \n",
              "↪ ───────────\n",
              "↪            \n",
              "↪            "
            ],
            "text/latex": "$\\displaystyle \\frac{d^{2}}{d t^{2}} \\theta{\\left(t \\right)} = \\frac{0.5 M R^{2} \\sin{\\left(2 \\theta{\\left(t \\right)} \\right)} \\left(\\frac{d}{d t} \\theta{\\left(t \\right)}\\right)^{2} + 0.5 M R \\cos{\\left(\\theta{\\left(t \\right)} \\right)} \\left(\\frac{d}{d t} \\theta{\\left(t \\right)}\\right)^{2} + 1.5 M R \\cos{\\left(3 \\theta{\\left(t \\right)} \\right)} \\left(\\frac{d}{d t} \\theta{\\left(t \\right)}\\right)^{2} - 1.0 M \\sin{\\left(4 \\theta{\\left(t \\right)} \\right)} \\left(\\frac{d}{d t} \\theta{\\left(t \\right)}\\right)^{2} - 0.5 R^{2} m \\sin{\\left(2 \\theta{\\left(t \\right)} \\right)} \\left(\\frac{d}{d t} \\theta{\\left(t \\right)}\\right)^{2} + 1.0 R g m \\sin{\\left(\\theta{\\left(t \\right)} \\right)} - 1.0 m \\sin{\\left(4 \\theta{\\left(t \\right)} \\right)} \\left(\\frac{d}{d t} \\theta{\\left(t \\right)}\\right)^{2}}{M R^{2} \\cos^{2}{\\left(\\theta{\\left(t \\right)} \\right)} - 4.0 M R \\sin{\\left(\\theta{\\left(t \\right)} \\right)} \\cos^{2}{\\left(\\theta{\\left(t \\right)} \\right)} + 0.5 M \\left(1 - \\cos{\\left(4 \\theta{\\left(t \\right)} \\right)}\\right) + R^{2} m \\sin^{2}{\\left(\\theta{\\left(t \\right)} \\right)} + 0.5 m \\left(1 - \\cos{\\left(4 \\theta{\\left(t \\right)} \\right)}\\right)}$"
          },
          "metadata": {}
        },
        {
          "output_type": "display_data",
          "data": {
            "text/plain": [
              "<IPython.core.display.HTML object>"
            ],
            "text/html": [
              "<script src='https://cdnjs.cloudflare.com/ajax/libs/mathjax/3.1.1/latest.js?config=TeX-AMS_HTML'></script>"
            ]
          },
          "metadata": {}
        },
        {
          "output_type": "display_data",
          "data": {
            "text/plain": [
              "              ⎛                                       2                                            ↪\n",
              "              ⎜       2                ⎛d            ⎞                                             ↪\n",
              "          R⋅m⋅⎜1.0⋅M⋅R ⋅sin(\\theta(t))⋅⎜──(\\theta(t))⎟  - 0.5⋅M⋅R⋅g⋅sin(2⋅\\theta(t)) + 2.0⋅M⋅R⋅cos ↪\n",
              "              ⎝                        ⎝dt           ⎠                                             ↪\n",
              "\\lambda = ──────────────────────────────────────────────────────────────────────────────────────── ↪\n",
              "                                                                             2    2                ↪\n",
              "                                                                          M⋅R ⋅cos (\\theta(t)) - 4 ↪\n",
              "\n",
              "↪                              2                                                                   ↪\n",
              "↪               ⎛d            ⎞                                                                    ↪\n",
              "↪ (2⋅\\theta(t))⋅⎜──(\\theta(t))⎟  + 0.5⋅M⋅g⋅cos(\\theta(t)) - 0.5⋅M⋅g⋅cos(3⋅\\theta(t)) - 0.5⋅R⋅m⋅(1  ↪\n",
              "↪               ⎝dt           ⎠                                                                    ↪\n",
              "↪ ──────────────────────────────────────────────────────────────────────────────────────────────── ↪\n",
              "↪                          2                                              2      2                 ↪\n",
              "↪ .0⋅M⋅R⋅sin(\\theta(t))⋅cos (\\theta(t)) + 0.5⋅M⋅(1 - cos(4⋅\\theta(t))) + R ⋅m⋅sin (\\theta(t)) + 0. ↪\n",
              "\n",
              "↪                                     2                                                    ⎞\n",
              "↪                    2 ⎛d            ⎞                                                     ⎟\n",
              "↪ - cos(2⋅\\theta(t))) ⋅⎜──(\\theta(t))⎟  + 0.5⋅g⋅m⋅cos(\\theta(t)) - 0.5⋅g⋅m⋅cos(3⋅\\theta(t))⎟\n",
              "↪                      ⎝dt           ⎠                                                     ⎠\n",
              "↪ ──────────────────────────────────────────────────────────────────────────────────────────\n",
              "↪                                                                                           \n",
              "↪ 5⋅m⋅(1 - cos(4⋅\\theta(t)))                                                                "
            ],
            "text/latex": "$\\displaystyle \\lambda = \\frac{R m \\left(1.0 M R^{2} \\sin{\\left(\\theta{\\left(t \\right)} \\right)} \\left(\\frac{d}{d t} \\theta{\\left(t \\right)}\\right)^{2} - 0.5 M R g \\sin{\\left(2 \\theta{\\left(t \\right)} \\right)} + 2.0 M R \\cos{\\left(2 \\theta{\\left(t \\right)} \\right)} \\left(\\frac{d}{d t} \\theta{\\left(t \\right)}\\right)^{2} + 0.5 M g \\cos{\\left(\\theta{\\left(t \\right)} \\right)} - 0.5 M g \\cos{\\left(3 \\theta{\\left(t \\right)} \\right)} - 0.5 R m \\left(1 - \\cos{\\left(2 \\theta{\\left(t \\right)} \\right)}\\right)^{2} \\left(\\frac{d}{d t} \\theta{\\left(t \\right)}\\right)^{2} + 0.5 g m \\cos{\\left(\\theta{\\left(t \\right)} \\right)} - 0.5 g m \\cos{\\left(3 \\theta{\\left(t \\right)} \\right)}\\right)}{M R^{2} \\cos^{2}{\\left(\\theta{\\left(t \\right)} \\right)} - 4.0 M R \\sin{\\left(\\theta{\\left(t \\right)} \\right)} \\cos^{2}{\\left(\\theta{\\left(t \\right)} \\right)} + 0.5 M \\left(1 - \\cos{\\left(4 \\theta{\\left(t \\right)} \\right)}\\right) + R^{2} m \\sin^{2}{\\left(\\theta{\\left(t \\right)} \\right)} + 0.5 m \\left(1 - \\cos{\\left(4 \\theta{\\left(t \\right)} \\right)}\\right)}$"
          },
          "metadata": {}
        }
      ]
    },
    {
      "cell_type": "code",
      "source": [
        "def sysddot(q):\n",
        "  \"\"\"\n",
        "  Returns the ddot value of the system variables at given dot values\n",
        "  \"\"\"\n",
        "  # x_val = solution[xddot].subs({g:9.8, x:q[0], xdot:q[2], th: q[1], thdot: q[3], M: 2, m: 1, R: 1} )\n",
        "  xddot_val = x_val(1, 2, 1, 9.8, q[0], q[1], q[2], q[3])\n",
        "  # th_val = solution[thddot].subs({g:9.8, x: q[0], xdot:q[2], th: q[1], thdot: q[3], M: 2, m:1, R:1})\\\n",
        "  thddot_val = th_val(1, 2, 1, 9.8, q[0], q[1], q[2], q[3])\n",
        "  return xddot_val, thddot_val\n",
        "def dyn(q):\n",
        "  \"\"\"\n",
        "  Return the derivative of the system state vector\n",
        "  Parameter:\n",
        "  f = [x, th, xdot, thdot]\n",
        "  Returns:\n",
        "  fdot = [xdot, thdot, xddot, thddot]\n",
        "  \"\"\"\n",
        "  return np.array([q[2],q[3], sysddot(q)[0],sysddot(q)[1]])\n",
        "\n",
        "\n",
        "# Defining initial state of the system\n",
        "s0 = np.array([0, 0, 0, 0.01])\n",
        "traj = simulate(dyn, s0, [0,15], 0.01, integrate)\n",
        "print(\"\\033[1mShape of trajectory: \\033[0m\", traj.shape)\n",
        "\n",
        "timespan = np.linspace(0,15,1500)\n",
        "fig,(ax1, ax2) = plt.subplots(2,1)\n",
        "fig.suptitle(\"Trajectories of x and th\")\n",
        "ax1.plot(timespan, traj[0,:], 'blue', label='x')\n",
        "ax1.legend()\n",
        "ax1.set_ylabel('x(t)')\n",
        "ax2.plot(timespan, traj[1,:], 'purple', label='θ')\n",
        "ax2.set_ylabel('th(t)')\n",
        "ax2.set_xlabel('time(s)')\n",
        "ax2.legend()\n",
        "plt.show()\n"
      ],
      "metadata": {
        "colab": {
          "base_uri": "https://localhost:8080/",
          "height": 515
        },
        "id": "SvtzuOOX7i2u",
        "outputId": "86517b24-ad25-45f9-abd7-ebaa2b2fb36c"
      },
      "execution_count": 68,
      "outputs": [
        {
          "output_type": "stream",
          "name": "stdout",
          "text": [
            "\u001b[1mShape of trajectory: \u001b[0m (4, 1500)\n"
          ]
        },
        {
          "output_type": "display_data",
          "data": {
            "text/plain": [
              "<Figure size 640x480 with 2 Axes>"
            ],
            "image/png": "[encoded data removed]"
          },
          "metadata": {}
        }
      ]
    },
    {
      "cell_type": "code",
      "metadata": {
        "id": "6KftDPMDX-5Z"
      },
      "source": [
        "def animate_cart_pend(traj_array,R=1,T=15):\n",
        "    \"\"\"\n",
        "    Function to generate web-based animation of double-pendulum system\n",
        "\n",
        "    Parameters:\n",
        "    ================================================\n",
        "    traj_array:\n",
        "        trajectory of theta and x, should be a NumPy array with\n",
        "        shape of (2,N)\n",
        "    R:\n",
        "        length of the pendulum\n",
        "    T:\n",
        "        length/seconds of animation duration\n",
        "\n",
        "    Returns: None\n",
        "    \"\"\"\n",
        "\n",
        "    ################################\n",
        "    # Imports required for animation.\n",
        "    from plotly.offline import init_notebook_mode, iplot\n",
        "    from IPython.display import display, HTML\n",
        "    import plotly.graph_objects as go\n",
        "\n",
        "    #######################\n",
        "    # Browser configuration.\n",
        "    def configure_plotly_browser_state():\n",
        "        import IPython\n",
        "        display(IPython.core.display.HTML('''\n",
        "            <script src=\"/static/components/requirejs/require.js\"></script>\n",
        "            <script>\n",
        "              requirejs.config({\n",
        "                paths: {\n",
        "                  base: '/static/base',\n",
        "                  plotly: 'https://cdn.plot.ly/plotly-1.5.1.min.js?noext',\n",
        "                },\n",
        "              });\n",
        "            </script>\n",
        "            '''))\n",
        "    configure_plotly_browser_state()\n",
        "    init_notebook_mode(connected=False)\n",
        "\n",
        "    ###############################################\n",
        "    # Getting data from pendulum angle trajectories.\n",
        "    xcart=traj_array[0]\n",
        "    ycart = 0.0*np.ones(traj_array[0].shape)\n",
        "    N = len(traj_array[1])\n",
        "\n",
        "    xx1=xcart+R*np.sin(traj_array[1])\n",
        "    yy1=R*np.cos(traj_array[1])\n",
        "\n",
        "     # Need this for specifying length of simulation\n",
        "\n",
        "    ####################################\n",
        "    # Using these to specify axis limits.\n",
        "    xm=-4\n",
        "    xM= 4\n",
        "    ym=-4\n",
        "    yM= 4\n",
        "\n",
        "    ###########################\n",
        "    # Defining data dictionary.\n",
        "    # Trajectories are here.\n",
        "    data=[\n",
        "          dict(x=xcart, y=ycart,\n",
        "               mode='markers', name='Cart Traj',\n",
        "               marker=dict(color=\"green\", size=2)\n",
        "              ),\n",
        "          dict(x=xx1, y=yy1,\n",
        "               mode='lines', name='Arm',\n",
        "               line=dict(width=2, color='blue')\n",
        "              ),\n",
        "           dict(x=xx1, y=yy1,\n",
        "               mode='lines', name='Pendulum',\n",
        "               line=dict(width=2, color='purple')\n",
        "              ),\n",
        "\n",
        "           dict(x=xx1, y=yy1,\n",
        "               mode='markers', name='Pendulum Traj',\n",
        "               marker=dict(color=\"purple\", size=2)\n",
        "              ),\n",
        "        ]\n",
        "\n",
        "    ################################\n",
        "    # Preparing simulation layout.\n",
        "    # Title and axis ranges are here.\n",
        "    layout=dict(xaxis=dict(range=[xm, xM], autorange=False, zeroline=False,dtick=1),\n",
        "                yaxis=dict(range=[ym, yM], autorange=False, zeroline=False,scaleanchor = \"x\",dtick=1),\n",
        "                title='Cart Pendulum Simulation',\n",
        "                hovermode='closest',\n",
        "                updatemenus= [{'type': 'buttons',\n",
        "                               'buttons': [{'label': 'Play','method': 'animate',\n",
        "                                            'args': [None, {'frame': {'duration': T, 'redraw': False}}]},\n",
        "                                           {'args': [[None], {'frame': {'duration': T, 'redraw': False}, 'mode': 'immediate',\n",
        "                                            'transition': {'duration': 0}}],'label': 'Pause','method': 'animate'}\n",
        "                                          ]\n",
        "                              }]\n",
        "               )\n",
        "\n",
        "    ########################################\n",
        "    # Defining the frames of the simulation.\n",
        "    # This is what draws the lines from\n",
        "    # joint to joint of the pendulum.\n",
        "    frames=[dict(data=[go.Scatter(\n",
        "                            x=[xcart[k]],\n",
        "                            y=[ycart[k]],\n",
        "                            mode=\"markers\",\n",
        "                            marker_symbol=\"square\",\n",
        "                            marker=dict(color=\"blue\", size=30)),\n",
        "\n",
        "                       dict(x=[xx1[k],xcart[k]],\n",
        "                            y=[yy1[k],ycart[k]],\n",
        "                            mode='lines',\n",
        "                            line=dict(color='red', width=3)\n",
        "                            ),\n",
        "                       go.Scatter(\n",
        "                            x=[xx1[k]],\n",
        "                            y=[yy1[k]],\n",
        "                            mode=\"markers\",\n",
        "                            marker=dict(color=\"blue\", size=12)),\n",
        "\n",
        "                      ]) for k in range(N)]\n",
        "\n",
        "    #######################################\n",
        "    # Putting it all together and plotting.\n",
        "    figure1=dict(data=data, layout=layout, frames=frames)\n",
        "    iplot(figure1)\n",
        "\n",
        "traj_arr = np.array([traj[0,:], traj[1,:]])\n",
        "# animate_cart_pend(traj_array=traj_arr)"
      ],
      "execution_count": 69,
      "outputs": []
    },
    {
      "cell_type": "code",
      "metadata": {
        "id": "H-FttLVDX-5g"
      },
      "source": [
        "\n"
      ],
      "execution_count": 69,
      "outputs": []
    }
  ]
}