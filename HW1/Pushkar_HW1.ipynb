{
  "nbformat": 4,
  "nbformat_minor": 0,
  "metadata": {
    "kernelspec": {
      "display_name": "Python 3",
      "language": "python",
      "name": "python3"
    },
    "language_info": {
      "codemirror_mode": {
        "name": "ipython",
        "version": 3
      },
      "file_extension": ".py",
      "mimetype": "text/x-python",
      "name": "python",
      "nbconvert_exporter": "python",
      "pygments_lexer": "ipython3",
      "version": "3.6.9"
    },
    "colab": {
      "provenance": []
    }
  },
  "cells": [
    {
      "cell_type": "markdown",
      "metadata": {
        "id": "p5AANcq8aXQE"
      },
      "source": [
        "# ME314 Homework 1\n",
        "\n",
        "###Submission instructions\n",
        "\n",
        "Deliverables that should be included with your submission are shown in **bold** at the end of each problem statement and the corresponding supplemental material. Your homework will be graded IFF you submit a **single** PDF and a link to a Google colab file that meet all the requirements outlined below.\n",
        "\n",
        "- List the names of students you've collaborated with on this homework assignment.\n",
        "- Include all of your code (and handwritten solutions when applicable) used to complete the problems.\n",
        "- Highlight your answers (i.e. **bold** and outline the answers) for handwritten or markdown questions and include simplified code outputs (e.g. .simplify()) for python questions.\n",
        "- Enable Google Colab permission for viewing\n",
        " * Click Share in the upper right corner\n",
        " * Under \"Get Link\" click \"Share with...\" or \"Change\"\n",
        " * Then make sure it says \"Anyone with Link\" and \"Editor\" under the dropdown menu\n",
        "- Make sure all cells are run before submitting (i.e. check the permission by running your code in a private mode)\n",
        " * Please don't make changes to your file after submitting, so we can grade it!\n",
        "- Submit a link to your Google Colab file that has been run (before the submission deadline) and don't edit it afterwards!\n",
        "\n",
        "**NOTE:** This Juputer Notebook file serves as a template for you to start homework. Make sure you first copy this template to your own Google driver (click \"File\" -> \"Save a copy in Drive\"), and then start to edit it."
      ]
    },
    {
      "cell_type": "markdown",
      "source": [
        "Collaborators:\\\n",
        "Zhengyang Kris Weng, Harrison Bounds, David Khachatryan\n",
        "\n",
        "References:\\\n",
        "[1]Good Vibrations with Free. \"Equations of Motion for the Inverted Pendulum (2DOF) Using Lagrange\", Youtube, Available: https://youtube.com/watch?v=Fo7kuUAHj3s."
      ],
      "metadata": {
        "id": "i1oJtZ_lUqzC"
      }
    },
    {
      "cell_type": "code",
      "source": [
        "#IMPORT ALL NECESSARY PACKAGES AT THE TOP OF THE CODE\n",
        "import sympy as sym\n",
        "import numpy as np\n",
        "import matplotlib.pyplot as plt"
      ],
      "metadata": {
        "id": "tneubcbGVfqI"
      },
      "execution_count": null,
      "outputs": []
    },
    {
      "cell_type": "code",
      "metadata": {
        "id": "9HlLVMmeaXQF"
      },
      "source": [
        "def custom_latex_printer(exp,**options):\n",
        "    from google.colab.output._publish import javascript\n",
        "    url = \"https://cdnjs.cloudflare.com/ajax/libs/mathjax/3.1.1/latest.js?config=TeX-AMS_HTML\"\n",
        "    javascript(url=url)\n",
        "    return sym.printing.latex(exp,**options)\n",
        "sym.init_printing(use_latex=\"mathjax\",latex_printer=custom_latex_printer)"
      ],
      "execution_count": null,
      "outputs": []
    },
    {
      "cell_type": "markdown",
      "metadata": {
        "id": "R8KcW-HdaXQK"
      },
      "source": [
        "## Problem 1 (15pts)"
      ]
    },
    {
      "cell_type": "code",
      "source": [
        "from IPython.core.display import HTML\n",
        "display(HTML(\"<table><tr><td><img src='https://github.com/MuchenSun/ME314pngs/raw/master/2mass_spring.png' width=500' height='350'></table>\"))"
      ],
      "metadata": {
        "colab": {
          "base_uri": "https://localhost:8080/",
          "height": 377
        },
        "id": "Q4EUnq1kTchx",
        "outputId": "7c72194f-e0b7-4d0f-b46b-6e3d907d59f8"
      },
      "execution_count": null,
      "outputs": [
        {
          "output_type": "display_data",
          "data": {
            "text/plain": [
              "<IPython.core.display.HTML object>"
            ],
            "text/html": [
              "<table><tr><td><img src='https://github.com/MuchenSun/ME314pngs/raw/master/2mass_spring.png' width=500' height='350'></table>"
            ]
          },
          "metadata": {}
        }
      ]
    },
    {
      "cell_type": "markdown",
      "source": [
        "As shown in the image above, a block of mass $m_1$ is on one side connected to a wall by a massless spring with a spring constant $k_1$ and on another side to a block of mass $m_2$ by a massless spring with a spring constant $k_2$. Assume that the two springs have lengths of zero when \"relaxed\", they are stretched with any positive displacement $\\Delta x > 0$, and the magnitude of the force can be computed using Hooke's law $|F| = k \\Delta x$, where $k$ is the spring constant. Furthermore, there is no friction between the blocks and the ground.\n",
        "    \n",
        "Given masses $m_1=1kg$ and $ m_2=2kg$, spring constants $k_1=0.5N/m$ and $k_2=0.8N/m$, and positions of the blocks as $x_1$ and $x_2$, use Newton's law $F=ma$ to compute the accelerations of the blocks $a_1=\\ddot{x}_1$ and $a_2=\\ddot{x}_2$. You need to use Pythons's SymPy package to solve for symbolic solutions, as well as numerically evaluate your solutions for $a_1$ and $a_2$ as functions of $x_1$ and $x_2$ respectively. Test your numerical functions with $x_1=1m$ and $x_2=3m$ as function inputs.\n",
        "\n",
        "*Hint 1: You will have two equations based on Newton's law $F=ma$ for each block. Thus, for each block you need to write down its $F$ in terms of $x_1$ and $x_2$ (which can be defined as symbols in SymPy).*\n",
        "\n",
        "*Hint 2: You will need to use SymPy's **`solve()`** and **`lambdify()`** methods in this problem as seen in Homework 0. This problem is very similar to Problem 5 in Homework 0, except that (1) you need to write down the equations yourself, and (2) you don't need to solve the equations simultaneously - you can solve them one by one for each block. Feel free to take the example code in Homework 0 as a starting point.*\n",
        "\n",
        "*Hint 3: You will need to use **`lambdify()`** to numerically evaluate a function with multiple variables. Below is an example.*"
      ],
      "metadata": {
        "id": "aRvSsEyeTmmA"
      }
    },
    {
      "cell_type": "code",
      "metadata": {
        "id": "sWtszMPMaXQK",
        "colab": {
          "base_uri": "https://localhost:8080/",
          "height": 119
        },
        "outputId": "b17fe2e1-3ac8-4199-87cd-8f3a209392ad"
      },
      "source": [
        "# from sympy.abc import x, y, z or\n",
        "x,y,z = sym.symbols(r'x,y,z')\n",
        "expr = sym.sin(x) * y**2 * z + x*z + x/z**2\n",
        "print('\\033[1mExample expression: ')\n",
        "display(expr)\n",
        "\n",
        "# method 1: the numerical function will take variables one by one\n",
        "func = sym.lambdify([x, y, z], expr)\n",
        "print('\\n\\033[1mTest at x=1, y=2, z=3: \\033[0m{:.2f}'.format(func(1, 2, 3)))\n",
        "\n",
        "# method 2: the numerical function will take variables cotained in one list/array\n",
        "func = sym.lambdify([[x, y, z]], expr)\n",
        "print('\\033[1mTest at x=1, y=2, z=3: \\033[0m{:.2f}'.format(func([1, 2, 3])))"
      ],
      "execution_count": null,
      "outputs": [
        {
          "output_type": "stream",
          "name": "stdout",
          "text": [
            "\u001b[1mExample expression: \n"
          ]
        },
        {
          "output_type": "display_data",
          "data": {
            "text/plain": [
              "<IPython.core.display.HTML object>"
            ],
            "text/html": [
              "<script src='https://cdnjs.cloudflare.com/ajax/libs/mathjax/3.1.1/latest.js?config=TeX-AMS_HTML'></script>"
            ]
          },
          "metadata": {}
        },
        {
          "output_type": "display_data",
          "data": {
            "text/plain": [
              "      x     2         \n",
              "x⋅z + ── + y ⋅z⋅sin(x)\n",
              "       2              \n",
              "      z               "
            ],
            "text/latex": "$\\displaystyle x z + \\frac{x}{z^{2}} + y^{2} z \\sin{\\left(x \\right)}$"
          },
          "metadata": {}
        },
        {
          "output_type": "stream",
          "name": "stdout",
          "text": [
            "\n",
            "\u001b[1mTest at x=1, y=2, z=3: \u001b[0m13.21\n",
            "\u001b[1mTest at x=1, y=2, z=3: \u001b[0m13.21\n"
          ]
        }
      ]
    },
    {
      "cell_type": "markdown",
      "metadata": {
        "id": "mBdOhX1vaXQO"
      },
      "source": [
        "**Turn in: A copy of the code used to solve for symbolic solutions and evaluate them as numerical functions, output of the code as well as the test results for numerical functions.**"
      ]
    },
    {
      "cell_type": "code",
      "metadata": {
        "id": "-ZivndofaXQP",
        "colab": {
          "base_uri": "https://localhost:8080/",
          "height": 332
        },
        "outputId": "ef4bebf1-e58a-4c2d-be37-d54b70ae6653"
      },
      "source": [
        "# You can start your implementation here :)\n",
        "m1, m2, a1, a2 = sym.symbols(r'm1, m2, a1, a2')\n",
        "x1, x2, k1, k2 = sym.symbols(r'x1, x2, k1, k2')\n",
        "\n",
        "# Equation of Newton's Law for block m1\n",
        "print(\"\\033[1mF = ma for mass m1: \")\n",
        "eqn_F1 = sym.Eq(m1*a1,k2*x2 - k2*x1 - k1*x1)\n",
        "display(eqn_F1)\n",
        "\n",
        "# Equation of Newton's Law for block m2\n",
        "print(\"\\n\\033[1mF = ma for mass m2: \")\n",
        "eqn_F2 = sym.Eq(m2*a2, -k2*x2 + k2*x1)\n",
        "display(eqn_F2)\n",
        "\n",
        "# Solving the equations for variables a1 and a2\n",
        "print(\"\\n\\033[1mSymbolic solution wrt a1: \")\n",
        "sol_a1 = sym.solve(eqn_F1, a1)\n",
        "display(sol_a1[0])\n",
        "\n",
        "print(\"\\n\\033[1mSymbolic solution wrt a2: \")\n",
        "sol_a2 = sym.solve(eqn_F2, a2)\n",
        "display(sol_a2[0])\n",
        "\n",
        "# Numerically evaluating the symbolic solutions using lambdify()\n",
        "func_a1 = sym.lambdify([m1, k1, k2, x1, x2],sol_a1[0])\n",
        "print(\"\\n\\033[1mTest func_a1 at m1 = 1, k1 = 0.5, k2 = 0.8, x1 = 1, x2 = 3: \", func_a1(1, 0.5, 0.8, 1, 3))\n",
        "\n",
        "func_a2 = sym.lambdify([m2, k2, x1, x2],sol_a2[0])\n",
        "print(\"\\n\\033[1mTest func_a1 at m2 = 2, k2 = 0.8, x1 = 1, x2 = 3: \", func_a2(2, 0.8, 1, 3))"
      ],
      "execution_count": null,
      "outputs": [
        {
          "output_type": "stream",
          "name": "stdout",
          "text": [
            "\u001b[1mF = ma for mass m1: \n"
          ]
        },
        {
          "output_type": "display_data",
          "data": {
            "text/plain": [
              "<IPython.core.display.HTML object>"
            ],
            "text/html": [
              "<script src='https://cdnjs.cloudflare.com/ajax/libs/mathjax/3.1.1/latest.js?config=TeX-AMS_HTML'></script>"
            ]
          },
          "metadata": {}
        },
        {
          "output_type": "display_data",
          "data": {
            "text/plain": [
              "a₁⋅m₁ = -k₁⋅x₁ - k₂⋅x₁ + k₂⋅x₂"
            ],
            "text/latex": "$\\displaystyle a_{1} m_{1} = - k_{1} x_{1} - k_{2} x_{1} + k_{2} x_{2}$"
          },
          "metadata": {}
        },
        {
          "output_type": "stream",
          "name": "stdout",
          "text": [
            "\n",
            "\u001b[1mF = ma for mass m2: \n"
          ]
        },
        {
          "output_type": "display_data",
          "data": {
            "text/plain": [
              "<IPython.core.display.HTML object>"
            ],
            "text/html": [
              "<script src='https://cdnjs.cloudflare.com/ajax/libs/mathjax/3.1.1/latest.js?config=TeX-AMS_HTML'></script>"
            ]
          },
          "metadata": {}
        },
        {
          "output_type": "display_data",
          "data": {
            "text/plain": [
              "a₂⋅m₂ = k₂⋅x₁ - k₂⋅x₂"
            ],
            "text/latex": "$\\displaystyle a_{2} m_{2} = k_{2} x_{1} - k_{2} x_{2}$"
          },
          "metadata": {}
        },
        {
          "output_type": "stream",
          "name": "stdout",
          "text": [
            "\n",
            "\u001b[1mSymbolic solution wrt a1: \n"
          ]
        },
        {
          "output_type": "display_data",
          "data": {
            "text/plain": [
              "<IPython.core.display.HTML object>"
            ],
            "text/html": [
              "<script src='https://cdnjs.cloudflare.com/ajax/libs/mathjax/3.1.1/latest.js?config=TeX-AMS_HTML'></script>"
            ]
          },
          "metadata": {}
        },
        {
          "output_type": "display_data",
          "data": {
            "text/plain": [
              "-k₁⋅x₁ - k₂⋅x₁ + k₂⋅x₂\n",
              "──────────────────────\n",
              "          m₁          "
            ],
            "text/latex": "$\\displaystyle \\frac{- k_{1} x_{1} - k_{2} x_{1} + k_{2} x_{2}}{m_{1}}$"
          },
          "metadata": {}
        },
        {
          "output_type": "stream",
          "name": "stdout",
          "text": [
            "\n",
            "\u001b[1mSymbolic solution wrt a2: \n"
          ]
        },
        {
          "output_type": "display_data",
          "data": {
            "text/plain": [
              "<IPython.core.display.HTML object>"
            ],
            "text/html": [
              "<script src='https://cdnjs.cloudflare.com/ajax/libs/mathjax/3.1.1/latest.js?config=TeX-AMS_HTML'></script>"
            ]
          },
          "metadata": {}
        },
        {
          "output_type": "display_data",
          "data": {
            "text/plain": [
              "k₂⋅(x₁ - x₂)\n",
              "────────────\n",
              "     m₂     "
            ],
            "text/latex": "$\\displaystyle \\frac{k_{2} \\left(x_{1} - x_{2}\\right)}{m_{2}}$"
          },
          "metadata": {}
        },
        {
          "output_type": "stream",
          "name": "stdout",
          "text": [
            "\n",
            "\u001b[1mTest func_a1 at m1 = 1, k1 = 0.5, k2 = 0.8, x1 = 1, x2 = 3:  1.1000000000000003\n",
            "\n",
            "\u001b[1mTest func_a1 at m2 = 2, k2 = 0.8, x1 = 1, x2 = 3:  -0.8\n"
          ]
        }
      ]
    },
    {
      "cell_type": "markdown",
      "metadata": {
        "id": "2GySmCekaXRC"
      },
      "source": [
        "## Problem 2 (10pts)\n",
        "\n",
        "For the same system in Problem 1, compute the Lagrangian of the system using Python's SymPy package with $x_1$, $x_2$ as system configuration variables.\n",
        "\n",
        "*Hint 1: For an object with mass $m$ and velocity $v$, its kinetic energy is $\\frac{1}{2} mv^2$.*\n",
        "\n",
        "*Hint 2: For a spring stretched with displacement $\\Delta x$ and spring ratio $k$, its potential energy is $\\frac{1}{2} k (\\Delta x)^2$. Also, the springs have zero mass.*\n",
        "\n",
        "*Hint 3: Since $x_1$ and $x_2$ are actually functions of time $t$, in order to compute Euler-Lagrange equations you will need to take their derivative with respect to $t$. Instead of defining position and velocity as two separate symbols, you need to define position as SymPy's **Function** object and the velocity as the derivative of that function with respect to time $t$. An example is provided below.*"
      ]
    },
    {
      "cell_type": "code",
      "metadata": {
        "id": "OvgRhdLMaXRC",
        "colab": {
          "base_uri": "https://localhost:8080/",
          "height": 220
        },
        "outputId": "e3cde2aa-02dd-4b80-b5ef-f219417ec953"
      },
      "source": [
        "t = sym.symbols('t')\n",
        "# define position as function of t\n",
        "x1 = sym.Function(r'x_1')(t)\n",
        "# define velocity as derivative of position wrt t\n",
        "x1dot = x1.diff(t)\n",
        "# define acceleration as derivative of velocity wrt t\n",
        "x1ddot = x1dot.diff(t)\n",
        "\n",
        "# now write down an expression in terms of position and velocity\n",
        "expr = x1**2 + x1*x1dot\n",
        "print('\\033[1mExample expression: ')\n",
        "display(expr)\n",
        "# you can take the derivative of this expression wrt to time t\n",
        "expr_dt = expr.diff(t)\n",
        "print('\\n\\033[1mDerivative of expression w.r.t. time (t): ')\n",
        "display(expr_dt)\n",
        "# or you can take the derivative wrt the functions: x, xdot, xddot\n",
        "expr_dx = expr.diff(x1)\n",
        "print('\\n\\033[1mDerivative of expression w.r.t. x1(t): ')\n",
        "display(expr_dx)"
      ],
      "execution_count": null,
      "outputs": [
        {
          "output_type": "stream",
          "name": "stdout",
          "text": [
            "\u001b[1mExample expression: \n"
          ]
        },
        {
          "output_type": "display_data",
          "data": {
            "text/plain": [
              "<IPython.core.display.HTML object>"
            ],
            "text/html": [
              "<script src='https://cdnjs.cloudflare.com/ajax/libs/mathjax/3.1.1/latest.js?config=TeX-AMS_HTML'></script>"
            ]
          },
          "metadata": {}
        },
        {
          "output_type": "display_data",
          "data": {
            "text/plain": [
              "  2            d        \n",
              "x₁ (t) + x₁(t)⋅──(x₁(t))\n",
              "               dt       "
            ],
            "text/latex": "$\\displaystyle x_{1}^{2}{\\left(t \\right)} + x_{1}{\\left(t \\right)} \\frac{d}{d t} x_{1}{\\left(t \\right)}$"
          },
          "metadata": {}
        },
        {
          "output_type": "stream",
          "name": "stdout",
          "text": [
            "\n",
            "\u001b[1mDerivative of expression w.r.t. time (t): \n"
          ]
        },
        {
          "output_type": "display_data",
          "data": {
            "text/plain": [
              "<IPython.core.display.HTML object>"
            ],
            "text/html": [
              "<script src='https://cdnjs.cloudflare.com/ajax/libs/mathjax/3.1.1/latest.js?config=TeX-AMS_HTML'></script>"
            ]
          },
          "metadata": {}
        },
        {
          "output_type": "display_data",
          "data": {
            "text/plain": [
              "                           2                      2\n",
              "        d                 d            ⎛d        ⎞ \n",
              "2⋅x₁(t)⋅──(x₁(t)) + x₁(t)⋅───(x₁(t)) + ⎜──(x₁(t))⎟ \n",
              "        dt                  2          ⎝dt       ⎠ \n",
              "                          dt                       "
            ],
            "text/latex": "$\\displaystyle 2 x_{1}{\\left(t \\right)} \\frac{d}{d t} x_{1}{\\left(t \\right)} + x_{1}{\\left(t \\right)} \\frac{d^{2}}{d t^{2}} x_{1}{\\left(t \\right)} + \\left(\\frac{d}{d t} x_{1}{\\left(t \\right)}\\right)^{2}$"
          },
          "metadata": {}
        },
        {
          "output_type": "stream",
          "name": "stdout",
          "text": [
            "\n",
            "\u001b[1mDerivative of expression w.r.t. x1(t): \n"
          ]
        },
        {
          "output_type": "display_data",
          "data": {
            "text/plain": [
              "<IPython.core.display.HTML object>"
            ],
            "text/html": [
              "<script src='https://cdnjs.cloudflare.com/ajax/libs/mathjax/3.1.1/latest.js?config=TeX-AMS_HTML'></script>"
            ]
          },
          "metadata": {}
        },
        {
          "output_type": "display_data",
          "data": {
            "text/plain": [
              "          d        \n",
              "2⋅x₁(t) + ──(x₁(t))\n",
              "          dt       "
            ],
            "text/latex": "$\\displaystyle 2 x_{1}{\\left(t \\right)} + \\frac{d}{d t} x_{1}{\\left(t \\right)}$"
          },
          "metadata": {}
        }
      ]
    },
    {
      "cell_type": "markdown",
      "metadata": {
        "id": "Mn5Oe2QVaXSP"
      },
      "source": [
        "**Turn in: A copy of the code used to symbolically compute the Lagrangian and corresponding output of the code (i.e. the computed Lagrangian.)**"
      ]
    },
    {
      "cell_type": "code",
      "metadata": {
        "id": "YdxntM2maXSP",
        "colab": {
          "base_uri": "https://localhost:8080/",
          "height": 216
        },
        "outputId": "79ff5332-ad76-470a-8d19-2857a8993233"
      },
      "source": [
        "# You can start your implementation here :)\n",
        "m1, m2, x1, x2, k1, k2 = sym.symbols(r'm1, m2, x1, x2, k1, k2')\n",
        "t = sym.symbols('t')\n",
        "# defining positions of block1 and block2 as functions of t\n",
        "x1 = sym.Function(r'x_1')(t)\n",
        "x2 = sym.Function(r'x_2')(t)\n",
        "# defining velocities of block1 and block2 as derivatives of positions\n",
        "x1dot = x1.diff(t)\n",
        "x2dot = x2.diff(t)\n",
        "\n",
        "\n",
        "# Writing the expression for Kinetic energies of block 1 and 2\n",
        "print(\"\\033[1mKinetic energy of the system: \")\n",
        "KE_expr = 0.5*m1*x1dot**2 + 0.5*m2*x2dot**2\n",
        "display(KE_expr)\n",
        "\n",
        "# Writing the expression for potential energies of block 1 and 2\n",
        "print(\"\\n\\033[1mPotential energy of the system: \")\n",
        "PE_expr = 0.5*k1*x1**2 + 0.5*k2*(x2 - x1)**2\n",
        "display(PE_expr)\n",
        "\n",
        "# Lagrangian of the system is given by KE - PE\n",
        "print(\"\\n\\033[1mExpression for Lagragian of the system: \")\n",
        "L_expr = KE_expr - PE_expr\n",
        "display(L_expr)"
      ],
      "execution_count": null,
      "outputs": [
        {
          "output_type": "stream",
          "name": "stdout",
          "text": [
            "\u001b[1mKinetic energy of the system: \n"
          ]
        },
        {
          "output_type": "display_data",
          "data": {
            "text/plain": [
              "<IPython.core.display.HTML object>"
            ],
            "text/html": [
              "<script src='https://cdnjs.cloudflare.com/ajax/libs/mathjax/3.1.1/latest.js?config=TeX-AMS_HTML'></script>"
            ]
          },
          "metadata": {}
        },
        {
          "output_type": "display_data",
          "data": {
            "text/plain": [
              "                  2                     2\n",
              "       ⎛d        ⎞           ⎛d        ⎞ \n",
              "0.5⋅m₁⋅⎜──(x₁(t))⎟  + 0.5⋅m₂⋅⎜──(x₂(t))⎟ \n",
              "       ⎝dt       ⎠           ⎝dt       ⎠ "
            ],
            "text/latex": "$\\displaystyle 0.5 m_{1} \\left(\\frac{d}{d t} x_{1}{\\left(t \\right)}\\right)^{2} + 0.5 m_{2} \\left(\\frac{d}{d t} x_{2}{\\left(t \\right)}\\right)^{2}$"
          },
          "metadata": {}
        },
        {
          "output_type": "stream",
          "name": "stdout",
          "text": [
            "\n",
            "\u001b[1mPotential energy of the system: \n"
          ]
        },
        {
          "output_type": "display_data",
          "data": {
            "text/plain": [
              "<IPython.core.display.HTML object>"
            ],
            "text/html": [
              "<script src='https://cdnjs.cloudflare.com/ajax/libs/mathjax/3.1.1/latest.js?config=TeX-AMS_HTML'></script>"
            ]
          },
          "metadata": {}
        },
        {
          "output_type": "display_data",
          "data": {
            "text/plain": [
              "         2                             2\n",
              "0.5⋅k₁⋅x₁ (t) + 0.5⋅k₂⋅(-x₁(t) + x₂(t)) "
            ],
            "text/latex": "$\\displaystyle 0.5 k_{1} x_{1}^{2}{\\left(t \\right)} + 0.5 k_{2} \\left(- x_{1}{\\left(t \\right)} + x_{2}{\\left(t \\right)}\\right)^{2}$"
          },
          "metadata": {}
        },
        {
          "output_type": "stream",
          "name": "stdout",
          "text": [
            "\n",
            "\u001b[1mExpression for Lagragian of the system: \n"
          ]
        },
        {
          "output_type": "display_data",
          "data": {
            "text/plain": [
              "<IPython.core.display.HTML object>"
            ],
            "text/html": [
              "<script src='https://cdnjs.cloudflare.com/ajax/libs/mathjax/3.1.1/latest.js?config=TeX-AMS_HTML'></script>"
            ]
          },
          "metadata": {}
        },
        {
          "output_type": "display_data",
          "data": {
            "text/plain": [
              "                                                               2                     2\n",
              "           2                             2          ⎛d        ⎞           ⎛d        ⎞ \n",
              "- 0.5⋅k₁⋅x₁ (t) - 0.5⋅k₂⋅(-x₁(t) + x₂(t))  + 0.5⋅m₁⋅⎜──(x₁(t))⎟  + 0.5⋅m₂⋅⎜──(x₂(t))⎟ \n",
              "                                                    ⎝dt       ⎠           ⎝dt       ⎠ "
            ],
            "text/latex": "$\\displaystyle - 0.5 k_{1} x_{1}^{2}{\\left(t \\right)} - 0.5 k_{2} \\left(- x_{1}{\\left(t \\right)} + x_{2}{\\left(t \\right)}\\right)^{2} + 0.5 m_{1} \\left(\\frac{d}{d t} x_{1}{\\left(t \\right)}\\right)^{2} + 0.5 m_{2} \\left(\\frac{d}{d t} x_{2}{\\left(t \\right)}\\right)^{2}$"
          },
          "metadata": {}
        }
      ]
    },
    {
      "cell_type": "markdown",
      "metadata": {
        "id": "Xuw8SIBPaXSS"
      },
      "source": [
        "## Problem 3 (10pts)\n",
        "\n",
        "Based on your solution for Problem 2, compute the Euler-Lagrange equations for this system.\n",
        "\n",
        "*Hint 1: In this problem, the system has two configuration variables. Thus, when taking the derivative of the Lagrangian with respect to the system state vector, the derivative is also a vector (sometimes also called the Jacobian of the Lagrangian with respect to system states). Below is an example of several ways to compute the derivative with respect to a vector in SymPy.*"
      ]
    },
    {
      "cell_type": "code",
      "source": [
        "print('\\033[1mDifferent ways of taking the derivative of the Lagrangian with respect ot the system state vector (q)')\n",
        "t = sym.symbols('t')\n",
        "\n",
        "# define two system states as functions\n",
        "x1 = sym.Function(r'x_1')(t)\n",
        "x2 = sym.Function(r'x_2')(t)\n",
        "# wrap system states into one vector (in SymPy would be Matrix)\n",
        "q = sym.Matrix([x1, x2])\n",
        "# define an expression in terms of x1(t) and x2(t)\n",
        "J = sym.sin(x1**2) + sym.cos(x2)**2\n",
        "print('\\n\\033[1mExample expression ')\n",
        "display(J)\n",
        "\n",
        "# compute derivative wrt a vector, method 1\n",
        "# wrap the expression into a SymPy Matrix\n",
        "J_mat = sym.Matrix([J])\n",
        "# SymPy Matrix has built-in method for Jacobian\n",
        "dJdq = J_mat.jacobian(q)\n",
        "print('\\n\\033[1mMethod: built-in Jacobian derivative')\n",
        "display(dJdq) # note that dJdq is 1-by-2 vector, not 2-by-1 as q\n",
        "\n",
        "# compute derivative wrt a vector, method 2: do it one by one\n",
        "dJdx1 = J.diff(x1)\n",
        "dJdx2 = J.diff(x2)\n",
        "dJdq = sym.Matrix([dJdx1, dJdx2]).T # transpose so dimension can match\n",
        "print('\\n\\033[1mMethod: one-by-one')\n",
        "display(dJdq)\n",
        "\n",
        "# compute derivative wrt a vector, method 3: do it one by one ... but in a \"fancy\" way\n",
        "dJdq = []\n",
        "for x in q:\n",
        "    dJdq.append(J.diff(x))\n",
        "dJdq = sym.Matrix([dJdq])\n",
        "print('\\n\\033[1mMethod: for loop')\n",
        "display(dJdq)"
      ],
      "metadata": {
        "colab": {
          "base_uri": "https://localhost:8080/",
          "height": 264
        },
        "id": "e7BOfEj4T7u-",
        "outputId": "3e554d8f-8f36-4f8f-dc23-bbc1839c941a"
      },
      "execution_count": null,
      "outputs": [
        {
          "output_type": "stream",
          "name": "stdout",
          "text": [
            "\u001b[1mDifferent ways of taking the derivative of the Lagrangian with respect ot the system state vector (q)\n",
            "\n",
            "\u001b[1mExample expression \n"
          ]
        },
        {
          "output_type": "display_data",
          "data": {
            "text/plain": [
              "<IPython.core.display.HTML object>"
            ],
            "text/html": [
              "<script src='https://cdnjs.cloudflare.com/ajax/libs/mathjax/3.1.1/latest.js?config=TeX-AMS_HTML'></script>"
            ]
          },
          "metadata": {}
        },
        {
          "output_type": "display_data",
          "data": {
            "text/plain": [
              "   ⎛  2   ⎞      2       \n",
              "sin⎝x₁ (t)⎠ + cos (x₂(t))"
            ],
            "text/latex": "$\\displaystyle \\sin{\\left(x_{1}^{2}{\\left(t \\right)} \\right)} + \\cos^{2}{\\left(x_{2}{\\left(t \\right)} \\right)}$"
          },
          "metadata": {}
        },
        {
          "output_type": "stream",
          "name": "stdout",
          "text": [
            "\n",
            "\u001b[1mMethod: built-in Jacobian derivative\n"
          ]
        },
        {
          "output_type": "display_data",
          "data": {
            "text/plain": [
              "<IPython.core.display.HTML object>"
            ],
            "text/html": [
              "<script src='https://cdnjs.cloudflare.com/ajax/libs/mathjax/3.1.1/latest.js?config=TeX-AMS_HTML'></script>"
            ]
          },
          "metadata": {}
        },
        {
          "output_type": "display_data",
          "data": {
            "text/plain": [
              "⎡           ⎛  2   ⎞                          ⎤\n",
              "⎣2⋅x₁(t)⋅cos⎝x₁ (t)⎠  -2⋅sin(x₂(t))⋅cos(x₂(t))⎦"
            ],
            "text/latex": "$\\displaystyle \\left[\\begin{matrix}2 x_{1}{\\left(t \\right)} \\cos{\\left(x_{1}^{2}{\\left(t \\right)} \\right)} & - 2 \\sin{\\left(x_{2}{\\left(t \\right)} \\right)} \\cos{\\left(x_{2}{\\left(t \\right)} \\right)}\\end{matrix}\\right]$"
          },
          "metadata": {}
        },
        {
          "output_type": "stream",
          "name": "stdout",
          "text": [
            "\n",
            "\u001b[1mMethod: one-by-one\n"
          ]
        },
        {
          "output_type": "display_data",
          "data": {
            "text/plain": [
              "<IPython.core.display.HTML object>"
            ],
            "text/html": [
              "<script src='https://cdnjs.cloudflare.com/ajax/libs/mathjax/3.1.1/latest.js?config=TeX-AMS_HTML'></script>"
            ]
          },
          "metadata": {}
        },
        {
          "output_type": "display_data",
          "data": {
            "text/plain": [
              "⎡           ⎛  2   ⎞                          ⎤\n",
              "⎣2⋅x₁(t)⋅cos⎝x₁ (t)⎠  -2⋅sin(x₂(t))⋅cos(x₂(t))⎦"
            ],
            "text/latex": "$\\displaystyle \\left[\\begin{matrix}2 x_{1}{\\left(t \\right)} \\cos{\\left(x_{1}^{2}{\\left(t \\right)} \\right)} & - 2 \\sin{\\left(x_{2}{\\left(t \\right)} \\right)} \\cos{\\left(x_{2}{\\left(t \\right)} \\right)}\\end{matrix}\\right]$"
          },
          "metadata": {}
        },
        {
          "output_type": "stream",
          "name": "stdout",
          "text": [
            "\n",
            "\u001b[1mMethod: for loop\n"
          ]
        },
        {
          "output_type": "display_data",
          "data": {
            "text/plain": [
              "<IPython.core.display.HTML object>"
            ],
            "text/html": [
              "<script src='https://cdnjs.cloudflare.com/ajax/libs/mathjax/3.1.1/latest.js?config=TeX-AMS_HTML'></script>"
            ]
          },
          "metadata": {}
        },
        {
          "output_type": "display_data",
          "data": {
            "text/plain": [
              "⎡           ⎛  2   ⎞                          ⎤\n",
              "⎣2⋅x₁(t)⋅cos⎝x₁ (t)⎠  -2⋅sin(x₂(t))⋅cos(x₂(t))⎦"
            ],
            "text/latex": "$\\displaystyle \\left[\\begin{matrix}2 x_{1}{\\left(t \\right)} \\cos{\\left(x_{1}^{2}{\\left(t \\right)} \\right)} & - 2 \\sin{\\left(x_{2}{\\left(t \\right)} \\right)} \\cos{\\left(x_{2}{\\left(t \\right)} \\right)}\\end{matrix}\\right]$"
          },
          "metadata": {}
        }
      ]
    },
    {
      "cell_type": "markdown",
      "source": [
        "**Turn in: A copy of the code used to symbolically compute the Euler-Lagrange equations and the code outpute (i.e. the resulting equations).**"
      ],
      "metadata": {
        "id": "_HVwj1s8T-pw"
      }
    },
    {
      "cell_type": "code",
      "metadata": {
        "id": "o2AafVE6aXSS",
        "colab": {
          "base_uri": "https://localhost:8080/",
          "height": 328
        },
        "outputId": "5eaca3b0-3bcc-4d37-d9a6-3af27313bff1"
      },
      "source": [
        "# You can start your implementation here :)\n",
        "t = sym.symbols('t')\n",
        "# defining positions of block1 and block2 as functions of t (system states for q)\n",
        "x1 = sym.Function(r'x_1')(t)\n",
        "x2 = sym.Function(r'x_2')(t)\n",
        "# defining velocities of block1 and block2 as derivatives of positions (system states for q2)\n",
        "x1dot = x1.diff(t)\n",
        "x2dot = x2.diff(t)\n",
        "\n",
        "# defining the two system state vectors\n",
        "q = sym.Matrix([x1, x2])\n",
        "q_dot = sym.Matrix([x1dot, x2dot])\n",
        "\n",
        "# using the Lagrangian expression from problem 2\n",
        "print(\"\\033[1mLagrangian expression for the system: \")\n",
        "display(L_expr)\n",
        "\n",
        "# wrapping the expression in a sympy matrix and computing the derivative\n",
        "J_mat = sym.Matrix([L_expr])\n",
        "dJdq = J_mat.jacobian(q)\n",
        "print(\"\\n\\033[1mFirst term of the Euler-Lagrange equations: \")\n",
        "display(dJdq.T)\n",
        "\n",
        "# computing derivative wrt q_dot for second term of E-L equations\n",
        "dJdq_dot = J_mat.jacobian(q_dot)\n",
        "# display(dJdq_dot)\n",
        "\n",
        "# differentiating dJdq_dot wrt t\n",
        "print(\"\\n\\033[1mSecond term of the Euler-Lagrange equations: \")\n",
        "dJdq_dot_dot = dJdq_dot.diff(t)\n",
        "display(dJdq_dot_dot.T)\n",
        "\n",
        "# Combining the calculated terms for the E-L equations\n",
        "EL_expr = dJdq - dJdq_dot_dot\n",
        "print(\"\\n\\033[1mExpression for the Euler-Lagrange equations: \")\n",
        "display(EL_expr.T)"
      ],
      "execution_count": null,
      "outputs": [
        {
          "output_type": "stream",
          "name": "stdout",
          "text": [
            "\u001b[1mLagrangian expression for the system: \n"
          ]
        },
        {
          "output_type": "display_data",
          "data": {
            "text/plain": [
              "<IPython.core.display.HTML object>"
            ],
            "text/html": [
              "<script src='https://cdnjs.cloudflare.com/ajax/libs/mathjax/3.1.1/latest.js?config=TeX-AMS_HTML'></script>"
            ]
          },
          "metadata": {}
        },
        {
          "output_type": "display_data",
          "data": {
            "text/plain": [
              "                                                               2                     2\n",
              "           2                             2          ⎛d        ⎞           ⎛d        ⎞ \n",
              "- 0.5⋅k₁⋅x₁ (t) - 0.5⋅k₂⋅(-x₁(t) + x₂(t))  + 0.5⋅m₁⋅⎜──(x₁(t))⎟  + 0.5⋅m₂⋅⎜──(x₂(t))⎟ \n",
              "                                                    ⎝dt       ⎠           ⎝dt       ⎠ "
            ],
            "text/latex": "$\\displaystyle - 0.5 k_{1} x_{1}^{2}{\\left(t \\right)} - 0.5 k_{2} \\left(- x_{1}{\\left(t \\right)} + x_{2}{\\left(t \\right)}\\right)^{2} + 0.5 m_{1} \\left(\\frac{d}{d t} x_{1}{\\left(t \\right)}\\right)^{2} + 0.5 m_{2} \\left(\\frac{d}{d t} x_{2}{\\left(t \\right)}\\right)^{2}$"
          },
          "metadata": {}
        },
        {
          "output_type": "stream",
          "name": "stdout",
          "text": [
            "\n",
            "\u001b[1mFirst term of the Euler-Lagrange equations: \n"
          ]
        },
        {
          "output_type": "display_data",
          "data": {
            "text/plain": [
              "<IPython.core.display.HTML object>"
            ],
            "text/html": [
              "<script src='https://cdnjs.cloudflare.com/ajax/libs/mathjax/3.1.1/latest.js?config=TeX-AMS_HTML'></script>"
            ]
          },
          "metadata": {}
        },
        {
          "output_type": "display_data",
          "data": {
            "text/plain": [
              "⎡-1.0⋅k₁⋅x₁(t) - 0.5⋅k₂⋅(2⋅x₁(t) - 2⋅x₂(t))⎤\n",
              "⎢                                          ⎥\n",
              "⎣       -0.5⋅k₂⋅(-2⋅x₁(t) + 2⋅x₂(t))       ⎦"
            ],
            "text/latex": "$\\displaystyle \\left[\\begin{matrix}- 1.0 k_{1} x_{1}{\\left(t \\right)} - 0.5 k_{2} \\left(2 x_{1}{\\left(t \\right)} - 2 x_{2}{\\left(t \\right)}\\right)\\\\- 0.5 k_{2} \\left(- 2 x_{1}{\\left(t \\right)} + 2 x_{2}{\\left(t \\right)}\\right)\\end{matrix}\\right]$"
          },
          "metadata": {}
        },
        {
          "output_type": "stream",
          "name": "stdout",
          "text": [
            "\n",
            "\u001b[1mSecond term of the Euler-Lagrange equations: \n"
          ]
        },
        {
          "output_type": "display_data",
          "data": {
            "text/plain": [
              "<IPython.core.display.HTML object>"
            ],
            "text/html": [
              "<script src='https://cdnjs.cloudflare.com/ajax/libs/mathjax/3.1.1/latest.js?config=TeX-AMS_HTML'></script>"
            ]
          },
          "metadata": {}
        },
        {
          "output_type": "display_data",
          "data": {
            "text/plain": [
              "⎡        2        ⎤\n",
              "⎢       d         ⎥\n",
              "⎢1.0⋅m₁⋅───(x₁(t))⎥\n",
              "⎢         2       ⎥\n",
              "⎢       dt        ⎥\n",
              "⎢                 ⎥\n",
              "⎢        2        ⎥\n",
              "⎢       d         ⎥\n",
              "⎢1.0⋅m₂⋅───(x₂(t))⎥\n",
              "⎢         2       ⎥\n",
              "⎣       dt        ⎦"
            ],
            "text/latex": "$\\displaystyle \\left[\\begin{matrix}1.0 m_{1} \\frac{d^{2}}{d t^{2}} x_{1}{\\left(t \\right)}\\\\1.0 m_{2} \\frac{d^{2}}{d t^{2}} x_{2}{\\left(t \\right)}\\end{matrix}\\right]$"
          },
          "metadata": {}
        },
        {
          "output_type": "stream",
          "name": "stdout",
          "text": [
            "\n",
            "\u001b[1mExpression for the Euler-Lagrange equations: \n"
          ]
        },
        {
          "output_type": "display_data",
          "data": {
            "text/plain": [
              "<IPython.core.display.HTML object>"
            ],
            "text/html": [
              "<script src='https://cdnjs.cloudflare.com/ajax/libs/mathjax/3.1.1/latest.js?config=TeX-AMS_HTML'></script>"
            ]
          },
          "metadata": {}
        },
        {
          "output_type": "display_data",
          "data": {
            "text/plain": [
              "⎡                                                     2        ⎤\n",
              "⎢                                                    d         ⎥\n",
              "⎢-1.0⋅k₁⋅x₁(t) - 0.5⋅k₂⋅(2⋅x₁(t) - 2⋅x₂(t)) - 1.0⋅m₁⋅───(x₁(t))⎥\n",
              "⎢                                                      2       ⎥\n",
              "⎢                                                    dt        ⎥\n",
              "⎢                                                              ⎥\n",
              "⎢                                              2               ⎥\n",
              "⎢                                             d                ⎥\n",
              "⎢       -0.5⋅k₂⋅(-2⋅x₁(t) + 2⋅x₂(t)) - 1.0⋅m₂⋅───(x₂(t))       ⎥\n",
              "⎢                                               2              ⎥\n",
              "⎣                                             dt               ⎦"
            ],
            "text/latex": "$\\displaystyle \\left[\\begin{matrix}- 1.0 k_{1} x_{1}{\\left(t \\right)} - 0.5 k_{2} \\left(2 x_{1}{\\left(t \\right)} - 2 x_{2}{\\left(t \\right)}\\right) - 1.0 m_{1} \\frac{d^{2}}{d t^{2}} x_{1}{\\left(t \\right)}\\\\- 0.5 k_{2} \\left(- 2 x_{1}{\\left(t \\right)} + 2 x_{2}{\\left(t \\right)}\\right) - 1.0 m_{2} \\frac{d^{2}}{d t^{2}} x_{2}{\\left(t \\right)}\\end{matrix}\\right]$"
          },
          "metadata": {}
        }
      ]
    },
    {
      "cell_type": "markdown",
      "metadata": {
        "id": "72Jg3xWJaXSw"
      },
      "source": [
        "## Problem 4 (15pts)\n",
        "\n",
        "Based on your Euler-Lagrange equations from Problem 3, use Python's SymPy package to solve the equations for the accelerations of the two blocks $\\ddot{x}_1, \\ddot{x}_2$, in terms of position $x_1, x_2$, and velocity $\\dot{x}_1, \\dot{x}_2$. Compare your answer to Problem 1 to see if they match with each other and comment if this is not the case.\n",
        "\n",
        "*Hint 1: Since you need to solve a set of multiple equations symbolically in SymPy, it's recommended to wrap both sides of the equations into SymPy's Matrix object. As an example, below is the code solving the following set of equations (feel free to use this code as a starting point).*\n",
        "$$\n",
        "\\begin{aligned}\n",
        "\\left\\{\n",
        "    \\begin{array}{ll}\n",
        "      x^2 + y = 3 \\\\\n",
        "      x + y = 1\n",
        "    \\end{array}\n",
        "\\right.\n",
        "\\end{aligned}\n",
        "$$"
      ]
    },
    {
      "cell_type": "code",
      "metadata": {
        "id": "VES-iwYBaXSz",
        "colab": {
          "base_uri": "https://localhost:8080/",
          "height": 174
        },
        "outputId": "7e686b29-fff6-4c30-c4ee-afbff80d2aec"
      },
      "source": [
        "x,y = sym.symbols(r'x,y')\n",
        "# define left hand side as a matrix\n",
        "lhs = sym.Matrix([x**2+y, x+y])\n",
        "\n",
        "# define right hand side as a Matrix\n",
        "rhs = sym.Matrix([3, 1])\n",
        "\n",
        "# define the equations\n",
        "eqn = sym.Eq(lhs, rhs)\n",
        "\n",
        "# solve it for both x and y\n",
        "q = sym.Matrix([x, y])\n",
        "soln = sym.solve(eqn, q, dict=True) # this will return the solution\n",
        "                                     # as a Python dictionary\n",
        "for sol in soln:\n",
        "    print('\\n\\033[1mSolution: ')\n",
        "    for v in q:\n",
        "        display(sym.Eq(v, sol[v]))"
      ],
      "execution_count": null,
      "outputs": [
        {
          "output_type": "stream",
          "name": "stdout",
          "text": [
            "\n",
            "\u001b[1mSolution: \n"
          ]
        },
        {
          "output_type": "display_data",
          "data": {
            "text/plain": [
              "<IPython.core.display.HTML object>"
            ],
            "text/html": [
              "<script src='https://cdnjs.cloudflare.com/ajax/libs/mathjax/3.1.1/latest.js?config=TeX-AMS_HTML'></script>"
            ]
          },
          "metadata": {}
        },
        {
          "output_type": "display_data",
          "data": {
            "text/plain": [
              "x = -1"
            ],
            "text/latex": "$\\displaystyle x = -1$"
          },
          "metadata": {}
        },
        {
          "output_type": "display_data",
          "data": {
            "text/plain": [
              "<IPython.core.display.HTML object>"
            ],
            "text/html": [
              "<script src='https://cdnjs.cloudflare.com/ajax/libs/mathjax/3.1.1/latest.js?config=TeX-AMS_HTML'></script>"
            ]
          },
          "metadata": {}
        },
        {
          "output_type": "display_data",
          "data": {
            "text/plain": [
              "y = 2"
            ],
            "text/latex": "$\\displaystyle y = 2$"
          },
          "metadata": {}
        },
        {
          "output_type": "stream",
          "name": "stdout",
          "text": [
            "\n",
            "\u001b[1mSolution: \n"
          ]
        },
        {
          "output_type": "display_data",
          "data": {
            "text/plain": [
              "<IPython.core.display.HTML object>"
            ],
            "text/html": [
              "<script src='https://cdnjs.cloudflare.com/ajax/libs/mathjax/3.1.1/latest.js?config=TeX-AMS_HTML'></script>"
            ]
          },
          "metadata": {}
        },
        {
          "output_type": "display_data",
          "data": {
            "text/plain": [
              "x = 2"
            ],
            "text/latex": "$\\displaystyle x = 2$"
          },
          "metadata": {}
        },
        {
          "output_type": "display_data",
          "data": {
            "text/plain": [
              "<IPython.core.display.HTML object>"
            ],
            "text/html": [
              "<script src='https://cdnjs.cloudflare.com/ajax/libs/mathjax/3.1.1/latest.js?config=TeX-AMS_HTML'></script>"
            ]
          },
          "metadata": {}
        },
        {
          "output_type": "display_data",
          "data": {
            "text/plain": [
              "y = -1"
            ],
            "text/latex": "$\\displaystyle y = -1$"
          },
          "metadata": {}
        }
      ]
    },
    {
      "cell_type": "markdown",
      "metadata": {
        "id": "XpXlPCKGaXS1"
      },
      "source": [
        "**Turn in: A copy of the code you used to solve the Euler-Lagrange equations and the code output (i.e. the resulting symbolic solutions).**"
      ]
    },
    {
      "cell_type": "code",
      "metadata": {
        "id": "T-A50gSgaXS2",
        "colab": {
          "base_uri": "https://localhost:8080/",
          "height": 218
        },
        "outputId": "673f93f9-359a-4b66-e450-66ecec67bf68"
      },
      "source": [
        "# You can start your implementation here :)\n",
        "# using the Euler-Lagrange equations from problem 3\n",
        "print(\"\\n\\033[1mEuler Lagrange equation for the system: \")\n",
        "display(EL_expr.T)\n",
        "\n",
        "# defining the rhs of the equation\n",
        "rhs = sym.Matrix([0, 0])\n",
        "\n",
        "# defining the equations\n",
        "EL_eqn = sym.Eq(EL_expr.T, rhs)\n",
        "\n",
        "# solving for accelerations of block1 and block 2\n",
        "x1ddot = x1dot.diff(t)\n",
        "x2ddot = x2dot.diff(t)\n",
        "q = sym.Matrix([x1ddot, x2ddot])\n",
        "soln = sym.solve(EL_eqn, q, dict=True)\n",
        "\n",
        "for sol in soln:\n",
        "    print('\\n\\033[1mAccelerations: ')\n",
        "    for v in q:\n",
        "        display(sym.Eq(v, sol[v]))\n",
        "\n",
        "\n"
      ],
      "execution_count": null,
      "outputs": [
        {
          "output_type": "stream",
          "name": "stdout",
          "text": [
            "\n",
            "\u001b[1mEuler Lagrange equation for the system: \n"
          ]
        },
        {
          "output_type": "display_data",
          "data": {
            "text/plain": [
              "<IPython.core.display.HTML object>"
            ],
            "text/html": [
              "<script src='https://cdnjs.cloudflare.com/ajax/libs/mathjax/3.1.1/latest.js?config=TeX-AMS_HTML'></script>"
            ]
          },
          "metadata": {}
        },
        {
          "output_type": "display_data",
          "data": {
            "text/plain": [
              "⎡                                                     2        ⎤\n",
              "⎢                                                    d         ⎥\n",
              "⎢-1.0⋅k₁⋅x₁(t) - 0.5⋅k₂⋅(2⋅x₁(t) - 2⋅x₂(t)) - 1.0⋅m₁⋅───(x₁(t))⎥\n",
              "⎢                                                      2       ⎥\n",
              "⎢                                                    dt        ⎥\n",
              "⎢                                                              ⎥\n",
              "⎢                                              2               ⎥\n",
              "⎢                                             d                ⎥\n",
              "⎢       -0.5⋅k₂⋅(-2⋅x₁(t) + 2⋅x₂(t)) - 1.0⋅m₂⋅───(x₂(t))       ⎥\n",
              "⎢                                               2              ⎥\n",
              "⎣                                             dt               ⎦"
            ],
            "text/latex": "$\\displaystyle \\left[\\begin{matrix}- 1.0 k_{1} x_{1}{\\left(t \\right)} - 0.5 k_{2} \\left(2 x_{1}{\\left(t \\right)} - 2 x_{2}{\\left(t \\right)}\\right) - 1.0 m_{1} \\frac{d^{2}}{d t^{2}} x_{1}{\\left(t \\right)}\\\\- 0.5 k_{2} \\left(- 2 x_{1}{\\left(t \\right)} + 2 x_{2}{\\left(t \\right)}\\right) - 1.0 m_{2} \\frac{d^{2}}{d t^{2}} x_{2}{\\left(t \\right)}\\end{matrix}\\right]$"
          },
          "metadata": {}
        },
        {
          "output_type": "stream",
          "name": "stdout",
          "text": [
            "\n",
            "\u001b[1mAccelerations: \n"
          ]
        },
        {
          "output_type": "display_data",
          "data": {
            "text/plain": [
              "<IPython.core.display.HTML object>"
            ],
            "text/html": [
              "<script src='https://cdnjs.cloudflare.com/ajax/libs/mathjax/3.1.1/latest.js?config=TeX-AMS_HTML'></script>"
            ]
          },
          "metadata": {}
        },
        {
          "output_type": "display_data",
          "data": {
            "text/plain": [
              " 2                                           \n",
              "d              k₁⋅x₁(t)   k₂⋅x₁(t)   k₂⋅x₂(t)\n",
              "───(x₁(t)) = - ──────── - ──────── + ────────\n",
              "  2               m₁         m₁         m₁   \n",
              "dt                                           "
            ],
            "text/latex": "$\\displaystyle \\frac{d^{2}}{d t^{2}} x_{1}{\\left(t \\right)} = - \\frac{k_{1} x_{1}{\\left(t \\right)}}{m_{1}} - \\frac{k_{2} x_{1}{\\left(t \\right)}}{m_{1}} + \\frac{k_{2} x_{2}{\\left(t \\right)}}{m_{1}}$"
          },
          "metadata": {}
        },
        {
          "output_type": "display_data",
          "data": {
            "text/plain": [
              "<IPython.core.display.HTML object>"
            ],
            "text/html": [
              "<script src='https://cdnjs.cloudflare.com/ajax/libs/mathjax/3.1.1/latest.js?config=TeX-AMS_HTML'></script>"
            ]
          },
          "metadata": {}
        },
        {
          "output_type": "display_data",
          "data": {
            "text/plain": [
              " 2                              \n",
              "d            k₂⋅x₁(t)   k₂⋅x₂(t)\n",
              "───(x₂(t)) = ──────── - ────────\n",
              "  2             m₂         m₂   \n",
              "dt                              "
            ],
            "text/latex": "$\\displaystyle \\frac{d^{2}}{d t^{2}} x_{2}{\\left(t \\right)} = \\frac{k_{2} x_{1}{\\left(t \\right)}}{m_{2}} - \\frac{k_{2} x_{2}{\\left(t \\right)}}{m_{2}}$"
          },
          "metadata": {}
        }
      ]
    },
    {
      "cell_type": "markdown",
      "metadata": {
        "id": "rmzz-xtCaXS4"
      },
      "source": [
        "## Problem 5 (10pts)"
      ]
    },
    {
      "cell_type": "code",
      "source": [
        "from IPython.core.display import HTML\n",
        "display(HTML(\"<table><tr><td><img src='https://raw.githubusercontent.com/MuchenSun/ME314pngs/master/dyninvpend.png' width=500' height='350'></table>\"))"
      ],
      "metadata": {
        "colab": {
          "base_uri": "https://localhost:8080/",
          "height": 377
        },
        "id": "q3lbk_JjUG7w",
        "outputId": "522688ef-e603-4231-d92e-ec08846119ea"
      },
      "execution_count": null,
      "outputs": [
        {
          "output_type": "display_data",
          "data": {
            "text/plain": [
              "<IPython.core.display.HTML object>"
            ],
            "text/html": [
              "<table><tr><td><img src='https://raw.githubusercontent.com/MuchenSun/ME314pngs/master/dyninvpend.png' width=500' height='350'></table>"
            ]
          },
          "metadata": {}
        }
      ]
    },
    {
      "cell_type": "markdown",
      "source": [
        "\n",
        "You are given the unforced inverted cart-pendulum as shown below. The pendulum is in gravity and can swing freely (the cart will not interfere with pendulum's motion). The cart can move freely in the horizontal direction. Take $x$ and $\\theta$ as the system configuration variables and compute the Lagrangian of the system using Python's SymPy package. Provide symoblic solution of the Lagrangian with $m$, $R$, and $M$ as symbols instead of given constants.\n",
        "\n",
        "*Hint 1: Assume that the positive direction for the rotation of the pendulum $\\dot{\\theta}$ is clockwise. Likewise, the positive direction for the translation of the cart is to the right.*\n",
        "\n",
        "*Hint 2: You will need to define $m$, $R$, and $M$ as SymPy's symbols.*\n",
        "\n",
        "*Hint 3: Note that the pendulum is attached to the cart! In order to compute the kinetic energy of the pendulum, the velocity of the cart needs to be considered. One suggestion is to compute the velocity of the pendulum in a different coordinate system (other than Cartesian with $x$ and $y$ coordinates).*"
      ],
      "metadata": {
        "id": "W3og15vlYNcs"
      }
    },
    {
      "cell_type": "markdown",
      "metadata": {
        "id": "UBG_nJa0aXS7"
      },
      "source": [
        "**Turn in: A copy of the code used to symbolically compute Lagrangian and the code output (i.e. the computed expression of the Lagrangian).**"
      ]
    },
    {
      "cell_type": "code",
      "metadata": {
        "id": "OYaAr10EaXS7",
        "colab": {
          "base_uri": "https://localhost:8080/",
          "height": 216
        },
        "outputId": "a78d1087-8745-48bb-dcb3-c5a999b7e34c"
      },
      "source": [
        "# You can start your implementation here :)\n",
        "t = sym.symbols('t')\n",
        "# Defining theta and x as symbols\n",
        "theta = sym.Function(r'\\theta')(t)\n",
        "x = sym.Function('x')(t)\n",
        "m, R, M = sym.symbols('m ,R, M')\n",
        "g = sym.symbols('g')\n",
        "\n",
        "# define linear and angular velocities of cart and pendulum respectively\n",
        "x_dot = x.diff(t)\n",
        "theta_dot = theta.diff(t)\n",
        "\n",
        "# Writing the expression for kinetic energy of the system\n",
        "# Referring [1] and deriving the equations for our system\n",
        "print(\"\\033[1mKinetic energy of the system is: \")\n",
        "KE_expr = 0.5*(M+m)*x_dot**2 + 0.5*m*R**2*theta_dot**2 + m*R*sym.cos(theta)*x_dot*theta_dot\n",
        "display(KE_expr)\n",
        "\n",
        "# Writing the expression for potential energy of the system\n",
        "print(\"\\n\\033[1mPotential energy of the system is: \")\n",
        "PE_expr = m*g*R*sym.cos(theta)\n",
        "display(PE_expr)\n",
        "\n",
        "# Writing the expression for Lagrangian of the system\n",
        "print(\"\\n\\033[1mExpression for Lagrangian of the system is: \")\n",
        "L_expr = KE_expr - PE_expr\n",
        "display(L_expr)"
      ],
      "execution_count": null,
      "outputs": [
        {
          "output_type": "stream",
          "name": "stdout",
          "text": [
            "\u001b[1mKinetic energy of the system is: \n"
          ]
        },
        {
          "output_type": "display_data",
          "data": {
            "text/plain": [
              "<IPython.core.display.HTML object>"
            ],
            "text/html": [
              "<script src='https://cdnjs.cloudflare.com/ajax/libs/mathjax/3.1.1/latest.js?config=TeX-AMS_HTML'></script>"
            ]
          },
          "metadata": {}
        },
        {
          "output_type": "display_data",
          "data": {
            "text/plain": [
              "                        2                                                                         2\n",
              "     2   ⎛d            ⎞                       d             d                          ⎛d       ⎞ \n",
              "0.5⋅R ⋅m⋅⎜──(\\theta(t))⎟  + R⋅m⋅cos(\\theta(t))⋅──(\\theta(t))⋅──(x(t)) + (0.5⋅M + 0.5⋅m)⋅⎜──(x(t))⎟ \n",
              "         ⎝dt           ⎠                       dt            dt                         ⎝dt      ⎠ "
            ],
            "text/latex": "$\\displaystyle 0.5 R^{2} m \\left(\\frac{d}{d t} \\theta{\\left(t \\right)}\\right)^{2} + R m \\cos{\\left(\\theta{\\left(t \\right)} \\right)} \\frac{d}{d t} \\theta{\\left(t \\right)} \\frac{d}{d t} x{\\left(t \\right)} + \\left(0.5 M + 0.5 m\\right) \\left(\\frac{d}{d t} x{\\left(t \\right)}\\right)^{2}$"
          },
          "metadata": {}
        },
        {
          "output_type": "stream",
          "name": "stdout",
          "text": [
            "\n",
            "\u001b[1mPotential energy of the system is: \n"
          ]
        },
        {
          "output_type": "display_data",
          "data": {
            "text/plain": [
              "<IPython.core.display.HTML object>"
            ],
            "text/html": [
              "<script src='https://cdnjs.cloudflare.com/ajax/libs/mathjax/3.1.1/latest.js?config=TeX-AMS_HTML'></script>"
            ]
          },
          "metadata": {}
        },
        {
          "output_type": "display_data",
          "data": {
            "text/plain": [
              "R⋅g⋅m⋅cos(\\theta(t))"
            ],
            "text/latex": "$\\displaystyle R g m \\cos{\\left(\\theta{\\left(t \\right)} \\right)}$"
          },
          "metadata": {}
        },
        {
          "output_type": "stream",
          "name": "stdout",
          "text": [
            "\n",
            "\u001b[1mExpression for Lagrangian of the system is: \n"
          ]
        },
        {
          "output_type": "display_data",
          "data": {
            "text/plain": [
              "<IPython.core.display.HTML object>"
            ],
            "text/html": [
              "<script src='https://cdnjs.cloudflare.com/ajax/libs/mathjax/3.1.1/latest.js?config=TeX-AMS_HTML'></script>"
            ]
          },
          "metadata": {}
        },
        {
          "output_type": "display_data",
          "data": {
            "text/plain": [
              "                        2                                                                          ↪\n",
              "     2   ⎛d            ⎞                                              d             d              ↪\n",
              "0.5⋅R ⋅m⋅⎜──(\\theta(t))⎟  - R⋅g⋅m⋅cos(\\theta(t)) + R⋅m⋅cos(\\theta(t))⋅──(\\theta(t))⋅──(x(t)) + (0. ↪\n",
              "         ⎝dt           ⎠                                              dt            dt             ↪\n",
              "\n",
              "↪                        2\n",
              "↪              ⎛d       ⎞ \n",
              "↪ 5⋅M + 0.5⋅m)⋅⎜──(x(t))⎟ \n",
              "↪              ⎝dt      ⎠ "
            ],
            "text/latex": "$\\displaystyle 0.5 R^{2} m \\left(\\frac{d}{d t} \\theta{\\left(t \\right)}\\right)^{2} - R g m \\cos{\\left(\\theta{\\left(t \\right)} \\right)} + R m \\cos{\\left(\\theta{\\left(t \\right)} \\right)} \\frac{d}{d t} \\theta{\\left(t \\right)} \\frac{d}{d t} x{\\left(t \\right)} + \\left(0.5 M + 0.5 m\\right) \\left(\\frac{d}{d t} x{\\left(t \\right)}\\right)^{2}$"
          },
          "metadata": {}
        }
      ]
    },
    {
      "cell_type": "markdown",
      "source": [
        "## Problem 6 (15pts)\n",
        "\n",
        "Based on your solution in Problem 5, compute the Euler-Lagrange equations for this inverted cart-pendulun system using Python's SymPy package.\n",
        "\n",
        "**Turn in: A copy of the code used to symbolically compute Euler-Lagrange equations  and the code output (i.e. the computed expression of the Lagrangian).**"
      ],
      "metadata": {
        "id": "TZOarGN7UOa8"
      }
    },
    {
      "cell_type": "code",
      "source": [
        "# You can start your implementation here :)\n",
        "# Defining the system state vector\n",
        "q = sym.Matrix([x, theta])\n",
        "\n",
        "# Defining the derivative of system state vector\n",
        "q_dot = sym.Matrix([x_dot, theta_dot])\n",
        "\n",
        "# storing the Lagrangian expression in a matrix for further computations\n",
        "print(\"\\033[1mExpression for Lagrangian of the system: \")\n",
        "J_mat = sym.Matrix([L_expr])\n",
        "display(J_mat)\n",
        "\n",
        "# calculating first term of E-L equation\n",
        "print(\"\\n\\033[1mFirst term of the Euler-Lagrange equations: \")\n",
        "dJdq = J_mat.jacobian(q)\n",
        "display(dJdq.T)\n",
        "\n",
        "# computing derivative for intermediate second term\n",
        "dJdq_dot = J_mat.jacobian(q_dot)\n",
        "# display(dJdq_dot.T)\n",
        "\n",
        "# differentiating dJdq_dot wrt t\n",
        "print(\"\\n\\033[1mSecond term of the Euler-Lagrange equations: \")\n",
        "dJdq_dot_dot = dJdq_dot.diff(t)\n",
        "display(dJdq_dot_dot.T)\n",
        "\n",
        "# Writing the expression for Euler-Lagrange equations\n",
        "print(\"\\n\\033[1mExpression for Euler-Lagrange equation: \")\n",
        "EL_expr = dJdq - dJdq_dot_dot\n",
        "display(EL_expr.T)\n"
      ],
      "metadata": {
        "id": "i_1qHTNWUNq1",
        "colab": {
          "base_uri": "https://localhost:8080/",
          "height": 316
        },
        "outputId": "7cca6204-b53b-45b6-99a9-65c6db35c781"
      },
      "execution_count": null,
      "outputs": [
        {
          "output_type": "stream",
          "name": "stdout",
          "text": [
            "\u001b[1mExpression for Lagrangian of the system: \n"
          ]
        },
        {
          "output_type": "display_data",
          "data": {
            "text/plain": [
              "<IPython.core.display.HTML object>"
            ],
            "text/html": [
              "<script src='https://cdnjs.cloudflare.com/ajax/libs/mathjax/3.1.1/latest.js?config=TeX-AMS_HTML'></script>"
            ]
          },
          "metadata": {}
        },
        {
          "output_type": "display_data",
          "data": {
            "text/plain": [
              "⎡                        2                                                                         ↪\n",
              "⎢     2   ⎛d            ⎞                                              d             d             ↪\n",
              "⎢0.5⋅R ⋅m⋅⎜──(\\theta(t))⎟  - R⋅g⋅m⋅cos(\\theta(t)) + R⋅m⋅cos(\\theta(t))⋅──(\\theta(t))⋅──(x(t)) + (0 ↪\n",
              "⎣         ⎝dt           ⎠                                              dt            dt            ↪\n",
              "\n",
              "↪                         2⎤\n",
              "↪               ⎛d       ⎞ ⎥\n",
              "↪ .5⋅M + 0.5⋅m)⋅⎜──(x(t))⎟ ⎥\n",
              "↪               ⎝dt      ⎠ ⎦"
            ],
            "text/latex": "$\\displaystyle \\left[\\begin{matrix}0.5 R^{2} m \\left(\\frac{d}{d t} \\theta{\\left(t \\right)}\\right)^{2} - R g m \\cos{\\left(\\theta{\\left(t \\right)} \\right)} + R m \\cos{\\left(\\theta{\\left(t \\right)} \\right)} \\frac{d}{d t} \\theta{\\left(t \\right)} \\frac{d}{d t} x{\\left(t \\right)} + \\left(0.5 M + 0.5 m\\right) \\left(\\frac{d}{d t} x{\\left(t \\right)}\\right)^{2}\\end{matrix}\\right]$"
          },
          "metadata": {}
        },
        {
          "output_type": "stream",
          "name": "stdout",
          "text": [
            "\n",
            "\u001b[1mFirst term of the Euler-Lagrange equations: \n"
          ]
        },
        {
          "output_type": "display_data",
          "data": {
            "text/plain": [
              "<IPython.core.display.HTML object>"
            ],
            "text/html": [
              "<script src='https://cdnjs.cloudflare.com/ajax/libs/mathjax/3.1.1/latest.js?config=TeX-AMS_HTML'></script>"
            ]
          },
          "metadata": {}
        },
        {
          "output_type": "display_data",
          "data": {
            "text/plain": [
              "⎡                               0                                ⎤\n",
              "⎢                                                                ⎥\n",
              "⎢                                          d             d       ⎥\n",
              "⎢R⋅g⋅m⋅sin(\\theta(t)) - R⋅m⋅sin(\\theta(t))⋅──(\\theta(t))⋅──(x(t))⎥\n",
              "⎣                                          dt            dt      ⎦"
            ],
            "text/latex": "$\\displaystyle \\left[\\begin{matrix}0\\\\R g m \\sin{\\left(\\theta{\\left(t \\right)} \\right)} - R m \\sin{\\left(\\theta{\\left(t \\right)} \\right)} \\frac{d}{d t} \\theta{\\left(t \\right)} \\frac{d}{d t} x{\\left(t \\right)}\\end{matrix}\\right]$"
          },
          "metadata": {}
        },
        {
          "output_type": "stream",
          "name": "stdout",
          "text": [
            "\n",
            "\u001b[1mSecond term of the Euler-Lagrange equations: \n"
          ]
        },
        {
          "output_type": "display_data",
          "data": {
            "text/plain": [
              "<IPython.core.display.HTML object>"
            ],
            "text/html": [
              "<script src='https://cdnjs.cloudflare.com/ajax/libs/mathjax/3.1.1/latest.js?config=TeX-AMS_HTML'></script>"
            ]
          },
          "metadata": {}
        },
        {
          "output_type": "display_data",
          "data": {
            "text/plain": [
              "⎡                                    2                       2                                  2  ↪\n",
              "⎢                     ⎛d            ⎞                       d                                  d   ↪\n",
              "⎢- R⋅m⋅sin(\\theta(t))⋅⎜──(\\theta(t))⎟  + R⋅m⋅cos(\\theta(t))⋅───(\\theta(t)) + 2⋅(0.5⋅M + 0.5⋅m)⋅─── ↪\n",
              "⎢                     ⎝dt           ⎠                         2                                  2 ↪\n",
              "⎢                                                           dt                                 dt  ↪\n",
              "⎢                                                                                                  ↪\n",
              "⎢            2                                                                               2     ↪\n",
              "⎢       2   d                                   d             d                             d      ↪\n",
              "⎢  1.0⋅R ⋅m⋅───(\\theta(t)) - R⋅m⋅sin(\\theta(t))⋅──(\\theta(t))⋅──(x(t)) + R⋅m⋅cos(\\theta(t))⋅───(x( ↪\n",
              "⎢             2                                 dt            dt                              2    ↪\n",
              "⎣           dt                                                                              dt     ↪\n",
              "\n",
              "↪       ⎤\n",
              "↪       ⎥\n",
              "↪ (x(t))⎥\n",
              "↪       ⎥\n",
              "↪       ⎥\n",
              "↪       ⎥\n",
              "↪       ⎥\n",
              "↪       ⎥\n",
              "↪ t))   ⎥\n",
              "↪       ⎥\n",
              "↪       ⎦"
            ],
            "text/latex": "$\\displaystyle \\left[\\begin{matrix}- R m \\sin{\\left(\\theta{\\left(t \\right)} \\right)} \\left(\\frac{d}{d t} \\theta{\\left(t \\right)}\\right)^{2} + R m \\cos{\\left(\\theta{\\left(t \\right)} \\right)} \\frac{d^{2}}{d t^{2}} \\theta{\\left(t \\right)} + 2 \\left(0.5 M + 0.5 m\\right) \\frac{d^{2}}{d t^{2}} x{\\left(t \\right)}\\\\1.0 R^{2} m \\frac{d^{2}}{d t^{2}} \\theta{\\left(t \\right)} - R m \\sin{\\left(\\theta{\\left(t \\right)} \\right)} \\frac{d}{d t} \\theta{\\left(t \\right)} \\frac{d}{d t} x{\\left(t \\right)} + R m \\cos{\\left(\\theta{\\left(t \\right)} \\right)} \\frac{d^{2}}{d t^{2}} x{\\left(t \\right)}\\end{matrix}\\right]$"
          },
          "metadata": {}
        },
        {
          "output_type": "stream",
          "name": "stdout",
          "text": [
            "\n",
            "\u001b[1mExpression for Euler-Lagrange equation: \n"
          ]
        },
        {
          "output_type": "display_data",
          "data": {
            "text/plain": [
              "<IPython.core.display.HTML object>"
            ],
            "text/html": [
              "<script src='https://cdnjs.cloudflare.com/ajax/libs/mathjax/3.1.1/latest.js?config=TeX-AMS_HTML'></script>"
            ]
          },
          "metadata": {}
        },
        {
          "output_type": "display_data",
          "data": {
            "text/plain": [
              "⎡                                  2                       2                                  2    ↪\n",
              "⎢                   ⎛d            ⎞                       d                                  d     ↪\n",
              "⎢R⋅m⋅sin(\\theta(t))⋅⎜──(\\theta(t))⎟  - R⋅m⋅cos(\\theta(t))⋅───(\\theta(t)) - 2⋅(0.5⋅M + 0.5⋅m)⋅───(x ↪\n",
              "⎢                   ⎝dt           ⎠                         2                                  2   ↪\n",
              "⎢                                                         dt                                 dt    ↪\n",
              "⎢                                                                                                  ↪\n",
              "⎢                       2                                                          2               ↪\n",
              "⎢                  2   d                                                          d                ↪\n",
              "⎢           - 1.0⋅R ⋅m⋅───(\\theta(t)) + R⋅g⋅m⋅sin(\\theta(t)) - R⋅m⋅cos(\\theta(t))⋅───(x(t))        ↪\n",
              "⎢                        2                                                          2              ↪\n",
              "⎣                      dt                                                         dt               ↪\n",
              "\n",
              "↪     ⎤\n",
              "↪     ⎥\n",
              "↪ (t))⎥\n",
              "↪     ⎥\n",
              "↪     ⎥\n",
              "↪     ⎥\n",
              "↪     ⎥\n",
              "↪     ⎥\n",
              "↪     ⎥\n",
              "↪     ⎥\n",
              "↪     ⎦"
            ],
            "text/latex": "$\\displaystyle \\left[\\begin{matrix}R m \\sin{\\left(\\theta{\\left(t \\right)} \\right)} \\left(\\frac{d}{d t} \\theta{\\left(t \\right)}\\right)^{2} - R m \\cos{\\left(\\theta{\\left(t \\right)} \\right)} \\frac{d^{2}}{d t^{2}} \\theta{\\left(t \\right)} - 2 \\left(0.5 M + 0.5 m\\right) \\frac{d^{2}}{d t^{2}} x{\\left(t \\right)}\\\\- 1.0 R^{2} m \\frac{d^{2}}{d t^{2}} \\theta{\\left(t \\right)} + R g m \\sin{\\left(\\theta{\\left(t \\right)} \\right)} - R m \\cos{\\left(\\theta{\\left(t \\right)} \\right)} \\frac{d^{2}}{d t^{2}} x{\\left(t \\right)}\\end{matrix}\\right]$"
          },
          "metadata": {}
        }
      ]
    },
    {
      "cell_type": "markdown",
      "source": [
        "## Problem 7 (15pts)\n",
        "\n",
        "Find symbolic expressions of $\\ddot{x}$ and $\\ddot{\\theta}$ from the Euler-Lagrange equations in Problem 6 using SymPy's **`solve()`** method (NOTE: the expressions should be in terms of $x$, $\\theta$, $\\dot{x}$ and $\\dot{\\theta}$ only). Convert these results to numerical functions using SymPy's **`lambdify()`** method by substituting $M, m, R, g$ symbols with $M=2, m=1, R=1, g=9.8$ values. Test your numerical functions of $\\ddot{x}$ and $\\ddot{\\theta}$ by evaluating them given $x=0, \\theta=0.1, \\dot{x}=0, \\dot{\\theta}=0$ as function inputs.\n",
        "\n",
        "**Turn in: A copy of the code used to symbolically solve and numerically evaluate the solutions of Euler-Lagrange equations (i.e. $\\ddot{x}$ and $\\ddot{\\theta}$). Include the code output, consisting of symbolic expression of $\\ddot{x}$ and $\\ddot{\\theta}$, as well as your test results for the numerical evaluations.**"
      ],
      "metadata": {
        "id": "JvEeknCXUQMF"
      }
    },
    {
      "cell_type": "code",
      "metadata": {
        "id": "nVpc5FEGaXTC",
        "colab": {
          "base_uri": "https://localhost:8080/",
          "height": 322
        },
        "outputId": "b6f3628a-32cf-469e-c3bb-0aa6bd55e020"
      },
      "source": [
        "# You can start your implementation here :)\n",
        "print(\"\\033[1mEuler Lagrange equation for the system: \")\n",
        "display(EL_expr.T)\n",
        "\n",
        "# defining the rhs of the equation\n",
        "rhs = sym.Matrix([0, 0])\n",
        "\n",
        "# defining the equations\n",
        "EL_eqn = sym.Eq(EL_expr.T, rhs)\n",
        "\n",
        "# solving for angular acceleration and linear acceleration of pendulum and block respectively\n",
        "thetaddot =theta_dot.diff(t)\n",
        "xddot = x_dot.diff(t)\n",
        "q = sym.Matrix([xddot, thetaddot])\n",
        "soln = sym.solve(EL_eqn, q, dict=True)\n",
        "\n",
        "# printing the accelerations\n",
        "for sol in soln:\n",
        "    print('\\n\\033[1mAccelerations: ')\n",
        "    for v in q:\n",
        "        display(sym.Eq(v, sol[v]))\n",
        "\n",
        "\n",
        "\n",
        "# lambdifying the expressions wrt the given variables\n",
        "x_val = sym.lambdify([x, M, m, theta, theta_dot, R, g], sol[xddot])\n",
        "theta_val = sym.lambdify([M, m, theta, theta_dot, R, g], sol[thetaddot])\n",
        "\n",
        "# substituting the given values to find the numerical solutions\n",
        "print(\"\\n\\033[1mNumerical value of x double dot at given values: \")\n",
        "print(x_val(0, 2, 1, 0.1, 0, 1, 9.8))\n",
        "print(\"\\n\\033[1mNumerical value of theta double dot at given values: \")\n",
        "print(theta_val(2, 1, 0.1, 0, 1, 9.8))"
      ],
      "execution_count": null,
      "outputs": [
        {
          "output_type": "stream",
          "name": "stdout",
          "text": [
            "\u001b[1mEuler Lagrange equation for the system: \n"
          ]
        },
        {
          "output_type": "display_data",
          "data": {
            "text/plain": [
              "<IPython.core.display.HTML object>"
            ],
            "text/html": [
              "<script src='https://cdnjs.cloudflare.com/ajax/libs/mathjax/3.1.1/latest.js?config=TeX-AMS_HTML'></script>"
            ]
          },
          "metadata": {}
        },
        {
          "output_type": "display_data",
          "data": {
            "text/plain": [
              "⎡                                  2                       2                                  2    ↪\n",
              "⎢                   ⎛d            ⎞                       d                                  d     ↪\n",
              "⎢R⋅m⋅sin(\\theta(t))⋅⎜──(\\theta(t))⎟  - R⋅m⋅cos(\\theta(t))⋅───(\\theta(t)) - 2⋅(0.5⋅M + 0.5⋅m)⋅───(x ↪\n",
              "⎢                   ⎝dt           ⎠                         2                                  2   ↪\n",
              "⎢                                                         dt                                 dt    ↪\n",
              "⎢                                                                                                  ↪\n",
              "⎢                       2                                                          2               ↪\n",
              "⎢                  2   d                                                          d                ↪\n",
              "⎢           - 1.0⋅R ⋅m⋅───(\\theta(t)) + R⋅g⋅m⋅sin(\\theta(t)) - R⋅m⋅cos(\\theta(t))⋅───(x(t))        ↪\n",
              "⎢                        2                                                          2              ↪\n",
              "⎣                      dt                                                         dt               ↪\n",
              "\n",
              "↪     ⎤\n",
              "↪     ⎥\n",
              "↪ (t))⎥\n",
              "↪     ⎥\n",
              "↪     ⎥\n",
              "↪     ⎥\n",
              "↪     ⎥\n",
              "↪     ⎥\n",
              "↪     ⎥\n",
              "↪     ⎥\n",
              "↪     ⎦"
            ],
            "text/latex": "$\\displaystyle \\left[\\begin{matrix}R m \\sin{\\left(\\theta{\\left(t \\right)} \\right)} \\left(\\frac{d}{d t} \\theta{\\left(t \\right)}\\right)^{2} - R m \\cos{\\left(\\theta{\\left(t \\right)} \\right)} \\frac{d^{2}}{d t^{2}} \\theta{\\left(t \\right)} - 2 \\left(0.5 M + 0.5 m\\right) \\frac{d^{2}}{d t^{2}} x{\\left(t \\right)}\\\\- 1.0 R^{2} m \\frac{d^{2}}{d t^{2}} \\theta{\\left(t \\right)} + R g m \\sin{\\left(\\theta{\\left(t \\right)} \\right)} - R m \\cos{\\left(\\theta{\\left(t \\right)} \\right)} \\frac{d^{2}}{d t^{2}} x{\\left(t \\right)}\\end{matrix}\\right]$"
          },
          "metadata": {}
        },
        {
          "output_type": "stream",
          "name": "stdout",
          "text": [
            "\n",
            "\u001b[1mAccelerations: \n"
          ]
        },
        {
          "output_type": "display_data",
          "data": {
            "text/plain": [
              "<IPython.core.display.HTML object>"
            ],
            "text/html": [
              "<script src='https://cdnjs.cloudflare.com/ajax/libs/mathjax/3.1.1/latest.js?config=TeX-AMS_HTML'></script>"
            ]
          },
          "metadata": {}
        },
        {
          "output_type": "display_data",
          "data": {
            "text/plain": [
              "                                                2                                    \n",
              "                                 ⎛d            ⎞                                     \n",
              " 2            R⋅m⋅sin(\\theta(t))⋅⎜──(\\theta(t))⎟                                     \n",
              "d                                ⎝dt           ⎠    g⋅m⋅sin(\\theta(t))⋅cos(\\theta(t))\n",
              "───(x(t)) = - ─────────────────────────────────── + ─────────────────────────────────\n",
              "  2                         2                                    2                   \n",
              "dt                -M + m⋅cos (\\theta(t)) - m           -M + m⋅cos (\\theta(t)) - m    "
            ],
            "text/latex": "$\\displaystyle \\frac{d^{2}}{d t^{2}} x{\\left(t \\right)} = - \\frac{R m \\sin{\\left(\\theta{\\left(t \\right)} \\right)} \\left(\\frac{d}{d t} \\theta{\\left(t \\right)}\\right)^{2}}{- M + m \\cos^{2}{\\left(\\theta{\\left(t \\right)} \\right)} - m} + \\frac{g m \\sin{\\left(\\theta{\\left(t \\right)} \\right)} \\cos{\\left(\\theta{\\left(t \\right)} \\right)}}{- M + m \\cos^{2}{\\left(\\theta{\\left(t \\right)} \\right)} - m}$"
          },
          "metadata": {}
        },
        {
          "output_type": "display_data",
          "data": {
            "text/plain": [
              "<IPython.core.display.HTML object>"
            ],
            "text/html": [
              "<script src='https://cdnjs.cloudflare.com/ajax/libs/mathjax/3.1.1/latest.js?config=TeX-AMS_HTML'></script>"
            ]
          },
          "metadata": {}
        },
        {
          "output_type": "display_data",
          "data": {
            "text/plain": [
              "                                                                                                   ↪\n",
              "                                                                                        ⎛d         ↪\n",
              " 2                                                    R⋅m⋅sin(\\theta(t))⋅cos(\\theta(t))⋅⎜──(\\theta ↪\n",
              "d                         M⋅g⋅sin(\\theta(t))                                            ⎝dt        ↪\n",
              "───(\\theta(t)) = - ──────────────────────────────── + ──────────────────────────────────────────── ↪\n",
              "  2                              2                                           2                     ↪\n",
              "dt                 -M⋅R + R⋅m⋅cos (\\theta(t)) - R⋅m            -M⋅R + R⋅m⋅cos (\\theta(t)) - R⋅m    ↪\n",
              "\n",
              "↪      2                                   \n",
              "↪     ⎞                                    \n",
              "↪ (t))⎟                                    \n",
              "↪     ⎠           g⋅m⋅sin(\\theta(t))       \n",
              "↪ ────── - ────────────────────────────────\n",
              "↪                        2                 \n",
              "↪          -M⋅R + R⋅m⋅cos (\\theta(t)) - R⋅m"
            ],
            "text/latex": "$\\displaystyle \\frac{d^{2}}{d t^{2}} \\theta{\\left(t \\right)} = - \\frac{M g \\sin{\\left(\\theta{\\left(t \\right)} \\right)}}{- M R + R m \\cos^{2}{\\left(\\theta{\\left(t \\right)} \\right)} - R m} + \\frac{R m \\sin{\\left(\\theta{\\left(t \\right)} \\right)} \\cos{\\left(\\theta{\\left(t \\right)} \\right)} \\left(\\frac{d}{d t} \\theta{\\left(t \\right)}\\right)^{2}}{- M R + R m \\cos^{2}{\\left(\\theta{\\left(t \\right)} \\right)} - R m} - \\frac{g m \\sin{\\left(\\theta{\\left(t \\right)} \\right)}}{- M R + R m \\cos^{2}{\\left(\\theta{\\left(t \\right)} \\right)} - R m}$"
          },
          "metadata": {}
        },
        {
          "output_type": "stream",
          "name": "stdout",
          "text": [
            "\n",
            "\u001b[1mNumerical value of x double dot at given values: \n",
            "-0.4843262903458876\n",
            "\n",
            "\u001b[1mNumerical value of theta double dot at given values: \n",
            "1.4602741593867288\n"
          ]
        }
      ]
    },
    {
      "cell_type": "markdown",
      "source": [
        "## Problem 8 (10pts)\n",
        "\n",
        "Based on your symbolic and numerical solutions for $\\ddot{x}(t)$ and $\\ddot{\\theta}(t)$, which are now functions of $x(t), \\theta(t), \\dot{x}(t)$ and $\\dot{\\theta}(t)$, simulate the system for $t\\in[0,10]$, with initial conditions $x(0)=0, \\theta(0)=0.1, \\dot{x}(0)=0, \\dot{\\theta}(0)=0$ and the numerical integration and simulation functions provided below. Plot the trajectories of $x(t)$ and $\\theta(t)$ versus time.\n",
        "\n",
        "*Hint 1: The numerical simulation function below can only simulate systems with first-order dynamics. This means that the function of dynamics (i.e. $f(xt)$), whose input is fed to the numerical integration and simulation functions, needs to return the first-order time derivative. This might be confusing because our solutions $\\ddot{x}(t)$ and $\\ddot{\\theta}(t)$ are second-order time derivative. The trick here is to extend the system state from $[x(t), \\theta(t)]$ to $[x(t), \\theta(t), \\dot{x}(t), \\dot{\\theta}(t)]$, thus the time derivative of the state vector becomes $[\\dot{x}(t), \\dot{\\theta}(t), \\ddot{x}(t), \\ddot{\\theta}(t)]$. Now, when you write down the system dynamics function, the third and forth elements of input vector $\\dot{x}(t)$ and $\\dot{\\theta}(t)$ can be put into the output vector directly, and we already know the rest two elements of the output vector, from our previous solution of Euler-Lagrange equations. More information can be found in Lecture Note 1 (Background) - Section 1.4 Ordinary Differential Equations. An example is provided below for simulating a particle falling in gravity, where the acceleration $\\ddot{x}(t) = -9.8$.*\n",
        "\n",
        "*Hint 2: You will need to include the numerical evaluations for $\\ddot{x}(t)$ and $\\ddot{\\theta}(t)$ in system dynamics function. You can either use your previous **`lambdify()`** results, or hand code the equations from previous symbolic solutions. We recommend using **`lambdify()`** for practice because later homeworks will require integration of much more complicated equations.*\n",
        "\n",
        "**Turn in: A copy of the code used to simulate the system with the plot of the simulated trajectories.**"
      ],
      "metadata": {
        "id": "HQ2Hl88sUUmF"
      }
    },
    {
      "cell_type": "code",
      "source": [
        "def integrate(f, xt, dt):\n",
        "    \"\"\"\n",
        "    This function takes in an initial condition x(t) and a timestep dt,\n",
        "    as well as a dynamical system f(x) that outputs a vector of the\n",
        "    same dimension as x(t). It outputs a vector x(t+dt) at the future\n",
        "    time step.\n",
        "\n",
        "    Parameters\n",
        "    ============\n",
        "    dyn: Python function\n",
        "        derivate of the system at a given step x(t),\n",
        "        it can considered as \\dot{x}(t) = func(x(t))\n",
        "    xt: NumPy array\n",
        "        current step x(t)\n",
        "    dt:\n",
        "        step size for integration\n",
        "\n",
        "    Return\n",
        "    ============\n",
        "    new_xt:\n",
        "        value of x(t+dt) integrated from x(t)\n",
        "    \"\"\"\n",
        "    k1 = dt * f(xt)\n",
        "    k2 = dt * f(xt+k1/2.)\n",
        "    k3 = dt * f(xt+k2/2.)\n",
        "    k4 = dt * f(xt+k3)\n",
        "    new_xt = xt + (1/6.) * (k1+2.0*k2+2.0*k3+k4)\n",
        "    return new_xt\n",
        "\n",
        "def simulate(f, x0, tspan, dt, integrate):\n",
        "    \"\"\"\n",
        "    This function takes in an initial condition x0, a timestep dt,\n",
        "    a time span tspan consisting of a list [min_time, max_time],\n",
        "    as well as a dynamical system f(x) that outputs a vector of the\n",
        "    same dimension as x0. It outputs a full trajectory simulated\n",
        "    over the time span of dimensions (xvec_size, time_vec_size).\n",
        "\n",
        "    Parameters\n",
        "    ============\n",
        "    f: Python function\n",
        "        derivate of the system at a given step x(t),\n",
        "        it can considered as \\dot{x}(t) = func(x(t))\n",
        "    x0: NumPy array\n",
        "        initial conditions\n",
        "    tspan: Python list\n",
        "        tspan = [min_time, max_time], it defines the start and end\n",
        "        time of simulation\n",
        "    dt:\n",
        "        time step for numerical integration\n",
        "    integrate: Python function\n",
        "        numerical integration method used in this simulation\n",
        "\n",
        "    Return\n",
        "    ============\n",
        "    x_traj:\n",
        "        simulated trajectory of x(t) from t=0 to tf\n",
        "    \"\"\"\n",
        "    N = int((max(tspan)-min(tspan))/dt)\n",
        "    x = np.copy(x0)\n",
        "    tvec = np.linspace(min(tspan),max(tspan),N)\n",
        "    xtraj = np.zeros((len(x0),N))\n",
        "    for i in range(N):\n",
        "        xtraj[:,i]=integrate(f,x,dt)\n",
        "        x = np.copy(xtraj[:,i])\n",
        "    return xtraj\n",
        "\n",
        "##############################################\n",
        "# example: simulate a particle falling in gravity\n",
        "def xddot(x, xdot):\n",
        "    \"\"\"\n",
        "    Acceleration of the particle in terms of\n",
        "    position and velocity. Here it's a constant.\n",
        "    \"\"\"\n",
        "\n",
        "    return -9.8\n",
        "\n",
        "def dyn(s):\n",
        "    \"\"\"\n",
        "    System dynamics function (extended)\n",
        "\n",
        "    Parameters\n",
        "    ============\n",
        "    s: NumPy array\n",
        "        s = [x, xdot] is the extended system\n",
        "        state vector, includng the position and\n",
        "        the velocity of the particle\n",
        "\n",
        "    Return\n",
        "    ============\n",
        "    sdot: NumPy array\n",
        "        time derivative of input state vector,\n",
        "        sdot = [xdot, xddot]\n",
        "    \"\"\"\n",
        "    return np.array([s[1], xddot(s[0], s[1])])\n",
        "\n",
        "# define initial state\n",
        "s0 = np.array([10, 0]) # at 10m high with zero velocity\n",
        "# simulat from t=0 to 10, since dt=0.1, the returned trajectory\n",
        "# will have 10/0.1=100 time steps, each time step contains extended\n",
        "# system state vector [x(t), xdot(t)]\n",
        "traj = simulate(dyn, s0, [0, 10], 0.1, integrate)\n",
        "print('\\033[1mShape of traj: \\033[0m', traj.shape)"
      ],
      "metadata": {
        "id": "AxammQGfUUCv",
        "colab": {
          "base_uri": "https://localhost:8080/"
        },
        "outputId": "06e29550-9f82-421c-bc13-f920155cde24"
      },
      "execution_count": null,
      "outputs": [
        {
          "output_type": "stream",
          "name": "stdout",
          "text": [
            "\u001b[1mShape of traj: \u001b[0m (2, 100)\n"
          ]
        }
      ]
    },
    {
      "cell_type": "code",
      "source": [
        "# You can start your implementation here :)\n",
        "xdot = x.diff(t)\n",
        "thetadot = theta.diff(t)\n",
        "\n",
        "xddot = xdot.diff(t)\n",
        "thetaddot = thetadot.diff(t)\n",
        "\n",
        "# Lambdifying the Euler Lagrange equations wrt xddot and thetaddot\n",
        "x_val = sym.lambdify([x, M, m, theta, theta_dot, R, g], sol[xddot])\n",
        "theta_val = sym.lambdify([M, m, theta, theta_dot, R, g], sol[thetaddot])\n",
        "\n",
        "\n",
        "# defining a function to get values of xddot and thetaddot\n",
        "def ddot(q):\n",
        "  xddot_val = x_val(q[0], 2, 1, q[1], q[3], 1, 9.8)\n",
        "  thetaddot_val = theta_val(2, 1, q[1], q[3], 1, 9.8)\n",
        "  return xddot_val, thetaddot_val\n",
        "\n",
        "# function to calculate the derivative of the system state vector\n",
        "def dyn(q):\n",
        "  \"\"\"\n",
        "  System dynamics function (extended)\n",
        "\n",
        "  Parameters\n",
        "    ============\n",
        "    s: NumPy array\n",
        "        s = [x, theta, xdot, thetadot] is the extended system\n",
        "        state vector, includng the position and\n",
        "        the velocity of the particle\n",
        "\n",
        "    Return\n",
        "    ============\n",
        "    sdot: NumPy array\n",
        "        time derivative of input state vector,\n",
        "        sdot = [xdot, thetadot, xddot, thetaddot]\n",
        "\n",
        "  \"\"\"\n",
        "  return np.array([q[2], q[3], ddot(q)[0], ddot(q)[1]])\n",
        "\n",
        "\n",
        "\n",
        "# time derivative of input state vector\n",
        "f = np.array([xdot, thetadot, x_val, theta_val])\n",
        "# initial conditions of the system\n",
        "s0 = np.array([0, 0.1, 0, 0])\n",
        "\n",
        "# calling the simulate function to calculate the trajectory\n",
        "traj = simulate(dyn, s0, [0,10], 0.1, integrate)\n",
        "print('\\033[1mShape of traj: \\033[0m', traj.shape)\n",
        "\n",
        "timespan = np.linspace(0,10,100)\n",
        "\n",
        "# plotting the trajectories of x(t) and theta(t)\n",
        "fig, (ax1, ax2) = plt.subplots(2, 1)\n",
        "fig.suptitle('Trajectories of x and theta')\n",
        "\n",
        "ax1.plot(timespan, traj[0,:], 'blue')\n",
        "ax1.set_ylabel('x(t)')\n",
        "\n",
        "\n",
        "ax2.plot(timespan, traj[1,:], 'purple')\n",
        "ax2.set_xlabel('time (s)')\n",
        "ax2.set_ylabel('theta(t)')\n",
        "\n",
        "plt.show()\n"
      ],
      "metadata": {
        "id": "873DWPPjUXn5",
        "colab": {
          "base_uri": "https://localhost:8080/",
          "height": 515
        },
        "outputId": "4c59019a-606a-48fb-f723-dd1242ea35e7"
      },
      "execution_count": null,
      "outputs": [
        {
          "output_type": "stream",
          "name": "stdout",
          "text": [
            "\u001b[1mShape of traj: \u001b[0m (4, 100)\n"
          ]
        },
        {
          "output_type": "display_data",
          "data": {
            "text/plain": [
              "<Figure size 640x480 with 2 Axes>"
            ],
            "image/png": "[encoded data removed]"
          },
          "metadata": {}
        }
      ]
    },
    {
      "cell_type": "markdown",
      "source": [
        "***\n",
        "\n",
        "## Problem X (0pts)\n",
        "### **Not required for submission!**\n",
        "\n",
        "*NOTE: \"Problem X\" is not required for submission and has zero credit. This is only designed to help you get more familiar with things that are not the primary purposes of this class, but are important in practice, like Python.*\n",
        "\n",
        "You may now have all the code running to compute the dynamics of some \"pendulum stuff\"... and you will need to compute more later in this class! One suggestion here, for the purpose of handling more sophisticated systems (like a triple-pendulum!), is to wrap up your code for this homework into several functions. This is not required, and it's fine if you don't want to do it (you can always go back here after you're more familiar with Python and course materials). This is only for some of you who just want to have more Python in their life, just as the saying goes, \"life is short, use python\".\n",
        "\n",
        "Why is it better to wrap existing code into functions - isn't it a waste of time? Consider a sort of unrelated example: write a program that computes the trace of a matrix, which is the sum of all diagonal elements. If the matrix is already provided, just like we already computed Lagrangian in the homework, we can do something like this:"
      ],
      "metadata": {
        "id": "vr6U6HRFUajR"
      }
    },
    {
      "cell_type": "code",
      "source": [
        "mat = [[1, 2, 3],\n",
        "       [4, 5, 6],\n",
        "       [7, 8, 9]]\n",
        "trace = mat[0][0] + mat[1][1] + mat[2][2]"
      ],
      "metadata": {
        "id": "wlglp0RmUZ2U"
      },
      "execution_count": null,
      "outputs": []
    },
    {
      "cell_type": "markdown",
      "source": [
        "However, what if we need to compute the trace of a 5-by-5 matrix instead? Then we need to rewrite the code! In our simple example, this isn't that annoying or time consuming. However, for more complicated problems it could be very annoying, especially when we find that we are basically doing the same thing every time we rewrite the code - manually adding all the diagonal elements together as well as very tedious, especially in case if there are multiple places in the code where we perform the same calculation. Thus, why don't we just write a function once, and it will handle matrices with all possible dimensions for us? The challenge is that the function doesn't know what matrix it will be provided ahead of time! One solution is to require matrix dimension as a function input (you might find this very common in lower-level programming languages like C/C++). But in Python, we have better choice - querying the dimension of your input! Here's one possible implementation:"
      ],
      "metadata": {
        "id": "vC_wKQnwUd-w"
      }
    },
    {
      "cell_type": "code",
      "source": [
        "def compute_trace(mat):\n",
        "    dim = len(mat)\n",
        "    trace_val = 0\n",
        "    for i in range(dim):\n",
        "        trace_val += mat[i][i]\n",
        "    return trace_val\n",
        "\n",
        "mat = [[1, 2, 3],\n",
        "       [4, 5, 6],\n",
        "       [7, 8, 9]]\n",
        "trace = compute_trace(mat)"
      ],
      "metadata": {
        "id": "wYcHGyGeUdvI"
      },
      "execution_count": null,
      "outputs": []
    },
    {
      "cell_type": "markdown",
      "source": [
        "Python provides some really nice methods to tell us the dimension of the data! While the default is `len()`, given NumPy or SymPy you can also use `.shape()`. In this way, you can generalize your method through the function, and easily reuse your code later. Besides that, depending on the specific scenarios, some methods can naturally avoid encountering number of parameters, like SymPy's matrix `jacobian()` method. Usually these methods are better choices because their implementations are typically more efficient than using loops (loops are slow).\n",
        "    \n",
        "In this homework, one part of your code you can re-write using a function feature is Problem 3. **Try to write a Python function, which takes in the Lagrangian, a list of variables of the Lagrangian, and returns the Euler-Lagrange equation as a SymPy equation object.** The challenge here is that we don't know how many variables will be provided ahead of time, and the example above might inspire you.\n",
        "    \n",
        "Feel free to use template provided below as a starting point. Note that it's highly recommended to document your function as shown below - letting others understand your code is as important as getting your code to run!"
      ],
      "metadata": {
        "id": "4VvmIDLPUfgs"
      }
    },
    {
      "cell_type": "code",
      "source": [
        "def euler_equations(L, funcs, t):\n",
        "    \"\"\"\n",
        "    Find the Euler-Lagrangian equations given the Lagrangian equation.\n",
        "\n",
        "    Parameters:\n",
        "    ============\n",
        "    L: SymPy Expression\n",
        "        L should be a SymPy expression containing necessary system\n",
        "        configuration variables\n",
        "    funcs: list of SymPy Functions\n",
        "        func should included all the system configuration variables\n",
        "        as functions of time variable \"t\" in the Lagrangian\n",
        "    t: SymPy Symbol\n",
        "        time variable\n",
        "\n",
        "    Returns:\n",
        "    ============\n",
        "    eqns: SymPy Equation\n",
        "        eqns is the resulting Euler-Lagrangian equations, it should\n",
        "        be a sinlge SymPy Equation object, each side being a SymPy\n",
        "        Matrix object\n",
        "    \"\"\"\n",
        "    pass # In Python, \"pass\" means \"do nothing\",  many people use it\n",
        "         # to occupy a space so they don't need to implement a function\n",
        "         # while getting the program running. Here you just need to\n",
        "         # replace it with your own implementation."
      ],
      "metadata": {
        "id": "qfwvNYPqUb-c"
      },
      "execution_count": null,
      "outputs": []
    }
  ]
}