{
  "nbformat": 4,
  "nbformat_minor": 0,
  "metadata": {
    "kernelspec": {
      "display_name": "Python 3",
      "language": "python",
      "name": "python3"
    },
    "language_info": {
      "codemirror_mode": {
        "name": "ipython",
        "version": 3
      },
      "file_extension": ".py",
      "mimetype": "text/x-python",
      "name": "python",
      "nbconvert_exporter": "python",
      "pygments_lexer": "ipython3",
      "version": "3.6.9"
    },
    "colab": {
      "provenance": []
    }
  },
  "cells": [
    {
      "cell_type": "markdown",
      "metadata": {
        "id": "p5AANcq8aXQE"
      },
      "source": [
        "# ME314 Homework 0\n",
        "\n",
        "###Submission instructions\n",
        "\n",
        "Deliverables that should be included with your submission are shown in **bold** at the end of each problem statement and the corresponding supplemental material. Your homework will be graded IFF you submit a **single** PDF and a link to a Google colab file that meet all the requirements outlined below.\n",
        "\n",
        "- List the names of students you've collaborated with on this homework assignment.\n",
        "- Include all of your code (and handwritten solutions when applicable) used to complete the problems.\n",
        "- Highlight your answers (i.e. **bold** and outline the answers) and include simplified code outputs (e.g. .simplify()).\n",
        "- Enable Google Colab permission for viewing\n",
        " * Click Share in the upper right corner\n",
        " * Under \"Get Link\" click \"Share with...\" or \"Change\"\n",
        " * Then make sure it says \"Anyone with Link\" and \"Editor\" under the dropdown menu\n",
        "- Make sure all cells are run before submitting (i.e. check the permission by running your code in a private mode)\n",
        " * Please don't make changes to your file after submitting, so we can grade it!\n",
        "- Submit a link to your Google Colab file that has been run (before the submission deadline) and don't edit it afterwards!\n",
        "\n",
        "**NOTE:** This Juputer Notebook file serves as a template for you to start homework. Make sure you first copy this template to your own Google driver (click \"File\" -> \"Save a copy in Drive\"), and then start to edit it."
      ]
    },
    {
      "cell_type": "code",
      "metadata": {
        "id": "e10BTR6Ldtgc"
      },
      "source": [
        "### Google Colab Link: https://colab.research.google.com/drive/1VlJ0rdZc_67Y2xCDHofgjOgmNM6SUchY?usp=sharing\n",
        "\n",
        "#IMPORT ALL NECESSARY PACKAGES AT THE TOP OF THE CODE\n",
        "import sympy as sym\n",
        "import numpy as np\n",
        "import matplotlib.pyplot as plt\n",
        "import matplotlib.image as mpimg"
      ],
      "execution_count": null,
      "outputs": []
    },
    {
      "cell_type": "code",
      "metadata": {
        "id": "9HlLVMmeaXQF"
      },
      "source": [
        "# ##############################################################################################\n",
        "# # If you're using Google Colab, uncomment this section by selecting the whole section and press\n",
        "# # ctrl+'/' (Linux/Windows) or cmd+'/' (MacOS) on your and keyboard. Run it before you start\n",
        "# # programming, this will enable the nice LaTeX \"display()\" function for you. If you're using\n",
        "# # the local Jupyter environment, leave it alone\n",
        "# ##############################################################################################\n",
        "\n",
        "\n",
        "def custom_latex_printer(exp,**options):\n",
        "    from google.colab.output._publish import javascript\n",
        "    url = \"https://cdnjs.cloudflare.com/ajax/libs/mathjax/3.1.1/latest.js?config=TeX-AMS_HTML\"\n",
        "    javascript(url=url)\n",
        "    return sym.printing.latex(exp,**options)\n",
        "sym.init_printing(use_latex=\"mathjax\",latex_printer=custom_latex_printer)"
      ],
      "execution_count": null,
      "outputs": []
    },
    {
      "cell_type": "markdown",
      "metadata": {
        "id": "R8KcW-HdaXQK"
      },
      "source": [
        "## Problem 1 (20pts)\n",
        "\n",
        "Given a function $f(x)=\\sin(x)$, find the derivative of $f(x)$ and find the directional derivative of $f(x)$ in the direction $v$.  Moreover, compute these derivatives using Pythons's SymPy package.\n",
        "\n",
        "*Hint 1: As an example, below is the code solving the problem when $f(x) = x^2$ (feel free to take it as a start point for your solution).*"
      ]
    },
    {
      "cell_type": "code",
      "metadata": {
        "id": "sWtszMPMaXQK",
        "colab": {
          "base_uri": "https://localhost:8080/",
          "height": 135
        },
        "outputId": "81549ece-932d-4a53-eec2-c8ac640fd8e0"
      },
      "source": [
        "####################################\n",
        "# Part 1: compute derivative of f\n",
        "\n",
        "# define your symbolic variable here\n",
        "x = sym.symbols('x')\n",
        "\n",
        "# define the function f\n",
        "f = x**2 # if you're using Jupyter-Notebook, try \"display(f)\"\n",
        "\n",
        "# compute derivative of f\n",
        "# (uncomment next line and add your code)\n",
        "df = f.diff(x)\n",
        "\n",
        "# output resutls\n",
        "print(\"derivative of f: \")\n",
        "display(df)\n",
        "\n",
        "####################################\n",
        "# Part 2: compute directional derivative of f\n",
        "\n",
        "# define dummy variable epsilon, and the direction v\n",
        "# note 1: here the character 'r' means raw string\n",
        "# note 2: here I define the symbol for epsilon with\n",
        "#          the name \"\\epsilon\", this is for LaTeX printing\n",
        "#          later. In your case, you can give it any other\n",
        "#          name you want.\n",
        "eps, v = sym.symbols(r'\\epsilon, v')\n",
        "\n",
        "# add eplision into function f\n",
        "new_f = (x + v*eps)**2\n",
        "\n",
        "# take derivative of the new function w.r.t. epsilon\n",
        "df_eps = new_f.diff(eps)\n",
        "\n",
        "# output this derivative\n",
        "print(\"derivative of f wrt eps: \")\n",
        "display(df_eps)\n",
        "\n",
        "# now, as you've seen the class, we need evaluate for eps=0 to ...\n",
        "# ... get the directional derivative. To do this, we need to ...\n",
        "# ... use SymPy's built-in substitution method \"subs()\" to ...\n",
        "# ... replace the epsilon symbol with 0\n",
        "new_df = df_eps.subs(eps, 0)\n",
        "\n",
        "# output directional derivative\n",
        "print(\"directional derivative of f on v: \")\n",
        "display(new_df)"
      ],
      "execution_count": null,
      "outputs": [
        {
          "output_type": "stream",
          "name": "stdout",
          "text": [
            "derivative of f: \n"
          ]
        },
        {
          "output_type": "display_data",
          "data": {
            "text/plain": [
              "<IPython.core.display.HTML object>"
            ],
            "text/html": [
              "<script src='https://cdnjs.cloudflare.com/ajax/libs/mathjax/3.1.1/latest.js?config=TeX-AMS_HTML'></script>"
            ]
          },
          "metadata": {}
        },
        {
          "output_type": "display_data",
          "data": {
            "text/plain": [
              "2⋅x"
            ],
            "text/latex": "$\\displaystyle 2 x$"
          },
          "metadata": {}
        },
        {
          "output_type": "stream",
          "name": "stdout",
          "text": [
            "derivative of f wrt eps: \n"
          ]
        },
        {
          "output_type": "display_data",
          "data": {
            "text/plain": [
              "<IPython.core.display.HTML object>"
            ],
            "text/html": [
              "<script src='https://cdnjs.cloudflare.com/ajax/libs/mathjax/3.1.1/latest.js?config=TeX-AMS_HTML'></script>"
            ]
          },
          "metadata": {}
        },
        {
          "output_type": "display_data",
          "data": {
            "text/plain": [
              "2⋅v⋅(\\epsilon⋅v + x)"
            ],
            "text/latex": "$\\displaystyle 2 v \\left(\\epsilon v + x\\right)$"
          },
          "metadata": {}
        },
        {
          "output_type": "stream",
          "name": "stdout",
          "text": [
            "directional derivative of f on v: \n"
          ]
        },
        {
          "output_type": "display_data",
          "data": {
            "text/plain": [
              "<IPython.core.display.HTML object>"
            ],
            "text/html": [
              "<script src='https://cdnjs.cloudflare.com/ajax/libs/mathjax/3.1.1/latest.js?config=TeX-AMS_HTML'></script>"
            ]
          },
          "metadata": {}
        },
        {
          "output_type": "display_data",
          "data": {
            "text/plain": [
              "2⋅v⋅x"
            ],
            "text/latex": "$\\displaystyle 2 v x$"
          },
          "metadata": {}
        }
      ]
    },
    {
      "cell_type": "code",
      "source": [],
      "metadata": {
        "id": "vQpjacOr6XSK"
      },
      "execution_count": null,
      "outputs": []
    },
    {
      "cell_type": "markdown",
      "metadata": {
        "id": "mBdOhX1vaXQO"
      },
      "source": [
        "**Turn in: A scanned (or photograph from your phone or webcam) copy of your hand written solution for both derivatives (or you can use $\\LaTeX$, instead of hand writing). Also, turn in the code used to compute the symbolic solutions for both derivatives and the code output.**"
      ]
    },
    {
      "cell_type": "code",
      "metadata": {
        "id": "-ZivndofaXQP",
        "outputId": "703b7293-e325-4955-96ae-e28f02954b88",
        "colab": {
          "base_uri": "https://localhost:8080/",
          "height": 135
        }
      },
      "source": [
        "\n",
        "# You can start your implementation here :)\n",
        "x = sym.symbols('x')\n",
        "\n",
        "f = sym.sin(x)\n",
        "\n",
        "df = f.diff(x)\n",
        "\n",
        "print(\"Derivative of f: \")\n",
        "display(df)\n",
        "\n",
        "eps, v = sym.symbols(r'\\epsilon, v')\n",
        "\n",
        "new_f = sym.sin(x + eps*v)\n",
        "\n",
        "df_eps = new_f.diff(eps)\n",
        "\n",
        "print(\"Derivative of f wrt eps: \")\n",
        "display(df_eps)\n",
        "\n",
        "new_df = df_eps.subs(eps,0)\n",
        "\n",
        "print(\"Directional derivative of f on v: \")\n",
        "display(new_df)"
      ],
      "execution_count": null,
      "outputs": [
        {
          "output_type": "stream",
          "name": "stdout",
          "text": [
            "Derivative of f: \n"
          ]
        },
        {
          "output_type": "display_data",
          "data": {
            "text/plain": [
              "<IPython.core.display.HTML object>"
            ],
            "text/html": [
              "<script src='https://cdnjs.cloudflare.com/ajax/libs/mathjax/3.1.1/latest.js?config=TeX-AMS_HTML'></script>"
            ]
          },
          "metadata": {}
        },
        {
          "output_type": "display_data",
          "data": {
            "text/plain": [
              "cos(x)"
            ],
            "text/latex": "$\\displaystyle \\cos{\\left(x \\right)}$"
          },
          "metadata": {}
        },
        {
          "output_type": "stream",
          "name": "stdout",
          "text": [
            "Derivative of f wrt eps: \n"
          ]
        },
        {
          "output_type": "display_data",
          "data": {
            "text/plain": [
              "<IPython.core.display.HTML object>"
            ],
            "text/html": [
              "<script src='https://cdnjs.cloudflare.com/ajax/libs/mathjax/3.1.1/latest.js?config=TeX-AMS_HTML'></script>"
            ]
          },
          "metadata": {}
        },
        {
          "output_type": "display_data",
          "data": {
            "text/plain": [
              "v⋅cos(\\epsilon⋅v + x)"
            ],
            "text/latex": "$\\displaystyle v \\cos{\\left(\\epsilon v + x \\right)}$"
          },
          "metadata": {}
        },
        {
          "output_type": "stream",
          "name": "stdout",
          "text": [
            "Directional derivative of f on v: \n"
          ]
        },
        {
          "output_type": "display_data",
          "data": {
            "text/plain": [
              "<IPython.core.display.HTML object>"
            ],
            "text/html": [
              "<script src='https://cdnjs.cloudflare.com/ajax/libs/mathjax/3.1.1/latest.js?config=TeX-AMS_HTML'></script>"
            ]
          },
          "metadata": {}
        },
        {
          "output_type": "display_data",
          "data": {
            "text/plain": [
              "v⋅cos(x)"
            ],
            "text/latex": "$\\displaystyle v \\cos{\\left(x \\right)}$"
          },
          "metadata": {}
        }
      ]
    },
    {
      "cell_type": "markdown",
      "metadata": {
        "id": "2GySmCekaXRC"
      },
      "source": [
        "## Problem 2 (20pts)\n",
        "\n",
        "Given a function of trajectory:\n",
        "$$\n",
        "J(x(t)) = \\int_0^{\\pi/2} \\frac{1}{2} x(t)^2 dt\n",
        "$$\n",
        "Compute the analytical solution when $x=\\cos(t)$, verify your answer by numerical integration.\n",
        "\n",
        "The code for numerical integration is provided below:"
      ]
    },
    {
      "cell_type": "code",
      "metadata": {
        "id": "OvgRhdLMaXRC",
        "outputId": "41393e42-8ef1-471c-a284-6c6cb8e0080c",
        "colab": {
          "base_uri": "https://localhost:8080/"
        }
      },
      "source": [
        "def integrate(func, xspan, step_size):\n",
        "    '''\n",
        "    Numerical integration with Euler's method\n",
        "\n",
        "    Parameters:\n",
        "    ====================\n",
        "    func: Python function\n",
        "        func is the function you want to integrate for\n",
        "    xspan: list\n",
        "        xspan is a list of two elements, representing\n",
        "        the start and end of integration\n",
        "    step_size:\n",
        "        a smaller step_size will give a more accurate result\n",
        "\n",
        "    Returns:\n",
        "    int_val:\n",
        "        result of the integration\n",
        "    ====================\n",
        "    '''\n",
        "    x = np.arange(xspan[0], xspan[1], step_size)\n",
        "    int_val = 0\n",
        "    for xi in x:\n",
        "        int_val += func(xi) * step_size\n",
        "    return int_val\n",
        "\n",
        "# a simple test\n",
        "def square(x):\n",
        "    return x**2\n",
        "print( integrate(func=square, xspan=[0, 1], step_size=0.01) )\n",
        "# or you just call the function without indicating parameters\n",
        "# print( integrate(square, [0, 1], 0.01) )"
      ],
      "execution_count": null,
      "outputs": [
        {
          "output_type": "stream",
          "name": "stdout",
          "text": [
            "0.32835000000000014\n"
          ]
        }
      ]
    },
    {
      "cell_type": "code",
      "source": [],
      "metadata": {
        "id": "BlIVOdWi7NLH"
      },
      "execution_count": null,
      "outputs": []
    },
    {
      "cell_type": "markdown",
      "metadata": {
        "id": "Mn5Oe2QVaXSP"
      },
      "source": [
        "**Turn in: A scanned (or photograph from your phone or webcam) copy of your hand written analytical solution (or you can use $\\LaTeX$). Also, turn in the code you used to numerically evaluate the result and the code output.**"
      ]
    },
    {
      "cell_type": "code",
      "metadata": {
        "id": "YdxntM2maXSP",
        "outputId": "bb402c74-f546-40b5-f3e9-28b54e4ff8d0",
        "colab": {
          "base_uri": "https://localhost:8080/"
        }
      },
      "source": [
        "# You can start your implementation here :)\n",
        "\n",
        "def cosine_square(x):\n",
        "  return np.cos(x)**2\n",
        "\n",
        "# res = 0\n",
        "# step_size = 0.001\n",
        "# x = np.arange(0, np.pi/2, step_size)\n",
        "# for val in x:\n",
        "#   res += cosine_square(val) * step_size\n",
        "\n",
        "# print(0.5*res)\n",
        "print(0.5 * integrate(cosine_square, xspan=[0,np.pi/2], step_size= 0.01 ))"
      ],
      "execution_count": null,
      "outputs": [
        {
          "output_type": "stream",
          "name": "stdout",
          "text": [
            "0.3951990765638034\n"
          ]
        }
      ]
    },
    {
      "cell_type": "markdown",
      "metadata": {
        "id": "Xuw8SIBPaXSS"
      },
      "source": [
        "## Problem 3 (20pts)\n",
        "\n",
        "For the function $J(x(t))$ in Problem 2, compute and evaluate the analytical solution for the directional derivative of $J$ at $x(t) = \\cos(t)$ in the direction $v(t) = \\sin(t)$. Note that the directional derivative should be in the form of integration. Evaluate this integral analytically, and verify your answer using the same numerical integration function as in Problem 2.\n",
        "\n",
        "**Turn in: A scanned (or photograph from your phone or webcam) copy of your hand written (or you can use $\\LaTeX$) derivation and evaluation of the directional derivative. Also, include the code used to numerically verify the integration result.**"
      ]
    },
    {
      "cell_type": "code",
      "source": [],
      "metadata": {
        "id": "cVistY6_7bJ4"
      },
      "execution_count": null,
      "outputs": []
    },
    {
      "cell_type": "code",
      "source": [],
      "metadata": {
        "id": "8enyx6tw7jlo"
      },
      "execution_count": null,
      "outputs": []
    },
    {
      "cell_type": "code",
      "metadata": {
        "id": "o2AafVE6aXSS",
        "outputId": "be56cff1-3c30-47db-84b9-ce438c13779b",
        "colab": {
          "base_uri": "https://localhost:8080/",
          "height": 46
        }
      },
      "source": [
        "# Put this in your import cell.\n",
        "from IPython.display import Markdown, display\n",
        "\n",
        "\n",
        "def cosine_sine(x):\n",
        "  return np.cos(x) * np.sin(x)\n",
        "\n",
        "answer = integrate(cosine_sine,xspan=[0,np.pi/2], step_size= 0.01 )\n",
        "\n",
        "\n",
        "# How to print in bold, you could wrap the \"display(Markdown())\"\"\n",
        "# in a function if you want a more consice alternative.\n",
        "\n",
        "display(Markdown(\"**Integral Value: {}**\".format(answer)))\n",
        "\n",
        "\n",
        "\n"
      ],
      "execution_count": null,
      "outputs": [
        {
          "output_type": "display_data",
          "data": {
            "text/plain": [
              "<IPython.core.display.Markdown object>"
            ],
            "text/markdown": "**Integral Value: 0.4999869977969663**"
          },
          "metadata": {}
        }
      ]
    },
    {
      "cell_type": "markdown",
      "metadata": {
        "id": "72Jg3xWJaXSw"
      },
      "source": [
        "## Problem 4 (20pts)\n",
        "\n",
        "Verify your answer in Problem 3 symbolically using Python's SymPy package, this means you need to compute the directional derivative and evaluate the integration all symbolically.\n",
        "\n",
        "*Hint 1: Different from computing directional derivative in Problem 1, this time the function includes integration. Thus, instead of defining x as a symbol, you should define x as a function of symbol t. An example of defining function and taking the derivative of the function integration is provided below.*"
      ]
    },
    {
      "cell_type": "code",
      "metadata": {
        "id": "VES-iwYBaXSz",
        "outputId": "393edd6b-3adf-4451-c69c-23fa0d88f5c2",
        "colab": {
          "base_uri": "https://localhost:8080/",
          "height": 289
        }
      },
      "source": [
        "t = sym.symbols('t')\n",
        "# define function x and y\n",
        "x = sym.Function('x')(t)\n",
        "y = sym.Function('y')(t)\n",
        "# define J(x(t), y(t))\n",
        "J = sym.integrate(x**2 + x*y, [t, 0, sym.pi])\n",
        "print('J(x(t), y(t)) = ')\n",
        "display(J)\n",
        "\n",
        "# take the time derivative of J(x(t))\n",
        "dJdx = J.diff(x)\n",
        "print('derivative of J(x(t), y(t)) wrt x(t): ')\n",
        "display(dJdx)\n",
        "\n",
        "# now, we have x(t)=sin(t) and y(t)=cos(t), we substitute them\n",
        "# in, and evaluate the integration\n",
        "dJdx_subs = dJdx.subs({x:sym.sin(t), y:sym.cos(t)})\n",
        "print('derivative of J, after substitution: ')\n",
        "display(dJdx_subs)\n",
        "print('evaluation of derivative of J, after substitution: ')\n",
        "display(sym.N(dJdx_subs))"
      ],
      "execution_count": null,
      "outputs": [
        {
          "output_type": "stream",
          "name": "stdout",
          "text": [
            "J(x(t), y(t)) = \n"
          ]
        },
        {
          "output_type": "display_data",
          "data": {
            "text/plain": [
              "<IPython.core.display.HTML object>"
            ],
            "text/html": [
              "<script src='https://cdnjs.cloudflare.com/ajax/libs/mathjax/3.1.1/latest.js?config=TeX-AMS_HTML'></script>"
            ]
          },
          "metadata": {}
        },
        {
          "output_type": "display_data",
          "data": {
            "text/plain": [
              "π                      \n",
              "⌠                      \n",
              "⎮ (x(t) + y(t))⋅x(t) dt\n",
              "⌡                      \n",
              "0                      "
            ],
            "text/latex": "$\\displaystyle \\int\\limits_{0}^{\\pi} \\left(x{\\left(t \\right)} + y{\\left(t \\right)}\\right) x{\\left(t \\right)}\\, dt$"
          },
          "metadata": {}
        },
        {
          "output_type": "stream",
          "name": "stdout",
          "text": [
            "derivative of J(x(t), y(t)) wrt x(t): \n"
          ]
        },
        {
          "output_type": "display_data",
          "data": {
            "text/plain": [
              "<IPython.core.display.HTML object>"
            ],
            "text/html": [
              "<script src='https://cdnjs.cloudflare.com/ajax/libs/mathjax/3.1.1/latest.js?config=TeX-AMS_HTML'></script>"
            ]
          },
          "metadata": {}
        },
        {
          "output_type": "display_data",
          "data": {
            "text/plain": [
              "π                   \n",
              "⌠                   \n",
              "⎮ (2⋅x(t) + y(t)) dt\n",
              "⌡                   \n",
              "0                   "
            ],
            "text/latex": "$\\displaystyle \\int\\limits_{0}^{\\pi} \\left(2 x{\\left(t \\right)} + y{\\left(t \\right)}\\right)\\, dt$"
          },
          "metadata": {}
        },
        {
          "output_type": "stream",
          "name": "stdout",
          "text": [
            "derivative of J, after substitution: \n"
          ]
        },
        {
          "output_type": "display_data",
          "data": {
            "text/plain": [
              "<IPython.core.display.HTML object>"
            ],
            "text/html": [
              "<script src='https://cdnjs.cloudflare.com/ajax/libs/mathjax/3.1.1/latest.js?config=TeX-AMS_HTML'></script>"
            ]
          },
          "metadata": {}
        },
        {
          "output_type": "display_data",
          "data": {
            "text/plain": [
              "π                       \n",
              "⌠                       \n",
              "⎮ (2⋅sin(t) + cos(t)) dt\n",
              "⌡                       \n",
              "0                       "
            ],
            "text/latex": "$\\displaystyle \\int\\limits_{0}^{\\pi} \\left(2 \\sin{\\left(t \\right)} + \\cos{\\left(t \\right)}\\right)\\, dt$"
          },
          "metadata": {}
        },
        {
          "output_type": "stream",
          "name": "stdout",
          "text": [
            "evaluation of derivative of J, after substitution: \n"
          ]
        },
        {
          "output_type": "display_data",
          "data": {
            "text/plain": [
              "<IPython.core.display.HTML object>"
            ],
            "text/html": [
              "<script src='https://cdnjs.cloudflare.com/ajax/libs/mathjax/3.1.1/latest.js?config=TeX-AMS_HTML'></script>"
            ]
          },
          "metadata": {}
        },
        {
          "output_type": "display_data",
          "data": {
            "text/plain": [
              "4.00000000000000"
            ],
            "text/latex": "$\\displaystyle 4.0$"
          },
          "metadata": {}
        }
      ]
    },
    {
      "cell_type": "markdown",
      "metadata": {
        "id": "XpXlPCKGaXS1"
      },
      "source": [
        "**Turn in: A copy of the code you used to symbolically evaluate the solution as well as the corresponding code output.**"
      ]
    },
    {
      "cell_type": "code",
      "metadata": {
        "id": "T-A50gSgaXS2",
        "outputId": "5da9d22f-34cb-4548-ecb5-48462ce2c417",
        "colab": {
          "base_uri": "https://localhost:8080/",
          "height": 389
        }
      },
      "source": [
        "# You can start your implementation here :)\n",
        "t = sym.symbols('t')\n",
        "x = sym.Function('x')(t)\n",
        "\n",
        "\n",
        "J = sym.integrate(0.5*x**2, [t, 0, sym.pi/2])\n",
        "print(\"J(x(t)) = \")\n",
        "display(J)\n",
        "\n",
        "# creating symbols for epsilon and direction v\n",
        "eps = sym.symbols(r'\\epsilon')\n",
        "v = sym.Function('v')(t)\n",
        "\n",
        "new_J = sym.integrate(0.5*(x + eps*v)**2, [t,0,sym.pi/2])\n",
        "print(f\"J(x(t) + ϵv(t) = \")\n",
        "display(new_J)\n",
        "\n",
        "\n",
        "dJ_eps = new_J.diff(eps)\n",
        "print(\"Derivative of J wrt eps = \")\n",
        "display(dJ_eps)\n",
        "\n",
        "# substituting x(t) = cos(t), v(t) = sin(t) and eps = 0\n",
        "dJ_subs = dJ_eps.subs({x:sym.cos(t), v:sym.sin(t), eps:0})\n",
        "print(\"Directional derivative of J = \")\n",
        "display(dJ_subs)\n",
        "\n",
        "print(\"Evaluation of directional derivative of J = \")\n",
        "display(sym.N(dJ_subs))"
      ],
      "execution_count": null,
      "outputs": [
        {
          "output_type": "stream",
          "name": "stdout",
          "text": [
            "J(x(t)) = \n"
          ]
        },
        {
          "output_type": "display_data",
          "data": {
            "text/plain": [
              "<IPython.core.display.HTML object>"
            ],
            "text/html": [
              "<script src='https://cdnjs.cloudflare.com/ajax/libs/mathjax/3.1.1/latest.js?config=TeX-AMS_HTML'></script>"
            ]
          },
          "metadata": {}
        },
        {
          "output_type": "display_data",
          "data": {
            "text/plain": [
              "    π         \n",
              "    ─         \n",
              "    2         \n",
              "    ⌠         \n",
              "    ⎮  2      \n",
              "0.5⋅⎮ x (t) dt\n",
              "    ⌡         \n",
              "    0         "
            ],
            "text/latex": "$\\displaystyle 0.5 \\int\\limits_{0}^{\\frac{\\pi}{2}} x^{2}{\\left(t \\right)}\\, dt$"
          },
          "metadata": {}
        },
        {
          "output_type": "stream",
          "name": "stdout",
          "text": [
            "J(x(t) + ϵv(t) = \n"
          ]
        },
        {
          "output_type": "display_data",
          "data": {
            "text/plain": [
              "<IPython.core.display.HTML object>"
            ],
            "text/html": [
              "<script src='https://cdnjs.cloudflare.com/ajax/libs/mathjax/3.1.1/latest.js?config=TeX-AMS_HTML'></script>"
            ]
          },
          "metadata": {}
        },
        {
          "output_type": "display_data",
          "data": {
            "text/plain": [
              "    π                                                          π         \n",
              "    ─                          π                               ─         \n",
              "    2                          ─                               2         \n",
              "    ⌠                          2                               ⌠         \n",
              "    ⎮         2  2             ⌠                               ⎮  2      \n",
              "0.5⋅⎮ \\epsilon ⋅v (t) dt + 0.5⋅⎮ 2⋅\\epsilon⋅v(t)⋅x(t) dt + 0.5⋅⎮ x (t) dt\n",
              "    ⌡                          ⌡                               ⌡         \n",
              "    0                          0                               0         "
            ],
            "text/latex": "$\\displaystyle 0.5 \\int\\limits_{0}^{\\frac{\\pi}{2}} \\epsilon^{2} v^{2}{\\left(t \\right)}\\, dt + 0.5 \\int\\limits_{0}^{\\frac{\\pi}{2}} 2 \\epsilon v{\\left(t \\right)} x{\\left(t \\right)}\\, dt + 0.5 \\int\\limits_{0}^{\\frac{\\pi}{2}} x^{2}{\\left(t \\right)}\\, dt$"
          },
          "metadata": {}
        },
        {
          "output_type": "stream",
          "name": "stdout",
          "text": [
            "Derivative of J wrt eps = \n"
          ]
        },
        {
          "output_type": "display_data",
          "data": {
            "text/plain": [
              "<IPython.core.display.HTML object>"
            ],
            "text/html": [
              "<script src='https://cdnjs.cloudflare.com/ajax/libs/mathjax/3.1.1/latest.js?config=TeX-AMS_HTML'></script>"
            ]
          },
          "metadata": {}
        },
        {
          "output_type": "display_data",
          "data": {
            "text/plain": [
              "    π                                           \n",
              "    ─                           π               \n",
              "    2                           ─               \n",
              "    ⌠                           2               \n",
              "    ⎮             2             ⌠               \n",
              "0.5⋅⎮ 2⋅\\epsilon⋅v (t) dt + 0.5⋅⎮ 2⋅v(t)⋅x(t) dt\n",
              "    ⌡                           ⌡               \n",
              "    0                           0               "
            ],
            "text/latex": "$\\displaystyle 0.5 \\int\\limits_{0}^{\\frac{\\pi}{2}} 2 \\epsilon v^{2}{\\left(t \\right)}\\, dt + 0.5 \\int\\limits_{0}^{\\frac{\\pi}{2}} 2 v{\\left(t \\right)} x{\\left(t \\right)}\\, dt$"
          },
          "metadata": {}
        },
        {
          "output_type": "stream",
          "name": "stdout",
          "text": [
            "Directional derivative of J = \n"
          ]
        },
        {
          "output_type": "display_data",
          "data": {
            "text/plain": [
              "<IPython.core.display.HTML object>"
            ],
            "text/html": [
              "<script src='https://cdnjs.cloudflare.com/ajax/libs/mathjax/3.1.1/latest.js?config=TeX-AMS_HTML'></script>"
            ]
          },
          "metadata": {}
        },
        {
          "output_type": "display_data",
          "data": {
            "text/plain": [
              "    π            π                   \n",
              "    ─            ─                   \n",
              "    2            2                   \n",
              "    ⌠            ⌠                   \n",
              "0.5⋅⎮ 0 dt + 0.5⋅⎮ 2⋅sin(t)⋅cos(t) dt\n",
              "    ⌡            ⌡                   \n",
              "    0            0                   "
            ],
            "text/latex": "$\\displaystyle 0.5 \\int\\limits_{0}^{\\frac{\\pi}{2}} 0\\, dt + 0.5 \\int\\limits_{0}^{\\frac{\\pi}{2}} 2 \\sin{\\left(t \\right)} \\cos{\\left(t \\right)}\\, dt$"
          },
          "metadata": {}
        },
        {
          "output_type": "stream",
          "name": "stdout",
          "text": [
            "Evaluation of directional derivative of J = \n"
          ]
        },
        {
          "output_type": "display_data",
          "data": {
            "text/plain": [
              "<IPython.core.display.HTML object>"
            ],
            "text/html": [
              "<script src='https://cdnjs.cloudflare.com/ajax/libs/mathjax/3.1.1/latest.js?config=TeX-AMS_HTML'></script>"
            ]
          },
          "metadata": {}
        },
        {
          "output_type": "display_data",
          "data": {
            "text/plain": [
              "0.500000000000000"
            ],
            "text/latex": "$\\displaystyle 0.5$"
          },
          "metadata": {}
        }
      ]
    },
    {
      "cell_type": "markdown",
      "metadata": {
        "id": "rmzz-xtCaXS4"
      },
      "source": [
        "## Problem 5 (20pts)\n",
        "\n",
        "Given the equation:\n",
        "$$\n",
        "xy + \\sin(x) = x + y\n",
        "$$\n",
        "Use Python's SymPy package to symbolically solve this equation for $y$, thus you can write $y$ as a function of $x$. Transfer your symbolic solution into a numerical function and plot this function for $x\\in[0, \\pi]$ with Python's Matplotlib package.\n",
        "\n",
        "In this problem you will use two methods in SymPy. The first is its symbolic sovler method **solve()**, which takes in an equation or expression (in this it equals 0) and solve it for one or one set of variables. Another method you will use is **lambdify()**, which can transfer a symbolic expression into a numerical function automatically (of course in this problem we can hand code the function, but later in the class we will have super sophisticated expression to evaluate.\n",
        "\n",
        "Below is an example of using these two methods for an equation $2x^3\\sin(4x) = xy$ (feel free to take this as the start point for your solution):"
      ]
    },
    {
      "cell_type": "code",
      "metadata": {
        "id": "fbFESQlpaXS4",
        "outputId": "a5c70d0e-67b3-4822-893c-1de47c086a01",
        "colab": {
          "base_uri": "https://localhost:8080/",
          "height": 523
        }
      },
      "source": [
        "# from sympy.abc import x, y # it's same as defining x, y using symbols() OR\n",
        "x, y = sym.symbols(r'x,y')\n",
        "\n",
        "# define an equation\n",
        "eqn = sym.Eq(x**3 * 2*sym.sin(4*x), x*y)\n",
        "print('Original equation')\n",
        "display(eqn)\n",
        "\n",
        "# solve this equation for y\n",
        "y_sol = sym.solve(eqn, y) # this method returns a list,\n",
        "                             # which may include multiple solutions\n",
        "print('Symbolic solutions')\n",
        "print(y_sol)\n",
        "y_expr = y_sol[0] # in this case we just have one solution\n",
        "\n",
        "# lambdify the expression wrt symbol x\n",
        "func = sym.lambdify(x, y_expr)\n",
        "print('Test: func(1.0) = ', func(1.0))\n",
        "\n",
        "##############\n",
        "# now it's time to plot it from 0 to pi\n",
        "\n",
        "# generate list of values from 0 to pi\n",
        "x_list = np.linspace(0, np.pi, 100)\n",
        "\n",
        "# evaluate function at those values\n",
        "f_list = func(x_list)\n",
        "\n",
        "# plot it\n",
        "plt.plot(x_list, f_list)\n",
        "plt.show()"
      ],
      "execution_count": null,
      "outputs": [
        {
          "output_type": "stream",
          "name": "stdout",
          "text": [
            "Original equation\n"
          ]
        },
        {
          "output_type": "display_data",
          "data": {
            "text/plain": [
              "<IPython.core.display.HTML object>"
            ],
            "text/html": [
              "<script src='https://cdnjs.cloudflare.com/ajax/libs/mathjax/3.1.1/latest.js?config=TeX-AMS_HTML'></script>"
            ]
          },
          "metadata": {}
        },
        {
          "output_type": "display_data",
          "data": {
            "text/plain": [
              "   3               \n",
              "2⋅x ⋅sin(4⋅x) = x⋅y"
            ],
            "text/latex": "$\\displaystyle 2 x^{3} \\sin{\\left(4 x \\right)} = x y$"
          },
          "metadata": {}
        },
        {
          "output_type": "stream",
          "name": "stdout",
          "text": [
            "Symbolic solutions\n",
            "[2*x**2*sin(4*x)]\n",
            "Test: func(1.0) =  -1.5136049906158564\n"
          ]
        },
        {
          "output_type": "display_data",
          "data": {
            "text/plain": [
              "<Figure size 640x480 with 1 Axes>"
            ],
            "image/png": "[encoded data removed]"
          },
          "metadata": {}
        }
      ]
    },
    {
      "cell_type": "markdown",
      "metadata": {
        "id": "UBG_nJa0aXS7"
      },
      "source": [
        "**Turn in: A copy of the code used to solve for symbolic solution and evaluate it as a numerical function. Also, include the plot of the numerical function.**"
      ]
    },
    {
      "cell_type": "code",
      "metadata": {
        "id": "OYaAr10EaXS7",
        "outputId": "bf8e35bf-626f-49e6-abdb-3d04ad86a5b3",
        "colab": {
          "base_uri": "https://localhost:8080/",
          "height": 505
        }
      },
      "source": [
        "# You can start your implementation here :)\n",
        "x, y = sym.symbols(r'x,y')\n",
        "\n",
        "eqn = sym.Eq(x*y + sym.sin(x), x + y)\n",
        "print(\"Original Equation\")\n",
        "display(eqn)\n",
        "\n",
        "y_sol = sym.solve(eqn, y)\n",
        "\n",
        "print('Symbolic solutions')\n",
        "print(y_sol)\n",
        "y_expr = y_sol[0]\n",
        "\n",
        "\n",
        "func = sym.lambdify(x, y_expr)\n",
        "\n",
        "x_list = np.linspace(0, np.pi, 100)\n",
        "\n",
        "f_list = func(x_list)\n",
        "\n",
        "plt.plot(x_list, f_list)\n",
        "plt.show()"
      ],
      "execution_count": null,
      "outputs": [
        {
          "output_type": "stream",
          "name": "stdout",
          "text": [
            "Original Equation\n"
          ]
        },
        {
          "output_type": "display_data",
          "data": {
            "text/plain": [
              "<IPython.core.display.HTML object>"
            ],
            "text/html": [
              "<script src='https://cdnjs.cloudflare.com/ajax/libs/mathjax/3.1.1/latest.js?config=TeX-AMS_HTML'></script>"
            ]
          },
          "metadata": {}
        },
        {
          "output_type": "display_data",
          "data": {
            "text/plain": [
              "x⋅y + sin(x) = x + y"
            ],
            "text/latex": "$\\displaystyle x y + \\sin{\\left(x \\right)} = x + y$"
          },
          "metadata": {}
        },
        {
          "output_type": "stream",
          "name": "stdout",
          "text": [
            "Symbolic solutions\n",
            "[(x - sin(x))/(x - 1)]\n"
          ]
        },
        {
          "output_type": "display_data",
          "data": {
            "text/plain": [
              "<Figure size 640x480 with 1 Axes>"
            ],
            "image/png": "[encoded data removed]"
          },
          "metadata": {}
        }
      ]
    }
  ]
}