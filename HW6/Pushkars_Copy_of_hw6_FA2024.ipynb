{
  "nbformat": 4,
  "nbformat_minor": 0,
  "metadata": {
    "kernelspec": {
      "display_name": "Python 3",
      "language": "python",
      "name": "python3"
    },
    "language_info": {
      "codemirror_mode": {
        "name": "ipython",
        "version": 3
      },
      "file_extension": ".py",
      "mimetype": "text/x-python",
      "name": "python",
      "nbconvert_exporter": "python",
      "pygments_lexer": "ipython3",
      "version": "3.8.5"
    },
    "colab": {
      "provenance": []
    }
  },
  "cells": [
    {
      "cell_type": "markdown",
      "metadata": {
        "id": "i7SgvSNZM3Tn"
      },
      "source": [
        "# ME314 Homework 6\n",
        "\n",
        "### Submission instructions\n",
        "\n",
        "Deliverables that should be included with your submission are shown in **bold** at the end of each problem statement and the corresponding supplemental material. **Your homework will be graded IFF you submit a single PDF, .mp4 videos of animations when requested and a link to a Google colab file that meet all the requirements outlined below.**\n",
        "\n",
        "- List the names of students you've collaborated with on this homework assignment.\n",
        "- Include all of your code (and handwritten solutions when applicable) used to complete the problems.\n",
        "- Highlight your answers (i.e. **bold** and outline the answers) for handwritten or markdown questions and include simplified code outputs (e.g. .simplify()) for python questions.\n",
        "- Enable Google Colab permission for viewing\n",
        " * Click Share in the upper right corner\n",
        " * Under \"Get Link\" click \"Share with...\" or \"Change\"\n",
        " * Then make sure it says \"Anyone with Link\" and \"Editor\" under the dropdown menu\n",
        "- Make sure all cells are run before submitting (i.e. check the permission by running your code in a private mode)\n",
        " * Please don't make changes to your file after submitting, so we can grade it!\n",
        "- Submit a link to your Google Colab file that has been run (before the submission deadline) and don't edit it afterwards!\n",
        "\n",
        "**NOTE:** This Juputer Notebook file serves as a template for you to start homework. Make sure you first copy this template to your own Google driver (click \"File\" -> \"Save a copy in Drive\"), and then start to edit it."
      ]
    },
    {
      "cell_type": "code",
      "source": [
        "import sympy as sym\n",
        "import numpy as np\n",
        "import matplotlib.pyplot as plt"
      ],
      "metadata": {
        "id": "q3HFNtiJGsHr"
      },
      "execution_count": 112,
      "outputs": []
    },
    {
      "cell_type": "code",
      "source": [
        "def integrate(f, xt, dt):\n",
        "    \"\"\"\n",
        "    This function takes in an initial condition x(t) and a timestep dt,\n",
        "    as well as a dynamical system f(x) that outputs a vector of the\n",
        "    same dimension as x(t). It outputs a vector x(t+dt) at the future\n",
        "    time step.\n",
        "\n",
        "    Parameters\n",
        "    ============\n",
        "    dyn: Python function\n",
        "        derivate of the system at a given step x(t),\n",
        "        it can considered as \\dot{x}(t) = func(x(t))\n",
        "    xt: NumPy array\n",
        "        current step x(t)\n",
        "    dt:\n",
        "        step size for integration\n",
        "\n",
        "    Return\n",
        "    ============\n",
        "    new_xt:\n",
        "        value of x(t+dt) integrated from x(t)\n",
        "    \"\"\"\n",
        "    k1 = dt * f(xt)\n",
        "    k2 = dt * f(xt+k1/2.)\n",
        "    k3 = dt * f(xt+k2/2.)\n",
        "    k4 = dt * f(xt+k3)\n",
        "    new_xt = xt + (1/6.) * (k1+2.0*k2+2.0*k3+k4)\n",
        "    return new_xt\n",
        "\n",
        "def simulate(f, x0, tspan, dt, integrate):\n",
        "    \"\"\"\n",
        "    This function takes in an initial condition x0, a timestep dt,\n",
        "    a time span tspan consisting of a list [min_time, max_time],\n",
        "    as well as a dynamical system f(x) that outputs a vector of the\n",
        "    same dimension as x0. It outputs a full trajectory simulated\n",
        "    over the time span of dimensions (xvec_size, time_vec_size).\n",
        "\n",
        "    Parameters\n",
        "    ============\n",
        "    f: Python function\n",
        "        derivate of the system at a given step x(t),\n",
        "        it can considered as \\dot{x}(t) = func(x(t))\n",
        "    x0: NumPy array\n",
        "        initial conditions\n",
        "    tspan: Python list\n",
        "        tspan = [min_time, max_time], it defines the start and end\n",
        "        time of simulation\n",
        "    dt:\n",
        "        time step for numerical integration\n",
        "    integrate: Python function\n",
        "        numerical integration method used in this simulation\n",
        "\n",
        "    Return\n",
        "    ============\n",
        "    x_traj:\n",
        "        simulated trajectory of x(t) from t=0 to tf\n",
        "    \"\"\"\n",
        "    N = int((max(tspan)-min(tspan))/dt)\n",
        "    x = np.copy(x0)\n",
        "    tvec = np.linspace(min(tspan),max(tspan),N)\n",
        "    xtraj = np.zeros((len(x0),N))\n",
        "    for i in range(N):\n",
        "        xtraj[:,i]=integrate(f,x,dt)\n",
        "        x = np.copy(xtraj[:,i])\n",
        "    return xtraj"
      ],
      "metadata": {
        "id": "cAls3kQf5CyY"
      },
      "execution_count": 113,
      "outputs": []
    },
    {
      "cell_type": "markdown",
      "metadata": {
        "id": "JzCmPPCaM3Tq"
      },
      "source": [
        "## Problem 1 (20pts)\n",
        "\n",
        "Show that if $R(\\theta_1)$ and $R(\\theta_2)\\in SO(n)$ then the product is also a rotation matrix, that is $R(\\theta_1)R(\\theta_2)\\in SO(n)$.\n",
        "    \n",
        "> Hint 1: You know this is true when $n=2$ by direct calculation in class, but for $n\\neq2$ you should use the definition of $SO(n)$ to verify it for arbitrary $n$. Do not try to do this by analyzing individual components of the matrix.\n",
        "    \n",
        "**Turn in: A scanned (or photograph from your phone or webcam) copy of your handwritten solution. You can also use *LaTeX*. If you use SymPy, you need to include a copy of your code and the code outputs. Make sure to note why your handwritten solution / code output explains the results.**"
      ]
    },
    {
      "cell_type": "markdown",
      "source": [
        "$SO(n)$ is the set of square matrices called the Special Orthogonal Group. For any $n\\times n$ square matrix $A$ in $SO(n)$, it follows the properties $A^TA = I_{n \\times n}$ and $det A = \\pm 1$\n",
        "\n",
        "For the product, $R(\\theta_1) R(\\theta_2)$, if we evaluate:\n",
        "\n",
        " $(R(\\theta_1) R(\\theta_2))^T$$R(\\theta_1) R(\\theta_2)$ $ = R(\\theta_2)^TR(\\theta_1)^TR(\\theta_1)R(\\theta_2)$\n",
        "\n",
        " and since $R(\\theta_1)$ and $R(\\theta_2)$ belong to $SO(n)$,\n",
        "\n",
        " this expression evaluates to $I$\n",
        "\n",
        " Also, $detR(\\theta_1)R(\\theta_2) = detR(\\theta_1)detR(\\theta_2) = 1$\n",
        "\n",
        " Therefore, $R(\\theta_1)R(\\theta_2)$ belongs to $SO(n)$  "
      ],
      "metadata": {
        "id": "VfpsDrgZTzoI"
      }
    },
    {
      "cell_type": "markdown",
      "metadata": {
        "id": "0kJDEGvqM3Tt"
      },
      "source": [
        "## Problem 2 (20pts)\n",
        "\n",
        "Show that if $g(x_1,y_1,\\theta_1)$ and $g(x_2,y_2,\\theta_2)\\in SE(2)$ then the product satisfies $g(x_1,y_1,\\theta_1)g(x_2,y_2,\\theta_2)\\in SE(2)$.\n",
        "\n",
        "**Turn in: A scanned (or photograph from your phone or webcam) copy of your hand written solution. You can also use *LaTeX*. If you use SymPy, you need to include a copy of your code and the code outputs. Make sure to note why your handwritten soultion / code output explains the results.**"
      ]
    },
    {
      "cell_type": "markdown",
      "source": [
        "$g(x_1, y_1, \\theta_1)$ and $g(x_2, y_2, \\theta_2)$ are elements of $SE(2)$ then they have the form\n",
        "\n",
        "$g(x_1, y_1, \\theta_1)$ $ = \\begin{pmatrix} \\cos(\\theta_1) & -\\sin(\\theta_1) & x_1 \\\\ \\sin(\\theta_1) & \\cos(\\theta_1) & y_1 \\\\ 0 & 0 & 1\\end{pmatrix}$\n",
        "\n",
        "$g(x_2, y_2, \\theta_2)$ $ = \\begin{pmatrix} \\cos(\\theta_2) & -\\sin(\\theta_2) & x_2 \\\\ \\sin(\\theta_2) & \\cos(\\theta_2) & y_2 \\\\ 0 & 0 & 1\\end{pmatrix}$\n",
        "\n",
        "$g(x_1, y_1, \\theta_1)g(x_2, y_2, \\theta_2)$ $ = \\begin{pmatrix} \\cos(\\theta_1)\\cos(\\theta_2) - \\sin(\\theta_1)\\sin(\\theta_2) & -\\cos(\\theta_1)\\sin(\\theta_2) -\\sin(\\theta_1)\\cos(\\theta_2) & x_2\\cos(\\theta_1) - y_2\\sin(\\theta_1) + x_1\\\\ \\sin(\\theta_1)\\cos(\\theta_2) + \\cos(\\theta_1)\\sin(\\theta_2) & \\cos(\\theta_1)\\cos(\\theta_2) - \\sin(\\theta_1)\\sin(\\theta_2) & x_2\\sin(\\theta_1) + y_2\\cos(\\theta_1) + y_1 \\\\ 0 & 0 & 1\\end{pmatrix}$\n",
        "\n",
        "$g(x_1, y_1, \\theta_1)g(x_2, y_2, \\theta_2)$ $ = \\begin{pmatrix} \\cos(\\theta_1 + \\theta_2) & -\\sin(\\theta_1+\\theta_2) & x_2\\cos(\\theta_1) - y_2\\sin(\\theta_1) + x_1 \\\\ \\sin(\\theta_1 + \\theta_2) & \\cos(\\theta_1 + \\theta_2) & x_2\\sin(\\theta_1) + y_2\\cos(\\theta_1) + y_1 \\\\ 0 & 0 & 1\\end{pmatrix}$\n",
        "\n",
        "which shows that $g(x_1, y_1, \\theta_1)g(x_2, y_2, \\theta_2)$ is also an element of $SE(2)$"
      ],
      "metadata": {
        "id": "mbKGI10Dh8U4"
      }
    },
    {
      "cell_type": "markdown",
      "metadata": {
        "id": "NkK0e__NM3Tu"
      },
      "source": [
        "## Problem 3 (20pts)\n",
        "\n",
        "Show that any homogeneous transformation in SE(2) can be separated into a rotation and a translation. What's the order of the two operations, which comes first? What's different if we flip the order in which we compose the rotation and translation?\n",
        "    \n",
        ">Hint 1: For the rotation and translation operation, we first need to know what's the reference frame for these two operations.\n",
        "\n",
        "**Turn in: A scanned (or photograph from your phone or webcam) copy of your hand written solution. You can also use *LaTeX*. If you use SymPy, you need to include a copy of your code and the code outputs. Make sure to note why your handwritten soultion / code output explains the results.**"
      ]
    },
    {
      "cell_type": "markdown",
      "source": [
        "Let $m = \\begin{pmatrix} a \\\\ b \\\\ 1\\end{pmatrix}$\n",
        "and\n",
        "$g(x_1, y_1, \\theta_1)$ $ = \\begin{pmatrix} \\cos(\\theta_1) & -\\sin(\\theta_1) & x_1 \\\\ \\sin(\\theta_1) & \\cos(\\theta_1) & y_1 \\\\ 0 & 0 & 1\\end{pmatrix}$ be an element of $SE(2)$\n",
        "\n",
        "After undergoing a homogenous transformation, $m$ becomes $m^-= \\begin{pmatrix} a\\cos(\\theta_1) -b\\sin(\\theta_1) + x_1 \\\\ a\\sin(\\theta_1)+ b\\cos(\\theta_1) + y_1 \\\\ 1\\end{pmatrix} $\n",
        "\n",
        "We know that $g(x_1, y_1, \\theta_1)$ is composed of a $R$ and $p$ element. If we separate them and compose them with $m$:\n",
        "\n",
        "$R(\\theta_1) : \\begin{pmatrix} cos(\\theta_1) & -sin(\\theta_1) \\\\ \\sin(\\theta_1)& \\cos(\\theta_1)\\end{pmatrix}$ $\\times \\begin{pmatrix} a \\\\ b \\end{pmatrix} = \\begin{pmatrix} a\\cos(\\theta_1) -b\\sin(\\theta_1)\\\\ a\\sin(\\theta_1) + b\\cos(\\theta_1) \\end{pmatrix}$\n",
        "\n",
        "Now composing this result with $p: \\begin{pmatrix} x_1 \\\\ y_1 \\end{pmatrix}$\n",
        "\n",
        "$m^t =  \\begin{pmatrix} a\\cos(\\theta_1) -b\\sin(\\theta_1)\\\\ a\\sin(\\theta_1) + b\\cos(\\theta_1) \\end{pmatrix} +  \\begin{pmatrix} x_1 \\\\ y_1 \\end{pmatrix} = \\begin{pmatrix} a\\cos(\\theta_1) -b\\sin(\\theta_1) + x_1 \\\\ a\\sin(\\theta_1)+ b\\cos(\\theta_1) + y_1 \\end{pmatrix}$\n",
        "\n",
        "Which proves that $m^t = m^-$ and show that any homogenous transformation can be separated into a rotation and translation. The order of the operations are Rotation and then translation. If we flip the order in which rotation and translation are composed we can clearly observe in this example, that we will not get the same result since this operation is not commutative.\n"
      ],
      "metadata": {
        "id": "XBAZfVt3w_dI"
      }
    },
    {
      "cell_type": "markdown",
      "metadata": {
        "id": "nW3igmCtM3Tv"
      },
      "source": [
        "## Problem 4 (20pts)\n",
        "\n",
        "Simulate the same double-pendulum system in previous homework using only homogeneous transformation (and thus avoid using trigonometry). Simulate the system for $t\\in[0,3]$ with $dt=0.01$. The parameters are $m_1=m_2=1, R_1=R_2=1, g=9.8$ with initial conditions $\\theta_1=\\theta_2=-\\frac{\\pi}{3}, \\dot{\\theta}_1=\\dot{\\theta}_2=0$. <u>Do not use functions provided in the modern robotics package for manipulating transformation matrices such as RpToTrans(), etc.</u>\n",
        "\n",
        "> Hint 1: Same as in the lecture, you will need to define the frames by yourself in order to compute the Lagrangian. An example is shown below.\n",
        "\n",
        "**Turn in: Include a copy of your code used to simulate the system, and clearly labeled plot of $\\theta_1$ and $\\theta_2$ trajectory. Also, attach a figure showing how you defined the frames.**"
      ]
    },
    {
      "cell_type": "code",
      "metadata": {
        "id": "-W1MK0fzM3Tw",
        "colab": {
          "base_uri": "https://localhost:8080/",
          "height": 377
        },
        "outputId": "6df524b7-b94f-4d81-a26d-b9f3116ea76e"
      },
      "source": [
        "from IPython.core.display import HTML\n",
        "display(HTML(\"<table><tr><td><img src='https://github.com/MuchenSun/ME314pngs/raw/master/doubpend_frames.jpg' width=500' height='350'></table>\"))"
      ],
      "execution_count": 114,
      "outputs": [
        {
          "output_type": "display_data",
          "data": {
            "text/plain": [
              "<IPython.core.display.HTML object>"
            ],
            "text/html": [
              "<table><tr><td><img src='https://github.com/MuchenSun/ME314pngs/raw/master/doubpend_frames.jpg' width=500' height='350'></table>"
            ]
          },
          "metadata": {}
        }
      ]
    },
    {
      "cell_type": "code",
      "source": [
        "from IPython.core.display import HTML\n",
        "display(HTML(\"<table><tr><td><img src='https://github.com/user-attachments/assets/c87be5d8-55a5-435f-950f-5689ab2383f0' width=500' height='350'></table>\"))\n"
      ],
      "metadata": {
        "colab": {
          "base_uri": "https://localhost:8080/",
          "height": 377
        },
        "id": "AHK9Qfj-Xu44",
        "outputId": "ced3f943-00cd-441b-9933-1f4e0ac2bfa8"
      },
      "execution_count": 115,
      "outputs": [
        {
          "output_type": "display_data",
          "data": {
            "text/plain": [
              "<IPython.core.display.HTML object>"
            ],
            "text/html": [
              "<table><tr><td><img src='https://github.com/user-attachments/assets/c87be5d8-55a5-435f-950f-5689ab2383f0' width=500' height='350'></table>"
            ]
          },
          "metadata": {}
        }
      ]
    },
    {
      "cell_type": "code",
      "metadata": {
        "id": "Cp1dlfHAM3Tx",
        "colab": {
          "base_uri": "https://localhost:8080/",
          "height": 515
        },
        "outputId": "54a2d723-5acd-4090-c0ba-6696117b25aa"
      },
      "source": [
        "# Defining useful symbols\n",
        "m1, m2, R1, R2, g, t = sym.symbols(r'm_1, m_2, R_1, R_2, g, t')\n",
        "th1 = sym.Function(r'\\theta_1')(t)\n",
        "th2 = sym.Function(r'\\theta_2')(t)\n",
        "q = sym.Matrix([th1, th2])\n",
        "th1dot = th1.diff(t)\n",
        "th2dot = th2.diff(t)\n",
        "qdot = sym.Matrix([th1dot, th2dot])\n",
        "qddot = qdot.diff(t)\n",
        "# Defining the rotation matrices for th1 and th2\n",
        "R_th1 = sym.Matrix([[sym.cos(th1), -sym.sin(th1)], [sym.sin(th1), sym.cos(th1)]])\n",
        "R_th2 = sym.Matrix([[sym.cos(th2), -sym.sin(th2)], [sym.sin(th2), sym.cos(th2)]])\n",
        "\n",
        "# Defining the transformation between the frames\n",
        "g_wa = (R_th1.col_insert(2, sym.Matrix([0, 0]))).row_insert(2, sym.Matrix([[0, 0, 1]]))\n",
        "\n",
        "I_2 = sym.eye(2)\n",
        "g_ab_t = (I_2.col_insert(2, sym.Matrix([0, -R1]))).row_insert(2, sym.Matrix([[0, 0, 1]]))\n",
        "\n",
        "g_bc_R = (R_th2.col_insert(2, sym.Matrix([0, 0]))).row_insert(2, sym.Matrix([[0, 0, 1]]))\n",
        "\n",
        "g_cd_t = (I_2.col_insert(2, sym.Matrix([0, -R2]))).row_insert(2, sym.Matrix([[0, 0, 1]]))\n",
        "\n",
        "g_wb = g_wa*g_ab_t\n",
        "# Position of pendulum 1\n",
        "r_1 = sym.Matrix([g_wb[0,2], g_wb[1,2]])\n",
        "\n",
        "g_wd = g_wb*g_bc_R*g_cd_t\n",
        "# Position of pendulum 2\n",
        "r_2 = sym.Matrix([g_wd[0,2], g_wd[1,2]])\n",
        "\n",
        "# Velocities of pendulum 1 and 2\n",
        "v_1 = r_1.diff(t)\n",
        "v_2 = r_2.diff(t)\n",
        "\n",
        "# Kinetic energy of the system\n",
        "KE = 0.5*m1*(v_1[0]**2 + v_1[1]**2) + 0.5*m2*(v_2[0]**2 + v_2[1]**2)\n",
        "\n",
        "# Potential energy of the system\n",
        "PE = m1*g*r_1[1] + m2*g*r_2[1]\n",
        "\n",
        "# Lagrangian of the system\n",
        "L = KE - PE\n",
        "\n",
        "# EL Expression\n",
        "L_mat = sym.Matrix([L])\n",
        "dLdq = L_mat.jacobian(q)\n",
        "dLdqdot = L_mat.jacobian(qdot)\n",
        "dtdLdqdot = dLdqdot.diff(t)\n",
        "\n",
        "EL = dLdq - dtdLdqdot\n",
        "# display(EL.T)\n",
        "\n",
        "# EL Equation\n",
        "EL_rhs = sym.Matrix([0, 0])\n",
        "EL_eqn = sym.simplify(sym.Eq(EL.T, EL_rhs))\n",
        "\n",
        "# Solving for th1ddot and th2ddot\n",
        "soln = sym.solve(EL_eqn, qddot, dict=True)\n",
        "\n",
        "th1ddot_lam = sym.lambdify([m1, m2, R1, R2, g, th1, th2, th1dot, th2dot], soln[0][qddot[0]])\n",
        "th2ddot_lam = sym.lambdify([m1, m2, R1, R2, g, th1, th2, th1dot, th2dot], soln[0][qddot[1]])\n",
        "\n",
        "def ddot(q):\n",
        "  \"\"\"\n",
        "  Returns the ddot value of the system variables at given dot values\n",
        "  \"\"\"\n",
        "  th1_ddot = th1ddot_lam(1,1,1,1,9.8,q[0],q[1],q[2],q[3])\n",
        "  th2_ddot = th2ddot_lam(1,1,1,1,9.8,q[0],q[1],q[2],q[3])\n",
        "  return th1_ddot, th2_ddot\n",
        "\n",
        "\n",
        "def dyn(q):\n",
        "  \"\"\"\n",
        "  Return the derivative of the system state vector\n",
        "\n",
        "  Parameter:\n",
        "  f = [th1, th2, th1dot, th2dot]\n",
        "\n",
        "  Returns:\n",
        "  fdot = [th1dot, th2dot, th1ddot, th2ddot]\n",
        "  \"\"\"\n",
        "  return np.array([q[2],q[3], ddot(q)[0],ddot(q)[1]])\n",
        "\n",
        "\n",
        "# Extending the state vector of the system\n",
        "f = np.array([q[0],q[1],qdot[0],qdot[1]])\n",
        "# Defining initial state of the system\n",
        "s0 = np.array([-np.pi/3, -np.pi/3, 0, 0])\n",
        "\n",
        "traj = simulate(dyn, s0, [0,3], 0.01, integrate)\n",
        "\n",
        "print(\"\\033[1mShape of trajectory: \\033[0m\", traj.shape)\n",
        "\n",
        "timespan = np.linspace(0,3,300)\n",
        "\n",
        "fig,(ax1, ax2) = plt.subplots(2,1)\n",
        "fig.suptitle(\"Trajectories of th1 and th2\")\n",
        "\n",
        "ax1.plot(timespan, traj[0,:], 'blue')\n",
        "ax1.set_ylabel('th1(t)')\n",
        "\n",
        "ax2.plot(timespan, traj[1,:], 'purple')\n",
        "ax2.set_ylabel('th2(t)')\n",
        "ax2.set_xlabel('time(s)')\n",
        "\n",
        "plt.show()"
      ],
      "execution_count": 116,
      "outputs": [
        {
          "output_type": "stream",
          "name": "stdout",
          "text": [
            "\u001b[1mShape of trajectory: \u001b[0m (4, 300)\n"
          ]
        },
        {
          "output_type": "display_data",
          "data": {
            "text/plain": [
              "<Figure size 640x480 with 2 Axes>"
            ],
            "image/png": "[encoded data removed]"
          },
          "metadata": {}
        }
      ]
    },
    {
      "cell_type": "markdown",
      "metadata": {
        "id": "qQ7pB_M5M3Tx"
      },
      "source": [
        "## Problem 5 (20pts)\n",
        "\n",
        "Modify the previous animation function for the double-pendulum such that the animation shows the frames you defined in the last problem (it's similar to the ``tf`` in RViz, if you're familiar with ROS). All the *x axes* should be displayed in <font color='green'>green</font> and all the *y axes* should be displayed in <font color='red'>red</font>, with axis's length of 0.3 for all. An animation example can be found at [https://youtu.be/2H3KvRWQqys](https://youtu.be/2H3KvRWQqys). <u>Do not use functions provided in the modern robotics package for manipulating transformation matrices such as RpToTrans(), etc. </u>\n",
        "\n",
        "> Hint 1: Each axis can be considered as a line connecting the origin and the point $[0.3, 0]$ or $[0, 0.3]$ in that frame. You will need to use the homogeneous transformations to transfer these two axis/points back into the world/fixed frame. Example code showing how to display one frame is provided below.\n",
        "\n",
        "**Turn in: Include a copy of your code used for animation and a video of the animation. The video can be uploaded separately through Canvas, and it should be in \".mp4\" format. You can either use screen capture or record the screen directly with your phone.**"
      ]
    },
    {
      "cell_type": "code",
      "metadata": {
        "id": "nB8NeWAGM3Tz"
      },
      "source": [
        "def animate_double_pend(theta_array,L1=1,L2=1,T=10):\n",
        "    \"\"\"\n",
        "    Function to generate web-based animation of double-pendulum system\n",
        "\n",
        "    Parameters:\n",
        "    ================================================\n",
        "    theta_array:\n",
        "        trajectory of theta1 and theta2, should be a NumPy array with\n",
        "        shape of (2,N)\n",
        "    L1:\n",
        "        length of the first pendulum\n",
        "    L2:\n",
        "        length of the second pendulum\n",
        "    T:\n",
        "        length/seconds of animation duration\n",
        "\n",
        "    Returns: None\n",
        "    \"\"\"\n",
        "\n",
        "    ################################\n",
        "    # Imports required for animation.\n",
        "    from plotly.offline import init_notebook_mode, iplot\n",
        "    from IPython.display import display, HTML\n",
        "    import plotly.graph_objects as go\n",
        "\n",
        "    #######################\n",
        "    # Browser configuration.\n",
        "    def configure_plotly_browser_state():\n",
        "        import IPython\n",
        "        display(IPython.core.display.HTML('''\n",
        "            <script src=\"/static/components/requirejs/require.js\"></script>\n",
        "            <script>\n",
        "              requirejs.config({\n",
        "                paths: {\n",
        "                  base: '/static/base',\n",
        "                  plotly: 'https://cdn.plot.ly/plotly-1.5.1.min.js?noext',\n",
        "                },\n",
        "              });\n",
        "            </script>\n",
        "            '''))\n",
        "    configure_plotly_browser_state()\n",
        "    init_notebook_mode(connected=False)\n",
        "\n",
        "    ###############################################\n",
        "    # Getting data from pendulum angle trajectories.\n",
        "    xx1=L1*np.sin(theta_array[0])\n",
        "    yy1=-L1*np.cos(theta_array[0])\n",
        "    xx2=xx1+L2*np.sin(theta_array[0]+theta_array[1])\n",
        "    yy2=yy1-L2*np.cos(theta_array[0]+theta_array[1])\n",
        "    N = len(theta_array[0]) # Need this for specifying length of simulation\n",
        "\n",
        "    ###############################################\n",
        "    # Define arrays containing data for frame axes\n",
        "    # In each frame, the x and y axis are always fixed\n",
        "    x_axis = np.array([0.3, 0.0])\n",
        "    y_axis = np.array([0.0, 0.3])\n",
        "    # Use homogeneous tranformation to transfer these two axes/points\n",
        "    # back to the fixed frame\n",
        "    frame_a_x_axis = np.zeros((2,N))\n",
        "    frame_a_y_axis = np.zeros((2,N))\n",
        "    frame_b_x_axis = np.zeros((2,N))\n",
        "    frame_b_y_axis = np.zeros((2,N))\n",
        "    frame_c_x_axis = np.zeros((2,N))\n",
        "    frame_c_y_axis = np.zeros((2,N))\n",
        "    frame_d_x_axis = np.zeros((2,N))\n",
        "    frame_d_y_axis = np.zeros((2,N))\n",
        "    for i in range(N): # iteration through each time step\n",
        "        # evaluate homogeneous transformation\n",
        "        t_wa = np.array([[np.cos(theta_array[0][i]), -np.sin(theta_array[0][i]), 0],\n",
        "                         [np.sin(theta_array[0][i]),  np.cos(theta_array[0][i]), 0],\n",
        "                         [                        0,                          0, 1]])\n",
        "        # transfer the x and y axes in body frame back to fixed frame at\n",
        "        # the current time step\n",
        "        frame_a_x_axis[:,i] = t_wa.dot([x_axis[0], x_axis[1], 1])[0:2]\n",
        "        frame_a_y_axis[:,i] = t_wa.dot([y_axis[0], y_axis[1], 1])[0:2]\n",
        "        t_ab = np.array([[1, 0, 0],\n",
        "                         [0, 1, -1],\n",
        "                         [0, 0, 1]])\n",
        "        t_wb = np.matmul(t_wa, t_ab)\n",
        "        frame_b_x_axis[:, i] = t_wb.dot([x_axis[0], x_axis[1], 1])[0:2]\n",
        "        frame_b_y_axis[:, i] = t_wb.dot([y_axis[0], y_axis[1], 1])[0:2]\n",
        "        t_bc = np.array([[np.cos(theta_array[1][i]), -np.sin(theta_array[1][i]), 0],\n",
        "                         [np.sin(theta_array[1][i]),  np.cos(theta_array[1][i]), 0],\n",
        "                         [                        0,                          0, 1]])\n",
        "        t_wc = np.matmul(t_wb, t_bc)\n",
        "        frame_c_x_axis[:,i] = t_wc.dot([x_axis[0], x_axis[1], 1])[0:2]\n",
        "        frame_c_y_axis[:,i] = t_wc.dot([y_axis[0], y_axis[1], 1])[0:2]\n",
        "        t_cd = np.array([[1, 0, 0],\n",
        "                         [0, 1, -1],\n",
        "                         [0, 0, 1]])\n",
        "        t_wd = np.matmul(t_wc, t_cd)\n",
        "        frame_d_x_axis[:,i] = t_wd.dot([x_axis[0], x_axis[1], 1])[0:2]\n",
        "        frame_d_y_axis[:,i] = t_wd.dot([y_axis[0], y_axis[1], 1])[0:2]\n",
        "    ####################################\n",
        "    # Using these to specify axis limits.\n",
        "    xm = -3 #np.min(xx1)-0.5\n",
        "    xM = 3 #np.max(xx1)+0.5\n",
        "    ym = -3 #np.min(yy1)-2.5\n",
        "    yM = 3 #np.max(yy1)+1.5\n",
        "\n",
        "    ###########################\n",
        "    # Defining data dictionary.\n",
        "    # Trajectories are here.\n",
        "    data=[\n",
        "        # note that except for the trajectory (which you don't need this time),\n",
        "        # you don't need to define entries other than \"name\". The items defined\n",
        "        # in this list will be related to the items defined in the \"frames\" list\n",
        "        # later in the same order. Therefore, these entries can be considered as\n",
        "        # labels for the components in each animation frame\n",
        "        dict(name='Arm'),\n",
        "        dict(name='Mass 1'),\n",
        "        dict(name='Mass 2'),\n",
        "        dict(name='World Frame X'),\n",
        "        dict(name='World Frame Y'),\n",
        "        dict(name='A Frame X Axis'),\n",
        "        dict(name='A Frame Y Axis'),\n",
        "        dict(name='B Frame X Axis'),\n",
        "        dict(name='B Frame Y Axis'),\n",
        "        dict(name='C Frame X Axis'),\n",
        "        dict(name='C Frame Y Axis'),\n",
        "        dict(name='D Frame X Axis'),\n",
        "        dict(name='D Frame Y Axis'),\n",
        "        # You don't need to show trajectory this time,\n",
        "        # but if you want to show the whole trajectory in the animation (like what\n",
        "        # you did in previous homeworks), you will need to define entries other than\n",
        "        # \"name\", such as \"x\", \"y\". and \"mode\".\n",
        "\n",
        "        # dict(x=xx1, y=yy1,\n",
        "        #      mode='markers', name='Pendulum 1 Traj',\n",
        "        #      marker=dict(color=\"fuchsia\", size=2)\n",
        "        #     ),\n",
        "        # dict(x=xx2, y=yy2,\n",
        "        #      mode='markers', name='Pendulum 2 Traj',\n",
        "        #      marker=dict(color=\"purple\", size=2)\n",
        "        #     ),\n",
        "        ]\n",
        "\n",
        "    ################################\n",
        "    # Preparing simulation layout.\n",
        "    # Title and axis ranges are here.\n",
        "    layout=dict(autosize=False, width=1000, height=1000,\n",
        "                xaxis=dict(range=[xm, xM], autorange=False, zeroline=False,dtick=1),\n",
        "                yaxis=dict(range=[ym, yM], autorange=False, zeroline=False,scaleanchor = \"x\",dtick=1),\n",
        "                title='Double Pendulum Simulation',\n",
        "                hovermode='closest',\n",
        "                updatemenus= [{'type': 'buttons',\n",
        "                               'buttons': [{'label': 'Play','method': 'animate',\n",
        "                                            'args': [None, {'frame': {'duration': T, 'redraw': False}}]},\n",
        "                                           {'args': [[None], {'frame': {'duration': T, 'redraw': False}, 'mode': 'immediate',\n",
        "                                            'transition': {'duration': 0}}],'label': 'Pause','method': 'animate'}\n",
        "                                          ]\n",
        "                              }]\n",
        "               )\n",
        "\n",
        "    ########################################\n",
        "    # Defining the frames of the simulation.\n",
        "    # This is what draws the lines from\n",
        "    # joint to joint of the pendulum.\n",
        "    frames=[dict(data=[# first three objects correspond to the arms and two masses,\n",
        "                       # same order as in the \"data\" variable defined above (thus\n",
        "                       # they will be labeled in the same order)\n",
        "                       dict(x=[0,xx1[k],xx2[k]],\n",
        "                            y=[0,yy1[k],yy2[k]],\n",
        "                            mode='lines',\n",
        "                            line=dict(color='orange', width=3),\n",
        "                            ),\n",
        "                       go.Scatter(\n",
        "                            x=[xx1[k]],\n",
        "                            y=[yy1[k]],\n",
        "                            mode=\"markers\",\n",
        "                            marker=dict(color=\"blue\", size=12)),\n",
        "                       go.Scatter(\n",
        "                            x=[xx2[k]],\n",
        "                            y=[yy2[k]],\n",
        "                            mode=\"markers\",\n",
        "                            marker=dict(color=\"blue\", size=12)),\n",
        "                       # display x and y axes of the fixed frame in each animation frame\n",
        "                       dict(x=[0,x_axis[0]],\n",
        "                            y=[0,x_axis[1]],\n",
        "                            mode='lines',\n",
        "                            line=dict(color='green', width=3),\n",
        "                            ),\n",
        "                       dict(x=[0,y_axis[0]],\n",
        "                            y=[0,y_axis[1]],\n",
        "                            mode='lines',\n",
        "                            line=dict(color='red', width=3),\n",
        "                            ),\n",
        "                       # display x and y axes of the {A} frame in each animation frame\n",
        "                       dict(x=[0, frame_a_x_axis[0][k]],\n",
        "                            y=[0, frame_a_x_axis[1][k]],\n",
        "                            mode='lines',\n",
        "                            line=dict(color='green', width=3),\n",
        "                            ),\n",
        "                       dict(x=[0, frame_a_y_axis[0][k]],\n",
        "                            y=[0, frame_a_y_axis[1][k]],\n",
        "                            mode='lines',\n",
        "                            line=dict(color='red', width=3),\n",
        "                            ),\n",
        "                       # display x and y axes of the {B} frame in each animation frame\n",
        "                       dict(x=[xx1[k], frame_b_x_axis[0][k]],\n",
        "                            y=[yy1[k], frame_b_x_axis[1][k]],\n",
        "                            mode='lines',\n",
        "                            line=dict(color='green', width=3),\n",
        "                            ),\n",
        "                       dict(x=[xx1[k], frame_b_y_axis[0][k]],\n",
        "                            y=[yy1[k], frame_b_y_axis[1][k]],\n",
        "                            mode='lines',\n",
        "                            line=dict(color='red', width=3),\n",
        "                            ),\n",
        "                       # display x and y axes of the {C} frame in each animation frame\n",
        "                       dict(x=[xx1[k], frame_c_x_axis[0][k]],\n",
        "                            y=[yy1[k], frame_c_x_axis[1][k]],\n",
        "                            mode='lines',\n",
        "                            line=dict(color='green', width=3),\n",
        "                            ),\n",
        "                       dict(x=[xx1[k], frame_c_y_axis[0][k]],\n",
        "                            y=[yy1[k], frame_c_y_axis[1][k]],\n",
        "                            mode='lines',\n",
        "                            line=dict(color='red', width=3),\n",
        "                            ),\n",
        "                       # display x and y axes of the {D} frame in each animation frame\n",
        "                       dict(x=[xx2[k], frame_d_x_axis[0][k]],\n",
        "                            y=[yy2[k], frame_d_x_axis[1][k]],\n",
        "                            mode='lines',\n",
        "                            line=dict(color='green', width=3),\n",
        "                            ),\n",
        "                       dict(x=[xx2[k], frame_d_y_axis[0][k]],\n",
        "                            y=[yy2[k], frame_d_y_axis[1][k]],\n",
        "                            mode='lines',\n",
        "                            line=dict(color='red', width=3),\n",
        "                            ),\n",
        "                      ]) for k in range(N)]\n",
        "\n",
        "    #######################################\n",
        "    # Putting it all together and plotting.\n",
        "    figure1=dict(data=data, layout=layout, frames=frames)\n",
        "    iplot(figure1)\n",
        "\n",
        "sim_traj = np.array([traj[0,:], traj[1,:]])\n",
        "animate_double_pend(sim_traj, L1=1, L2=1, T=3)"
      ],
      "execution_count": null,
      "outputs": []
    },
    {
      "cell_type": "code",
      "metadata": {
        "id": "jBnHi-tSM3T6"
      },
      "source": [
        "\n"
      ],
      "execution_count": 117,
      "outputs": []
    }
  ]
}